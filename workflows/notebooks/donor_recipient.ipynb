{
 "cells": [
  {
   "cell_type": "markdown",
   "metadata": {},
   "source": [
    "# Lateral Gene Transfer - Pipeline Analysis"
   ]
  },
  {
   "cell_type": "markdown",
   "metadata": {},
   "source": [
    "## Checking Number of CPU's available to Docker container"
   ]
  },
  {
   "cell_type": "code",
   "execution_count": 347,
   "metadata": {},
   "outputs": [
    {
     "name": "stdout",
     "output_type": "stream",
     "text": [
      "23\n"
     ]
    }
   ],
   "source": [
    "!cat /proc/cpuinfo | awk '/^processor/{print $3}' | tail -1"
   ]
  },
  {
   "cell_type": "markdown",
   "metadata": {},
   "source": [
    "## Install Utilities"
   ]
  },
  {
   "cell_type": "code",
   "execution_count": 2,
   "metadata": {},
   "outputs": [],
   "source": [
    "!sudo apt-get update -y --quiet -qq"
   ]
  },
  {
   "cell_type": "code",
   "execution_count": null,
   "metadata": {},
   "outputs": [],
   "source": [
    "!sudo apt-get install -y --quiet -qq tree libcurl4-openssl-dev zlib1g-dev samtools"
   ]
  },
  {
   "cell_type": "markdown",
   "metadata": {},
   "source": [
    "## Install Libraries"
   ]
  },
  {
   "cell_type": "code",
   "execution_count": 79,
   "metadata": {},
   "outputs": [],
   "source": [
    "!pip install --quiet biopython pysam missingno"
   ]
  },
  {
   "cell_type": "markdown",
   "metadata": {},
   "source": [
    "## Import Libraries"
   ]
  },
  {
   "cell_type": "code",
   "execution_count": 77,
   "metadata": {},
   "outputs": [],
   "source": [
    "# Import Standard Python Libraries\n",
    "import io, os, sys, types, time, datetime, math, random, requests, subprocess, tempfile"
   ]
  },
  {
   "cell_type": "code",
   "execution_count": 82,
   "metadata": {},
   "outputs": [],
   "source": [
    "# Data Manipulation \n",
    "import numpy as np\n",
    "import pandas as pd\n",
    "\n",
    "# Visualization \n",
    "import matplotlib.pyplot as plt\n",
    "import missingno\n",
    "import seaborn as sns\n",
    "\n",
    "# Genomics\n",
    "from Bio import SeqIO"
   ]
  },
  {
   "cell_type": "markdown",
   "metadata": {},
   "source": [
    "## Helper Functions"
   ]
  },
  {
   "cell_type": "code",
   "execution_count": 5,
   "metadata": {},
   "outputs": [],
   "source": []
  },
  {
   "cell_type": "markdown",
   "metadata": {},
   "source": [
    "## Analyze Datasets"
   ]
  },
  {
   "cell_type": "code",
   "execution_count": 62,
   "metadata": {},
   "outputs": [
    {
     "name": "stdout",
     "output_type": "stream",
     "text": [
      "donor_MMd_MMr 81862\n",
      "donor_MMd_MUr 6\n",
      "donor_MMd_UUr 28608\n",
      "donor_MUd_MMr 762\n",
      "donor_MUd_UMr 94\n",
      "donor_MUd_UUr 3526\n",
      "donor_UMd_MMr 42\n",
      "donor_UMd_MUr 38\n",
      "donor_UMd_UUr 792\n",
      "donor_UUd_MMr 20849750\n",
      "donor_UUd_MUr 37542\n",
      "donor_UUd_UMr 410\n",
      "donor_UUd_UUr 51064\n"
     ]
    }
   ],
   "source": [
    "%%bash\n",
    "for filename in `ls ../cromwell-final-outputs/*donor*bam_complex.bam_count.txt`\n",
    "do\n",
    "    echo `basename $filename .bam_complex.bam_count.txt` `cat \"$filename\"` \n",
    "done "
   ]
  },
  {
   "cell_type": "code",
   "execution_count": 63,
   "metadata": {},
   "outputs": [
    {
     "name": "stdout",
     "output_type": "stream",
     "text": [
      "recipient_MMd_MMr 81862\n",
      "recipient_MMd_MUr 6\n",
      "recipient_MMd_UUr 28608\n",
      "recipient_MUd_MMr 762\n",
      "recipient_MUd_UMr 94\n",
      "recipient_MUd_UUr 3526\n",
      "recipient_UMd_MMr 42\n",
      "recipient_UMd_MUr 38\n",
      "recipient_UMd_UUr 792\n",
      "recipient_UUd_MMr 20849750\n",
      "recipient_UUd_MUr 37542\n",
      "recipient_UUd_UMr 410\n",
      "recipient_UUd_UUr 51064\n"
     ]
    }
   ],
   "source": [
    "%%bash\n",
    "for filename in `ls ../cromwell-final-outputs/*recipient*bam_complex.bam_count.txt`\n",
    "do\n",
    "    echo `basename $filename .bam_complex.bam_count.txt` `cat \"$filename\"` \n",
    "done "
   ]
  },
  {
   "cell_type": "markdown",
   "metadata": {},
   "source": [
    "### Filter files by\n",
    "\n",
    "- donor_MMd_MUr\n",
    "- donor_MMd_UMr\n",
    "- donor_MUd_MUr\n",
    "- donor_MUd_UMr\n",
    "- donor_UMd_MUr\n",
    "- donor_UMd_UMr\n",
    "- recipient_MMd_MUr\n",
    "- recipient_MMd_UMr\n",
    "- recipient_MUd_MUr\n",
    "- recipient_MUd_UMr\n",
    "- recipient_UMd_MUr\n",
    "- recipient_UMd_UMr"
   ]
  },
  {
   "cell_type": "code",
   "execution_count": 292,
   "metadata": {},
   "outputs": [
    {
     "name": "stdout",
     "output_type": "stream",
     "text": [
      "donor_MMd_MUr 6\n",
      "donor_MUd_UMr 94\n",
      "donor_UMd_MUr 38\n",
      "recipient_MMd_MUr 6\n",
      "recipient_MUd_UMr 94\n",
      "recipient_UMd_MUr 38\n"
     ]
    }
   ],
   "source": [
    "%%bash\n",
    "for filename in ../cromwell-final-outputs/*donor_MMd_MUr*bam_complex.bam_count.txt ../cromwell-final-outputs/*donor_MMd_UMr*bam_complex.bam_count.txt ../cromwell-final-outputs/*donor_MUd_MUr*bam_complex.bam_count.txt ../cromwell-final-outputs/*donor_MUd_UMr*bam_complex.bam_count.txt ../cromwell-final-outputs/*donor_UMd_MUr*bam_complex.bam_count.txt ../cromwell-final-outputs/*donor_UMd_UMr*bam_complex.bam_count.txt ../cromwell-final-outputs/*recipient_MMd_MUr*bam_complex.bam_count.txt ../cromwell-final-outputs/*recipient_MMd_UMr*bam_complex.bam_count.txt ../cromwell-final-outputs/*recipient_MUd_MUr*bam_complex.bam_count.txt ../cromwell-final-outputs/*recipient_MUd_UMr*bam_complex.bam_count.txt ../cromwell-final-outputs/*recipient_UMd_MUr*bam_complex.bam_count.txt ../cromwell-final-outputs/*recipient_UMd_UMr*bam_complex.bam_count.txt \n",
    "do\n",
    "    if [ -f \"$filename\" ]\n",
    "    then echo `basename $filename .bam_complex.bam_count.txt` `cat \"$filename\"`\n",
    "    fi\n",
    "done "
   ]
  },
  {
   "cell_type": "code",
   "execution_count": 337,
   "metadata": {},
   "outputs": [
    {
     "name": "stdout",
     "output_type": "stream",
     "text": [
      "SRR5377828.1437390\t73\tNC_002516.2\t4788845\t0\t101M\t=\t4788845\t0\tGCCTCACGGGCAATTAGTACTGGTTAGCTCAACGCCTCACAACGCTTACACACCCAGCCTATCAACGTCGTAGTCTTCGACGGCCCTTCAGGGGAATCAAG\tBBBFFFFFFFFFFIIIIFFIIIIIIIIIIIIIFIIIIIIIIIIIIIIIIIIIIFFFFFFFFFFFFFFFFFFFFFFFFFFFFFFFFFFFFFFFFFFFFFFFF\tNM:i:0\tMD:Z:101\tAS:i:101\tXS:i:101\tXA:Z:NC_002516.2,-726885,101M,0;NC_002516.2,+5264371,101M,0;NC_002516.2,+6039855,101M,0;\n",
      "SRR5377828.1437390\t133\tNC_002516.2\t4788845\t0\t*\t=\t4788845\t0\tCAGTGCTCTGAGCAAGTTCGTGGAGGAGCAGAACCTGAAGGACCTGCGCGTGTGGACCAGCCAGCTGAAGAGCACCATCCAGACGGCCGAGGCGCTGCGGC\tBBBBBFFFFFFFFFFFFFFFFFIIIFFFFFIIIIIIIIIIIIIIIIIIIIIIFFFFFFFFFFBFFFFFFFFFFFFFFFFFFFFFFFFFBB<<BFFBBBFFB\tMC:Z:101M\tAS:i:0\tXS:i:0\n",
      "SRR5377828.9153411\t73\tNC_002516.2\t4790306\t0\t84M17S\t=\t4790306\t0\tTCTCCGTCCCCCCTTCGCAGTAACACCAAGTACAGGAATATTAACCTGTTTCCCATCGACTACGCCTTTCGGCCTCGCCTTAGGGGTCGACTCACCACGCT\tBBB<BFFFFBBBBFIFIF<FFFFFFFFBFFIFFFFF<<B<<<FB<BFFFII<<<BF<BB<BFBB<B<<<<<<B7BBB<7BBBBBB<707<BBBBBB<0BB0\tNM:i:7\tMD:Z:10T2A10C0A0G38T4A13\tAS:i:49\tXS:i:49\tXA:Z:NC_002516.2,+5265834,84M17S,7;NC_002516.2,-725439,17S84M,7;NC_002516.2,+6041318,84M17S,7;\n",
      "SRR5377828.9153411\t133\tNC_002516.2\t4790306\t0\t*\t=\t4790306\t0\tGAGCAGGAGCTGCTGCGTTCCTTGCGCCTCTGCCCCCCACACCCTACCGCCCGCCTTCTGTTGGCTGCTGACCCTGGGGGCAGCCCAGCTCAACGTCGTCG\t000BF7BBBF<0BFFFFBBBFBF<00BF<B<F7FBBF<7<BBBB<<7B07<B<7<B<<<BB<''<077B<0<70077''00<BB#################\tMC:Z:84M17S\tAS:i:0\tXS:i:0\n",
      "SRR5377828.10177750\t73\tNC_002516.2\t4790333\t0\t18S83M\t=\t4790333\t0\tCCCCTTCGCAGTAACACCAAGTACAGGAATATTAACCTGTTTCCCATCGACTACGCCTTTCGGCCTCGCCTTAGGGGTCGACTCACCCTGCCCCGATTAAC\tBBBFFFFFFFFFFFFBFBBFBBF<BBF<'BFFFFFFFF<7BFFBBFFFIFFBB<B<FFBBBB<<BFF<BBBB<<<<B<BB<BBBBBBBBBBBBBBB<B###\tNM:i:8\tMD:Z:38T4A13A0A0C5A7G0T8\tAS:i:47\tXS:i:47\tXA:Z:NC_002516.2,+6041345,18S83M,8;NC_002516.2,+5265861,18S83M,8;NC_002516.2,-725413,83M18S,8;\n",
      "SRR5377828.10177750\t133\tNC_002516.2\t4790333\t0\t*\t=\t4790333\t0\tCCCCACAGCTGCAGGTAAAGTCCTCCTGCAAGGAGAATCCTTTTAACCGGAAGCCATCACCTGCAGCGCCCCCAGCCACAAAGAAGGCCACCAAGGGATCC\t<<<B<77'7<B<<<B0777<<'70<BB<70<0'<<7B7<B<BB<<B#######################################################\tMC:Z:18S83M\tAS:i:0\tXS:i:0\n",
      "SRR5377828.9629548\t73\tNC_002516.2\t4790467\t0\t9S81M11S\t=\t4790467\t0\tCCCGCTTTATCGTTACTTATGTCAGCATTCGCACTTCTGATACCTCCAGCATGCCTCACAGCACACCTTCGCAGGCTTACAGAACGCTCCCAAAGGCCTGC\tBBBFFFFFFFFFFIIIIIIIIIIIIIIIIIIIIIIIIIIIIIIIIIIIIIIIIIIIIIIIIIIIIIFFFFFFFFFFFFFFFFFFFFFFFFFFFFFFFFFFF\tNM:i:7\tMD:Z:8C33A2T2T2A1T7A19\tAS:i:46\tXS:i:46\tXA:Z:NC_002516.2,+5265995,9S81M11S,7;NC_002516.2,+6041479,9S81M11S,7;NC_002516.2,-725281,11S81M9S,7;\n",
      "SRR5377828.9629548\t133\tNC_002516.2\t4790467\t0\t*\t=\t4790467\t0\tTGAAGTTTATCTGCTTTGTGACAAGGTGCAGAAAGATGACATTGAGGTTCGGTTCTATGAGGATGATGAGAATGGATGGCAGGCCTTTGGGAGCGTTCTGT\tBBBFFFFFFFFFFIIIIIIIIIIIIIFFIIIIIIIIIIIIIIIIFFIFFIIIIIIIIIIFFIFIIIIIFIIIIFFFFFFFFFFFFFFFFFFFFFFBBFFFF\tMC:Z:9S81M11S\tAS:i:0\tXS:i:0\n",
      "SRR5377828.12264797\t73\tNC_002516.2\t4790478\t0\t76M25S\t=\t4790478\t0\tGTCAGCATTCGCACTTCTGATACCTCCAGCATGCCTCACAGCACACCTTCGCAGGCTTACAGAACGCTCCCCTACCCAACAACGCATAAGCGTCGCTGCCG\tBBBFFFFFFFFFFIIIIIIIIIIIIIIIIIIIIIIIIIIIIIIIIIIIIIIIIIIIIIIIIFFFFFFFFFFFFFFFFFFFFFFBBFFBFBFFBFFFFFFFB\tNM:i:7\tMD:Z:31A2T2T2A1T7A19T5\tAS:i:41\tXS:i:41\tXA:Z:NC_002516.2,+6041490,76M25S,7;NC_002516.2,-725275,25S76M,7;NC_002516.2,+5266006,76M25S,7;\n",
      "SRR5377828.12264797\t133\tNC_002516.2\t4790478\t0\t*\t=\t4790478\t0\tGCCAAAGCTCTTCTTGATCAAAAGAAACAGGATCCAAGAGTCCAAGACTTCCTCCAGCGATGTCTCGAGTCTCCCTTCAGTCGAAAACTAGATCTTTGGAG\tBBBFFFFFFFFFFIIIIIIIIIIIIIIFIIIIIIIIIFIIIIIIIIIIIIIIIIIIIIIFIIFIIIIIFFFFFFFFFFFFFFFFFFFFFFFFFFFFFFFFB\tMC:Z:76M25S\tAS:i:0\tXS:i:0\n"
     ]
    }
   ],
   "source": [
    "!samtools view ../cromwell-final-outputs/donor_MUd_UMr.bam_complex.bam | head -10 "
   ]
  },
  {
   "cell_type": "code",
   "execution_count": 345,
   "metadata": {},
   "outputs": [
    {
     "name": "stdout",
     "output_type": "stream",
     "text": [
      "SRR5377828.1016983\n",
      "SRR5377828.10177750\n",
      "SRR5377828.10268931\n",
      "SRR5377828.10330954\n",
      "SRR5377828.10545423\n",
      "SRR5377828.10587826\n",
      "SRR5377828.1063171\n",
      "SRR5377828.10856715\n",
      "SRR5377828.11024055\n",
      "SRR5377828.12025144\n",
      "SRR5377828.12236784\n",
      "SRR5377828.12264797\n",
      "SRR5377828.1337052\n",
      "SRR5377828.1437390\n",
      "SRR5377828.1575507\n",
      "SRR5377828.194771\n",
      "SRR5377828.1995274\n",
      "SRR5377828.2248722\n",
      "SRR5377828.2277170\n",
      "SRR5377828.2464365\n",
      "SRR5377828.2634717\n",
      "SRR5377828.3320862\n",
      "SRR5377828.3599097\n",
      "SRR5377828.3864444\n",
      "SRR5377828.3967274\n",
      "SRR5377828.4228838\n",
      "SRR5377828.4327946\n",
      "SRR5377828.4571712\n",
      "SRR5377828.4627422\n",
      "SRR5377828.4862745\n",
      "SRR5377828.489670\n",
      "SRR5377828.5004777\n",
      "SRR5377828.5017926\n",
      "SRR5377828.5179720\n",
      "SRR5377828.6216292\n",
      "SRR5377828.6797526\n",
      "SRR5377828.697663\n",
      "SRR5377828.7371773\n",
      "SRR5377828.775618\n",
      "SRR5377828.7927338\n",
      "SRR5377828.8079704\n",
      "SRR5377828.8167545\n",
      "SRR5377828.8900588\n",
      "SRR5377828.9153411\n",
      "SRR5377828.9216082\n",
      "SRR5377828.923447\n",
      "SRR5377828.9629548\n"
     ]
    }
   ],
   "source": [
    "!samtools view ../cromwell-final-outputs/donor_MUd_UMr.bam_complex.bam | cut -f1 | sort | uniq"
   ]
  },
  {
   "cell_type": "code",
   "execution_count": 336,
   "metadata": {},
   "outputs": [
    {
     "name": "stdout",
     "output_type": "stream",
     "text": [
      "47\n"
     ]
    }
   ],
   "source": [
    "!samtools view ../cromwell-final-outputs/donor_MUd_UMr.bam_complex.bam | cut -f1 | sort | uniq | wc -l"
   ]
  },
  {
   "cell_type": "code",
   "execution_count": 296,
   "metadata": {},
   "outputs": [
    {
     "name": "stdout",
     "output_type": "stream",
     "text": [
      ">SRR5377828.1437390\n",
      "GCCTCACGGGCAATTAGTACTGGTTAGCTCAACGCCTCACAACGCTTACACACCCAGCCTATCAACGTCGTAGTCTTCGACGGCCCTTCAGGGGAATCAAG\n",
      ">SRR5377828.9153411\n",
      "TCTCCGTCCCCCCTTCGCAGTAACACCAAGTACAGGAATATTAACCTGTTTCCCATCGACTACGCCTTTCGGCCTCGCCTTAGGGGTCGACTCACCACGCT\n",
      ">SRR5377828.10177750\n",
      "CCCCTTCGCAGTAACACCAAGTACAGGAATATTAACCTGTTTCCCATCGACTACGCCTTTCGGCCTCGCCTTAGGGGTCGACTCACCCTGCCCCGATTAAC\n",
      ">SRR5377828.9629548\n",
      "CCCGCTTTATCGTTACTTATGTCAGCATTCGCACTTCTGATACCTCCAGCATGCCTCACAGCACACCTTCGCAGGCTTACAGAACGCTCCCAAAGGCCTGC\n",
      ">SRR5377828.12264797\n",
      "GTCAGCATTCGCACTTCTGATACCTCCAGCATGCCTCACAGCACACCTTCGCAGGCTTACAGAACGCTCCCCTACCCAACAACGCATAAGCGTCGCTGCCG\n"
     ]
    }
   ],
   "source": [
    "!head ../cromwell-final-outputs/donor_MUd_UMr.bam.1.fasta"
   ]
  },
  {
   "cell_type": "code",
   "execution_count": 346,
   "metadata": {},
   "outputs": [
    {
     "name": "stdout",
     "output_type": "stream",
     "text": [
      "SRR5377828.10177750\n",
      "SRR5377828.10545423\n",
      "SRR5377828.10587826\n",
      "SRR5377828.10856715\n",
      "SRR5377828.11024055\n",
      "SRR5377828.12025144\n",
      "SRR5377828.12236784\n",
      "SRR5377828.12264797\n",
      "SRR5377828.1437390\n",
      "SRR5377828.1575507\n",
      "SRR5377828.2277170\n",
      "SRR5377828.2464365\n",
      "SRR5377828.3599097\n",
      "SRR5377828.4571712\n",
      "SRR5377828.4627422\n",
      "SRR5377828.489670\n",
      "SRR5377828.5004777\n",
      "SRR5377828.5017926\n",
      "SRR5377828.5179720\n",
      "SRR5377828.6216292\n",
      "SRR5377828.6797526\n",
      "SRR5377828.697663\n",
      "SRR5377828.7371773\n",
      "SRR5377828.8079704\n",
      "SRR5377828.8167545\n",
      "SRR5377828.8900588\n",
      "SRR5377828.9153411\n",
      "SRR5377828.923447\n",
      "SRR5377828.9629548\n"
     ]
    }
   ],
   "source": [
    "!grep \"^>\" ../cromwell-final-outputs/donor_MUd_UMr.bam.1.fasta | cut -d \">\" -f 2 | sort | uniq "
   ]
  },
  {
   "cell_type": "code",
   "execution_count": 344,
   "metadata": {},
   "outputs": [
    {
     "name": "stdout",
     "output_type": "stream",
     "text": [
      "29\n"
     ]
    }
   ],
   "source": [
    "!grep \"^>\" ../cromwell-final-outputs/donor_MUd_UMr.bam.1.fasta | cut -d \">\" -f 2 | sort | uniq | wc -l"
   ]
  },
  {
   "cell_type": "code",
   "execution_count": 69,
   "metadata": {},
   "outputs": [
    {
     "name": "stdout",
     "output_type": "stream",
     "text": [
      "donor_MMd_MUr.bam.1.fasta.blastn  recipient_MMd_MUr.bam.1.fasta.blastn\n",
      "donor_MMd_MUr.bam.2.fasta.blastn  recipient_MMd_MUr.bam.2.fasta.blastn\n",
      "donor_MUd_UMr.bam.1.fasta.blastn  recipient_MUd_UMr.bam.1.fasta.blastn\n",
      "donor_MUd_UMr.bam.2.fasta.blastn  recipient_MUd_UMr.bam.2.fasta.blastn\n",
      "donor_UMd_MUr.bam.1.fasta.blastn  recipient_UMd_MUr.bam.1.fasta.blastn\n",
      "donor_UMd_MUr.bam.2.fasta.blastn  recipient_UMd_MUr.bam.2.fasta.blastn\n"
     ]
    }
   ],
   "source": [
    "!ls ../cromwell-final-outputs/glob-8040ca63770337911b5135f8b229318a"
   ]
  },
  {
   "cell_type": "code",
   "execution_count": 114,
   "metadata": {},
   "outputs": [],
   "source": [
    "headers = [\"seqid\", \"qgi\", \"qacc\", \"qaccver\", \"qlen\", \"sseqid\", \"sallseqid\", \"sgi\",\n",
    "           \"sallgi\", \"sacc\", \"saccver\", \"sallacc\", \"slen\", \"qstart\", \"qend\", \"sstart\",\n",
    "           'send', \"qseq\", \"sseq\", \"evalue\", \"bitscore\", \"score\", \"length\", \"pident\",\n",
    "           'nident', \"mismatch\", \"positive\", \"gapopen\", \"gaps\", \"ppos\", \"frames\",\n",
    "           \"qframe\", \"sframe\", \"btop\", \"staxid\", \"ssciname\", \"scomname\", \"sblastname\",\n",
    "           \"sskingdom\", \"staxids\", \"sscinames\", \"scomnames\", \"sblastnames\",\n",
    "           \"sskingdoms\", \"stitle\", \"salltitles\", \"sstrand\", \"qcovs\", \"qcovhsp\", \"qcovus\" ]\n",
    "blast = pd.read_table('../cromwell-final-outputs/glob-8040ca63770337911b5135f8b229318a/donor_MUd_UMr.bam.1.fasta.blastn', \n",
    "    header=None, \n",
    "    names=headers, \n",
    "    na_values=[\"?\"], \n",
    "    engine='python')"
   ]
  },
  {
   "cell_type": "code",
   "execution_count": 287,
   "metadata": {},
   "outputs": [
    {
     "data": {
      "text/plain": [
       "29"
      ]
     },
     "execution_count": 287,
     "metadata": {},
     "output_type": "execute_result"
    }
   ],
   "source": [
    "blast['qgi'].nunique()"
   ]
  },
  {
   "cell_type": "code",
   "execution_count": 286,
   "metadata": {},
   "outputs": [
    {
     "data": {
      "text/plain": [
       "['SRR5377828.1437390',\n",
       " 'SRR5377828.9153411',\n",
       " 'SRR5377828.10177750',\n",
       " 'SRR5377828.9629548',\n",
       " 'SRR5377828.12264797',\n",
       " 'SRR5377828.2277170',\n",
       " 'SRR5377828.697663',\n",
       " 'SRR5377828.5017926',\n",
       " 'SRR5377828.6797526',\n",
       " 'SRR5377828.5179720',\n",
       " 'SRR5377828.8900588',\n",
       " 'SRR5377828.8167545',\n",
       " 'SRR5377828.3599097',\n",
       " 'SRR5377828.7371773',\n",
       " 'SRR5377828.12025144',\n",
       " 'SRR5377828.1575507',\n",
       " 'SRR5377828.923447',\n",
       " 'SRR5377828.10856715',\n",
       " 'SRR5377828.489670',\n",
       " 'SRR5377828.10587826',\n",
       " 'SRR5377828.4627422',\n",
       " 'SRR5377828.5004777',\n",
       " 'SRR5377828.4571712',\n",
       " 'SRR5377828.12236784',\n",
       " 'SRR5377828.2464365',\n",
       " 'SRR5377828.10545423',\n",
       " 'SRR5377828.11024055',\n",
       " 'SRR5377828.8079704',\n",
       " 'SRR5377828.6216292']"
      ]
     },
     "execution_count": 286,
     "metadata": {},
     "output_type": "execute_result"
    }
   ],
   "source": [
    "blast['qgi'].unique().tolist()"
   ]
  },
  {
   "cell_type": "code",
   "execution_count": 118,
   "metadata": {},
   "outputs": [
    {
     "data": {
      "text/html": [
       "<div>\n",
       "<style scoped>\n",
       "    .dataframe tbody tr th:only-of-type {\n",
       "        vertical-align: middle;\n",
       "    }\n",
       "\n",
       "    .dataframe tbody tr th {\n",
       "        vertical-align: top;\n",
       "    }\n",
       "\n",
       "    .dataframe thead th {\n",
       "        text-align: right;\n",
       "    }\n",
       "</style>\n",
       "<table border=\"1\" class=\"dataframe\">\n",
       "  <thead>\n",
       "    <tr style=\"text-align: right;\">\n",
       "      <th></th>\n",
       "      <th>seqid</th>\n",
       "      <th>qgi</th>\n",
       "      <th>qacc</th>\n",
       "      <th>qaccver</th>\n",
       "      <th>qlen</th>\n",
       "      <th>sseqid</th>\n",
       "      <th>sallseqid</th>\n",
       "      <th>sgi</th>\n",
       "      <th>sallgi</th>\n",
       "      <th>sacc</th>\n",
       "      <th>...</th>\n",
       "      <th>sscinames</th>\n",
       "      <th>scomnames</th>\n",
       "      <th>sblastnames</th>\n",
       "      <th>sskingdoms</th>\n",
       "      <th>stitle</th>\n",
       "      <th>salltitles</th>\n",
       "      <th>sstrand</th>\n",
       "      <th>qcovs</th>\n",
       "      <th>qcovhsp</th>\n",
       "      <th>qcovus</th>\n",
       "    </tr>\n",
       "  </thead>\n",
       "  <tbody>\n",
       "    <tr>\n",
       "      <th>0</th>\n",
       "      <td>0</td>\n",
       "      <td>SRR5377828.1437390</td>\n",
       "      <td>SRR5377828.1437390</td>\n",
       "      <td>101</td>\n",
       "      <td>gi|1851368093|gb|CP045552.1|</td>\n",
       "      <td>gi|1851368093|gb|CP045552.1|</td>\n",
       "      <td>1851368093</td>\n",
       "      <td>1851368093</td>\n",
       "      <td>CP045552</td>\n",
       "      <td>CP045552.1</td>\n",
       "      <td>...</td>\n",
       "      <td>Pseudomonas aeruginosa</td>\n",
       "      <td>g-proteobacteria</td>\n",
       "      <td>Bacteria</td>\n",
       "      <td>Pseudomonas aeruginosa strain YT12746 chromoso...</td>\n",
       "      <td>Pseudomonas aeruginosa strain YT12746 chromoso...</td>\n",
       "      <td>minus</td>\n",
       "      <td>100</td>\n",
       "      <td>100</td>\n",
       "      <td>100</td>\n",
       "      <td>NaN</td>\n",
       "    </tr>\n",
       "    <tr>\n",
       "      <th>1</th>\n",
       "      <td>0</td>\n",
       "      <td>SRR5377828.1437390</td>\n",
       "      <td>SRR5377828.1437390</td>\n",
       "      <td>101</td>\n",
       "      <td>gi|1851368093|gb|CP045552.1|</td>\n",
       "      <td>gi|1851368093|gb|CP045552.1|</td>\n",
       "      <td>1851368093</td>\n",
       "      <td>1851368093</td>\n",
       "      <td>CP045552</td>\n",
       "      <td>CP045552.1</td>\n",
       "      <td>...</td>\n",
       "      <td>Pseudomonas aeruginosa</td>\n",
       "      <td>g-proteobacteria</td>\n",
       "      <td>Bacteria</td>\n",
       "      <td>Pseudomonas aeruginosa strain YT12746 chromoso...</td>\n",
       "      <td>Pseudomonas aeruginosa strain YT12746 chromoso...</td>\n",
       "      <td>plus</td>\n",
       "      <td>100</td>\n",
       "      <td>100</td>\n",
       "      <td>100</td>\n",
       "      <td>NaN</td>\n",
       "    </tr>\n",
       "  </tbody>\n",
       "</table>\n",
       "<p>2 rows × 50 columns</p>\n",
       "</div>"
      ],
      "text/plain": [
       "   seqid                 qgi                qacc  qaccver  \\\n",
       "0      0  SRR5377828.1437390  SRR5377828.1437390      101   \n",
       "1      0  SRR5377828.1437390  SRR5377828.1437390      101   \n",
       "\n",
       "                           qlen                        sseqid   sallseqid  \\\n",
       "0  gi|1851368093|gb|CP045552.1|  gi|1851368093|gb|CP045552.1|  1851368093   \n",
       "1  gi|1851368093|gb|CP045552.1|  gi|1851368093|gb|CP045552.1|  1851368093   \n",
       "\n",
       "          sgi    sallgi        sacc  ...               sscinames  \\\n",
       "0  1851368093  CP045552  CP045552.1  ...  Pseudomonas aeruginosa   \n",
       "1  1851368093  CP045552  CP045552.1  ...  Pseudomonas aeruginosa   \n",
       "\n",
       "          scomnames  sblastnames  \\\n",
       "0  g-proteobacteria     Bacteria   \n",
       "1  g-proteobacteria     Bacteria   \n",
       "\n",
       "                                          sskingdoms  \\\n",
       "0  Pseudomonas aeruginosa strain YT12746 chromoso...   \n",
       "1  Pseudomonas aeruginosa strain YT12746 chromoso...   \n",
       "\n",
       "                                              stitle  salltitles sstrand  \\\n",
       "0  Pseudomonas aeruginosa strain YT12746 chromoso...       minus     100   \n",
       "1  Pseudomonas aeruginosa strain YT12746 chromoso...        plus     100   \n",
       "\n",
       "  qcovs  qcovhsp  qcovus  \n",
       "0   100      100     NaN  \n",
       "1   100      100     NaN  \n",
       "\n",
       "[2 rows x 50 columns]"
      ]
     },
     "execution_count": 118,
     "metadata": {},
     "output_type": "execute_result"
    }
   ],
   "source": [
    "blast.head(2)"
   ]
  },
  {
   "cell_type": "code",
   "execution_count": 119,
   "metadata": {},
   "outputs": [
    {
     "data": {
      "text/html": [
       "<div>\n",
       "<style scoped>\n",
       "    .dataframe tbody tr th:only-of-type {\n",
       "        vertical-align: middle;\n",
       "    }\n",
       "\n",
       "    .dataframe tbody tr th {\n",
       "        vertical-align: top;\n",
       "    }\n",
       "\n",
       "    .dataframe thead th {\n",
       "        text-align: right;\n",
       "    }\n",
       "</style>\n",
       "<table border=\"1\" class=\"dataframe\">\n",
       "  <thead>\n",
       "    <tr style=\"text-align: right;\">\n",
       "      <th></th>\n",
       "      <th>seqid</th>\n",
       "      <th>qgi</th>\n",
       "      <th>qacc</th>\n",
       "      <th>qaccver</th>\n",
       "      <th>qlen</th>\n",
       "      <th>sseqid</th>\n",
       "      <th>sallseqid</th>\n",
       "      <th>sgi</th>\n",
       "      <th>sallgi</th>\n",
       "      <th>sacc</th>\n",
       "      <th>...</th>\n",
       "      <th>sscinames</th>\n",
       "      <th>scomnames</th>\n",
       "      <th>sblastnames</th>\n",
       "      <th>sskingdoms</th>\n",
       "      <th>stitle</th>\n",
       "      <th>salltitles</th>\n",
       "      <th>sstrand</th>\n",
       "      <th>qcovs</th>\n",
       "      <th>qcovhsp</th>\n",
       "      <th>qcovus</th>\n",
       "    </tr>\n",
       "  </thead>\n",
       "  <tbody>\n",
       "    <tr>\n",
       "      <th>0</th>\n",
       "      <td>0</td>\n",
       "      <td>SRR5377828.1437390</td>\n",
       "      <td>SRR5377828.1437390</td>\n",
       "      <td>101</td>\n",
       "      <td>gi|1851368093|gb|CP045552.1|</td>\n",
       "      <td>gi|1851368093|gb|CP045552.1|</td>\n",
       "      <td>1851368093</td>\n",
       "      <td>1851368093</td>\n",
       "      <td>CP045552</td>\n",
       "      <td>CP045552.1</td>\n",
       "      <td>...</td>\n",
       "      <td>Pseudomonas aeruginosa</td>\n",
       "      <td>g-proteobacteria</td>\n",
       "      <td>Bacteria</td>\n",
       "      <td>Pseudomonas aeruginosa strain YT12746 chromoso...</td>\n",
       "      <td>Pseudomonas aeruginosa strain YT12746 chromoso...</td>\n",
       "      <td>minus</td>\n",
       "      <td>100</td>\n",
       "      <td>100</td>\n",
       "      <td>100</td>\n",
       "      <td>NaN</td>\n",
       "    </tr>\n",
       "    <tr>\n",
       "      <th>1</th>\n",
       "      <td>0</td>\n",
       "      <td>SRR5377828.1437390</td>\n",
       "      <td>SRR5377828.1437390</td>\n",
       "      <td>101</td>\n",
       "      <td>gi|1851368093|gb|CP045552.1|</td>\n",
       "      <td>gi|1851368093|gb|CP045552.1|</td>\n",
       "      <td>1851368093</td>\n",
       "      <td>1851368093</td>\n",
       "      <td>CP045552</td>\n",
       "      <td>CP045552.1</td>\n",
       "      <td>...</td>\n",
       "      <td>Pseudomonas aeruginosa</td>\n",
       "      <td>g-proteobacteria</td>\n",
       "      <td>Bacteria</td>\n",
       "      <td>Pseudomonas aeruginosa strain YT12746 chromoso...</td>\n",
       "      <td>Pseudomonas aeruginosa strain YT12746 chromoso...</td>\n",
       "      <td>plus</td>\n",
       "      <td>100</td>\n",
       "      <td>100</td>\n",
       "      <td>100</td>\n",
       "      <td>NaN</td>\n",
       "    </tr>\n",
       "  </tbody>\n",
       "</table>\n",
       "<p>2 rows × 50 columns</p>\n",
       "</div>"
      ],
      "text/plain": [
       "   seqid                 qgi                qacc  qaccver  \\\n",
       "0      0  SRR5377828.1437390  SRR5377828.1437390      101   \n",
       "1      0  SRR5377828.1437390  SRR5377828.1437390      101   \n",
       "\n",
       "                           qlen                        sseqid   sallseqid  \\\n",
       "0  gi|1851368093|gb|CP045552.1|  gi|1851368093|gb|CP045552.1|  1851368093   \n",
       "1  gi|1851368093|gb|CP045552.1|  gi|1851368093|gb|CP045552.1|  1851368093   \n",
       "\n",
       "          sgi    sallgi        sacc  ...               sscinames  \\\n",
       "0  1851368093  CP045552  CP045552.1  ...  Pseudomonas aeruginosa   \n",
       "1  1851368093  CP045552  CP045552.1  ...  Pseudomonas aeruginosa   \n",
       "\n",
       "          scomnames  sblastnames  \\\n",
       "0  g-proteobacteria     Bacteria   \n",
       "1  g-proteobacteria     Bacteria   \n",
       "\n",
       "                                          sskingdoms  \\\n",
       "0  Pseudomonas aeruginosa strain YT12746 chromoso...   \n",
       "1  Pseudomonas aeruginosa strain YT12746 chromoso...   \n",
       "\n",
       "                                              stitle  salltitles sstrand  \\\n",
       "0  Pseudomonas aeruginosa strain YT12746 chromoso...       minus     100   \n",
       "1  Pseudomonas aeruginosa strain YT12746 chromoso...        plus     100   \n",
       "\n",
       "  qcovs  qcovhsp  qcovus  \n",
       "0   100      100     NaN  \n",
       "1   100      100     NaN  \n",
       "\n",
       "[2 rows x 50 columns]"
      ]
     },
     "execution_count": 119,
     "metadata": {},
     "output_type": "execute_result"
    }
   ],
   "source": [
    "blast.loc[blast['sscinames'] == 'Pseudomonas aeruginosa'].head(2)"
   ]
  },
  {
   "cell_type": "code",
   "execution_count": 150,
   "metadata": {},
   "outputs": [
    {
     "data": {
      "image/png": "[encoded data removed]",
      "text/plain": [
       "<Figure size 1440x360 with 1 Axes>"
      ]
     },
     "metadata": {},
     "output_type": "display_data"
    }
   ],
   "source": [
    "plt.style.use('seaborn-whitegrid')\n",
    "plt.figure(figsize=(20,5)) \n",
    "blast_pse = data=blast.loc[blast['sscinames'] == 'Pseudomonas aeruginosa']\n",
    "sns.countplot(y=\"qgi\", data=blast_pse, order = blast_pse[\"qgi\"].value_counts().index);"
   ]
  },
  {
   "cell_type": "code",
   "execution_count": 151,
   "metadata": {},
   "outputs": [
    {
     "data": {
      "image/png": "[encoded data removed]",
      "text/plain": [
       "<Figure size 1440x360 with 1 Axes>"
      ]
     },
     "metadata": {},
     "output_type": "display_data"
    }
   ],
   "source": [
    "plt.style.use('seaborn-whitegrid')\n",
    "plt.figure(figsize=(20,5))\n",
    "blast_srr = blast.loc[blast['qgi'] == 'SRR5377828.1437390']\n",
    "sns.countplot(y=\"sscinames\", data=blast_srr, order = blast_srr['sscinames'].value_counts().iloc[:10].index);"
   ]
  },
  {
   "cell_type": "code",
   "execution_count": 280,
   "metadata": {},
   "outputs": [
    {
     "data": {
      "text/html": [
       "<div>\n",
       "<style scoped>\n",
       "    .dataframe tbody tr th:only-of-type {\n",
       "        vertical-align: middle;\n",
       "    }\n",
       "\n",
       "    .dataframe tbody tr th {\n",
       "        vertical-align: top;\n",
       "    }\n",
       "\n",
       "    .dataframe thead th {\n",
       "        text-align: right;\n",
       "    }\n",
       "</style>\n",
       "<table border=\"1\" class=\"dataframe\">\n",
       "  <thead>\n",
       "    <tr style=\"text-align: right;\">\n",
       "      <th></th>\n",
       "      <th>qgi</th>\n",
       "      <th>sscinames</th>\n",
       "      <th>blast hits</th>\n",
       "    </tr>\n",
       "  </thead>\n",
       "  <tbody>\n",
       "    <tr>\n",
       "      <th>0</th>\n",
       "      <td>SRR5377828.7371773</td>\n",
       "      <td>Escherichia coli</td>\n",
       "      <td>2599</td>\n",
       "    </tr>\n",
       "    <tr>\n",
       "      <th>1</th>\n",
       "      <td>SRR5377828.12264797</td>\n",
       "      <td>Escherichia coli</td>\n",
       "      <td>2224</td>\n",
       "    </tr>\n",
       "    <tr>\n",
       "      <th>2</th>\n",
       "      <td>SRR5377828.12236784</td>\n",
       "      <td>Escherichia coli</td>\n",
       "      <td>2185</td>\n",
       "    </tr>\n",
       "    <tr>\n",
       "      <th>3</th>\n",
       "      <td>SRR5377828.2464365</td>\n",
       "      <td>Escherichia coli</td>\n",
       "      <td>1936</td>\n",
       "    </tr>\n",
       "    <tr>\n",
       "      <th>4</th>\n",
       "      <td>SRR5377828.9629548</td>\n",
       "      <td>Klebsiella pneumoniae</td>\n",
       "      <td>1697</td>\n",
       "    </tr>\n",
       "    <tr>\n",
       "      <th>...</th>\n",
       "      <td>...</td>\n",
       "      <td>...</td>\n",
       "      <td>...</td>\n",
       "    </tr>\n",
       "    <tr>\n",
       "      <th>95</th>\n",
       "      <td>SRR5377828.1575507</td>\n",
       "      <td>Pseudomonas fluorescens</td>\n",
       "      <td>84</td>\n",
       "    </tr>\n",
       "    <tr>\n",
       "      <th>96</th>\n",
       "      <td>SRR5377828.1437390</td>\n",
       "      <td>Pseudomonas fluorescens</td>\n",
       "      <td>83</td>\n",
       "    </tr>\n",
       "    <tr>\n",
       "      <th>97</th>\n",
       "      <td>SRR5377828.4627422</td>\n",
       "      <td>Klebsiella pneumoniae</td>\n",
       "      <td>83</td>\n",
       "    </tr>\n",
       "    <tr>\n",
       "      <th>98</th>\n",
       "      <td>SRR5377828.12236784</td>\n",
       "      <td>Salmonella enterica subsp. enterica serovar An...</td>\n",
       "      <td>77</td>\n",
       "    </tr>\n",
       "    <tr>\n",
       "      <th>99</th>\n",
       "      <td>SRR5377828.3599097</td>\n",
       "      <td>Salmonella enterica subsp. enterica serovar In...</td>\n",
       "      <td>77</td>\n",
       "    </tr>\n",
       "  </tbody>\n",
       "</table>\n",
       "<p>100 rows × 3 columns</p>\n",
       "</div>"
      ],
      "text/plain": [
       "                    qgi                                          sscinames  \\\n",
       "0    SRR5377828.7371773                                   Escherichia coli   \n",
       "1   SRR5377828.12264797                                   Escherichia coli   \n",
       "2   SRR5377828.12236784                                   Escherichia coli   \n",
       "3    SRR5377828.2464365                                   Escherichia coli   \n",
       "4    SRR5377828.9629548                              Klebsiella pneumoniae   \n",
       "..                  ...                                                ...   \n",
       "95   SRR5377828.1575507                            Pseudomonas fluorescens   \n",
       "96   SRR5377828.1437390                            Pseudomonas fluorescens   \n",
       "97   SRR5377828.4627422                              Klebsiella pneumoniae   \n",
       "98  SRR5377828.12236784  Salmonella enterica subsp. enterica serovar An...   \n",
       "99   SRR5377828.3599097  Salmonella enterica subsp. enterica serovar In...   \n",
       "\n",
       "    blast hits  \n",
       "0         2599  \n",
       "1         2224  \n",
       "2         2185  \n",
       "3         1936  \n",
       "4         1697  \n",
       "..         ...  \n",
       "95          84  \n",
       "96          83  \n",
       "97          83  \n",
       "98          77  \n",
       "99          77  \n",
       "\n",
       "[100 rows x 3 columns]"
      ]
     },
     "execution_count": 280,
     "metadata": {},
     "output_type": "execute_result"
    }
   ],
   "source": [
    "df = blast.groupby(['qgi', 'sscinames']).size().nlargest(100, keep='first').to_frame('blast hits').reset_index().sort_values(['blast hits'], ascending=False)\n",
    "df"
   ]
  },
  {
   "cell_type": "code",
   "execution_count": 281,
   "metadata": {},
   "outputs": [
    {
     "data": {
      "text/html": [
       "<div>\n",
       "<style scoped>\n",
       "    .dataframe tbody tr th:only-of-type {\n",
       "        vertical-align: middle;\n",
       "    }\n",
       "\n",
       "    .dataframe tbody tr th {\n",
       "        vertical-align: top;\n",
       "    }\n",
       "\n",
       "    .dataframe thead th {\n",
       "        text-align: right;\n",
       "    }\n",
       "</style>\n",
       "<table border=\"1\" class=\"dataframe\">\n",
       "  <thead>\n",
       "    <tr style=\"text-align: right;\">\n",
       "      <th></th>\n",
       "      <th>qgi</th>\n",
       "      <th>sscinames</th>\n",
       "      <th>blast hits</th>\n",
       "    </tr>\n",
       "  </thead>\n",
       "  <tbody>\n",
       "    <tr>\n",
       "      <th>15</th>\n",
       "      <td>SRR5377828.1437390</td>\n",
       "      <td>Pseudomonas aeruginosa</td>\n",
       "      <td>1014</td>\n",
       "    </tr>\n",
       "    <tr>\n",
       "      <th>16</th>\n",
       "      <td>SRR5377828.5004777</td>\n",
       "      <td>Pseudomonas aeruginosa</td>\n",
       "      <td>1013</td>\n",
       "    </tr>\n",
       "    <tr>\n",
       "      <th>17</th>\n",
       "      <td>SRR5377828.923447</td>\n",
       "      <td>Pseudomonas aeruginosa</td>\n",
       "      <td>1006</td>\n",
       "    </tr>\n",
       "    <tr>\n",
       "      <th>18</th>\n",
       "      <td>SRR5377828.1575507</td>\n",
       "      <td>Pseudomonas aeruginosa</td>\n",
       "      <td>1005</td>\n",
       "    </tr>\n",
       "    <tr>\n",
       "      <th>19</th>\n",
       "      <td>SRR5377828.10545423</td>\n",
       "      <td>Pseudomonas aeruginosa</td>\n",
       "      <td>1002</td>\n",
       "    </tr>\n",
       "    <tr>\n",
       "      <th>25</th>\n",
       "      <td>SRR5377828.6216292</td>\n",
       "      <td>Pseudomonas aeruginosa</td>\n",
       "      <td>609</td>\n",
       "    </tr>\n",
       "    <tr>\n",
       "      <th>46</th>\n",
       "      <td>SRR5377828.5017926</td>\n",
       "      <td>Pseudomonas aeruginosa</td>\n",
       "      <td>262</td>\n",
       "    </tr>\n",
       "    <tr>\n",
       "      <th>57</th>\n",
       "      <td>SRR5377828.2277170</td>\n",
       "      <td>Pseudomonas aeruginosa</td>\n",
       "      <td>167</td>\n",
       "    </tr>\n",
       "    <tr>\n",
       "      <th>59</th>\n",
       "      <td>SRR5377828.2277170</td>\n",
       "      <td>Pseudomonas sp.</td>\n",
       "      <td>161</td>\n",
       "    </tr>\n",
       "    <tr>\n",
       "      <th>63</th>\n",
       "      <td>SRR5377828.923447</td>\n",
       "      <td>Pseudomonas putida</td>\n",
       "      <td>151</td>\n",
       "    </tr>\n",
       "    <tr>\n",
       "      <th>64</th>\n",
       "      <td>SRR5377828.10545423</td>\n",
       "      <td>Pseudomonas putida</td>\n",
       "      <td>145</td>\n",
       "    </tr>\n",
       "    <tr>\n",
       "      <th>67</th>\n",
       "      <td>SRR5377828.5017926</td>\n",
       "      <td>Pseudomonas sp.</td>\n",
       "      <td>133</td>\n",
       "    </tr>\n",
       "    <tr>\n",
       "      <th>68</th>\n",
       "      <td>SRR5377828.5004777</td>\n",
       "      <td>Pseudomonas putida</td>\n",
       "      <td>130</td>\n",
       "    </tr>\n",
       "    <tr>\n",
       "      <th>95</th>\n",
       "      <td>SRR5377828.1575507</td>\n",
       "      <td>Pseudomonas fluorescens</td>\n",
       "      <td>84</td>\n",
       "    </tr>\n",
       "    <tr>\n",
       "      <th>96</th>\n",
       "      <td>SRR5377828.1437390</td>\n",
       "      <td>Pseudomonas fluorescens</td>\n",
       "      <td>83</td>\n",
       "    </tr>\n",
       "  </tbody>\n",
       "</table>\n",
       "</div>"
      ],
      "text/plain": [
       "                    qgi                sscinames  blast hits\n",
       "15   SRR5377828.1437390   Pseudomonas aeruginosa        1014\n",
       "16   SRR5377828.5004777   Pseudomonas aeruginosa        1013\n",
       "17    SRR5377828.923447   Pseudomonas aeruginosa        1006\n",
       "18   SRR5377828.1575507   Pseudomonas aeruginosa        1005\n",
       "19  SRR5377828.10545423   Pseudomonas aeruginosa        1002\n",
       "25   SRR5377828.6216292   Pseudomonas aeruginosa         609\n",
       "46   SRR5377828.5017926   Pseudomonas aeruginosa         262\n",
       "57   SRR5377828.2277170   Pseudomonas aeruginosa         167\n",
       "59   SRR5377828.2277170          Pseudomonas sp.         161\n",
       "63    SRR5377828.923447       Pseudomonas putida         151\n",
       "64  SRR5377828.10545423       Pseudomonas putida         145\n",
       "67   SRR5377828.5017926          Pseudomonas sp.         133\n",
       "68   SRR5377828.5004777       Pseudomonas putida         130\n",
       "95   SRR5377828.1575507  Pseudomonas fluorescens          84\n",
       "96   SRR5377828.1437390  Pseudomonas fluorescens          83"
      ]
     },
     "execution_count": 281,
     "metadata": {},
     "output_type": "execute_result"
    }
   ],
   "source": [
    "df[df['sscinames'].str.contains(\"Pseudomonas\")]"
   ]
  },
  {
   "cell_type": "code",
   "execution_count": null,
   "metadata": {},
   "outputs": [],
   "source": []
  }
 ],
 "metadata": {
  "kernelspec": {
   "display_name": "Python 3",
   "language": "python",
   "name": "python3"
  },
  "language_info": {
   "codemirror_mode": {
    "name": "ipython",
    "version": 3
   },
   "file_extension": ".py",
   "mimetype": "text/x-python",
   "name": "python",
   "nbconvert_exporter": "python",
   "pygments_lexer": "ipython3",
   "version": "3.7.6"
  }
 },
 "nbformat": 4,
 "nbformat_minor": 4
}
