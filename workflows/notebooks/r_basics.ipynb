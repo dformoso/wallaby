{
 "cells": [
  {
   "cell_type": "code",
   "execution_count": 1,
   "metadata": {},
   "outputs": [
    {
     "name": "stderr",
     "output_type": "stream",
     "text": [
      "Bioconductor version 3.10 (BiocManager 1.30.10), R 3.6.3 (2020-02-29)\n",
      "\n",
      "Installing package(s) 'Rsamtools'\n",
      "\n",
      "Updating HTML index of packages in '.Library'\n",
      "\n",
      "Making 'packages.html' ...\n",
      " done\n",
      "\n",
      "Old packages: 'annotate', 'broom', 'callr', 'cli', 'clipr', 'data.table', 'DT',\n",
      "  'foreach', 'forecast', 'htmltools', 'htmlwidgets', 'iterators', 'knitr',\n",
      "  'lava', 'matrixStats', 'openssl', 'pbdZMQ', 'ps', 'readr', 'rlang',\n",
      "  'rmarkdown', 'RSQLite', 'shiny', 'survival', 'tibble', 'tinytex', 'withr',\n",
      "  'xfun'\n",
      "\n"
     ]
    }
   ],
   "source": [
    "if (!requireNamespace(\"BiocManager\", quietly = TRUE))\n",
    "    install.packages(\"BiocManager\")\n",
    "\n",
    "BiocManager::install(\"Rsamtools\")"
   ]
  },
  {
   "cell_type": "code",
   "execution_count": 33,
   "metadata": {},
   "outputs": [],
   "source": [
    "library(\"Rsamtools\")"
   ]
  },
  {
   "cell_type": "code",
   "execution_count": 44,
   "metadata": {},
   "outputs": [
    {
     "data": {
      "text/plain": [
       "class: BamFile \n",
       "path: ../cromwell-final-outputs/reads-to-donor_MUd_UMr.bam\n",
       "index: NA\n",
       "isOpen: FALSE \n",
       "yieldSize: NA \n",
       "obeyQname: FALSE \n",
       "asMates: FALSE \n",
       "qnamePrefixEnd: NA \n",
       "qnameSuffixStart: NA "
      ]
     },
     "metadata": {},
     "output_type": "display_data"
    }
   ],
   "source": [
    "bamPath <- \"../cromwell-final-outputs/reads-to-donor_MUd_UMr.bam\"\n",
    "bamFile <- BamFile(\"../cromwell-final-outputs/reads-to-donor_MUd_UMr.bam\")\n",
    "bamFile"
   ]
  },
  {
   "cell_type": "code",
   "execution_count": 45,
   "metadata": {},
   "outputs": [
    {
     "data": {
      "text/plain": [
       "Seqinfo object with 1 sequence from an unspecified genome:\n",
       "  seqnames    seqlengths isCircular genome\n",
       "  NC_002516.2    6264404         NA   <NA>"
      ]
     },
     "metadata": {},
     "output_type": "display_data"
    }
   ],
   "source": [
    "seqinfo(bamFile)"
   ]
  },
  {
   "cell_type": "code",
   "execution_count": 46,
   "metadata": {},
   "outputs": [
    {
     "data": {
      "text/html": [
       "1"
      ],
      "text/latex": [
       "1"
      ],
      "text/markdown": [
       "1"
      ],
      "text/plain": [
       "[1] 1"
      ]
     },
     "metadata": {},
     "output_type": "display_data"
    }
   ],
   "source": [
    "aln <- scanBam(bamFile)\n",
    "length(aln)"
   ]
  },
  {
   "cell_type": "code",
   "execution_count": 47,
   "metadata": {},
   "outputs": [
    {
     "data": {
      "text/html": [
       "<style>\n",
       ".list-inline {list-style: none; margin:0; padding: 0}\n",
       ".list-inline>li {display: inline-block}\n",
       ".list-inline>li:not(:last-child)::after {content: \"\\00b7\"; padding: 0 .5ex}\n",
       "</style>\n",
       "<ol class=list-inline><li>'qname'</li><li>'flag'</li><li>'rname'</li><li>'strand'</li><li>'pos'</li><li>'qwidth'</li><li>'mapq'</li><li>'cigar'</li><li>'mrnm'</li><li>'mpos'</li><li>'isize'</li><li>'seq'</li><li>'qual'</li></ol>\n"
      ],
      "text/latex": [
       "\\begin{enumerate*}\n",
       "\\item 'qname'\n",
       "\\item 'flag'\n",
       "\\item 'rname'\n",
       "\\item 'strand'\n",
       "\\item 'pos'\n",
       "\\item 'qwidth'\n",
       "\\item 'mapq'\n",
       "\\item 'cigar'\n",
       "\\item 'mrnm'\n",
       "\\item 'mpos'\n",
       "\\item 'isize'\n",
       "\\item 'seq'\n",
       "\\item 'qual'\n",
       "\\end{enumerate*}\n"
      ],
      "text/markdown": [
       "1. 'qname'\n",
       "2. 'flag'\n",
       "3. 'rname'\n",
       "4. 'strand'\n",
       "5. 'pos'\n",
       "6. 'qwidth'\n",
       "7. 'mapq'\n",
       "8. 'cigar'\n",
       "9. 'mrnm'\n",
       "10. 'mpos'\n",
       "11. 'isize'\n",
       "12. 'seq'\n",
       "13. 'qual'\n",
       "\n",
       "\n"
      ],
      "text/plain": [
       " [1] \"qname\"  \"flag\"   \"rname\"  \"strand\" \"pos\"    \"qwidth\" \"mapq\"   \"cigar\" \n",
       " [9] \"mrnm\"   \"mpos\"   \"isize\"  \"seq\"    \"qual\"  "
      ]
     },
     "metadata": {},
     "output_type": "display_data"
    }
   ],
   "source": [
    "aln <- aln[[1]]\n",
    "names(aln)"
   ]
  },
  {
   "cell_type": "code",
   "execution_count": 48,
   "metadata": {},
   "outputs": [
    {
     "data": {
      "text/plain": [
       "$qname\n",
       "[1] \"SRR5377828.1437390\"\n",
       "\n",
       "$flag\n",
       "[1] 73\n",
       "\n",
       "$rname\n",
       "[1] NC_002516.2\n",
       "Levels: NC_002516.2\n",
       "\n",
       "$strand\n",
       "[1] +\n",
       "Levels: + - *\n",
       "\n",
       "$pos\n",
       "[1] 4788845\n",
       "\n",
       "$qwidth\n",
       "[1] 101\n",
       "\n",
       "$mapq\n",
       "[1] 0\n",
       "\n",
       "$cigar\n",
       "[1] \"101M\"\n",
       "\n",
       "$mrnm\n",
       "[1] NC_002516.2\n",
       "Levels: NC_002516.2\n",
       "\n",
       "$mpos\n",
       "[1] NA\n",
       "\n",
       "$isize\n",
       "[1] NA\n",
       "\n",
       "$seq\n",
       "  A DNAStringSet instance of length 1\n",
       "    width seq\n",
       "[1]   101 GCCTCACGGGCAATTAGTACTGGTTAGCTCAACG...CGTAGTCTTCGACGGCCCTTCAGGGGAATCAAG\n",
       "\n",
       "$qual\n",
       "  A PhredQuality instance of length 1\n",
       "    width seq\n",
       "[1]   101 BBBFFFFFFFFFFIIIIFFIIIIIIIIIIIIIFI...FFFFFFFFFFFFFFFFFFFFFFFFFFFFFFFFF\n"
      ]
     },
     "metadata": {},
     "output_type": "display_data"
    }
   ],
   "source": [
    "lapply(aln, function(xx) xx[1])\n"
   ]
  },
  {
   "cell_type": "code",
   "execution_count": 49,
   "metadata": {},
   "outputs": [
    {
     "name": "stdout",
     "output_type": "stream",
     "text": [
      "                                group |    nb of |    nb of | mean / max\n",
      "                                   of |  records |   unique | records per\n",
      "                              records | in group |   QNAMEs | unique QNAME\n",
      "All records........................ A |       74 |       37 |    2 / 2\n",
      "  o template has single segment.... S |        0 |        0 |   NA / NA\n",
      "  o template has multiple segments. M |       74 |       37 |    2 / 2\n",
      "      - first segment.............. F |       37 |       37 |    1 / 1\n",
      "      - last segment............... L |       37 |       37 |    1 / 1\n",
      "      - other segment.............. O |        0 |        0 |   NA / NA\n",
      "\n",
      "Note that (S, M) is a partitioning of A, and (F, L, O) is a partitioning of M.\n",
      "Indentation reflects this.\n",
      "\n",
      "Details for group M:\n",
      "  o record is mapped.............. M1 |       37 |       37 |    1 / 1\n",
      "      - primary alignment......... M2 |       37 |       37 |    1 / 1\n",
      "      - secondary alignment....... M3 |        0 |        0 |   NA / NA\n",
      "  o record is unmapped............ M4 |       37 |       37 |    1 / 1\n",
      "\n",
      "Details for group F:\n",
      "  o record is mapped.............. F1 |       37 |       37 |    1 / 1\n",
      "      - primary alignment......... F2 |       37 |       37 |    1 / 1\n",
      "      - secondary alignment....... F3 |        0 |        0 |   NA / NA\n",
      "  o record is unmapped............ F4 |        0 |        0 |   NA / NA\n",
      "\n",
      "Details for group L:\n",
      "  o record is mapped.............. L1 |        0 |        0 |   NA / NA\n",
      "      - primary alignment......... L2 |        0 |        0 |   NA / NA\n",
      "      - secondary alignment....... L3 |        0 |        0 |   NA / NA\n",
      "  o record is unmapped............ L4 |       37 |       37 |    1 / 1\n"
     ]
    }
   ],
   "source": [
    "quickBamFlagSummary(bamFile)"
   ]
  },
  {
   "cell_type": "code",
   "execution_count": null,
   "metadata": {},
   "outputs": [],
   "source": []
  },
  {
   "cell_type": "code",
   "execution_count": 58,
   "metadata": {},
   "outputs": [
    {
     "name": "stderr",
     "output_type": "stream",
     "text": [
      "Bioconductor version 3.10 (BiocManager 1.30.10), R 3.6.3 (2020-02-29)\n",
      "\n",
      "Installing package(s) 'bamsignals'\n",
      "\n",
      "Updating HTML index of packages in '.Library'\n",
      "\n",
      "Making 'packages.html' ...\n",
      " done\n",
      "\n",
      "Old packages: 'annotate', 'broom', 'callr', 'cli', 'clipr', 'data.table', 'DT',\n",
      "  'foreach', 'forecast', 'htmltools', 'htmlwidgets', 'iterators', 'knitr',\n",
      "  'lava', 'matrixStats', 'openssl', 'pbdZMQ', 'ps', 'readr', 'rlang',\n",
      "  'rmarkdown', 'RSQLite', 'shiny', 'survival', 'tibble', 'tinytex', 'withr',\n",
      "  'xfun'\n",
      "\n",
      "Bioconductor version 3.10 (BiocManager 1.30.10), R 3.6.3 (2020-02-29)\n",
      "\n",
      "Installing package(s) 'igvR'\n",
      "\n",
      "also installing the dependencies ‘splitstackshape’, ‘BSgenome’, ‘V8’, ‘Rtsne’, ‘cluster’, ‘BrowserViz’, ‘MotifDb’, ‘seqLogo’, ‘VariantAnnotation’, ‘randomcoloR’\n",
      "\n",
      "\n",
      "Warning message in install.packages(...):\n",
      "“installation of package ‘V8’ had non-zero exit status”\n",
      "Warning message in install.packages(...):\n",
      "“installation of package ‘randomcoloR’ had non-zero exit status”\n",
      "Warning message in install.packages(...):\n",
      "“installation of package ‘igvR’ had non-zero exit status”\n",
      "Updating HTML index of packages in '.Library'\n",
      "\n",
      "Making 'packages.html' ...\n",
      " done\n",
      "\n",
      "Old packages: 'annotate', 'broom', 'callr', 'cli', 'clipr', 'data.table', 'DT',\n",
      "  'foreach', 'forecast', 'htmltools', 'htmlwidgets', 'iterators', 'knitr',\n",
      "  'lava', 'matrixStats', 'openssl', 'pbdZMQ', 'ps', 'readr', 'rlang',\n",
      "  'rmarkdown', 'RSQLite', 'shiny', 'survival', 'tibble', 'tinytex', 'withr',\n",
      "  'xfun'\n",
      "\n"
     ]
    }
   ],
   "source": [
    "if (!requireNamespace(\"BiocManager\", quietly = TRUE))\n",
    "    install.packages(\"BiocManager\")\n",
    "\n",
    "BiocManager::install(\"bamsignals\")"
   ]
  },
  {
   "cell_type": "code",
   "execution_count": 59,
   "metadata": {},
   "outputs": [
    {
     "ename": "ERROR",
     "evalue": "Error in library(\"igvR\"): there is no package called ‘igvR’\n",
     "output_type": "error",
     "traceback": [
      "Error in library(\"igvR\"): there is no package called ‘igvR’\nTraceback:\n",
      "1. library(\"igvR\")"
     ]
    }
   ],
   "source": [
    "library(\"bamsignals\")"
   ]
  },
  {
   "cell_type": "code",
   "execution_count": null,
   "metadata": {},
   "outputs": [],
   "source": []
  },
  {
   "cell_type": "code",
   "execution_count": null,
   "metadata": {},
   "outputs": [],
   "source": []
  },
  {
   "cell_type": "code",
   "execution_count": 2,
   "metadata": {},
   "outputs": [
    {
     "name": "stderr",
     "output_type": "stream",
     "text": [
      "Bioconductor version 3.10 (BiocManager 1.30.10), R 3.6.3 (2020-02-29)\n",
      "\n",
      "Installing package(s) 'igvR'\n",
      "\n",
      "also installing the dependencies ‘V8’, ‘randomcoloR’\n",
      "\n",
      "\n",
      "Warning message in install.packages(...):\n",
      "“installation of package ‘V8’ had non-zero exit status”\n",
      "Warning message in install.packages(...):\n",
      "“installation of package ‘randomcoloR’ had non-zero exit status”\n",
      "Warning message in install.packages(...):\n",
      "“installation of package ‘igvR’ had non-zero exit status”\n",
      "Updating HTML index of packages in '.Library'\n",
      "\n",
      "Making 'packages.html' ...\n",
      " done\n",
      "\n",
      "Old packages: 'annotate', 'broom', 'callr', 'cli', 'clipr', 'data.table', 'DT',\n",
      "  'foreach', 'forecast', 'htmltools', 'htmlwidgets', 'iterators', 'knitr',\n",
      "  'lava', 'matrixStats', 'openssl', 'pbdZMQ', 'ps', 'readr', 'rlang',\n",
      "  'rmarkdown', 'RSQLite', 'shiny', 'survival', 'tibble', 'tinytex', 'withr',\n",
      "  'xfun'\n",
      "\n"
     ]
    }
   ],
   "source": [
    "if (!requireNamespace(\"BiocManager\", quietly = TRUE))\n",
    "    install.packages(\"BiocManager\")\n",
    "\n",
    "BiocManager::install(\"igvR\")"
   ]
  },
  {
   "cell_type": "code",
   "execution_count": 3,
   "metadata": {},
   "outputs": [
    {
     "ename": "ERROR",
     "evalue": "Error in library(\"igvR\"): there is no package called ‘igvR’\n",
     "output_type": "error",
     "traceback": [
      "Error in library(\"igvR\"): there is no package called ‘igvR’\nTraceback:\n",
      "1. library(\"igvR\")"
     ]
    }
   ],
   "source": [
    "library(\"igvR\")"
   ]
  },
  {
   "cell_type": "code",
   "execution_count": null,
   "metadata": {},
   "outputs": [],
   "source": [
    "igv <- igvR()\n",
    "setBrowserWindowTitle(igv, \"simple igvR demo\")\n",
    "setGenome(igv, \"hg38\")"
   ]
  },
  {
   "cell_type": "code",
   "execution_count": 5,
   "metadata": {},
   "outputs": [
    {
     "ename": "ERROR",
     "evalue": "Error in getSupportedGenomes(igv): could not find function \"getSupportedGenomes\"\n",
     "output_type": "error",
     "traceback": [
      "Error in getSupportedGenomes(igv): could not find function \"getSupportedGenomes\"\nTraceback:\n",
      "1. print(getSupportedGenomes(igv))"
     ]
    }
   ],
   "source": [
    "print(getSupportedGenomes(igv))"
   ]
  },
  {
   "cell_type": "code",
   "execution_count": null,
   "metadata": {},
   "outputs": [],
   "source": []
  }
 ],
 "metadata": {
  "kernelspec": {
   "display_name": "R",
   "language": "R",
   "name": "ir"
  },
  "language_info": {
   "codemirror_mode": "r",
   "file_extension": ".r",
   "mimetype": "text/x-r-source",
   "name": "R",
   "pygments_lexer": "r",
   "version": "3.6.3"
  }
 },
 "nbformat": 4,
 "nbformat_minor": 4
}
