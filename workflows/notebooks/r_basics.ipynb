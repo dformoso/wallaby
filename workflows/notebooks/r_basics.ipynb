{
 "cells": [
  {
   "cell_type": "code",
   "execution_count": 5,
   "metadata": {},
   "outputs": [
    {
     "name": "stderr",
     "output_type": "stream",
     "text": [
      "Updating HTML index of packages in '.Library'\n",
      "\n",
      "Making 'packages.html' ...\n",
      " done\n",
      "\n"
     ]
    }
   ],
   "source": [
    "install.packages(\"swirl\")"
   ]
  },
  {
   "cell_type": "code",
   "execution_count": 6,
   "metadata": {},
   "outputs": [
    {
     "name": "stderr",
     "output_type": "stream",
     "text": [
      "\n",
      "| Hi! Type swirl() when you are ready to begin.\n",
      "\n",
      "\n"
     ]
    }
   ],
   "source": [
    "library(\"swirl\")"
   ]
  },
  {
   "cell_type": "code",
   "execution_count": 27,
   "metadata": {},
   "outputs": [],
   "source": [
    "files <- Sys.glob(file.path(\"../cromwell-final-outputs\", \"*donor*bam.complex.bam_count.txt\"))"
   ]
  },
  {
   "cell_type": "code",
   "execution_count": 28,
   "metadata": {},
   "outputs": [
    {
     "data": {
      "text/html": [
       "<style>\n",
       ".list-inline {list-style: none; margin:0; padding: 0}\n",
       ".list-inline>li {display: inline-block}\n",
       ".list-inline>li:not(:last-child)::after {content: \"\\00b7\"; padding: 0 .5ex}\n",
       "</style>\n",
       "<ol class=list-inline><li>'../cromwell-final-outputs/reads-to-donor_MMd_MMr.bam.complex.bam_count.txt'</li><li>'../cromwell-final-outputs/reads-to-donor_MMd_MUr.bam.complex.bam_count.txt'</li><li>'../cromwell-final-outputs/reads-to-donor_MMd_UUr.bam.complex.bam_count.txt'</li><li>'../cromwell-final-outputs/reads-to-donor_MUd_MMr.bam.complex.bam_count.txt'</li><li>'../cromwell-final-outputs/reads-to-donor_MUd_UMr.bam.complex.bam_count.txt'</li><li>'../cromwell-final-outputs/reads-to-donor_MUd_UUr.bam.complex.bam_count.txt'</li><li>'../cromwell-final-outputs/reads-to-donor_UMd_MMr.bam.complex.bam_count.txt'</li><li>'../cromwell-final-outputs/reads-to-donor_UMd_MUr.bam.complex.bam_count.txt'</li><li>'../cromwell-final-outputs/reads-to-donor_UMd_UUr.bam.complex.bam_count.txt'</li><li>'../cromwell-final-outputs/reads-to-donor_UUd_MMr.bam.complex.bam_count.txt'</li><li>'../cromwell-final-outputs/reads-to-donor_UUd_MUr.bam.complex.bam_count.txt'</li><li>'../cromwell-final-outputs/reads-to-donor_UUd_UMr.bam.complex.bam_count.txt'</li><li>'../cromwell-final-outputs/reads-to-donor_UUd_UUr.bam.complex.bam_count.txt'</li></ol>\n"
      ],
      "text/latex": [
       "\\begin{enumerate*}\n",
       "\\item '../cromwell-final-outputs/reads-to-donor\\_MMd\\_MMr.bam.complex.bam\\_count.txt'\n",
       "\\item '../cromwell-final-outputs/reads-to-donor\\_MMd\\_MUr.bam.complex.bam\\_count.txt'\n",
       "\\item '../cromwell-final-outputs/reads-to-donor\\_MMd\\_UUr.bam.complex.bam\\_count.txt'\n",
       "\\item '../cromwell-final-outputs/reads-to-donor\\_MUd\\_MMr.bam.complex.bam\\_count.txt'\n",
       "\\item '../cromwell-final-outputs/reads-to-donor\\_MUd\\_UMr.bam.complex.bam\\_count.txt'\n",
       "\\item '../cromwell-final-outputs/reads-to-donor\\_MUd\\_UUr.bam.complex.bam\\_count.txt'\n",
       "\\item '../cromwell-final-outputs/reads-to-donor\\_UMd\\_MMr.bam.complex.bam\\_count.txt'\n",
       "\\item '../cromwell-final-outputs/reads-to-donor\\_UMd\\_MUr.bam.complex.bam\\_count.txt'\n",
       "\\item '../cromwell-final-outputs/reads-to-donor\\_UMd\\_UUr.bam.complex.bam\\_count.txt'\n",
       "\\item '../cromwell-final-outputs/reads-to-donor\\_UUd\\_MMr.bam.complex.bam\\_count.txt'\n",
       "\\item '../cromwell-final-outputs/reads-to-donor\\_UUd\\_MUr.bam.complex.bam\\_count.txt'\n",
       "\\item '../cromwell-final-outputs/reads-to-donor\\_UUd\\_UMr.bam.complex.bam\\_count.txt'\n",
       "\\item '../cromwell-final-outputs/reads-to-donor\\_UUd\\_UUr.bam.complex.bam\\_count.txt'\n",
       "\\end{enumerate*}\n"
      ],
      "text/markdown": [
       "1. '../cromwell-final-outputs/reads-to-donor_MMd_MMr.bam.complex.bam_count.txt'\n",
       "2. '../cromwell-final-outputs/reads-to-donor_MMd_MUr.bam.complex.bam_count.txt'\n",
       "3. '../cromwell-final-outputs/reads-to-donor_MMd_UUr.bam.complex.bam_count.txt'\n",
       "4. '../cromwell-final-outputs/reads-to-donor_MUd_MMr.bam.complex.bam_count.txt'\n",
       "5. '../cromwell-final-outputs/reads-to-donor_MUd_UMr.bam.complex.bam_count.txt'\n",
       "6. '../cromwell-final-outputs/reads-to-donor_MUd_UUr.bam.complex.bam_count.txt'\n",
       "7. '../cromwell-final-outputs/reads-to-donor_UMd_MMr.bam.complex.bam_count.txt'\n",
       "8. '../cromwell-final-outputs/reads-to-donor_UMd_MUr.bam.complex.bam_count.txt'\n",
       "9. '../cromwell-final-outputs/reads-to-donor_UMd_UUr.bam.complex.bam_count.txt'\n",
       "10. '../cromwell-final-outputs/reads-to-donor_UUd_MMr.bam.complex.bam_count.txt'\n",
       "11. '../cromwell-final-outputs/reads-to-donor_UUd_MUr.bam.complex.bam_count.txt'\n",
       "12. '../cromwell-final-outputs/reads-to-donor_UUd_UMr.bam.complex.bam_count.txt'\n",
       "13. '../cromwell-final-outputs/reads-to-donor_UUd_UUr.bam.complex.bam_count.txt'\n",
       "\n",
       "\n"
      ],
      "text/plain": [
       " [1] \"../cromwell-final-outputs/reads-to-donor_MMd_MMr.bam.complex.bam_count.txt\"\n",
       " [2] \"../cromwell-final-outputs/reads-to-donor_MMd_MUr.bam.complex.bam_count.txt\"\n",
       " [3] \"../cromwell-final-outputs/reads-to-donor_MMd_UUr.bam.complex.bam_count.txt\"\n",
       " [4] \"../cromwell-final-outputs/reads-to-donor_MUd_MMr.bam.complex.bam_count.txt\"\n",
       " [5] \"../cromwell-final-outputs/reads-to-donor_MUd_UMr.bam.complex.bam_count.txt\"\n",
       " [6] \"../cromwell-final-outputs/reads-to-donor_MUd_UUr.bam.complex.bam_count.txt\"\n",
       " [7] \"../cromwell-final-outputs/reads-to-donor_UMd_MMr.bam.complex.bam_count.txt\"\n",
       " [8] \"../cromwell-final-outputs/reads-to-donor_UMd_MUr.bam.complex.bam_count.txt\"\n",
       " [9] \"../cromwell-final-outputs/reads-to-donor_UMd_UUr.bam.complex.bam_count.txt\"\n",
       "[10] \"../cromwell-final-outputs/reads-to-donor_UUd_MMr.bam.complex.bam_count.txt\"\n",
       "[11] \"../cromwell-final-outputs/reads-to-donor_UUd_MUr.bam.complex.bam_count.txt\"\n",
       "[12] \"../cromwell-final-outputs/reads-to-donor_UUd_UMr.bam.complex.bam_count.txt\"\n",
       "[13] \"../cromwell-final-outputs/reads-to-donor_UUd_UUr.bam.complex.bam_count.txt\""
      ]
     },
     "metadata": {},
     "output_type": "display_data"
    }
   ],
   "source": [
    "files"
   ]
  },
  {
   "cell_type": "code",
   "execution_count": 50,
   "metadata": {},
   "outputs": [
    {
     "data": {
      "text/html": [
       "<table>\n",
       "<caption>A data.frame: 1 × 2</caption>\n",
       "<thead>\n",
       "\t<tr><th scope=col>filename</th><th scope=col>count</th></tr>\n",
       "\t<tr><th scope=col>&lt;fct&gt;</th><th scope=col>&lt;int&gt;</th></tr>\n",
       "</thead>\n",
       "<tbody>\n",
       "\t<tr><td>../cromwell-final-outputs/reads-to-donor_MMd_MMr.bam.complex.bam_count.txt</td><td>74380</td></tr>\n",
       "</tbody>\n",
       "</table>\n"
      ],
      "text/latex": [
       "A data.frame: 1 × 2\n",
       "\\begin{tabular}{ll}\n",
       " filename & count\\\\\n",
       " <fct> & <int>\\\\\n",
       "\\hline\n",
       "\t ../cromwell-final-outputs/reads-to-donor\\_MMd\\_MMr.bam.complex.bam\\_count.txt & 74380\\\\\n",
       "\\end{tabular}\n"
      ],
      "text/markdown": [
       "\n",
       "A data.frame: 1 × 2\n",
       "\n",
       "| filename &lt;fct&gt; | count &lt;int&gt; |\n",
       "|---|---|\n",
       "| ../cromwell-final-outputs/reads-to-donor_MMd_MMr.bam.complex.bam_count.txt | 74380 |\n",
       "\n"
      ],
      "text/plain": [
       "  filename                                                                  \n",
       "1 ../cromwell-final-outputs/reads-to-donor_MMd_MMr.bam.complex.bam_count.txt\n",
       "  count\n",
       "1 74380"
      ]
     },
     "metadata": {},
     "output_type": "display_data"
    }
   ],
   "source": [
    "all_reads_to_donor <- data.frame(files[1], \n",
    "                             read.delim(files[1], header=FALSE, sep=\" \"))\n",
    "colnames(all_reads_to_donor) <- c(\"filename\", \"count\")\n",
    "all_reads_to_donor"
   ]
  },
  {
   "cell_type": "code",
   "execution_count": 53,
   "metadata": {},
   "outputs": [
    {
     "data": {
      "text/html": [
       "<table>\n",
       "<caption>A data.frame: 13 × 2</caption>\n",
       "<thead>\n",
       "\t<tr><th scope=col>filename</th><th scope=col>count</th></tr>\n",
       "\t<tr><th scope=col>&lt;fct&gt;</th><th scope=col>&lt;int&gt;</th></tr>\n",
       "</thead>\n",
       "<tbody>\n",
       "\t<tr><td>../cromwell-final-outputs/reads-to-donor_MMd_MMr.bam.complex.bam_count.txt</td><td>   74380</td></tr>\n",
       "\t<tr><td>../cromwell-final-outputs/reads-to-donor_MMd_MUr.bam.complex.bam_count.txt</td><td>       2</td></tr>\n",
       "\t<tr><td>../cromwell-final-outputs/reads-to-donor_MMd_UUr.bam.complex.bam_count.txt</td><td>   29144</td></tr>\n",
       "\t<tr><td>../cromwell-final-outputs/reads-to-donor_MUd_MMr.bam.complex.bam_count.txt</td><td>     614</td></tr>\n",
       "\t<tr><td>../cromwell-final-outputs/reads-to-donor_MUd_UMr.bam.complex.bam_count.txt</td><td>      74</td></tr>\n",
       "\t<tr><td>../cromwell-final-outputs/reads-to-donor_MUd_UUr.bam.complex.bam_count.txt</td><td>    2838</td></tr>\n",
       "\t<tr><td>../cromwell-final-outputs/reads-to-donor_UMd_MMr.bam.complex.bam_count.txt</td><td>      14</td></tr>\n",
       "\t<tr><td>../cromwell-final-outputs/reads-to-donor_UMd_MUr.bam.complex.bam_count.txt</td><td>      36</td></tr>\n",
       "\t<tr><td>../cromwell-final-outputs/reads-to-donor_UMd_UUr.bam.complex.bam_count.txt</td><td>     650</td></tr>\n",
       "\t<tr><td>../cromwell-final-outputs/reads-to-donor_UUd_MMr.bam.complex.bam_count.txt</td><td>19489420</td></tr>\n",
       "\t<tr><td>../cromwell-final-outputs/reads-to-donor_UUd_MUr.bam.complex.bam_count.txt</td><td>     594</td></tr>\n",
       "\t<tr><td>../cromwell-final-outputs/reads-to-donor_UUd_UMr.bam.complex.bam_count.txt</td><td>     222</td></tr>\n",
       "\t<tr><td>../cromwell-final-outputs/reads-to-donor_UUd_UUr.bam.complex.bam_count.txt</td><td>   38962</td></tr>\n",
       "</tbody>\n",
       "</table>\n"
      ],
      "text/latex": [
       "A data.frame: 13 × 2\n",
       "\\begin{tabular}{ll}\n",
       " filename & count\\\\\n",
       " <fct> & <int>\\\\\n",
       "\\hline\n",
       "\t ../cromwell-final-outputs/reads-to-donor\\_MMd\\_MMr.bam.complex.bam\\_count.txt &    74380\\\\\n",
       "\t ../cromwell-final-outputs/reads-to-donor\\_MMd\\_MUr.bam.complex.bam\\_count.txt &        2\\\\\n",
       "\t ../cromwell-final-outputs/reads-to-donor\\_MMd\\_UUr.bam.complex.bam\\_count.txt &    29144\\\\\n",
       "\t ../cromwell-final-outputs/reads-to-donor\\_MUd\\_MMr.bam.complex.bam\\_count.txt &      614\\\\\n",
       "\t ../cromwell-final-outputs/reads-to-donor\\_MUd\\_UMr.bam.complex.bam\\_count.txt &       74\\\\\n",
       "\t ../cromwell-final-outputs/reads-to-donor\\_MUd\\_UUr.bam.complex.bam\\_count.txt &     2838\\\\\n",
       "\t ../cromwell-final-outputs/reads-to-donor\\_UMd\\_MMr.bam.complex.bam\\_count.txt &       14\\\\\n",
       "\t ../cromwell-final-outputs/reads-to-donor\\_UMd\\_MUr.bam.complex.bam\\_count.txt &       36\\\\\n",
       "\t ../cromwell-final-outputs/reads-to-donor\\_UMd\\_UUr.bam.complex.bam\\_count.txt &      650\\\\\n",
       "\t ../cromwell-final-outputs/reads-to-donor\\_UUd\\_MMr.bam.complex.bam\\_count.txt & 19489420\\\\\n",
       "\t ../cromwell-final-outputs/reads-to-donor\\_UUd\\_MUr.bam.complex.bam\\_count.txt &      594\\\\\n",
       "\t ../cromwell-final-outputs/reads-to-donor\\_UUd\\_UMr.bam.complex.bam\\_count.txt &      222\\\\\n",
       "\t ../cromwell-final-outputs/reads-to-donor\\_UUd\\_UUr.bam.complex.bam\\_count.txt &    38962\\\\\n",
       "\\end{tabular}\n"
      ],
      "text/markdown": [
       "\n",
       "A data.frame: 13 × 2\n",
       "\n",
       "| filename &lt;fct&gt; | count &lt;int&gt; |\n",
       "|---|---|\n",
       "| ../cromwell-final-outputs/reads-to-donor_MMd_MMr.bam.complex.bam_count.txt |    74380 |\n",
       "| ../cromwell-final-outputs/reads-to-donor_MMd_MUr.bam.complex.bam_count.txt |        2 |\n",
       "| ../cromwell-final-outputs/reads-to-donor_MMd_UUr.bam.complex.bam_count.txt |    29144 |\n",
       "| ../cromwell-final-outputs/reads-to-donor_MUd_MMr.bam.complex.bam_count.txt |      614 |\n",
       "| ../cromwell-final-outputs/reads-to-donor_MUd_UMr.bam.complex.bam_count.txt |       74 |\n",
       "| ../cromwell-final-outputs/reads-to-donor_MUd_UUr.bam.complex.bam_count.txt |     2838 |\n",
       "| ../cromwell-final-outputs/reads-to-donor_UMd_MMr.bam.complex.bam_count.txt |       14 |\n",
       "| ../cromwell-final-outputs/reads-to-donor_UMd_MUr.bam.complex.bam_count.txt |       36 |\n",
       "| ../cromwell-final-outputs/reads-to-donor_UMd_UUr.bam.complex.bam_count.txt |      650 |\n",
       "| ../cromwell-final-outputs/reads-to-donor_UUd_MMr.bam.complex.bam_count.txt | 19489420 |\n",
       "| ../cromwell-final-outputs/reads-to-donor_UUd_MUr.bam.complex.bam_count.txt |      594 |\n",
       "| ../cromwell-final-outputs/reads-to-donor_UUd_UMr.bam.complex.bam_count.txt |      222 |\n",
       "| ../cromwell-final-outputs/reads-to-donor_UUd_UUr.bam.complex.bam_count.txt |    38962 |\n",
       "\n"
      ],
      "text/plain": [
       "   filename                                                                  \n",
       "1  ../cromwell-final-outputs/reads-to-donor_MMd_MMr.bam.complex.bam_count.txt\n",
       "2  ../cromwell-final-outputs/reads-to-donor_MMd_MUr.bam.complex.bam_count.txt\n",
       "3  ../cromwell-final-outputs/reads-to-donor_MMd_UUr.bam.complex.bam_count.txt\n",
       "4  ../cromwell-final-outputs/reads-to-donor_MUd_MMr.bam.complex.bam_count.txt\n",
       "5  ../cromwell-final-outputs/reads-to-donor_MUd_UMr.bam.complex.bam_count.txt\n",
       "6  ../cromwell-final-outputs/reads-to-donor_MUd_UUr.bam.complex.bam_count.txt\n",
       "7  ../cromwell-final-outputs/reads-to-donor_UMd_MMr.bam.complex.bam_count.txt\n",
       "8  ../cromwell-final-outputs/reads-to-donor_UMd_MUr.bam.complex.bam_count.txt\n",
       "9  ../cromwell-final-outputs/reads-to-donor_UMd_UUr.bam.complex.bam_count.txt\n",
       "10 ../cromwell-final-outputs/reads-to-donor_UUd_MMr.bam.complex.bam_count.txt\n",
       "11 ../cromwell-final-outputs/reads-to-donor_UUd_MUr.bam.complex.bam_count.txt\n",
       "12 ../cromwell-final-outputs/reads-to-donor_UUd_UMr.bam.complex.bam_count.txt\n",
       "13 ../cromwell-final-outputs/reads-to-donor_UUd_UUr.bam.complex.bam_count.txt\n",
       "   count   \n",
       "1     74380\n",
       "2         2\n",
       "3     29144\n",
       "4       614\n",
       "5        74\n",
       "6      2838\n",
       "7        14\n",
       "8        36\n",
       "9       650\n",
       "10 19489420\n",
       "11      594\n",
       "12      222\n",
       "13    38962"
      ]
     },
     "metadata": {},
     "output_type": "display_data"
    }
   ],
   "source": [
    "all_reads_to_donor = df[FALSE,]\n",
    "for (f in files) {\n",
    "  reads_to_donor <- data.frame(f, \n",
    "                              read.delim(f, header=FALSE, sep=\" \"))\n",
    "  all_reads_to_donor <- rbind(all_reads_to_donor, reads_to_donor)\n",
    "}\n",
    "colnames(all_reads_to_donor) <- c(\"filename\", \"count\")\n",
    "all_reads_to_donor"
   ]
  },
  {
   "cell_type": "code",
   "execution_count": 54,
   "metadata": {},
   "outputs": [],
   "source": [
    "string <- c(\"G1:E001\", \"G2:E002\", \"G3:E003\")"
   ]
  },
  {
   "cell_type": "code",
   "execution_count": 64,
   "metadata": {},
   "outputs": [
    {
     "data": {
      "text/html": [
       "<style>\n",
       ".list-inline {list-style: none; margin:0; padding: 0}\n",
       ".list-inline>li {display: inline-block}\n",
       ".list-inline>li:not(:last-child)::after {content: \"\\00b7\"; padding: 0 .5ex}\n",
       "</style>\n",
       "<ol class=list-inline><li>'E001'</li><li>'E002'</li><li>'E003'</li></ol>\n"
      ],
      "text/latex": [
       "\\begin{enumerate*}\n",
       "\\item 'E001'\n",
       "\\item 'E002'\n",
       "\\item 'E003'\n",
       "\\end{enumerate*}\n"
      ],
      "text/markdown": [
       "1. 'E001'\n",
       "2. 'E002'\n",
       "3. 'E003'\n",
       "\n",
       "\n"
      ],
      "text/plain": [
       "[1] \"E001\" \"E002\" \"E003\""
      ]
     },
     "metadata": {},
     "output_type": "display_data"
    }
   ],
   "source": [
    "sub(\".*:\", \"\", string)"
   ]
  },
  {
   "cell_type": "code",
   "execution_count": 65,
   "metadata": {},
   "outputs": [
    {
     "data": {
      "text/html": [
       "<style>\n",
       ".list-inline {list-style: none; margin:0; padding: 0}\n",
       ".list-inline>li {display: inline-block}\n",
       ".list-inline>li:not(:last-child)::after {content: \"\\00b7\"; padding: 0 .5ex}\n",
       "</style>\n",
       "<ol class=list-inline><li>'G1:E001'</li><li>'G2:E002'</li><li>'G3:E003'</li></ol>\n"
      ],
      "text/latex": [
       "\\begin{enumerate*}\n",
       "\\item 'G1:E001'\n",
       "\\item 'G2:E002'\n",
       "\\item 'G3:E003'\n",
       "\\end{enumerate*}\n"
      ],
      "text/markdown": [
       "1. 'G1:E001'\n",
       "2. 'G2:E002'\n",
       "3. 'G3:E003'\n",
       "\n",
       "\n"
      ],
      "text/plain": [
       "[1] \"G1:E001\" \"G2:E002\" \"G3:E003\""
      ]
     },
     "metadata": {},
     "output_type": "display_data"
    }
   ],
   "source": [
    "string"
   ]
  },
  {
   "cell_type": "code",
   "execution_count": null,
   "metadata": {},
   "outputs": [],
   "source": []
  }
 ],
 "metadata": {
  "kernelspec": {
   "display_name": "R",
   "language": "R",
   "name": "ir"
  },
  "language_info": {
   "codemirror_mode": "r",
   "file_extension": ".r",
   "mimetype": "text/x-r-source",
   "name": "R",
   "pygments_lexer": "r",
   "version": "3.6.3"
  }
 },
 "nbformat": 4,
 "nbformat_minor": 4
}
