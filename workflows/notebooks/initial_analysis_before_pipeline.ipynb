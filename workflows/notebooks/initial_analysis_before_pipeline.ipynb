{
 "cells": [
  {
   "cell_type": "markdown",
   "metadata": {},
   "source": [
    "## Ran beforehand - Separately - In docker containers"
   ]
  },
  {
   "cell_type": "code",
   "execution_count": null,
   "metadata": {},
   "outputs": [],
   "source": [
    "# Download data from SRA\n",
    "sudo docker run -it --rm -v \"/home/daniel/genomics/pipelines/lgtsearch/data/:/tmp/\" dformoso/sratoolkit \n",
    "fasterq-dump --split-files SRR5377828\n",
    "\n",
    "\n",
    "#####################################\n",
    "###### PSEUDOMONAS FLUORESCENS ######\n",
    "#####################################\n",
    "# Use BWA to align reads\n",
    "sudo docker run -it --rm -v \"/home/daniel/genomics/pipelines/lgtsearch/data:/tmp/\" dformoso/bwa \n",
    "bwa index ref_genomes/pseudomonas_fluorescens_SBW25.fasta\n",
    "bwa mem -t 24 \\\n",
    "    ref_genomes/pseudomonas_fluorescens_SBW25.fasta \\\n",
    "    SRR5377828/SRR5377828_1.fastq \\\n",
    "    SRR5377828/SRR5377828_2.fastq > \\\n",
    "    alignments/SRR5377828-pseudomonas_fluorescens_SBW25.sam\n",
    "\n",
    "# SAM to BAM conversion and indexing\n",
    "sudo docker run -it --rm -v \"/home/daniel/genomics/pipelines/lgtsearch/data/:/tmp/\" dformoso/samtools \n",
    "samtools view -@ 24 -b -S alignments/SRR5377828-pseudomonas_fluorescens_SBW25.sam > alignments/SRR5377828-pseudomonas_fluorescens_SBW25.bam\n",
    "samtools sort -@ 24 alignments/SRR5377828-pseudomonas_fluorescens_SBW25.bam -o alignments/SRR5377828-pseudomonas_fluorescens_SBW25-sorted.bam\n",
    "samtools index -@ 24 alignments/SRR5377828-pseudomonas_fluorescens_SBW25-sorted.bam\n",
    "\n",
    "#####################################\n",
    "###### PSEUDOMONAS AERUGINOSA #######\n",
    "#####################################\n",
    "# Use BWA to align reads\n",
    "sudo docker run -it --rm -v \"/home/daniel/genomics/pipelines/lgtsearch/data:/tmp/\" dformoso/bwa \n",
    "bwa index ref_genomes/pseudomonas_aeruginosa_pao1.fasta\n",
    "bwa mem -t 24 \\\n",
    "    ref_genomes/pseudomonas_aeruginosa_pao1.fasta \\\n",
    "    SRR5377828/SRR5377828_1.fastq \\\n",
    "    SRR5377828/SRR5377828_2.fastq > \\\n",
    "    alignments/SRR5377828-pseudomonas_aeruginosa_pao1.sam\n",
    "\n",
    "# SAM to BAM conversion and indexing\n",
    "sudo docker run -it --rm -v \"/home/daniel/genomics/pipelines/lgtsearch/data/:/tmp/\" dformoso/samtools \n",
    "samtools view -@ 24 -b -S alignments/SRR5377828-pseudomonas_aeruginosa_pao1.sam > alignments/SRR5377828-pseudomonas_aeruginosa_pao1.bam\n",
    "samtools sort -@ 24 alignments/SRR5377828-pseudomonas_aeruginosa_pao1.bam -o alignments/SRR5377828-pseudomonas_aeruginosa_pao1-sorted.bam\n",
    "samtools index -@ 24 alignments/SRR5377828-pseudomonas_aeruginosa_pao1-sorted.bam\n",
    "\n",
    "#########################\n",
    "###### GRCh37_hg19 ######\n",
    "#########################\n",
    "# Use BWA to align reads\n",
    "sudo docker run -it --rm -v \"/home/daniel/genomics/pipelines/lgtsearch/data:/tmp/\" dformoso/bwa \n",
    "bwa index ref_genomes/GRCh37_hg19.fasta\n",
    "\n",
    "bwa mem -t 24 \\\n",
    "    ref_genomes/GRCh37_hg19.fasta \\\n",
    "    SRR5377828/SRR5377828_1.fastq \\\n",
    "    SRR5377828/SRR5377828_2.fastq > \\\n",
    "    alignments/SRR5377828-GRCh37_hg19.sam\n",
    "\n",
    "# SAM to BAM conversion and indexing\n",
    "sudo docker run -it --rm -v \"/home/daniel/genomics/pipelines/lgtsearch/data/:/tmp/\" dformoso/samtools \n",
    "samtools view -@ 24 -b -S alignments/SRR5377828-GRCh37_hg19.sam > alignments/SRR5377828-GRCh37_hg19.bam\n",
    "samtools sort -@ 24 alignments/SRR5377828-GRCh37_hg19.bam -o alignments/SRR5377828-GRCh37_hg19-sorted.bam\n",
    "samtools index -@ 24 alignments/SRR5377828-GRCh37_hg19-sorted.bam\n",
    "\n",
    "\n",
    "#########################\n",
    "####### GRCh38_p13 ######\n",
    "#########################\n",
    "# Use BWA to align reads\n",
    "sudo docker run -it --rm -v \"/home/daniel/genomics/pipelines/lgtsearch/data:/tmp/\" dformoso/bwa \n",
    "bwa index ref_genomes/GRCh38_p13.fasta\n",
    "\n",
    "bwa mem -t 24 \\\n",
    "    ref_genomes/GRCh38_p13.fasta \\\n",
    "    SRR5377828/SRR5377828_1.fastq \\\n",
    "    SRR5377828/SRR5377828_2.fastq > \\\n",
    "    alignments/SRR5377828-GRCh38_p13.sam\n",
    "\n",
    "# SAM to BAM conversion and indexing\n",
    "sudo docker run -it --rm -v \"/home/daniel/genomics/pipelines/lgtsearch/data/:/tmp/\" dformoso/samtools \n",
    "samtools view -@ 24 -b -S alignments/SRR5377828-GRCh38_p13.sam > alignments/SRR5377828-GRCh38_p13.bam\n",
    "samtools sort -@ 24 alignments/SRR5377828-GRCh38_p13.bam -o alignments/SRR5377828-GRCh38_p13-sorted.bam\n",
    "samtools index -@ 24 alignments/SRR5377828-GRCh38_p13-sorted.bam"
   ]
  },
  {
   "cell_type": "markdown",
   "metadata": {},
   "source": [
    "## Install Utilities"
   ]
  },
  {
   "cell_type": "code",
   "execution_count": 1,
   "metadata": {},
   "outputs": [
    {
     "name": "stdout",
     "output_type": "stream",
     "text": [
      "Get:1 http://security.ubuntu.com/ubuntu bionic-security InRelease [88.7 kB]\n",
      "Get:2 http://archive.ubuntu.com/ubuntu bionic InRelease [242 kB]\n",
      "Get:3 http://security.ubuntu.com/ubuntu bionic-security/multiverse amd64 Packages [8,815 B]\n",
      "Get:4 http://security.ubuntu.com/ubuntu bionic-security/main amd64 Packages [931 kB]\n",
      "Get:5 http://archive.ubuntu.com/ubuntu bionic-updates InRelease [88.7 kB]\n",
      "Get:6 http://archive.ubuntu.com/ubuntu bionic-backports InRelease [74.6 kB]\n",
      "Get:7 http://archive.ubuntu.com/ubuntu bionic/multiverse amd64 Packages [186 kB]\n",
      "Get:8 http://security.ubuntu.com/ubuntu bionic-security/restricted amd64 Packages [59.3 kB]\n",
      "Get:9 http://archive.ubuntu.com/ubuntu bionic/restricted amd64 Packages [13.5 kB]\n",
      "Get:10 http://security.ubuntu.com/ubuntu bionic-security/universe amd64 Packages [854 kB]\n",
      "Get:11 http://archive.ubuntu.com/ubuntu bionic/universe amd64 Packages [11.3 MB]\n",
      "Get:12 http://archive.ubuntu.com/ubuntu bionic/main amd64 Packages [1,344 kB]\n",
      "Get:13 http://archive.ubuntu.com/ubuntu bionic-updates/restricted amd64 Packages [73.6 kB]\n",
      "Get:14 http://archive.ubuntu.com/ubuntu bionic-updates/multiverse amd64 Packages [20.1 kB]\n",
      "Get:15 http://archive.ubuntu.com/ubuntu bionic-updates/universe amd64 Packages [1,385 kB]\n",
      "Get:16 http://archive.ubuntu.com/ubuntu bionic-updates/main amd64 Packages [1,228 kB]\n",
      "Get:17 http://archive.ubuntu.com/ubuntu bionic-backports/main amd64 Packages [8,286 B]\n",
      "Get:18 http://archive.ubuntu.com/ubuntu bionic-backports/universe amd64 Packages [8,158 B]\n",
      "Fetched 18.0 MB in 6s (2,822 kB/s)\n",
      "Reading package lists...\n"
     ]
    }
   ],
   "source": [
    "!sudo apt-get update -y --quiet"
   ]
  },
  {
   "cell_type": "code",
   "execution_count": 2,
   "metadata": {},
   "outputs": [
    {
     "name": "stdout",
     "output_type": "stream",
     "text": [
      "Reading package lists...\n",
      "Building dependency tree...\n",
      "Reading state information...\n",
      "The following additional packages will be installed:\n",
      "  cwltool libc-ares2 libcurl4 libhts2 libhttp-parser2.7.1 libjs-bootstrap\n",
      "  libssl1.0.0 libuv1 nodejs nodejs-doc python-asn1crypto python-avro\n",
      "  python-cachecontrol python-certifi python-cffi-backend python-chardet\n",
      "  python-cryptography python-enum34 python-html5lib python-idna\n",
      "  python-ipaddress python-isodate python-lockfile python-mistune\n",
      "  python-openssl python-pkg-resources python-pyparsing python-rdflib\n",
      "  python-rdflib-jsonld python-requests python-ruamel.yaml python-schema-salad\n",
      "  python-shellescape python-six python-sparqlwrapper python-typing\n",
      "  python-urllib3 python-webencodings\n",
      "Suggested packages:\n",
      "  libcurl4-doc libidn11-dev libkrb5-dev libldap2-dev librtmp-dev libssh2-1-dev\n",
      "  libssl-dev pkg-config python-cryptography-doc python-cryptography-vectors\n",
      "  python-enum34-doc python-genshi python-lxml python-lockfile-doc\n",
      "  python-openssl-doc python-openssl-dbg python-setuptools python-pyparsing-doc\n",
      "  python-rdflib-doc python-rdflib-tools python-socks python-ntlm\n",
      "The following NEW packages will be installed:\n",
      "  cwltool libc-ares2 libcurl4 libcurl4-openssl-dev libhts2 libhttp-parser2.7.1\n",
      "  libjs-bootstrap libssl1.0.0 libuv1 nodejs nodejs-doc python-asn1crypto\n",
      "  python-avro python-cachecontrol python-certifi python-cffi-backend\n",
      "  python-chardet python-cryptography python-enum34 python-html5lib python-idna\n",
      "  python-ipaddress python-isodate python-lockfile python-mistune\n",
      "  python-openssl python-pkg-resources python-pyparsing python-rdflib\n",
      "  python-rdflib-jsonld python-requests python-ruamel.yaml python-schema-salad\n",
      "  python-shellescape python-six python-sparqlwrapper python-typing\n",
      "  python-urllib3 python-webencodings samtools tree zlib1g-dev\n",
      "0 upgraded, 42 newly installed, 0 to remove and 6 not upgraded.\n",
      "Need to get 10.4 MB of archives.\n",
      "After this operation, 47.1 MB of additional disk space will be used.\n",
      "Get:1 http://archive.ubuntu.com/ubuntu bionic-updates/main amd64 libssl1.0.0 amd64 1.0.2n-1ubuntu5.3 [1,088 kB]\n",
      "Get:2 http://archive.ubuntu.com/ubuntu bionic/main amd64 python-pkg-resources all 39.0.1-2 [128 kB]\n",
      "Get:3 http://archive.ubuntu.com/ubuntu bionic/main amd64 python-six all 1.11.0-2 [11.3 kB]\n",
      "Get:4 http://archive.ubuntu.com/ubuntu bionic/universe amd64 python-isodate all 0.6.0-1 [23.8 kB]\n",
      "Get:5 http://archive.ubuntu.com/ubuntu bionic/main amd64 python-pyparsing all 2.2.0+dfsg1-2 [52.1 kB]\n",
      "Get:6 http://archive.ubuntu.com/ubuntu bionic/universe amd64 python-rdflib all 4.2.1-2 [237 kB]\n",
      "Get:7 http://archive.ubuntu.com/ubuntu bionic/main amd64 python-certifi all 2018.1.18-2 [144 kB]\n",
      "Get:8 http://archive.ubuntu.com/ubuntu bionic/main amd64 python-chardet all 3.0.4-1 [80.3 kB]\n",
      "Get:9 http://archive.ubuntu.com/ubuntu bionic/main amd64 python-idna all 2.6-1 [32.4 kB]\n",
      "Get:10 http://archive.ubuntu.com/ubuntu bionic-updates/main amd64 python-urllib3 all 1.22-1ubuntu0.18.04.1 [85.9 kB]\n",
      "Get:11 http://archive.ubuntu.com/ubuntu bionic-updates/main amd64 python-requests all 2.18.4-2ubuntu0.1 [58.5 kB]\n",
      "Get:12 http://archive.ubuntu.com/ubuntu bionic/universe amd64 python-ruamel.yaml amd64 0.15.34-1 [183 kB]\n",
      "Get:13 http://archive.ubuntu.com/ubuntu bionic/universe amd64 python-cachecontrol all 0.11.7-1 [15.2 kB]\n",
      "Get:14 http://archive.ubuntu.com/ubuntu bionic/main amd64 python-lockfile all 1:0.12.2-2 [14.6 kB]\n",
      "Get:15 http://archive.ubuntu.com/ubuntu bionic/universe amd64 python-mistune all 0.8.3-2 [13.8 kB]\n",
      "Get:16 http://archive.ubuntu.com/ubuntu bionic/universe amd64 python-rdflib-jsonld all 0.4.0-3 [12.2 kB]\n",
      "Get:17 http://archive.ubuntu.com/ubuntu bionic/universe amd64 python-typing all 3.6.2-1 [22.2 kB]\n",
      "Get:18 http://archive.ubuntu.com/ubuntu bionic/universe amd64 python-avro all 1.8.2+dfsg-1 [23.2 kB]\n",
      "Get:19 http://archive.ubuntu.com/ubuntu bionic/universe amd64 libjs-bootstrap all 3.3.7+dfsg-2 [228 kB]\n",
      "Get:20 http://archive.ubuntu.com/ubuntu bionic/universe amd64 python-schema-salad all 2.6.20171201034858-3 [260 kB]\n",
      "Get:21 http://archive.ubuntu.com/ubuntu bionic/universe amd64 python-shellescape all 3.4.1-2 [4,432 B]\n",
      "Get:22 http://archive.ubuntu.com/ubuntu bionic/universe amd64 cwltool all 1.0.20180302231433-1 [143 kB]\n",
      "Get:23 http://archive.ubuntu.com/ubuntu bionic-updates/main amd64 libcurl4 amd64 7.58.0-2ubuntu3.8 [214 kB]\n",
      "Get:24 http://archive.ubuntu.com/ubuntu bionic-updates/main amd64 libcurl4-openssl-dev amd64 7.58.0-2ubuntu3.8 [294 kB]\n",
      "Get:25 http://archive.ubuntu.com/ubuntu bionic/universe amd64 libhts2 amd64 1.7-2 [300 kB]\n",
      "Get:26 http://archive.ubuntu.com/ubuntu bionic/main amd64 libuv1 amd64 1.18.0-3 [64.4 kB]\n",
      "Get:27 http://archive.ubuntu.com/ubuntu bionic-updates/universe amd64 nodejs-doc all 8.10.0~dfsg-2ubuntu0.4 [752 kB]\n",
      "Get:28 http://archive.ubuntu.com/ubuntu bionic/main amd64 python-asn1crypto all 0.24.0-1 [72.7 kB]\n",
      "Get:29 http://archive.ubuntu.com/ubuntu bionic/main amd64 python-cffi-backend amd64 1.11.5-1 [63.4 kB]\n",
      "Get:30 http://archive.ubuntu.com/ubuntu bionic/main amd64 python-enum34 all 1.1.6-2 [34.8 kB]\n",
      "Get:31 http://archive.ubuntu.com/ubuntu bionic/main amd64 python-ipaddress all 1.0.17-1 [18.2 kB]\n",
      "Get:32 http://archive.ubuntu.com/ubuntu bionic-updates/main amd64 python-cryptography amd64 2.1.4-1ubuntu1.3 [221 kB]\n",
      "Get:33 http://archive.ubuntu.com/ubuntu bionic/main amd64 python-webencodings all 0.5-2 [10.3 kB]\n",
      "Get:34 http://archive.ubuntu.com/ubuntu bionic/main amd64 python-html5lib all 0.999999999-1 [83.6 kB]\n",
      "Get:35 http://archive.ubuntu.com/ubuntu bionic/main amd64 python-openssl all 17.5.0-1ubuntu1 [41.3 kB]\n",
      "Get:36 http://archive.ubuntu.com/ubuntu bionic/universe amd64 python-sparqlwrapper all 1.7.6-2 [21.8 kB]\n",
      "Get:37 http://archive.ubuntu.com/ubuntu bionic/universe amd64 samtools amd64 1.7-1 [288 kB]\n",
      "Get:38 http://archive.ubuntu.com/ubuntu bionic/universe amd64 tree amd64 1.7.0-5 [40.7 kB]\n",
      "Get:39 http://archive.ubuntu.com/ubuntu bionic/main amd64 zlib1g-dev amd64 1:1.2.11.dfsg-0ubuntu2 [176 kB]\n",
      "Get:40 http://archive.ubuntu.com/ubuntu bionic/main amd64 libc-ares2 amd64 1.14.0-1 [37.1 kB]\n",
      "Get:41 http://archive.ubuntu.com/ubuntu bionic/main amd64 libhttp-parser2.7.1 amd64 2.7.1-2 [20.6 kB]\n",
      "Get:42 http://archive.ubuntu.com/ubuntu bionic-updates/universe amd64 nodejs amd64 8.10.0~dfsg-2ubuntu0.4 [4,796 kB]\n",
      "Fetched 10.4 MB in 7s (1,557 kB/s)\n",
      "debconf: delaying package configuration, since apt-utils is not installed\n",
      "Selecting previously unselected package libssl1.0.0:amd64.\n",
      "(Reading database ... 118533 files and directories currently installed.)\n",
      "Preparing to unpack .../00-libssl1.0.0_1.0.2n-1ubuntu5.3_amd64.deb ...\n",
      "Unpacking libssl1.0.0:amd64 (1.0.2n-1ubuntu5.3) ...\n",
      "Selecting previously unselected package python-pkg-resources.\n",
      "Preparing to unpack .../01-python-pkg-resources_39.0.1-2_all.deb ...\n",
      "Unpacking python-pkg-resources (39.0.1-2) ...\n",
      "Selecting previously unselected package python-six.\n",
      "Preparing to unpack .../02-python-six_1.11.0-2_all.deb ...\n",
      "Unpacking python-six (1.11.0-2) ...\n",
      "Selecting previously unselected package python-isodate.\n",
      "Preparing to unpack .../03-python-isodate_0.6.0-1_all.deb ...\n",
      "Unpacking python-isodate (0.6.0-1) ...\n",
      "Selecting previously unselected package python-pyparsing.\n",
      "Preparing to unpack .../04-python-pyparsing_2.2.0+dfsg1-2_all.deb ...\n",
      "Unpacking python-pyparsing (2.2.0+dfsg1-2) ...\n",
      "Selecting previously unselected package python-rdflib.\n",
      "Preparing to unpack .../05-python-rdflib_4.2.1-2_all.deb ...\n",
      "Unpacking python-rdflib (4.2.1-2) ...\n",
      "Selecting previously unselected package python-certifi.\n",
      "Preparing to unpack .../06-python-certifi_2018.1.18-2_all.deb ...\n",
      "Unpacking python-certifi (2018.1.18-2) ...\n",
      "Selecting previously unselected package python-chardet.\n",
      "Preparing to unpack .../07-python-chardet_3.0.4-1_all.deb ...\n",
      "Unpacking python-chardet (3.0.4-1) ...\n",
      "Selecting previously unselected package python-idna.\n",
      "Preparing to unpack .../08-python-idna_2.6-1_all.deb ...\n",
      "Unpacking python-idna (2.6-1) ...\n",
      "Selecting previously unselected package python-urllib3.\n",
      "Preparing to unpack .../09-python-urllib3_1.22-1ubuntu0.18.04.1_all.deb ...\n",
      "Unpacking python-urllib3 (1.22-1ubuntu0.18.04.1) ...\n",
      "Selecting previously unselected package python-requests.\n",
      "Preparing to unpack .../10-python-requests_2.18.4-2ubuntu0.1_all.deb ...\n",
      "Unpacking python-requests (2.18.4-2ubuntu0.1) ...\n",
      "Selecting previously unselected package python-ruamel.yaml.\n",
      "Preparing to unpack .../11-python-ruamel.yaml_0.15.34-1_amd64.deb ...\n",
      "Unpacking python-ruamel.yaml (0.15.34-1) ...\n",
      "Selecting previously unselected package python-cachecontrol.\n",
      "Preparing to unpack .../12-python-cachecontrol_0.11.7-1_all.deb ...\n",
      "Unpacking python-cachecontrol (0.11.7-1) ...\n",
      "Selecting previously unselected package python-lockfile.\n",
      "Preparing to unpack .../13-python-lockfile_1%3a0.12.2-2_all.deb ...\n",
      "Unpacking python-lockfile (1:0.12.2-2) ...\n",
      "Selecting previously unselected package python-mistune.\n",
      "Preparing to unpack .../14-python-mistune_0.8.3-2_all.deb ...\n",
      "Unpacking python-mistune (0.8.3-2) ...\n",
      "Selecting previously unselected package python-rdflib-jsonld.\n",
      "Preparing to unpack .../15-python-rdflib-jsonld_0.4.0-3_all.deb ...\n",
      "Unpacking python-rdflib-jsonld (0.4.0-3) ...\n",
      "Selecting previously unselected package python-typing.\n",
      "Preparing to unpack .../16-python-typing_3.6.2-1_all.deb ...\n",
      "Unpacking python-typing (3.6.2-1) ...\n",
      "Selecting previously unselected package python-avro.\n",
      "Preparing to unpack .../17-python-avro_1.8.2+dfsg-1_all.deb ...\n",
      "Unpacking python-avro (1.8.2+dfsg-1) ...\n",
      "Selecting previously unselected package libjs-bootstrap.\n",
      "Preparing to unpack .../18-libjs-bootstrap_3.3.7+dfsg-2_all.deb ...\n",
      "Unpacking libjs-bootstrap (3.3.7+dfsg-2) ...\n",
      "Selecting previously unselected package python-schema-salad.\n",
      "Preparing to unpack .../19-python-schema-salad_2.6.20171201034858-3_all.deb ...\n",
      "Unpacking python-schema-salad (2.6.20171201034858-3) ...\n",
      "Selecting previously unselected package python-shellescape.\n",
      "Preparing to unpack .../20-python-shellescape_3.4.1-2_all.deb ...\n",
      "Unpacking python-shellescape (3.4.1-2) ...\n",
      "Selecting previously unselected package cwltool.\n",
      "Preparing to unpack .../21-cwltool_1.0.20180302231433-1_all.deb ...\n",
      "Unpacking cwltool (1.0.20180302231433-1) ...\n",
      "Selecting previously unselected package libcurl4:amd64.\n",
      "Preparing to unpack .../22-libcurl4_7.58.0-2ubuntu3.8_amd64.deb ...\n",
      "Unpacking libcurl4:amd64 (7.58.0-2ubuntu3.8) ...\n",
      "Selecting previously unselected package libcurl4-openssl-dev:amd64.\n",
      "Preparing to unpack .../23-libcurl4-openssl-dev_7.58.0-2ubuntu3.8_amd64.deb ...\n",
      "Unpacking libcurl4-openssl-dev:amd64 (7.58.0-2ubuntu3.8) ...\n",
      "Selecting previously unselected package libhts2:amd64.\n",
      "Preparing to unpack .../24-libhts2_1.7-2_amd64.deb ...\n",
      "Unpacking libhts2:amd64 (1.7-2) ...\n",
      "Selecting previously unselected package libuv1:amd64.\n",
      "Preparing to unpack .../25-libuv1_1.18.0-3_amd64.deb ...\n",
      "Unpacking libuv1:amd64 (1.18.0-3) ...\n",
      "Selecting previously unselected package nodejs-doc.\n",
      "Preparing to unpack .../26-nodejs-doc_8.10.0~dfsg-2ubuntu0.4_all.deb ...\n",
      "Unpacking nodejs-doc (8.10.0~dfsg-2ubuntu0.4) ...\n",
      "Selecting previously unselected package python-asn1crypto.\n",
      "Preparing to unpack .../27-python-asn1crypto_0.24.0-1_all.deb ...\n",
      "Unpacking python-asn1crypto (0.24.0-1) ...\n",
      "Selecting previously unselected package python-cffi-backend.\n",
      "Preparing to unpack .../28-python-cffi-backend_1.11.5-1_amd64.deb ...\n",
      "Unpacking python-cffi-backend (1.11.5-1) ...\n",
      "Selecting previously unselected package python-enum34.\n",
      "Preparing to unpack .../29-python-enum34_1.1.6-2_all.deb ...\n",
      "Unpacking python-enum34 (1.1.6-2) ...\n",
      "Selecting previously unselected package python-ipaddress.\n",
      "Preparing to unpack .../30-python-ipaddress_1.0.17-1_all.deb ...\n",
      "Unpacking python-ipaddress (1.0.17-1) ...\n",
      "Selecting previously unselected package python-cryptography.\n",
      "Preparing to unpack .../31-python-cryptography_2.1.4-1ubuntu1.3_amd64.deb ...\n",
      "Unpacking python-cryptography (2.1.4-1ubuntu1.3) ...\n",
      "Selecting previously unselected package python-webencodings.\n",
      "Preparing to unpack .../32-python-webencodings_0.5-2_all.deb ...\n",
      "Unpacking python-webencodings (0.5-2) ...\n",
      "Selecting previously unselected package python-html5lib.\n",
      "Preparing to unpack .../33-python-html5lib_0.999999999-1_all.deb ...\n",
      "Unpacking python-html5lib (0.999999999-1) ...\n",
      "Selecting previously unselected package python-openssl.\n",
      "Preparing to unpack .../34-python-openssl_17.5.0-1ubuntu1_all.deb ...\n",
      "Unpacking python-openssl (17.5.0-1ubuntu1) ...\n",
      "Selecting previously unselected package python-sparqlwrapper.\n",
      "Preparing to unpack .../35-python-sparqlwrapper_1.7.6-2_all.deb ...\n",
      "Unpacking python-sparqlwrapper (1.7.6-2) ...\n",
      "Selecting previously unselected package samtools.\n",
      "Preparing to unpack .../36-samtools_1.7-1_amd64.deb ...\n",
      "Unpacking samtools (1.7-1) ...\n",
      "Selecting previously unselected package tree.\n",
      "Preparing to unpack .../37-tree_1.7.0-5_amd64.deb ...\n",
      "Unpacking tree (1.7.0-5) ...\n",
      "Selecting previously unselected package zlib1g-dev:amd64.\n",
      "Preparing to unpack .../38-zlib1g-dev_1%3a1.2.11.dfsg-0ubuntu2_amd64.deb ...\n",
      "Unpacking zlib1g-dev:amd64 (1:1.2.11.dfsg-0ubuntu2) ...\n",
      "Selecting previously unselected package libc-ares2:amd64.\n",
      "Preparing to unpack .../39-libc-ares2_1.14.0-1_amd64.deb ...\n",
      "Unpacking libc-ares2:amd64 (1.14.0-1) ...\n",
      "Selecting previously unselected package libhttp-parser2.7.1:amd64.\n",
      "Preparing to unpack .../40-libhttp-parser2.7.1_2.7.1-2_amd64.deb ...\n",
      "Unpacking libhttp-parser2.7.1:amd64 (2.7.1-2) ...\n",
      "Selecting previously unselected package nodejs.\n",
      "Preparing to unpack .../41-nodejs_8.10.0~dfsg-2ubuntu0.4_amd64.deb ...\n",
      "Unpacking nodejs (8.10.0~dfsg-2ubuntu0.4) ...\n",
      "Setting up python-idna (2.6-1) ...\n",
      "Setting up tree (1.7.0-5) ...\n",
      "Setting up nodejs-doc (8.10.0~dfsg-2ubuntu0.4) ...\n",
      "Setting up libhttp-parser2.7.1:amd64 (2.7.1-2) ...\n",
      "Setting up python-asn1crypto (0.24.0-1) ...\n",
      "Setting up libssl1.0.0:amd64 (1.0.2n-1ubuntu5.3) ...\n",
      "debconf: unable to initialize frontend: Dialog\n",
      "debconf: (No usable dialog-like program is installed, so the dialog based frontend cannot be used. at /usr/share/perl5/Debconf/FrontEnd/Dialog.pm line 76.)\n",
      "debconf: falling back to frontend: Readline\n",
      "Setting up libuv1:amd64 (1.18.0-3) ...\n",
      "Setting up libcurl4:amd64 (7.58.0-2ubuntu3.8) ...\n",
      "Setting up python-mistune (0.8.3-2) ...\n",
      "Setting up python-certifi (2018.1.18-2) ...\n",
      "Setting up python-avro (1.8.2+dfsg-1) ...\n",
      "Setting up python-pkg-resources (39.0.1-2) ...\n",
      "Setting up python-ruamel.yaml (0.15.34-1) ...\n",
      "Setting up python-cffi-backend (1.11.5-1) ...\n",
      "Setting up python-six (1.11.0-2) ...\n",
      "Setting up python-isodate (0.6.0-1) ...\n",
      "Setting up python-shellescape (3.4.1-2) ...\n",
      "Setting up python-enum34 (1.1.6-2) ...\n",
      "Setting up libjs-bootstrap (3.3.7+dfsg-2) ...\n",
      "Setting up python-lockfile (1:0.12.2-2) ...\n",
      "Setting up python-ipaddress (1.0.17-1) ...\n",
      "Setting up libc-ares2:amd64 (1.14.0-1) ...\n",
      "Setting up libhts2:amd64 (1.7-2) ...\n",
      "Setting up python-webencodings (0.5-2) ...\n",
      "Setting up libcurl4-openssl-dev:amd64 (7.58.0-2ubuntu3.8) ...\n",
      "Setting up python-typing (3.6.2-1) ...\n",
      "Setting up zlib1g-dev:amd64 (1:1.2.11.dfsg-0ubuntu2) ...\n",
      "Setting up python-pyparsing (2.2.0+dfsg1-2) ...\n",
      "Setting up python-urllib3 (1.22-1ubuntu0.18.04.1) ...\n",
      "Setting up python-chardet (3.0.4-1) ...\n",
      "Setting up nodejs (8.10.0~dfsg-2ubuntu0.4) ...\n",
      "update-alternatives: using /usr/bin/nodejs to provide /usr/bin/js (js) in auto mode\n",
      "update-alternatives: warning: skip creation of /usr/share/man/man1/js.1.gz because associated file /usr/share/man/man1/nodejs.1.gz (of link group js) doesn't exist\n",
      "Setting up python-rdflib (4.2.1-2) ...\n",
      "Setting up python-sparqlwrapper (1.7.6-2) ...\n",
      "Setting up python-rdflib-jsonld (0.4.0-3) ...\n",
      "Setting up python-cryptography (2.1.4-1ubuntu1.3) ...\n",
      "Setting up python-requests (2.18.4-2ubuntu0.1) ...\n",
      "Setting up python-cachecontrol (0.11.7-1) ...\n",
      "Setting up python-schema-salad (2.6.20171201034858-3) ...\n",
      "Setting up python-html5lib (0.999999999-1) ...\n",
      "Setting up samtools (1.7-1) ...\n",
      "Setting up python-openssl (17.5.0-1ubuntu1) ...\n",
      "Setting up cwltool (1.0.20180302231433-1) ...\n",
      "Processing triggers for libc-bin (2.27-3ubuntu1) ...\n"
     ]
    }
   ],
   "source": [
    "!sudo apt-get install -y --quiet tree libcurl4-openssl-dev zlib1g-dev samtools"
   ]
  },
  {
   "cell_type": "markdown",
   "metadata": {},
   "source": [
    "## Install Libraries"
   ]
  },
  {
   "cell_type": "code",
   "execution_count": 3,
   "metadata": {},
   "outputs": [
    {
     "name": "stdout",
     "output_type": "stream",
     "text": [
      "Collecting biopython\n",
      "  Downloading biopython-1.77-cp37-cp37m-manylinux1_x86_64.whl (2.3 MB)\n",
      "\u001b[K     |████████████████████████████████| 2.3 MB 1.8 MB/s eta 0:00:01\n",
      "\u001b[?25hRequirement already satisfied: numpy in /opt/conda/lib/python3.7/site-packages (from biopython) (1.18.4)\n",
      "Installing collected packages: biopython\n",
      "Successfully installed biopython-1.77\n",
      "Processing /home/jovyan/.cache/pip/wheels/2c/db/f8/ad4f4b132b466bc552febc88fb88535601ff027c0bb5c0e517/pyBigWig-0.3.17-cp37-cp37m-linux_x86_64.whl\n",
      "Installing collected packages: pyBigWig\n",
      "Successfully installed pyBigWig-0.3.17\n",
      "Collecting pysam\n",
      "  Using cached pysam-0.15.4-cp37-cp37m-manylinux2010_x86_64.whl (10.7 MB)\n",
      "Installing collected packages: pysam\n",
      "Successfully installed pysam-0.15.4\n"
     ]
    }
   ],
   "source": [
    "!pip install biopython\n",
    "!pip install pyBigWig\n",
    "!pip install pysam"
   ]
  },
  {
   "cell_type": "markdown",
   "metadata": {},
   "source": [
    "## Import Libraries"
   ]
  },
  {
   "cell_type": "code",
   "execution_count": 4,
   "metadata": {},
   "outputs": [],
   "source": [
    "from Bio import SeqIO\n",
    "from Bio.SeqIO.FastaIO import SimpleFastaParser\n",
    "from Bio.SeqIO.QualityIO import FastqGeneralIterator"
   ]
  },
  {
   "cell_type": "markdown",
   "metadata": {},
   "source": [
    "## Helper Functions"
   ]
  },
  {
   "cell_type": "code",
   "execution_count": 5,
   "metadata": {},
   "outputs": [],
   "source": [
    "def print_file_stats(file, file_format, limit=5): \n",
    "\n",
    "    if(file_format=='fasta'):\n",
    "        count = 0\n",
    "        total_len = 0\n",
    "        with open(file) as in_handle:\n",
    "            for title, seq in SimpleFastaParser(in_handle):\n",
    "                count += 1\n",
    "                total_len += len(seq)\n",
    "        print(\"Number of Records: \" + \"{:,}\".format(count))\n",
    "        print(\"Total Sequence Length: \" + \"{:,}\".format(total_len) + \"\\n########################################\\n\")\n",
    "\n",
    "        countdown = limit\n",
    "        for seq_record in SeqIO.parse(file, file_format):\n",
    "            print(seq_record)\n",
    "            print(\"Sequence Length: \" + \"{:,}\".format(len(seq_record)))\n",
    "            print(\"\")\n",
    "            countdown -= 1\n",
    "            if(not countdown): break\n",
    "                \n",
    "    elif(file_format=='fastq'):\n",
    "        count = 0\n",
    "        total_len = 0\n",
    "        with open(file) as in_handle:\n",
    "            for title, seq, qual in FastqGeneralIterator(in_handle):\n",
    "                count += 1\n",
    "                total_len += len(seq)\n",
    "        print(\"Number of Records: \" + \"{:,}\".format(count))\n",
    "        print(\"Total Sequence Length: \" + \"{:,}\".format(total_len) + \"\\n########################################\\n\")\n",
    "\n",
    "        countdown = limit\n",
    "        for seq_record in SeqIO.parse(file, file_format):\n",
    "            print(seq_record)\n",
    "            print(\"Sequence Length: \" + \"{:,}\".format(len(seq_record)))\n",
    "            print(\"\")\n",
    "            countdown -= 1\n",
    "            if(not countdown): break"
   ]
  },
  {
   "cell_type": "markdown",
   "metadata": {},
   "source": [
    "## Analyze Datasets"
   ]
  },
  {
   "cell_type": "code",
   "execution_count": 6,
   "metadata": {},
   "outputs": [
    {
     "name": "stdout",
     "output_type": "stream",
     "text": [
      "../data\n",
      "├── [4.0K]  alignments\n",
      "│   ├── [2.1G]  SRR5377828-GRCh37_hg19.bam\n",
      "│   ├── [7.9G]  SRR5377828-GRCh37_hg19.sam\n",
      "│   ├── [1.2G]  SRR5377828-GRCh37_hg19-sorted.bam\n",
      "│   ├── [2.8M]  SRR5377828-GRCh37_hg19-sorted.bam.bai\n",
      "│   ├── [2.1G]  SRR5377828-GRCh38_p13.bam\n",
      "│   ├── [8.2G]  SRR5377828-GRCh38_p13.sam\n",
      "│   ├── [1.2G]  SRR5377828-GRCh38_p13-sorted.bam\n",
      "│   ├── [2.9M]  SRR5377828-GRCh38_p13-sorted.bam.bai\n",
      "│   ├── [1.3G]  SRR5377828-pseudomonas_aeruginosa_pao1.bam\n",
      "│   ├── [5.8G]  SRR5377828-pseudomonas_aeruginosa_pao1.sam\n",
      "│   ├── [1.2G]  SRR5377828-pseudomonas_aeruginosa_pao1-sorted.bam\n",
      "│   ├── [ 11K]  SRR5377828-pseudomonas_aeruginosa_pao1-sorted.bam.bai\n",
      "│   ├── [1.3G]  SRR5377828-pseudomonas_fluorescens_SBW25.bam\n",
      "│   ├── [5.8G]  SRR5377828-pseudomonas_fluorescens_SBW25.sam\n",
      "│   ├── [1.2G]  SRR5377828-pseudomonas_fluorescens_SBW25-sorted.bam\n",
      "│   └── [ 12K]  SRR5377828-pseudomonas_fluorescens_SBW25-sorted.bam.bai\n",
      "├── [4.0K]  bucket_pairs\n",
      "│   ├── [5.9M]  SRR5377828-GRCh38_p13_MM.bed\n",
      "│   └── [9.1K]  SRR5377828-GRCh38_p13_UU.bam\n",
      "├── [4.0K]  buckets\n",
      "│   ├── [949M]  SRR5377828-GRCh38_p13_MM.bam\n",
      "│   ├── [2.3M]  SRR5377828-GRCh38_p13_MU.bam\n",
      "│   ├── [ 50K]  SRR5377828-GRCh38_p13_UM.bam\n",
      "│   ├── [4.5M]  SRR5377828-GRCh38_p13_UU.bam\n",
      "│   ├── [5.4M]  SRR5377828-pseudomonas_aeruginosa_pao1_MM.bam\n",
      "│   ├── [210K]  SRR5377828-pseudomonas_aeruginosa_pao1_MU.bam\n",
      "│   ├── [ 46K]  SRR5377828-pseudomonas_aeruginosa_pao1_UM.bam\n",
      "│   └── [1.2G]  SRR5377828-pseudomonas_aeruginosa_pao1_UU.bam\n",
      "├── [4.0K]  ref_genomes\n",
      "│   ├── [3.0G]  GRCh37_hg19.fasta\n",
      "│   ├── [8.4K]  GRCh37_hg19.fasta.amb\n",
      "│   ├── [3.9K]  GRCh37_hg19.fasta.ann\n",
      "│   ├── [2.9G]  GRCh37_hg19.fasta.bwt\n",
      "│   ├── [3.5K]  GRCh37_hg19.fasta.fai\n",
      "│   ├── [748M]  GRCh37_hg19.fasta.pac\n",
      "│   ├── [1.5G]  GRCh37_hg19.fasta.sa\n",
      "│   ├── [3.1G]  GRCh38_p13.fasta\n",
      "│   ├── [ 21K]  GRCh38_p13.fasta.amb\n",
      "│   ├── [ 82K]  GRCh38_p13.fasta.ann\n",
      "│   ├── [3.0G]  GRCh38_p13.fasta.bwt\n",
      "│   ├── [ 23K]  GRCh38_p13.fasta.fai\n",
      "│   ├── [780M]  GRCh38_p13.fasta.pac\n",
      "│   ├── [1.5G]  GRCh38_p13.fasta.sa\n",
      "│   ├── [6.0M]  pseudomonas_aeruginosa_pao1.fasta\n",
      "│   ├── [  12]  pseudomonas_aeruginosa_pao1.fasta.amb\n",
      "│   ├── [  84]  pseudomonas_aeruginosa_pao1.fasta.ann\n",
      "│   ├── [6.0M]  pseudomonas_aeruginosa_pao1.fasta.bwt\n",
      "│   ├── [1.5M]  pseudomonas_aeruginosa_pao1.fasta.pac\n",
      "│   ├── [3.0M]  pseudomonas_aeruginosa_pao1.fasta.sa\n",
      "│   ├── [6.5M]  pseudomonas_fluorescens_SBW25.fasta\n",
      "│   ├── [  12]  pseudomonas_fluorescens_SBW25.fasta.amb\n",
      "│   ├── [  88]  pseudomonas_fluorescens_SBW25.fasta.ann\n",
      "│   ├── [6.4M]  pseudomonas_fluorescens_SBW25.fasta.bwt\n",
      "│   ├── [  29]  pseudomonas_fluorescens_SBW25.fasta.fai\n",
      "│   ├── [1.6M]  pseudomonas_fluorescens_SBW25.fasta.pac\n",
      "│   └── [3.2M]  pseudomonas_fluorescens_SBW25.fasta.sa\n",
      "└── [4.0K]  SRR5377828\n",
      "    ├── [3.2G]  SRR5377828_1.fastq\n",
      "    └── [3.2G]  SRR5377828_2.fastq\n",
      "\n",
      "5 directories, 55 files\n"
     ]
    }
   ],
   "source": [
    "!tree ../data -h\n",
    "#Genome Reference Consortium Human genome build 37, 38, pseudomonas\n",
    "\n",
    "# Sequence Read Archive (SRA) stores raw sequence data from “next-generation” \n",
    "# sequencing technologies including Illumina, 454, IonTorrent, Complete Genomics, \n",
    "# PacBio and OxfordNanopore. Data in the SRA is organized into a series \n",
    "# of metadata tables: \n",
    "\n",
    "# Run (SRR) Results are called runs. \n",
    "# Runs comprise the data gathered for a sample or sample bundle \n",
    "# and refer to a defining experiment.\n",
    "\n",
    "# https://linsalrob.github.io/ComputationalGenomicsManual/Databases/SRA.html"
   ]
  },
  {
   "cell_type": "markdown",
   "metadata": {},
   "source": [
    "### Reference Genomes - FASTA files"
   ]
  },
  {
   "cell_type": "code",
   "execution_count": 7,
   "metadata": {
    "scrolled": true
   },
   "outputs": [
    {
     "name": "stdout",
     "output_type": "stream",
     "text": [
      "Number of Records: 1\n",
      "Total Sequence Length: 6,722,539\n",
      "########################################\n",
      "\n",
      "ID: NC_012660.1\n",
      "Name: NC_012660.1\n",
      "Description: NC_012660.1 Pseudomonas fluorescens SBW25, complete sequence\n",
      "Number of features: 0\n",
      "Seq('GTGTCAGTGGAACTTTGGCAGCAGTGCGTGGAGCTTTTGCGCGATGAGCTGCCT...ATC', SingleLetterAlphabet())\n",
      "Sequence Length: 6,722,539\n",
      "\n"
     ]
    }
   ],
   "source": [
    "print_file_stats(\"../data/ref_genomes/pseudomonas_fluorescens_SBW25.fasta\", \"fasta\")"
   ]
  },
  {
   "cell_type": "code",
   "execution_count": 8,
   "metadata": {},
   "outputs": [
    {
     "name": "stdout",
     "output_type": "stream",
     "text": [
      "Number of Records: 1\n",
      "Total Sequence Length: 6,264,404\n",
      "########################################\n",
      "\n",
      "ID: NC_002516.2\n",
      "Name: NC_002516.2\n",
      "Description: NC_002516.2 Pseudomonas aeruginosa PAO1, complete genome\n",
      "Number of features: 0\n",
      "Seq('TTTAAAGAGACCGGCGATTCTAGTGAAATCGAACGGGCAGGTCAATTTCCAACC...CCG', SingleLetterAlphabet())\n",
      "Sequence Length: 6,264,404\n",
      "\n"
     ]
    }
   ],
   "source": [
    "print_file_stats(\"../data/ref_genomes/pseudomonas_aeruginosa_pao1.fasta\", \"fasta\")"
   ]
  },
  {
   "cell_type": "code",
   "execution_count": 9,
   "metadata": {},
   "outputs": [
    {
     "name": "stdout",
     "output_type": "stream",
     "text": [
      "Number of Records: 93\n",
      "Total Sequence Length: 3,137,161,264\n",
      "########################################\n",
      "\n",
      "ID: chr1\n",
      "Name: chr1\n",
      "Description: chr1\n",
      "Number of features: 0\n",
      "Seq('NNNNNNNNNNNNNNNNNNNNNNNNNNNNNNNNNNNNNNNNNNNNNNNNNNNNNN...NNN', SingleLetterAlphabet())\n",
      "Sequence Length: 249,250,621\n",
      "\n",
      "ID: chr2\n",
      "Name: chr2\n",
      "Description: chr2\n",
      "Number of features: 0\n",
      "Seq('NNNNNNNNNNNNNNNNNNNNNNNNNNNNNNNNNNNNNNNNNNNNNNNNNNNNNN...NNN', SingleLetterAlphabet())\n",
      "Sequence Length: 243,199,373\n",
      "\n",
      "ID: chr3\n",
      "Name: chr3\n",
      "Description: chr3\n",
      "Number of features: 0\n",
      "Seq('NNNNNNNNNNNNNNNNNNNNNNNNNNNNNNNNNNNNNNNNNNNNNNNNNNNNNN...NNN', SingleLetterAlphabet())\n",
      "Sequence Length: 198,022,430\n",
      "\n"
     ]
    }
   ],
   "source": [
    "print_file_stats(\"../data/ref_genomes/GRCh37_hg19.fasta\", \"fasta\", limit=3)"
   ]
  },
  {
   "cell_type": "code",
   "execution_count": 10,
   "metadata": {},
   "outputs": [
    {
     "name": "stdout",
     "output_type": "stream",
     "text": [
      "Number of Records: 639\n",
      "Total Sequence Length: 3,272,089,205\n",
      "########################################\n",
      "\n",
      "ID: NC_000001.11\n",
      "Name: NC_000001.11\n",
      "Description: NC_000001.11 Homo sapiens chromosome 1, GRCh38.p13 Primary Assembly\n",
      "Number of features: 0\n",
      "Seq('NNNNNNNNNNNNNNNNNNNNNNNNNNNNNNNNNNNNNNNNNNNNNNNNNNNNNN...NNN', SingleLetterAlphabet())\n",
      "Sequence Length: 248,956,422\n",
      "\n",
      "ID: NT_187361.1\n",
      "Name: NT_187361.1\n",
      "Description: NT_187361.1 Homo sapiens chromosome 1 unlocalized genomic scaffold, GRCh38.p13 Primary Assembly HSCHR1_CTG1_UNLOCALIZED\n",
      "Number of features: 0\n",
      "Seq('GAATTCAGCTGAGAAGAACAGGCAAGGACTTAGGAAATATTCCTTATTTGAAGG...TTC', SingleLetterAlphabet())\n",
      "Sequence Length: 175,055\n",
      "\n",
      "ID: NT_187362.1\n",
      "Name: NT_187362.1\n",
      "Description: NT_187362.1 Homo sapiens chromosome 1 unlocalized genomic scaffold, GRCh38.p13 Primary Assembly HSCHR1_CTG2_UNLOCALIZED\n",
      "Number of features: 0\n",
      "Seq('AGGGGTCTGCTTAGAGAGGGTCTCATTAGTGGGGTCTAGTAGTGGGGTTTTGGT...TTC', SingleLetterAlphabet())\n",
      "Sequence Length: 32,032\n",
      "\n"
     ]
    }
   ],
   "source": [
    "print_file_stats(\"../data/ref_genomes/GRCh38_p13.fasta\", \"fasta\", limit=3)"
   ]
  },
  {
   "cell_type": "markdown",
   "metadata": {},
   "source": [
    "### Sequencer Reads - FASTQ Files"
   ]
  },
  {
   "cell_type": "code",
   "execution_count": 11,
   "metadata": {},
   "outputs": [
    {
     "name": "stdout",
     "output_type": "stream",
     "text": [
      "Number of Records: 12,287,961\n",
      "Total Sequence Length: 1,241,084,061\n",
      "########################################\n",
      "\n",
      "ID: SRR5377828.1\n",
      "Name: SRR5377828.1\n",
      "Description: SRR5377828.1 1 length=101\n",
      "Number of features: 0\n",
      "Per letter annotation for: phred_quality\n",
      "Seq('AGGAAAGTCAGGCATCGCCTAAAAGGAGTGGTCCCTATCTAGCCCCAAGTCTGG...TCC', SingleLetterAlphabet())\n",
      "Sequence Length: 101\n",
      "\n",
      "ID: SRR5377828.2\n",
      "Name: SRR5377828.2\n",
      "Description: SRR5377828.2 2 length=101\n",
      "Number of features: 0\n",
      "Per letter annotation for: phred_quality\n",
      "Seq('GTGGAGTTGGTCTTCTCACTCTTGAAGCTGCTCAATGTCTCCCTGTCAGTGCCG...CCC', SingleLetterAlphabet())\n",
      "Sequence Length: 101\n",
      "\n",
      "ID: SRR5377828.3\n",
      "Name: SRR5377828.3\n",
      "Description: SRR5377828.3 3 length=101\n",
      "Number of features: 0\n",
      "Per letter annotation for: phred_quality\n",
      "Seq('GCTTTCATGCTCAGCTGGGACTGCAGCTCAATCTCCAGGCCTTGGAGCGTGCGC...GTT', SingleLetterAlphabet())\n",
      "Sequence Length: 101\n",
      "\n"
     ]
    }
   ],
   "source": [
    "print_file_stats(\"../data/SRR5377828/SRR5377828_1.fastq\", \"fastq\", limit=3)"
   ]
  },
  {
   "cell_type": "code",
   "execution_count": 12,
   "metadata": {},
   "outputs": [
    {
     "name": "stdout",
     "output_type": "stream",
     "text": [
      "Number of Records: 12,287,961\n",
      "Total Sequence Length: 1,241,084,061\n",
      "########################################\n",
      "\n",
      "ID: SRR5377828.1\n",
      "Name: SRR5377828.1\n",
      "Description: SRR5377828.1 1 length=101\n",
      "Number of features: 0\n",
      "Per letter annotation for: phred_quality\n",
      "Seq('CATGGGAACTGTGAAGAGGCACCCTGGCAAGCAGCAGTGATTGGGGGAGGGGAC...TGC', SingleLetterAlphabet())\n",
      "Sequence Length: 101\n",
      "\n",
      "ID: SRR5377828.2\n",
      "Name: SRR5377828.2\n",
      "Description: SRR5377828.2 2 length=101\n",
      "Number of features: 0\n",
      "Per letter annotation for: phred_quality\n",
      "Seq('NNNNNNNNNNNNNNNNNNNNNNNCTGGTGAGGANNNNNNNNNNNNNGGAACAAC...GGG', SingleLetterAlphabet())\n",
      "Sequence Length: 101\n",
      "\n",
      "ID: SRR5377828.3\n",
      "Name: SRR5377828.3\n",
      "Description: SRR5377828.3 3 length=101\n",
      "Number of features: 0\n",
      "Per letter annotation for: phred_quality\n",
      "Seq('NNNNNNNNNNNNNNNNNNNNNNNGAGAGGAACCGNNNNNNNNNNNNGGAATGGT...ACT', SingleLetterAlphabet())\n",
      "Sequence Length: 101\n",
      "\n"
     ]
    }
   ],
   "source": [
    "print_file_stats(\"../data/SRR5377828/SRR5377828_2.fastq\", \"fastq\", limit=3)"
   ]
  },
  {
   "cell_type": "markdown",
   "metadata": {},
   "source": [
    "### Alignment - SAM Files"
   ]
  },
  {
   "cell_type": "code",
   "execution_count": 13,
   "metadata": {},
   "outputs": [
    {
     "name": "stdout",
     "output_type": "stream",
     "text": [
      "../data/alignments\n",
      "├── [2.1G]  SRR5377828-GRCh37_hg19.bam\n",
      "├── [7.9G]  SRR5377828-GRCh37_hg19.sam\n",
      "├── [1.2G]  SRR5377828-GRCh37_hg19-sorted.bam\n",
      "├── [2.8M]  SRR5377828-GRCh37_hg19-sorted.bam.bai\n",
      "├── [2.1G]  SRR5377828-GRCh38_p13.bam\n",
      "├── [8.2G]  SRR5377828-GRCh38_p13.sam\n",
      "├── [1.2G]  SRR5377828-GRCh38_p13-sorted.bam\n",
      "├── [2.9M]  SRR5377828-GRCh38_p13-sorted.bam.bai\n",
      "├── [1.3G]  SRR5377828-pseudomonas_aeruginosa_pao1.bam\n",
      "├── [5.8G]  SRR5377828-pseudomonas_aeruginosa_pao1.sam\n",
      "├── [1.2G]  SRR5377828-pseudomonas_aeruginosa_pao1-sorted.bam\n",
      "├── [ 11K]  SRR5377828-pseudomonas_aeruginosa_pao1-sorted.bam.bai\n",
      "├── [1.3G]  SRR5377828-pseudomonas_fluorescens_SBW25.bam\n",
      "├── [5.8G]  SRR5377828-pseudomonas_fluorescens_SBW25.sam\n",
      "├── [1.2G]  SRR5377828-pseudomonas_fluorescens_SBW25-sorted.bam\n",
      "└── [ 12K]  SRR5377828-pseudomonas_fluorescens_SBW25-sorted.bam.bai\n",
      "\n",
      "0 directories, 16 files\n"
     ]
    }
   ],
   "source": [
    "!tree ../data/alignments -h"
   ]
  },
  {
   "cell_type": "markdown",
   "metadata": {},
   "source": [
    "#### SRR5377828-pseudomonas_fluorescens_SBW25"
   ]
  },
  {
   "cell_type": "code",
   "execution_count": 17,
   "metadata": {},
   "outputs": [
    {
     "name": "stdout",
     "output_type": "stream",
     "text": [
      "SRR5377828.12287961\t77\t*\t0\t0\t*\t*\t0\t0\tCTGCTCGAACAACGGCTCCAGGTTCTGCCTCACAGTCTTGGTGCCCTGCTCCTGCAGCAGGGTCCACTTGGTGTCCAGAACCTTGTTCTGCTGCTCCAGGA\tBBBBBFFFFFBBFF7FFFFFIIFBFFFFFFIFFIFBFFFIIB7BFFFFFFFIIIIFBFFFB7<<B<BBBBBBBBBBB<BBBBBBBBBBFBBBBBBBBBBBB\tAS:i:0\tXS:i:0\n",
      "SRR5377828.12287961\t141\t*\t0\t0\t*\t*\t0\t0\tGGACCGAGGAGCGCGAGCAGATCAAGACCCTCAACAATAAGTTTGCCTCCTTCATCGACAAGGTGCGGTTCCTGGAGCAGCAGAACAAGGTTCTGGACACC\tBBBFFFFFFFFFFIIFFFFF<FFFIB7<0<BFFFIIIFFFFBBFFFBBBFFFBBBBBB<BBBF7<BBB7<BFFFFFFBBBBB<BBBBFBB<<<<<B<BBB0\tAS:i:0\tXS:i:0\n"
     ]
    }
   ],
   "source": [
    "!tail -2 ../data/alignments/SRR5377828-pseudomonas_fluorescens_SBW25.sam"
   ]
  },
  {
   "cell_type": "code",
   "execution_count": 18,
   "metadata": {},
   "outputs": [
    {
     "name": "stdout",
     "output_type": "stream",
     "text": [
      "24575939\n"
     ]
    }
   ],
   "source": [
    "# get the total number of reads of a BAM file (may include unmapped and duplicated multi-aligned reads)\n",
    "!samtools view -@ 24 -c ../data/alignments/SRR5377828-pseudomonas_fluorescens_SBW25.sam"
   ]
  },
  {
   "cell_type": "code",
   "execution_count": 19,
   "metadata": {
    "scrolled": true
   },
   "outputs": [
    {
     "name": "stdout",
     "output_type": "stream",
     "text": [
      "101592\n"
     ]
    }
   ],
   "source": [
    "# counting only mapped (primary aligned) reads\n",
    "!samtools view -@ 24 -c -F 260 ../data/alignments/SRR5377828-pseudomonas_fluorescens_SBW25.sam"
   ]
  },
  {
   "cell_type": "markdown",
   "metadata": {},
   "source": [
    "#### SRR5377828-pseudomonas_aeruginosa_pao1"
   ]
  },
  {
   "cell_type": "code",
   "execution_count": 3,
   "metadata": {},
   "outputs": [
    {
     "name": "stdout",
     "output_type": "stream",
     "text": [
      "@SQ\tSN:NC_002516.2\tLN:6264404\n",
      "@PG\tID:bwa\tPN:bwa\tVN:0.7.17-r1188\tCL:bwa mem -t 24 ref_genomes/pseudomonas_aeruginosa_pao1.fasta SRR5377828/SRR5377828_1.fastq SRR5377828/SRR5377828_2.fastq\n",
      "SRR5377828.1\t77\t*\t0\t0\t*\t*\t0\t0\tAGGAAAGTCAGGCATCGCCTAAAAGGAGTGGTCCCTATCTAGCCCCAAGTCTGGAGCAGAAAGGGCAGGTCCATTCTGGCCCAAGTGACATTGTTAGATCC\tBBBFFFBFFFFFFIFIFFFIIFFIIIBFBFFIIIIIIIIFIFFFFFB<B<BBFFIIIIIFFIFFFFFBB<BBBBFBFFBBBBBBFFFBFBBFBBBBFFFBF\tAS:i:0\tXS:i:0\n",
      "SRR5377828.1\t141\t*\t0\t0\t*\t*\t0\t0\tCATGGGAACTGTGAAGAGGCACCCTGGCAAGCAGCAGTGATTGGGGGAGGGGACAGGATCTAACAATGTCACTTGGGCCAGAATGGACCTGCCCTTTCTGC\tB<BFFFFFFFFBFFBFFIIIFIFFFFFBFBFFBFIFFFFBBFFFFFF<BBFFBBBBBB<BBBBBB<BB<BBBBBBBBBBBBBBBBBBBBBBBBBBBBBBB<\tAS:i:0\tXS:i:0\n",
      "SRR5377828.2\t77\t*\t0\t0\t*\t*\t0\t0\tGTGGAGTTGGTCTTCTCACTCTTGAAGCTGCTCAATGTCTCCCTGTCAGTGCCGCTGAAGCAGGAGTCTGAGGAGCCGGCTTTCTGGGGCGTGGGCTCCCC\tBBBFBFBFFFFFFIIIIIIIIIIIIIIIIIIIIIIIIIIIIIIIIFIIIFFFIIFFIFFIFIIIIIFIFFFFFBFFFBBFFFBFFFFBBFFBFFFFFBBBF\tAS:i:0\tXS:i:0\n",
      "SRR5377828.2\t141\t*\t0\t0\t*\t*\t0\t0\tNNNNNNNNNNNNNNNNNNNNNNNCTGGTGAGGANNNNNNNNNNNNNGGAACAACGCAGGGGGGCAGGTGGCTATCAGCCCCTTGACCGGCGGGGCTCAGGG\t#####################################################################################################\tAS:i:0\tXS:i:0\n",
      "SRR5377828.3\t77\t*\t0\t0\t*\t*\t0\t0\tGCTTTCATGCTCAGCTGGGACTGCAGCTCAATCTCCAGGCCTTGGAGCGTGCGCCTGAGCTCCGTGATCTCTGTCTTGCTGGTCTGAATCATGGCAGTGTT\tBBBFFFFFFFFFFIIIIIIIIIIIIIIIIIIIIIIIIIIIIIIIIIIIIIIIIIIIIIIFFFFFFFFFFFFFFFFFFFFFFFFFFFFBFFFFFFFFFFFFF\tAS:i:0\tXS:i:0\n",
      "SRR5377828.3\t141\t*\t0\t0\t*\t*\t0\t0\tNNNNNNNNNNNNNNNNNNNNNNNGAGAGGAACCGNNNNNNNNNNNNGGAATGGTTCCACGCCAAGAGTGCAGAGCTGAACAAGGAGGTGTCTACCAACACT\t#######################00<BBBBBBBB############00<<BBB<BBBBBBB<<<BBB<<<<<<<<<<<<<<<<<<<<0<<<<<<<<<<<<<\tAS:i:0\tXS:i:0\n",
      "SRR5377828.4\t77\t*\t0\t0\t*\t*\t0\t0\tGTAGGTTGGGCGCTCGATGTCTAGGTTGCGGCGGCAGATGTCATAGATTGCTTCGTTGTCCACCATGAAGGCACAGTCTGAGTGCTCCAGGGTGGTGTGGG\tBBBFFFFFFFFFFIIIIIIIIIIIIFIIIIIIIFFFFFFFFFFFFFFFFFFFFFFFFFFFFFFFFFFFFFFFFFFFFFFFFFBFFFFFFFFF<BF<BFFFF\tAS:i:0\tXS:i:0\n",
      "SRR5377828.4\t141\t*\t0\t0\t*\t*\t0\t0\tGGGCACTGGCTCTGGCTTCACCTCACTCCTGATGGAGCGGCTCTCTGTTGACTATGGCAAGAAATCCAAGCTGGAATTCTCCATCTACCCAGCCCCCCAGG\tBBBFFFFFFFFFFIIIIIIIIIIIIIIIIIIIIIIIIIIIIIIIIIIFIIIIIIIIIIIFFFFFFFFFFFFFFFFFFFFFFFFFFFFFFFFFFFFFFFFFF\tAS:i:0\tXS:i:0\n"
     ]
    }
   ],
   "source": [
    "!head -10 ../data/alignments/SRR5377828-pseudomonas_aeruginosa_pao1.sam"
   ]
  },
  {
   "cell_type": "code",
   "execution_count": 20,
   "metadata": {},
   "outputs": [
    {
     "name": "stdout",
     "output_type": "stream",
     "text": [
      "SRR5377828.12287961\t77\t*\t0\t0\t*\t*\t0\t0\tCTGCTCGAACAACGGCTCCAGGTTCTGCCTCACAGTCTTGGTGCCCTGCTCCTGCAGCAGGGTCCACTTGGTGTCCAGAACCTTGTTCTGCTGCTCCAGGA\tBBBBBFFFFFBBFF7FFFFFIIFBFFFFFFIFFIFBFFFIIB7BFFFFFFFIIIIFBFFFB7<<B<BBBBBBBBBBB<BBBBBBBBBBFBBBBBBBBBBBB\tAS:i:0\tXS:i:0\n",
      "SRR5377828.12287961\t141\t*\t0\t0\t*\t*\t0\t0\tGGACCGAGGAGCGCGAGCAGATCAAGACCCTCAACAATAAGTTTGCCTCCTTCATCGACAAGGTGCGGTTCCTGGAGCAGCAGAACAAGGTTCTGGACACC\tBBBFFFFFFFFFFIIFFFFF<FFFIB7<0<BFFFIIIFFFFBBFFFBBBFFFBBBBBB<BBBF7<BBB7<BFFFFFFBBBBB<BBBBFBB<<<<<B<BBB0\tAS:i:0\tXS:i:0\n"
     ]
    }
   ],
   "source": [
    "!tail -2 ../data/alignments/SRR5377828-pseudomonas_aeruginosa_pao1.sam"
   ]
  },
  {
   "cell_type": "code",
   "execution_count": 21,
   "metadata": {},
   "outputs": [
    {
     "name": "stdout",
     "output_type": "stream",
     "text": [
      "24576011\n"
     ]
    }
   ],
   "source": [
    "# get the total number of reads of a BAM file (may include unmapped and duplicated multi-aligned reads)\n",
    "!samtools view -@ 24 -c ../data/alignments/SRR5377828-pseudomonas_aeruginosa_pao1.sam"
   ]
  },
  {
   "cell_type": "code",
   "execution_count": 22,
   "metadata": {
    "scrolled": true
   },
   "outputs": [
    {
     "name": "stdout",
     "output_type": "stream",
     "text": [
      "128972\n"
     ]
    }
   ],
   "source": [
    "# counting only mapped (primary aligned) reads\n",
    "!samtools view -@ 24 -c -F 260 ../data/alignments/SRR5377828-pseudomonas_aeruginosa_pao1.sam"
   ]
  },
  {
   "cell_type": "markdown",
   "metadata": {},
   "source": [
    "#### SRR5377828-GRCh37_hg19"
   ]
  },
  {
   "cell_type": "code",
   "execution_count": 9,
   "metadata": {},
   "outputs": [
    {
     "name": "stdout",
     "output_type": "stream",
     "text": [
      "@SQ\tSN:chr1\tLN:249250621\n",
      "@SQ\tSN:chr2\tLN:243199373\n",
      "@SQ\tSN:chr3\tLN:198022430\n",
      "@SQ\tSN:chr4\tLN:191154276\n",
      "@SQ\tSN:chr5\tLN:180915260\n",
      "@SQ\tSN:chr6\tLN:171115067\n",
      "@SQ\tSN:chr7\tLN:159138663\n",
      "@SQ\tSN:chrX\tLN:155270560\n",
      "@SQ\tSN:chr8\tLN:146364022\n",
      "@SQ\tSN:chr9\tLN:141213431\n",
      "@SQ\tSN:chr10\tLN:135534747\n",
      "@SQ\tSN:chr11\tLN:135006516\n",
      "@SQ\tSN:chr12\tLN:133851895\n",
      "@SQ\tSN:chr13\tLN:115169878\n",
      "@SQ\tSN:chr14\tLN:107349540\n",
      "@SQ\tSN:chr15\tLN:102531392\n",
      "@SQ\tSN:chr16\tLN:90354753\n",
      "@SQ\tSN:chr17\tLN:81195210\n",
      "@SQ\tSN:chr18\tLN:78077248\n",
      "@SQ\tSN:chr20\tLN:63025520\n",
      "@SQ\tSN:chrY\tLN:59373566\n",
      "@SQ\tSN:chr19\tLN:59128983\n",
      "@SQ\tSN:chr22\tLN:51304566\n",
      "@SQ\tSN:chr21\tLN:48129895\n",
      "@SQ\tSN:chr6_ssto_hap7\tLN:4928567\n",
      "@SQ\tSN:chr6_mcf_hap5\tLN:4833398\n",
      "@SQ\tSN:chr6_cox_hap2\tLN:4795371\n",
      "@SQ\tSN:chr6_mann_hap4\tLN:4683263\n",
      "@SQ\tSN:chr6_apd_hap1\tLN:4622290\n",
      "@SQ\tSN:chr6_qbl_hap6\tLN:4611984\n",
      "@SQ\tSN:chr6_dbb_hap3\tLN:4610396\n",
      "@SQ\tSN:chr17_ctg5_hap1\tLN:1680828\n",
      "@SQ\tSN:chr4_ctg9_hap1\tLN:590426\n",
      "@SQ\tSN:chr1_gl000192_random\tLN:547496\n",
      "@SQ\tSN:chrUn_gl000225\tLN:211173\n",
      "@SQ\tSN:chr4_gl000194_random\tLN:191469\n",
      "@SQ\tSN:chr4_gl000193_random\tLN:189789\n",
      "@SQ\tSN:chr9_gl000200_random\tLN:187035\n",
      "@SQ\tSN:chrUn_gl000222\tLN:186861\n",
      "@SQ\tSN:chrUn_gl000212\tLN:186858\n",
      "@SQ\tSN:chr7_gl000195_random\tLN:182896\n",
      "@SQ\tSN:chrUn_gl000223\tLN:180455\n",
      "@SQ\tSN:chrUn_gl000224\tLN:179693\n",
      "@SQ\tSN:chrUn_gl000219\tLN:179198\n",
      "@SQ\tSN:chr17_gl000205_random\tLN:174588\n",
      "@SQ\tSN:chrUn_gl000215\tLN:172545\n",
      "@SQ\tSN:chrUn_gl000216\tLN:172294\n",
      "@SQ\tSN:chrUn_gl000217\tLN:172149\n",
      "@SQ\tSN:chr9_gl000199_random\tLN:169874\n",
      "@SQ\tSN:chrUn_gl000211\tLN:166566\n",
      "@SQ\tSN:chrUn_gl000213\tLN:164239\n",
      "@SQ\tSN:chrUn_gl000220\tLN:161802\n",
      "@SQ\tSN:chrUn_gl000218\tLN:161147\n",
      "@SQ\tSN:chr19_gl000209_random\tLN:159169\n",
      "@SQ\tSN:chrUn_gl000221\tLN:155397\n",
      "@SQ\tSN:chrUn_gl000214\tLN:137718\n",
      "@SQ\tSN:chrUn_gl000228\tLN:129120\n",
      "@SQ\tSN:chrUn_gl000227\tLN:128374\n",
      "@SQ\tSN:chr1_gl000191_random\tLN:106433\n",
      "@SQ\tSN:chr19_gl000208_random\tLN:92689\n",
      "@SQ\tSN:chr9_gl000198_random\tLN:90085\n",
      "@SQ\tSN:chr17_gl000204_random\tLN:81310\n",
      "@SQ\tSN:chrUn_gl000233\tLN:45941\n",
      "@SQ\tSN:chrUn_gl000237\tLN:45867\n",
      "@SQ\tSN:chrUn_gl000230\tLN:43691\n",
      "@SQ\tSN:chrUn_gl000242\tLN:43523\n",
      "@SQ\tSN:chrUn_gl000243\tLN:43341\n",
      "@SQ\tSN:chrUn_gl000241\tLN:42152\n",
      "@SQ\tSN:chrUn_gl000236\tLN:41934\n",
      "@SQ\tSN:chrUn_gl000240\tLN:41933\n",
      "@SQ\tSN:chr17_gl000206_random\tLN:41001\n",
      "@SQ\tSN:chrUn_gl000232\tLN:40652\n",
      "@SQ\tSN:chrUn_gl000234\tLN:40531\n",
      "@SQ\tSN:chr11_gl000202_random\tLN:40103\n",
      "@SQ\tSN:chrUn_gl000238\tLN:39939\n",
      "@SQ\tSN:chrUn_gl000244\tLN:39929\n",
      "@SQ\tSN:chrUn_gl000248\tLN:39786\n",
      "@SQ\tSN:chr8_gl000196_random\tLN:38914\n",
      "@SQ\tSN:chrUn_gl000249\tLN:38502\n",
      "@SQ\tSN:chrUn_gl000246\tLN:38154\n",
      "@SQ\tSN:chr17_gl000203_random\tLN:37498\n",
      "@SQ\tSN:chr8_gl000197_random\tLN:37175\n",
      "@SQ\tSN:chrUn_gl000245\tLN:36651\n",
      "@SQ\tSN:chrUn_gl000247\tLN:36422\n",
      "@SQ\tSN:chr9_gl000201_random\tLN:36148\n",
      "@SQ\tSN:chrUn_gl000235\tLN:34474\n",
      "@SQ\tSN:chrUn_gl000239\tLN:33824\n",
      "@SQ\tSN:chr21_gl000210_random\tLN:27682\n",
      "@SQ\tSN:chrUn_gl000231\tLN:27386\n",
      "@SQ\tSN:chrUn_gl000229\tLN:19913\n",
      "@SQ\tSN:chrM\tLN:16571\n",
      "@SQ\tSN:chrUn_gl000226\tLN:15008\n",
      "@SQ\tSN:chr18_gl000207_random\tLN:4262\n",
      "@PG\tID:bwa\tPN:bwa\tVN:0.7.17-r1188\tCL:bwa mem -t 24 ref_genomes/GRCh37_hg19.fasta SRR5377828/SRR5377828_1.fastq SRR5377828/SRR5377828_2.fastq\n",
      "SRR5377828.1\t83\tchr1\t46651293\t60\t101M\t=\t46651238\t-156\tGGATCTAACAATGTCACTTGGGCCAGAATGGACCTGCCCTTTCTGCTCCAGACTTGGGGCTAGATAGGGACCACTCCTTTTAGGCGATGCCTGACTTTCCT\tFBFFFBBBBFBBFBFFFBBBBBBFFBFBBBB<BBFFFFFIFFIIIIIFFBB<B<BFFFFFIFIIIIIIIIFFBFBIIIFFIIFFFIFIFFFFFFBFFFBBB\tNM:i:0\tMD:Z:101\tMC:Z:101M\tAS:i:101\tXS:i:19\n",
      "SRR5377828.1\t163\tchr1\t46651238\t60\t101M\t=\t46651293\t156\tCATGGGAACTGTGAAGAGGCACCCTGGCAAGCAGCAGTGATTGGGGGAGGGGACAGGATCTAACAATGTCACTTGGGCCAGAATGGACCTGCCCTTTCTGC\tB<BFFFFFFFFBFFBFFIIIFIFFFFFBFBFFBFIFFFFBBFFFFFF<BBFFBBBBBB<BBBBBB<BB<BBBBBBBBBBBBBBBBBBBBBBBBBBBBBBB<\tNM:i:0\tMD:Z:101\tMC:Z:101M\tAS:i:101\tXS:i:0\n",
      "SRR5377828.2\t83\tchr11\t65385695\t60\t101M\t=\t65385643\t-153\tGGGGAGCCCACGCCCCAGAAAGCCGGCTCCTCAGACTCCTGCTTCAGCGGCACTGACAGGGAGACATTGAGCAGCTTCAAGAGTGAGAAGACCAACTCCAC\tFBBBFFFFFBFFBBFFFFBFFFBBFFFBFFFFFIFIIIIIFIFFIFFIIFFFIIIFIIIIIIIIIIIIIIIIIIIIIIIIIIIIIIIIFFFFFFBFBFBBB\tNM:i:0\tMD:Z:101\tMC:Z:46S55M\tAS:i:101\tXS:i:0\n",
      "SRR5377828.2\t163\tchr11\t65385643\t60\t46S55M\t=\t65385695\t153\tNNNNNNNNNNNNNNNNNNNNNNNCTGGTGAGGANNNNNNNNNNNNNGGAACAACGCAGGGGGGCAGGTGGCTATCAGCCCCTTGACCGGCGGGGCTCAGGG\t#####################################################################################################\tNM:i:0\tMD:Z:55\tMC:Z:101M\tAS:i:55\tXS:i:0\n",
      "SRR5377828.3\t99\tchr17\t39658939\t60\t5S96M\t=\t39659029\t128\tGCTTTCATGCTCAGCTGGGACTGCAGCTCAATCTCCAGGCCTTGGAGCGTGCGCCTGAGCTCCGTGATCTCTGTCTTGCTGGTCTGAATCATGGCAGTGTT\tBBBFFFFFFFFFFIIIIIIIIIIIIIIIIIIIIIIIIIIIIIIIIIIIIIIIIIIIIIIFFFFFFFFFFFFFFFFFFFFFFFFFFFFBFFFFFFFFFFFFF\tNM:i:0\tMD:Z:96\tMC:Z:38M63S\tAS:i:96\tXS:i:33\n",
      "SRR5377828.3\t147\tchr17\t39659029\t60\t38M63S\t=\t39658939\t-128\tAGTGTTGGTAGACACCTCCTTGTTCAGCTCTGCACTCTTGGCGTGGAACCATTCCNNNNNNNNNNNNCGGTTCCTCTCNNNNNNNNNNNNNNNNNNNNNNN\t<<<<<<<<<<<<<0<<<<<<<<<<<<<<<<<<<<BBB<<<BBBBBBB<BBB<<00############BBBBBBBB<00#######################\tNM:i:0\tMD:Z:38\tMC:Z:5S96M\tAS:i:38\tXS:i:20\n",
      "SRR5377828.4\t99\tchr2\t220115749\t60\t101M\t=\t220115892\t244\tGTAGGTTGGGCGCTCGATGTCTAGGTTGCGGCGGCAGATGTCATAGATTGCTTCGTTGTCCACCATGAAGGCACAGTCTGAGTGCTCCAGGGTGGTGTGGG\tBBBFFFFFFFFFFIIIIIIIIIIIIFIIIIIIIFFFFFFFFFFFFFFFFFFFFFFFFFFFFFFFFFFFFFFFFFFFFFFFFFBFFFFFFFFF<BF<BFFFF\tNM:i:0\tMD:Z:101\tMC:Z:101M\tAS:i:101\tXS:i:86\tXA:Z:chr2,-220136084,101M,3;\n",
      "SRR5377828.4\t147\tchr2\t220115892\t60\t101M\t=\t220115749\t-244\tCCTGGGGGGCTGGGTAGATGGAGAATTCCAGCTTGGATTTCTTGCCATAGTCAACAGAGAGCCGCTCCATCAGGAGTGAGGTGAAGCCAGAGCCAGTGCCC\tFFFFFFFFFFFFFFFFFFFFFFFFFFFFFFFFFFFFFFFFFFIIIIIIIIIIIFIIIIIIIIIIIIIIIIIIIIIIIIIIIIIIIIIIFFFFFFFFFFBBB\tNM:i:0\tMD:Z:101\tMC:Z:101M\tAS:i:101\tXS:i:66\n",
      "SRR5377828.5\t99\tchr14\t44589645\t6\t101M\t=\t44589779\t235\tGCCTCACTGAAGCCAAGTCCACAATGTCGCCGATATCTTCCTGATAATTTACTGTCCATACTTTGCTGATATTGAGACTCCAGTTCTTCATTAATTTTCTT\tBBBFFFFFFFFFFIIIIIIIIIIIIIIIIIIIIIIIIIIIIIIIIIIIIIIIIIIIIIIIIIIIIFFFFFFFFFFFFFFFFFFFFFFFFFFFFFFFFFFFF\tNM:i:4\tMD:Z:0A73G1T10A13\tMC:Z:101M\tAS:i:85\tXS:i:100\tXA:Z:chr11,-16774343,101M,1;\n",
      "SRR5377828.5\t147\tchr14\t44589779\t51\t101M\t=\t44589645\t-235\tTTTGTGATCTCCTATAACAAGACGACCAGTATGTTCTTTCTTTCCTGCACCCATAAGTCTCAAGAACTTTTGTTTTCTCTCTTCATTACCCAAGTCTGCTG\tFFFFFFFFFFFFFFFFFFFFFFFFFFFFFFFFFFIIIIIIIIIIIIIFFIIIIIIIIIIIIIIIIFIIIIIIIIIIIIIIIIIIIIFFFFFFFFFFFFBBB\tNM:i:4\tMD:Z:4C0A16T53T24\tMC:Z:101M\tAS:i:85\tXS:i:62\n",
      "SRR5377828.6\t83\tchrM\t2469\t49\t101M\t=\t2318\t-252\tAAAGGAACTCGGCAAATCTTCCCCCGCCTGTTTACCAAAAACATCACCTCTAGCATCACCAGTATTAGAGGCACCGCCTGCCCAGTGACACATGTTTAACG\tBB<<'0'0'7B0<B<07770'FFFFFFFFFFFFFFFFFFFFFFFFBIIIIIIIIIIFFIIIIIIIIIIIIIFFIIIIIIIIIIIIIIIFFFFFFFFFFBBB\tNM:i:2\tMD:Z:16C3A80\tMC:Z:101M\tAS:i:91\tXS:i:86\tXA:Z:chr6,-62284067,101M,3;chr7,-45291619,96M5S,3;chr3,+96336183,101M,5;\n",
      "SRR5377828.6\t163\tchrM\t2318\t60\t101M\t=\t2469\t252\tTGAAAACATTCTCCTCCGCATAAGCCTGCGTCAGATTAAAACACTGAACTGACAATTAACAGCCCAATATCTACAATCAACCAACAAGTCATTATTACCCT\tBBBFFFFFFFFFFIIIIIIIIIIFIIIIIIIIIIIIIIIIIIIIIIIIIIIIIIIIIIIIIFIIFFFFFFFFFFFFFFFFFFFFFFFBBBFFFFFFFFFFB\tNM:i:1\tMD:Z:36C64\tMC:Z:101M\tAS:i:96\tXS:i:61\n",
      "SRR5377828.7\t83\tchr6\t64286771\t60\t101M\t=\t64286707\t-165\tTTTAACTAAATTAACATGGCTCGAATGAACCGCCCAGCTCCTGTGGAAGTCACATACAAGAACATGAGATTTCTTATTACACACAATCCAACCAATGCGAC\tFFFFFFFFBFFBBBFFFBBBFFFFFFFBBFFFFFFFFBIIIIFFIIIFIFFFFIIIIIIIIIIIIIIIIIIIIIIIIFBFFIFIIFFIFFFFFFFFFFBBB\tNM:i:0\tMD:Z:101\tMC:Z:61M1I39M\tAS:i:101\tXS:i:65\n",
      "SRR5377828.7\t163\tchr6\t64286707\t60\t61M1I39M\t=\t64286771\t165\tCAGTTTCTTTGCATCATTTCTGTATTCAATTTTTTTAATTATTTCATAACCCTATTGAGTGTTTTTTTAACTAAATTAACATGGCTCGAATGAACCGCCCA\tBBBFFFFFFFFFFIIIIIIIIIIIIIIFFIIIFIIIIIIIIIIIIFFIIFFFBBFIFIIBFFFIIFIFFFFFFBFFFFFFFFBBBBB<BBFFFBBBFFFFF\tNM:i:1\tMD:Z:100\tMC:Z:101M\tAS:i:93\tXS:i:53\n",
      "SRR5377828.8\t83\tchr20\t31887717\t60\t75M26S\t=\t31887716\t-76\tTCAGCATTGACCGTCTGGAGTTTGACCTTCTGTATCCTGCCATCAAGGGTGACACCATTCAGCTCTACCTGGGGGCCAAGTTGTTGGACTCACAGGGAAAG\tBFFFFFFFFBFFFFFFFFFFFFFBBFFFFFFFFFFFIIIIIIIIIIIIIFIIIFIIIIIIIIIIFFFIIIIIIIIIIIIIIIIIIIIIFFFFFFFFFFBBB\tNM:i:0\tMD:Z:75\tMC:Z:76M25S\tAS:i:75\tXS:i:19\n",
      "SRR5377828.8\t163\tchr20\t31887716\t60\t76M25S\t=\t31887717\t76\tCTCAGCATTGACCGTCTGGAGTTTGACCTTCTGTATCCTGCCATCAAGGGTGACACCATTCAGCTCTACCTGGGGGCCAAGTTGTTGGACTCACAGGGAAA\tBBBFFFFFFFFFFIIIIIIIIFIIIIIIIIIIIIIIIIIIIIIIIIIIIIFFIIIIIIIIIIIIIIIIIIIFFFFFFFFFFFBFFFFFFFFFFFFFFFFFF\tNM:i:0\tMD:Z:76\tMC:Z:75M26S\tAS:i:76\tXS:i:19\n",
      "SRR5377828.9\t99\tchr12\t112843657\t25\t101M\t=\t112843692\t136\tCTCTTTTTCTGTGTCGAAGATCTCACCTTCCTGGTGTCTGGGCTTCCGCAGCTTCTTCTTCTTGAAGTAAGCATCAGTAAGATGTTTTGGGATTTTTACAT\tBBBFFFFFFFFFFIIIIIIIIIIIIIIIIIIIIIFFFIIIIIIIIIIIIIIIIIIIIIIIIIIIIFFFFFFFFFFFFFFFFFFFFFFFFFFFFFFFFFFFF\tNM:i:0\tMD:Z:101\tMC:Z:101M\tAS:i:101\tXS:i:101\tXA:Z:chr18,+6462296,101M,0;chr7,-137407346,101M,0;chr4,-66439793,101M,2;chr8,+33717029,101M,3;chr2,-11242870,101M,4;\n",
      "SRR5377828.9\t147\tchr12\t112843692\t25\t101M\t=\t112843657\t-136\tGTCTGGGCTTCCGCAGCTTCTTCTTCTTGAAGTAAGCATCAGTAAGATGTTTTGGGATTTTTACATTGCTGATATCGATTTTGGTTGAAGTGGCAATGACA\tFFFFFFFFFFFFFFFFFFFFFFFFFFFFIIIIIIIIIIIIIIIIIIIIIIIIIIIIIIIIIIIIIIIIIIIIIIIIIIFIIIIIIIIIFFFFFFFFFFBBB\tNM:i:0\tMD:Z:101\tMC:Z:101M\tAS:i:101\tXS:i:96\tXA:Z:chr18,-6462331,101M,1;chr7,+137407311,101M,1;chr4,+66439758,101M,2;\n",
      "SRR5377828.10\t99\tchr2\t80390042\t52\t101M\t=\t80390242\t296\tGGGTAGGGCTTGAATTTCCAACATGATGTTGGGGATATGACAAACTGACATCTTGTGGGGCATGACTACTTCCTGATCTAAATTGAATTTTGATAGGCCTT\tBBBBFFFFFFFFFIIIIIIIIIFIIFIIIFIIIIIIFFFIIIIIIFFIIIIIIIIIIFFFIFFFFFFFFFFFFFFFFFFFFFFFFFFFFFFFFFFBBBFFF\tNM:i:5\tMD:Z:0A26A11G15C1A43\tMC:Z:10M1I86M4S\tAS:i:80\tXS:i:73\tXA:Z:chr11,-114273548,27S74M,1;\n",
      "SRR5377828.10\t147\tchr2\t80390242\t60\t10M1I86M4S\t=\t80390042\t-296\tTCTTTTGGAATTTTCACCTTTATTACTGGCCCAGCCTGGTGGAAAAGCTCGAAAAGGAGCTCCTCGGTCACTTTCGTTTCAAGGTTGCCCACAAAGAGAGT\tBFFFFFFFBFFFFBB<BFFFFFFBBFFFFFFFFFFFFFFFFFFFFFFFIIIIIIIIIFIIIIIIFIIIIFIIIIIIIIIIIIIIIIIIFFFFFFFFFFBBB\tNM:i:3\tMD:Z:45C28A21\tMC:Z:101M\tAS:i:79\tXS:i:67\tXA:Z:chr11,+114271424,67M34S,0;\n",
      "SRR5377828.11\t83\tchr16\t69634733\t60\t101M\t=\t69634680\t-154\tCACAATTTTGATTTTTCTCTATCACAACTTAGAAGCTGTGGTTCAGGAATGTTGAAGATGAGTGCTTAGGATCATTCAGGATTGGGTATGATTAACAGGAC\tFFFFFFFFFFFFFFFFFFFFFFFFIIIIIIIIIIIIIIIIIIIIIIIIIIIIIIIIIIIIIIIIIIIIIIIIIIIIIIIIIIIIIIIIFFFFFFFFFFBBB\tNM:i:2\tMD:Z:24A75T0\tMC:Z:101M\tAS:i:95\tXS:i:20\n",
      "SRR5377828.11\t163\tchr16\t69634680\t60\t101M\t=\t69634733\t154\tAAAGGCTCCTGAGCTACTTTGAGGAAGATCTTGAATTCATAGTGGTACTGGTCCACAATTTTGATTTTTCTCTATCACAACTTAGAAGCTGTGGTTCAGGA\tBBBFFFFFFFFFFIIIIIIIIIIIIIIIIIIIIIIIIIIIIIIIIFIIIIIIIIIIIIIIIIIIIIIIIIIIIIIIIIFFFFFFFFFFFFFFFFBFFFFFB\tNM:i:1\tMD:Z:77A23\tMC:Z:101M\tAS:i:96\tXS:i:0\n",
      "SRR5377828.12\t99\tchr20\t32676137\t60\t101M\t=\t32676136\t100\tTGCTTTATTCATGTAGAAATATCCAACATTGGGAATCGTGTGGGTGTAGATACAAAAAAAGGAAAATGGGGGCATAAACAGCAGTTGGGTTCATCGTGGCA\tBBBFFFFFFFFFFIIIIIIIIIIIIIIIIIIIIIIIIIFIFFIIFFFFIIIIIIIIIIIIFFFFFFFFFFFFFFFFFFFFFFFFFFFFFFFFFFFFFFFFF\tNM:i:0\tMD:Z:101\tMC:Z:101M\tAS:i:101\tXS:i:19\n",
      "SRR5377828.12\t147\tchr20\t32676136\t60\t101M\t=\t32676137\t-100\tTTGCTTTATTCATGTAGAAATATCCAACATTGGGAATCGTGTGGGTGTAGATACAAAAAAAGGAAAATGGGGGCATAAACAGCAGTTGGGTTCATCGTGGC\tFFFFFFFFFFFFFFFFFFFFFFFFFFFFFFFFFFFFFFFFFFFFFFIIIIIIIIIIIIIIIIIIIIIIIIIIIIIIIIIIIIIIIIIIFFFFFFFFFFBBB\tNM:i:0\tMD:Z:101\tMC:Z:101M\tAS:i:101\tXS:i:19\n",
      "SRR5377828.13\t83\tchr11\t8707254\t60\t20S81M\t=\t8707254\t-81\tGACGTGTGCTCTTCCGATCTGCTCCCAAAGCAGCCTGTCATCGTGAAGGCCAAATTCTTCAGCAGAAGAGCTGAGGAGAAGATTAAGAGTGTTGGGGGGAC\t<00BBBB<<007<<<<<00700'7BBB<'<0'<7BFFFFBBBFFBFFFB<FFFFBFFBBFFBBIF<IIIFBBB<FFBIIFFFFFIFFFFFBBBFB<FFBBB\tNM:i:1\tMD:Z:79G1\tMC:Z:79M22S\tAS:i:79\tXS:i:59\n",
      "SRR5377828.13\t163\tchr11\t8707254\t60\t79M22S\t=\t8707254\t81\tGCTCCCAAAGCAGCCTGTCATCGTGAAGGCCAAATTCTTCAGCAGAAGAGCTGAGGAGAAGATTAAGAGTGTTGGGGGGACAGATCGGAAGAGCGTCGTGT\tBB<FFBBFFFBFBBBFBBBBBBF<<BFBBBB<FFFIFFFFBFBFFIIFB7BFFFB<<FBF<<BBFFFFF0<'7BFBBBB77BBBBBB7BBBB007'<<<B0\tNM:i:0\tMD:Z:79\tMC:Z:20S81M\tAS:i:79\tXS:i:59\n"
     ]
    }
   ],
   "source": [
    "!head -120 ../data/alignments/SRR5377828-GRCh37_hg19.sam"
   ]
  },
  {
   "cell_type": "code",
   "execution_count": 23,
   "metadata": {
    "scrolled": true
   },
   "outputs": [
    {
     "name": "stdout",
     "output_type": "stream",
     "text": [
      "SRR5377828.12287961\t145\tchr12\t52913523\t25\t36S65M\t=\t52912837\t-751\tGGTGTCCAGAACCTTGTTCTGCTGCTCCAGGAACCGCACCTTGTCGATGAAGGAGGCAAACTTATTGTTGAGGGTCTTGATCTGCTCGCGCTCCTCGGTCC\t0BBB<B<<<<<BBFBBBB<BBBBBFFFFFFB<7BBB<7FBBB<BBBBBBFFFBBBFFFBBFFFFIIIFFFB<0<7BIFFF<FFFFFIIFFFFFFFFFFBBB\tNM:i:0\tMD:Z:65\tMC:Z:101M\tAS:i:65\tXS:i:57\tSA:Z:chr12,52912906,-,41M60S,17,0;\tXA:Z:chr11,+65494714,14S21M3I50M13S,4;chr12,-52827589,37S64M,2;\n",
      "SRR5377828.12287961\t2193\tchr12\t52912906\t17\t41M60H\t=\t52912837\t-110\tGGTGTCCAGAACCTTGTTCTGCTGCTCCAGGAACCGCACCT\t0BBB<B<<<<<BBFBBBB<BBBBBFFFFFFB<7BBB<7FBB\tNM:i:0\tMD:Z:41\tMC:Z:101M\tAS:i:41\tXS:i:37\tSA:Z:chr12,52913523,-,36S65M,25,0;\tXA:Z:chr12,-52885486,4S37M60S,0;chr12,-53147266,41M60S,1;chr12,-52866026,41M60S,1;chr12,-52844366,41M60S,1;\n"
     ]
    }
   ],
   "source": [
    "!tail -2 ../data/alignments/SRR5377828-GRCh37_hg19.sam"
   ]
  },
  {
   "cell_type": "code",
   "execution_count": 24,
   "metadata": {},
   "outputs": [
    {
     "name": "stdout",
     "output_type": "stream",
     "text": [
      "27262817\n"
     ]
    }
   ],
   "source": [
    "# get the total number of reads of a BAM file (may include unmapped and duplicated multi-aligned reads)\n",
    "!samtools view -@ 24 -c ../data/alignments/SRR5377828-GRCh37_hg19.sam"
   ]
  },
  {
   "cell_type": "code",
   "execution_count": 25,
   "metadata": {},
   "outputs": [
    {
     "name": "stdout",
     "output_type": "stream",
     "text": [
      "27124834\n"
     ]
    }
   ],
   "source": [
    "# counting only mapped (primary aligned) reads\n",
    "!samtools view -@ 24 -c -F 260 ../data/alignments/SRR5377828-GRCh37_hg19.sam"
   ]
  },
  {
   "cell_type": "markdown",
   "metadata": {},
   "source": [
    "#### SRR5377828-GRCh38_p13"
   ]
  },
  {
   "cell_type": "code",
   "execution_count": 26,
   "metadata": {
    "scrolled": true
   },
   "outputs": [
    {
     "name": "stdout",
     "output_type": "stream",
     "text": [
      "SRR5377828.12287961\t145\tNC_000012.12\t52519739\t25\t36S65M\t=\t52519053\t-751\tGGTGTCCAGAACCTTGTTCTGCTGCTCCAGGAACCGCACCTTGTCGATGAAGGAGGCAAACTTATTGTTGAGGGTCTTGATCTGCTCGCGCTCCTCGGTCC\t0BBB<B<<<<<BBFBBBB<BBBBBFFFFFFB<7BBB<7FBBB<BBBBBBFFFBBBFFFBBFFFFIIIFFFB<0<7BIFFF<FFFFFIIFFFFFFFFFFBBB\tNM:i:0\tMD:Z:65\tMC:Z:101M\tAS:i:65\tXS:i:57\tSA:Z:NC_000012.12,52519122,-,41M60S,17,0;\tXA:Z:NC_000011.10,+65727243,14S21M3I50M13S,4;NC_000012.12,-52433805,37S64M,2;\n",
      "SRR5377828.12287961\t2193\tNC_000012.12\t52519122\t17\t41M60H\t=\t52519053\t-110\tGGTGTCCAGAACCTTGTTCTGCTGCTCCAGGAACCGCACCT\t0BBB<B<<<<<BBFBBBB<BBBBBFFFFFFB<7BBB<7FBB\tNM:i:0\tMD:Z:41\tMC:Z:101M\tAS:i:41\tXS:i:37\tSA:Z:NC_000012.12,52519739,-,36S65M,25,0;\tXA:Z:NC_000012.12,-52491702,4S37M60S,0;NC_000012.12,-52753482,41M60S,1;NC_000012.12,-52472242,41M60S,1;NC_000012.12,-52450582,41M60S,1;\n"
     ]
    }
   ],
   "source": [
    "!tail -2 ../data/alignments/SRR5377828-GRCh38_p13.sam"
   ]
  },
  {
   "cell_type": "code",
   "execution_count": 27,
   "metadata": {},
   "outputs": [
    {
     "name": "stdout",
     "output_type": "stream",
     "text": [
      "27263618\n"
     ]
    }
   ],
   "source": [
    "# get the total number of reads of a BAM file (may include unmapped and duplicated multi-aligned reads)\n",
    "!samtools view -@ 24 -c ../data/alignments/SRR5377828-GRCh38_p13.sam"
   ]
  },
  {
   "cell_type": "markdown",
   "metadata": {},
   "source": [
    "# Analysis for Bucketing"
   ]
  },
  {
   "cell_type": "markdown",
   "metadata": {},
   "source": [
    "## Helper Functions"
   ]
  },
  {
   "cell_type": "code",
   "execution_count": 14,
   "metadata": {},
   "outputs": [],
   "source": [
    "import os\n",
    "import math\n",
    "import pylab as plt\n",
    "import numpy as np\n",
    "import pandas as pd\n",
    "import matplotlib.patches as patches\n",
    "import pysam\n",
    "\n",
    "from Bio import SeqIO\n",
    "from Bio.SeqIO.FastaIO import SimpleFastaParser\n",
    "from Bio.SeqIO.QualityIO import FastqGeneralIterator"
   ]
  },
  {
   "cell_type": "code",
   "execution_count": 15,
   "metadata": {},
   "outputs": [],
   "source": [
    "def plot_fastq_qualities(filename, ax=None, limit=10000):\n",
    "\n",
    "    fastq_parser = SeqIO.parse(open(filename, \"r\"), \"fastq\")\n",
    "    res=[]\n",
    "    c=0\n",
    "    for record in fastq_parser:\n",
    "        score=record.letter_annotations[\"phred_quality\"]\n",
    "        res.append(score)\n",
    "        c+=1\n",
    "        if c>limit:\n",
    "            break\n",
    "    df = pd.DataFrame(res)\n",
    "    l = len(df.T)+1\n",
    "\n",
    "    if ax==None:\n",
    "        f,ax=plt.subplots(figsize=(20,5))\n",
    "    rect = patches.Rectangle((0,0),l,20,linewidth=0,facecolor='r',alpha=.4)\n",
    "    ax.add_patch(rect)\n",
    "    rect = patches.Rectangle((0,20),l,8,linewidth=0,facecolor='yellow',alpha=.4)\n",
    "    ax.add_patch(rect)\n",
    "    rect = patches.Rectangle((0,28),l,12,linewidth=0,facecolor='g',alpha=.4)\n",
    "    ax.add_patch(rect)\n",
    "    df.mean().plot(ax=ax,c='black')\n",
    "    boxprops = dict(linestyle='-', linewidth=1, color='black')\n",
    "    df.plot(kind='box', ax=ax, grid=False, showfliers=False,\n",
    "            color=dict(boxes='black',whiskers='black')  )\n",
    "    ax.set_xticks(np.arange(0, l, 5))\n",
    "    ax.set_xticklabels(np.arange(0, l, 5))\n",
    "    ax.set_xlabel('position(bp)')\n",
    "    ax.set_ylabel('Phred score')\n",
    "    ax.set_xlim((0,l))\n",
    "    ax.set_ylim((0,40))\n",
    "    ax.set_title('per base sequence quality')    \n",
    "    return"
   ]
  },
  {
   "cell_type": "code",
   "execution_count": 16,
   "metadata": {},
   "outputs": [],
   "source": [
    "def fastq_to_dataframe(filename, size=1000):\n",
    "    \"\"\"Convert fastq to dataframe.\n",
    "        size: limit to the first reads of total size\n",
    "        Returns: dataframe with reads\n",
    "    \"\"\"\n",
    "\n",
    "    ext = os.path.splitext(filename)[1]\n",
    "    fastq_parser = SeqIO.parse(open(filename, \"r\"), \"fastq\")\n",
    "    i=0\n",
    "    res=[]\n",
    "    for fastq_rec in fastq_parser:\n",
    "        #print (fastq_rec.seq)\n",
    "        i+=1\n",
    "        if i>size:\n",
    "            break\n",
    "        res.append([fastq_rec.id, str(fastq_rec.seq)])\n",
    "    df = pd.DataFrame(res, columns=['id','seq'])\n",
    "    df['length'] = df.seq.str.len()\n",
    "    return df\n",
    "\n",
    "def normpdf(x, mean, sd):\n",
    "    \"\"\"sample a normal distribution at given point\"\"\"\n",
    "\n",
    "    var = float(sd)**2\n",
    "    denom = (2*math.pi*var)**.5\n",
    "    num = math.exp(-(float(x)-float(mean))**2/(2*var))\n",
    "    return num/denom\n",
    "\n",
    "def plot_fastq_gc_content(filename, ax=None, limit=50000):\n",
    "\n",
    "    from Bio.SeqUtils import GC\n",
    "    if ax==None:\n",
    "      f,ax=plt.subplots(figsize=(20,5))\n",
    "    df = fastq_to_dataframe(filename, size=limit)\n",
    "    gc = df.seq.apply(lambda x: GC(x))  \n",
    "    gc.hist(ax=ax,bins=150,color='black',grid=False,histtype='step',lw=2)\n",
    "    ax.set_xlim((0,100))    \n",
    "    x=np.arange(1,100,.1)\n",
    "    f = [normpdf(i, gc.mean(), gc.std()) for i in x]    \n",
    "    ax2=ax.twinx()   \n",
    "    ax2.plot(x,f)\n",
    "    ax2.set_ylim(0,max(f))\n",
    "    ax.set_title('GC content - Distribution over all sequences',size=15)\n",
    "    ax.set_xlabel('Mean GC content (%)')\n",
    "    ax.set_ylabel('Total number of reads')\n",
    "    return"
   ]
  },
  {
   "cell_type": "code",
   "execution_count": 17,
   "metadata": {},
   "outputs": [],
   "source": [
    "def bam_to_df(bam, chr = None, start=None, stop = None, limit=10):\n",
    "\n",
    "    query_name = []\n",
    "    flag = []\n",
    "    reference_id = []\n",
    "    reference_start = []\n",
    "    mapping_quality = []\n",
    "    cigarstring = []\n",
    "    next_reference_id = []\n",
    "    next_reference_start = []\n",
    "    query_alignment_length = []\n",
    "    query_sequence = []\n",
    "    query_qualities = []\n",
    "    tags = []\n",
    "    \n",
    "    countdown = limit\n",
    "    for read in bam.fetch(chr, start, stop):\n",
    "        query_name.append(read.query_name)\n",
    "        flag.append(read.flag)\n",
    "        reference_id.append(read.reference_id)\n",
    "        reference_start.append(read.reference_start)\n",
    "        mapping_quality.append(read.mapping_quality)\n",
    "        cigarstring.append(read.cigarstring)\n",
    "        next_reference_id.append(read.next_reference_id)\n",
    "        next_reference_start.append(read.next_reference_start)\n",
    "        query_alignment_length.append(read.query_alignment_length)\n",
    "        query_sequence.append(read.query_sequence)\n",
    "        query_qualities.append(read.query_qualities)\n",
    "        tags.append(read.tags)\n",
    "        countdown = countdown - 1\n",
    "        if(countdown==0): break\n",
    "            \n",
    "    return pd.DataFrame({\n",
    "        'query_name': query_name,\n",
    "        'flag': flag,\n",
    "        'reference_id': reference_id,\n",
    "        'reference_start': reference_start,\n",
    "        'mapping_quality': mapping_quality,\n",
    "        'cigarstring': cigarstring,\n",
    "        'next_reference_id': next_reference_id,\n",
    "        'next_reference_start': next_reference_start,\n",
    "        'query_alignment_length': query_alignment_length,\n",
    "        'query_sequence': query_sequence,\n",
    "        'query_qualities': query_qualities,\n",
    "        'tags': tags\n",
    "    })\n",
    "\n",
    "samfile = pysam.AlignmentFile('../data/alignments/SRR5377828-pseudomonas_aeruginosa_pao1-sorted.bam', \"rb\")"
   ]
  },
  {
   "cell_type": "code",
   "execution_count": 18,
   "metadata": {},
   "outputs": [],
   "source": [
    "def bold_char(string, pos):\n",
    "    string_list = list(string)\n",
    "    BOLD = '\\033[1m'\n",
    "    END = '\\033[0m'\n",
    "    string_list.insert(pos, BOLD)\n",
    "    string_list.insert(pos+2, END)\n",
    "    return(\"\".join(string_list))\n",
    "\n",
    "def sam_flag_decoder(flag, logging=True):\n",
    "    description = []\n",
    "    for bit in range(12):\n",
    "        bit_description = \"\"\n",
    "        flag_component = flag & (1<<bit) # check if a particular bit is set on the binary flag\n",
    "        binary_string = '{0:012b}'.format(flag) # convert to binary and set length to 12 bits\n",
    "        if(flag_component): binary_string = bold_char(binary_string, 11-bit) # bold the bit if is set\n",
    "        if(flag_component and bit == 0):  \n",
    "            bit_description = \"read paired - template having multiple segments in sequencing\"\n",
    "            description.append(\"read paired - template having multiple segments in sequencing\")\n",
    "        if(flag_component and bit == 1):  \n",
    "            bit_description = \"read mapped in proper pair - each segment properly aligned according to the aligner\"\n",
    "            description.append(\"read mapped in proper pair - each segment properly aligned according to the aligner\")\n",
    "        if(flag_component and bit == 2):  \n",
    "            bit_description = \"read unmapped - segment unmapped\"\n",
    "            description.append(\"read unmapped - segment unmapped\")\n",
    "        if(flag_component and bit == 3):  \n",
    "            bit_description = \"mate unmapped - next segment in the template unmapped\"\n",
    "            description.append(\"mate unmapped - next segment in the template unmapped\")\n",
    "        if(flag_component and bit == 4):  \n",
    "            bit_description = \"read reverse strand - SEQ being reverse complemented\"\n",
    "            description.append(\"read reverse strand - SEQ being reverse complemented\")\n",
    "        if(flag_component and bit == 5):  \n",
    "            bit_description = \"mate reverse strand - SEQ of the next segment in the template being reversed\"\n",
    "            description.append(\"mate reverse strand - SEQ of the next segment in the template being reversed\")\n",
    "        if(flag_component and bit == 6):  \n",
    "            bit_description = \"first in pair - the first segment in the template\"\n",
    "            description.append(\"first in pair - the first segment in the template\")\n",
    "        if(flag_component and bit == 7):  \n",
    "            bit_description = \"second in pair - the last segment in the template\"\n",
    "            description.append(\"second in pair - the last segment in the template\")\n",
    "        if(flag_component and bit == 8):  \n",
    "            bit_description = \"not primary alignment - secondary alignment\"\n",
    "            description.append(\"not primary alignment - secondary alignment\")  \n",
    "        if(flag_component and bit == 9):  \n",
    "            bit_description = \"read fails platform/vendor quality checks - not passing quality controls\"\n",
    "            description.append(\"read fails platform/vendor quality checks - not passing quality controls\")\n",
    "        if(flag_component and bit == 10): \n",
    "            bit_description = \"read is PCR or optical duplicate\"\n",
    "            description.append(\"read is PCR or optical duplicate\")\n",
    "        if(flag_component and bit == 11): \n",
    "            bit_description = \"supplementary alignment\"\n",
    "            description.append(\"supplementary alignment\")\n",
    "        if(logging):\n",
    "            if(bit_description): print(binary_string + \"  \" + \"{:<4}\".format(str(flag_component)) + \"  \" + description[-1])\n",
    "            else: print(binary_string + \"  \" + \"{:<4}\".format(str(flag_component)))\n",
    "    return(\" + \".join(description))"
   ]
  },
  {
   "cell_type": "code",
   "execution_count": 19,
   "metadata": {},
   "outputs": [],
   "source": [
    "def sam_flag_to_bin(flag):\n",
    "    print(\"{:<4}\".format(str(flag)) + \": \" + '{0:012b}'.format(flag))\n",
    "    print(\"{:<4}\".format(str(4095-flag)) + \": \" + '{0:012b}'.format(4095-flag))"
   ]
  },
  {
   "cell_type": "markdown",
   "metadata": {},
   "source": [
    "## FASTQ Files"
   ]
  },
  {
   "cell_type": "markdown",
   "metadata": {},
   "source": [
    "<img src=\"https://i0.wp.com/thesequencingcenter.com/wp-content/uploads/2019/03/paired-end-read-1.jpg?resize=892%2C367&ssl=1\">"
   ]
  },
  {
   "cell_type": "code",
   "execution_count": 5,
   "metadata": {},
   "outputs": [
    {
     "name": "stdout",
     "output_type": "stream",
     "text": [
      "../data/SRR5377828/\n",
      "├── [3.2G]  SRR5377828_1.fastq\n",
      "└── [3.2G]  SRR5377828_2.fastq\n",
      "\n",
      "0 directories, 2 files\n"
     ]
    }
   ],
   "source": [
    "!tree ../data/SRR5377828/ -h"
   ]
  },
  {
   "cell_type": "code",
   "execution_count": 557,
   "metadata": {},
   "outputs": [
    {
     "name": "stdout",
     "output_type": "stream",
     "text": [
      "@SRR5377828.1 1 length=101\n",
      "AGGAAAGTCAGGCATCGCCTAAAAGGAGTGGTCCCTATCTAGCCCCAAGTCTGGAGCAGAAAGGGCAGGTCCATTCTGGCCCAAGTGACATTGTTAGATCC\n",
      "+SRR5377828.1 1 length=101\n",
      "BBBFFFBFFFFFFIFIFFFIIFFIIIBFBFFIIIIIIIIFIFFFFFB<B<BBFFIIIIIFFIFFFFFBB<BBBBFBFFBBBBBBFFFBFBBFBBBBFFFBF\n",
      "@SRR5377828.2 2 length=101\n",
      "GTGGAGTTGGTCTTCTCACTCTTGAAGCTGCTCAATGTCTCCCTGTCAGTGCCGCTGAAGCAGGAGTCTGAGGAGCCGGCTTTCTGGGGCGTGGGCTCCCC\n",
      "+SRR5377828.2 2 length=101\n",
      "BBBFBFBFFFFFFIIIIIIIIIIIIIIIIIIIIIIIIIIIIIIIIFIIIFFFIIFFIFFIFIIIIIFIFFFFFBFFFBBFFFBFFFFBBFFBFFFFFBBBF\n"
     ]
    }
   ],
   "source": [
    "!head -8 ../data/SRR5377828/SRR5377828_1.fastq"
   ]
  },
  {
   "cell_type": "code",
   "execution_count": 556,
   "metadata": {},
   "outputs": [
    {
     "name": "stdout",
     "output_type": "stream",
     "text": [
      "@SRR5377828.1 1 length=101\n",
      "CATGGGAACTGTGAAGAGGCACCCTGGCAAGCAGCAGTGATTGGGGGAGGGGACAGGATCTAACAATGTCACTTGGGCCAGAATGGACCTGCCCTTTCTGC\n",
      "+SRR5377828.1 1 length=101\n",
      "B<BFFFFFFFFBFFBFFIIIFIFFFFFBFBFFBFIFFFFBBFFFFFF<BBFFBBBBBB<BBBBBB<BB<BBBBBBBBBBBBBBBBBBBBBBBBBBBBBBB<\n",
      "@SRR5377828.2 2 length=101\n",
      "NNNNNNNNNNNNNNNNNNNNNNNCTGGTGAGGANNNNNNNNNNNNNGGAACAACGCAGGGGGGCAGGTGGCTATCAGCCCCTTGACCGGCGGGGCTCAGGG\n",
      "+SRR5377828.2 2 length=101\n",
      "#####################################################################################################\n"
     ]
    }
   ],
   "source": [
    "!head -8 ../data/SRR5377828/SRR5377828_2.fastq"
   ]
  },
  {
   "cell_type": "code",
   "execution_count": 53,
   "metadata": {},
   "outputs": [
    {
     "data": {
      "text/html": [
       "<div>\n",
       "<style scoped>\n",
       "    .dataframe tbody tr th:only-of-type {\n",
       "        vertical-align: middle;\n",
       "    }\n",
       "\n",
       "    .dataframe tbody tr th {\n",
       "        vertical-align: top;\n",
       "    }\n",
       "\n",
       "    .dataframe thead th {\n",
       "        text-align: right;\n",
       "    }\n",
       "</style>\n",
       "<table border=\"1\" class=\"dataframe\">\n",
       "  <thead>\n",
       "    <tr style=\"text-align: right;\">\n",
       "      <th></th>\n",
       "      <th>id</th>\n",
       "      <th>seq</th>\n",
       "      <th>length</th>\n",
       "    </tr>\n",
       "  </thead>\n",
       "  <tbody>\n",
       "    <tr>\n",
       "      <th>0</th>\n",
       "      <td>SRR5377828.1</td>\n",
       "      <td>AGGAAAGTCAGGCATCGCCTAAAAGGAGTGGTCCCTATCTAGCCCC...</td>\n",
       "      <td>101</td>\n",
       "    </tr>\n",
       "    <tr>\n",
       "      <th>1</th>\n",
       "      <td>SRR5377828.2</td>\n",
       "      <td>GTGGAGTTGGTCTTCTCACTCTTGAAGCTGCTCAATGTCTCCCTGT...</td>\n",
       "      <td>101</td>\n",
       "    </tr>\n",
       "    <tr>\n",
       "      <th>2</th>\n",
       "      <td>SRR5377828.3</td>\n",
       "      <td>GCTTTCATGCTCAGCTGGGACTGCAGCTCAATCTCCAGGCCTTGGA...</td>\n",
       "      <td>101</td>\n",
       "    </tr>\n",
       "    <tr>\n",
       "      <th>3</th>\n",
       "      <td>SRR5377828.4</td>\n",
       "      <td>GTAGGTTGGGCGCTCGATGTCTAGGTTGCGGCGGCAGATGTCATAG...</td>\n",
       "      <td>101</td>\n",
       "    </tr>\n",
       "    <tr>\n",
       "      <th>4</th>\n",
       "      <td>SRR5377828.5</td>\n",
       "      <td>GCCTCACTGAAGCCAAGTCCACAATGTCGCCGATATCTTCCTGATA...</td>\n",
       "      <td>101</td>\n",
       "    </tr>\n",
       "  </tbody>\n",
       "</table>\n",
       "</div>"
      ],
      "text/plain": [
       "             id                                                seq  length\n",
       "0  SRR5377828.1  AGGAAAGTCAGGCATCGCCTAAAAGGAGTGGTCCCTATCTAGCCCC...     101\n",
       "1  SRR5377828.2  GTGGAGTTGGTCTTCTCACTCTTGAAGCTGCTCAATGTCTCCCTGT...     101\n",
       "2  SRR5377828.3  GCTTTCATGCTCAGCTGGGACTGCAGCTCAATCTCCAGGCCTTGGA...     101\n",
       "3  SRR5377828.4  GTAGGTTGGGCGCTCGATGTCTAGGTTGCGGCGGCAGATGTCATAG...     101\n",
       "4  SRR5377828.5  GCCTCACTGAAGCCAAGTCCACAATGTCGCCGATATCTTCCTGATA...     101"
      ]
     },
     "execution_count": 53,
     "metadata": {},
     "output_type": "execute_result"
    }
   ],
   "source": [
    "fastq_to_dataframe('../data/SRR5377828/SRR5377828_1.fastq', size=5)"
   ]
  },
  {
   "cell_type": "code",
   "execution_count": 52,
   "metadata": {},
   "outputs": [
    {
     "data": {
      "text/html": [
       "<div>\n",
       "<style scoped>\n",
       "    .dataframe tbody tr th:only-of-type {\n",
       "        vertical-align: middle;\n",
       "    }\n",
       "\n",
       "    .dataframe tbody tr th {\n",
       "        vertical-align: top;\n",
       "    }\n",
       "\n",
       "    .dataframe thead th {\n",
       "        text-align: right;\n",
       "    }\n",
       "</style>\n",
       "<table border=\"1\" class=\"dataframe\">\n",
       "  <thead>\n",
       "    <tr style=\"text-align: right;\">\n",
       "      <th></th>\n",
       "      <th>id</th>\n",
       "      <th>seq</th>\n",
       "      <th>length</th>\n",
       "    </tr>\n",
       "  </thead>\n",
       "  <tbody>\n",
       "    <tr>\n",
       "      <th>0</th>\n",
       "      <td>SRR5377828.1</td>\n",
       "      <td>CATGGGAACTGTGAAGAGGCACCCTGGCAAGCAGCAGTGATTGGGG...</td>\n",
       "      <td>101</td>\n",
       "    </tr>\n",
       "    <tr>\n",
       "      <th>1</th>\n",
       "      <td>SRR5377828.2</td>\n",
       "      <td>NNNNNNNNNNNNNNNNNNNNNNNCTGGTGAGGANNNNNNNNNNNNN...</td>\n",
       "      <td>101</td>\n",
       "    </tr>\n",
       "    <tr>\n",
       "      <th>2</th>\n",
       "      <td>SRR5377828.3</td>\n",
       "      <td>NNNNNNNNNNNNNNNNNNNNNNNGAGAGGAACCGNNNNNNNNNNNN...</td>\n",
       "      <td>101</td>\n",
       "    </tr>\n",
       "    <tr>\n",
       "      <th>3</th>\n",
       "      <td>SRR5377828.4</td>\n",
       "      <td>GGGCACTGGCTCTGGCTTCACCTCACTCCTGATGGAGCGGCTCTCT...</td>\n",
       "      <td>101</td>\n",
       "    </tr>\n",
       "    <tr>\n",
       "      <th>4</th>\n",
       "      <td>SRR5377828.5</td>\n",
       "      <td>CAGCAGACTTGGGTAATGAAGAGAGAAAACAAAAGTTCTTGAGACT...</td>\n",
       "      <td>101</td>\n",
       "    </tr>\n",
       "  </tbody>\n",
       "</table>\n",
       "</div>"
      ],
      "text/plain": [
       "             id                                                seq  length\n",
       "0  SRR5377828.1  CATGGGAACTGTGAAGAGGCACCCTGGCAAGCAGCAGTGATTGGGG...     101\n",
       "1  SRR5377828.2  NNNNNNNNNNNNNNNNNNNNNNNCTGGTGAGGANNNNNNNNNNNNN...     101\n",
       "2  SRR5377828.3  NNNNNNNNNNNNNNNNNNNNNNNGAGAGGAACCGNNNNNNNNNNNN...     101\n",
       "3  SRR5377828.4  GGGCACTGGCTCTGGCTTCACCTCACTCCTGATGGAGCGGCTCTCT...     101\n",
       "4  SRR5377828.5  CAGCAGACTTGGGTAATGAAGAGAGAAAACAAAAGTTCTTGAGACT...     101"
      ]
     },
     "execution_count": 52,
     "metadata": {},
     "output_type": "execute_result"
    }
   ],
   "source": [
    "fastq_to_dataframe('../data/SRR5377828/SRR5377828_2.fastq', size=5)"
   ]
  },
  {
   "cell_type": "markdown",
   "metadata": {},
   "source": [
    "## Quality - phred scores\n",
    "A Phred quality score is a measure of the quality of the identification of a base. So each read has a score along every position. The score measure can be used to filter reads by trimming or removal.\n",
    "Ref: https://dmnfarrell.github.io/python/fastq-quality-python"
   ]
  },
  {
   "cell_type": "markdown",
   "metadata": {},
   "source": [
    "<img src='https://learn.gencore.bio.nyu.edu/wp-content/uploads/2018/01/Screen-Shot-2018-01-07-at-1.36.09-PM-1024x713.png'>"
   ]
  },
  {
   "cell_type": "code",
   "execution_count": 485,
   "metadata": {},
   "outputs": [
    {
     "data": {
      "image/png": "[encoded data removed]",
      "text/plain": [
       "<Figure size 1440x360 with 1 Axes>"
      ]
     },
     "metadata": {
      "needs_background": "light"
     },
     "output_type": "display_data"
    }
   ],
   "source": [
    "plot_fastq_qualities('../data/SRR5377828/SRR5377828_1.fastq',limit=10000)"
   ]
  },
  {
   "cell_type": "code",
   "execution_count": 486,
   "metadata": {},
   "outputs": [
    {
     "data": {
      "image/png": "[encoded data removed]",
      "text/plain": [
       "<Figure size 1440x360 with 1 Axes>"
      ]
     },
     "metadata": {
      "needs_background": "light"
     },
     "output_type": "display_data"
    }
   ],
   "source": [
    "plot_fastq_qualities('../data/SRR5377828/SRR5377828_2.fastq',limit=10000)"
   ]
  },
  {
   "cell_type": "markdown",
   "metadata": {},
   "source": [
    "## GC content\n",
    "https://en.wikipedia.org/wiki/GC-content\n",
    "GC-content (or guanine-cytosine content) is the percentage of nitrogenous bases in a DNA or RNA molecule that are either guanine (G) or cytosine (C). This measure indicates the proportion of G and C bases out of an implied four total bases, also including adenine and thymine in DNA and adenine and uracil in RNA. GC content can be a way to indicate contamination in an isolate. If the distribution of GC is skewed or bi-modal it may indicate that multiple species are present. "
   ]
  },
  {
   "cell_type": "markdown",
   "metadata": {},
   "source": [
    "GC-content is usually expressed as a percentage value, but sometimes as a ratio (called G+C ratio or GC-ratio). GC-content percentage is calculated as\n",
    "\n",
    "${\\displaystyle {\\cfrac {G+C}{A+T+G+C}}\\times 100\\%}$"
   ]
  },
  {
   "cell_type": "code",
   "execution_count": 80,
   "metadata": {},
   "outputs": [
    {
     "data": {
      "image/png": "[encoded data removed]",
      "text/plain": [
       "<Figure size 1440x360 with 2 Axes>"
      ]
     },
     "metadata": {
      "needs_background": "light"
     },
     "output_type": "display_data"
    }
   ],
   "source": [
    "plot_fastq_gc_content('../data/SRR5377828/SRR5377828_1.fastq', limit=50000)"
   ]
  },
  {
   "cell_type": "code",
   "execution_count": 81,
   "metadata": {},
   "outputs": [
    {
     "data": {
      "image/png": "[encoded data removed]",
      "text/plain": [
       "<Figure size 1440x360 with 2 Axes>"
      ]
     },
     "metadata": {
      "needs_background": "light"
     },
     "output_type": "display_data"
    }
   ],
   "source": [
    "plot_fastq_gc_content('../data/SRR5377828/SRR5377828_2.fastq', limit=50000)"
   ]
  },
  {
   "cell_type": "markdown",
   "metadata": {},
   "source": [
    "## Alignment Files"
   ]
  },
  {
   "cell_type": "code",
   "execution_count": 4,
   "metadata": {},
   "outputs": [
    {
     "name": "stdout",
     "output_type": "stream",
     "text": [
      "../data/alignments/\n",
      "├── [2.1G]  SRR5377828-GRCh37_hg19.bam\n",
      "├── [7.9G]  SRR5377828-GRCh37_hg19.sam\n",
      "├── [1.2G]  SRR5377828-GRCh37_hg19-sorted.bam\n",
      "├── [2.8M]  SRR5377828-GRCh37_hg19-sorted.bam.bai\n",
      "├── [2.1G]  SRR5377828-GRCh38_p13.bam\n",
      "├── [8.2G]  SRR5377828-GRCh38_p13.sam\n",
      "├── [1.2G]  SRR5377828-GRCh38_p13-sorted.bam\n",
      "├── [2.9M]  SRR5377828-GRCh38_p13-sorted.bam.bai\n",
      "├── [1.3G]  SRR5377828-pseudomonas_aeruginosa_pao1.bam\n",
      "├── [5.8G]  SRR5377828-pseudomonas_aeruginosa_pao1.sam\n",
      "├── [1.2G]  SRR5377828-pseudomonas_aeruginosa_pao1-sorted.bam\n",
      "├── [ 11K]  SRR5377828-pseudomonas_aeruginosa_pao1-sorted.bam.bai\n",
      "├── [1.3G]  SRR5377828-pseudomonas_fluorescens_SBW25.bam\n",
      "├── [5.8G]  SRR5377828-pseudomonas_fluorescens_SBW25.sam\n",
      "├── [1.2G]  SRR5377828-pseudomonas_fluorescens_SBW25-sorted.bam\n",
      "└── [ 12K]  SRR5377828-pseudomonas_fluorescens_SBW25-sorted.bam.bai\n",
      "\n",
      "0 directories, 16 files\n"
     ]
    }
   ],
   "source": [
    "!tree ../data/alignments/ -h"
   ]
  },
  {
   "cell_type": "code",
   "execution_count": 2,
   "metadata": {},
   "outputs": [
    {
     "name": "stdout",
     "output_type": "stream",
     "text": [
      "@SQ\tSN:NC_012920.1\tLN:16569\n",
      "@PG\tID:bwa\tPN:bwa\tVN:0.7.17-r1188\tCL:bwa mem -t 24 ref_genomes/GRCh38_p13.fasta SRR5377828/SRR5377828_1.fastq SRR5377828/SRR5377828_2.fastq\n",
      "SRR5377828.1\t83\tNC_000001.11\t46185621\t60\t101M\t=\t46185566\t-156\tGGATCTAACAATGTCACTTGGGCCAGAATGGACCTGCCCTTTCTGCTCCAGACTTGGGGCTAGATAGGGACCACTCCTTTTAGGCGATGCCTGACTTTCCT\tFBFFFBBBBFBBFBFFFBBBBBBFFBFBBBB<BBFFFFFIFFIIIIIFFBB<B<BFFFFFIFIIIIIIIIFFBFBIIIFFIIFFFIFIFFFFFFBFFFBBB\tNM:i:0\tMD:Z:101\tMC:Z:101M\tAS:i:101\tXS:i:19\n",
      "SRR5377828.1\t163\tNC_000001.11\t46185566\t60\t101M\t=\t46185621\t156\tCATGGGAACTGTGAAGAGGCACCCTGGCAAGCAGCAGTGATTGGGGGAGGGGACAGGATCTAACAATGTCACTTGGGCCAGAATGGACCTGCCCTTTCTGC\tB<BFFFFFFFFBFFBFFIIIFIFFFFFBFBFFBFIFFFFBBFFFFFF<BBFFBBBBBB<BBBBBB<BB<BBBBBBBBBBBBBBBBBBBBBBBBBBBBBBB<\tNM:i:0\tMD:Z:101\tMC:Z:101M\tAS:i:101\tXS:i:0\n",
      "SRR5377828.2\t83\tNC_000011.10\t65618224\t60\t101M\t=\t65618172\t-153\tGGGGAGCCCACGCCCCAGAAAGCCGGCTCCTCAGACTCCTGCTTCAGCGGCACTGACAGGGAGACATTGAGCAGCTTCAAGAGTGAGAAGACCAACTCCAC\tFBBBFFFFFBFFBBFFFFBFFFBBFFFBFFFFFIFIIIIIFIFFIFFIIFFFIIIFIIIIIIIIIIIIIIIIIIIIIIIIIIIIIIIIFFFFFFBFBFBBB\tNM:i:0\tMD:Z:101\tMC:Z:46S55M\tAS:i:101\tXS:i:0\n",
      "SRR5377828.2\t163\tNC_000011.10\t65618172\t60\t46S55M\t=\t65618224\t153\tNNNNNNNNNNNNNNNNNNNNNNNCTGGTGAGGANNNNNNNNNNNNNGGAACAACGCAGGGGGGCAGGTGGCTATCAGCCCCTTGACCGGCGGGGCTCAGGG\t#####################################################################################################\tNM:i:0\tMD:Z:55\tMC:Z:101M\tAS:i:55\tXS:i:0\n",
      "SRR5377828.3\t99\tNC_000017.11\t41502687\t60\t5S96M\t=\t41502777\t128\tGCTTTCATGCTCAGCTGGGACTGCAGCTCAATCTCCAGGCCTTGGAGCGTGCGCCTGAGCTCCGTGATCTCTGTCTTGCTGGTCTGAATCATGGCAGTGTT\tBBBFFFFFFFFFFIIIIIIIIIIIIIIIIIIIIIIIIIIIIIIIIIIIIIIIIIIIIIIFFFFFFFFFFFFFFFFFFFFFFFFFFFFBFFFFFFFFFFFFF\tNM:i:0\tMD:Z:96\tMC:Z:38M63S\tAS:i:96\tXS:i:33\n"
     ]
    }
   ],
   "source": [
    "!awk 'NR >= 639 && NR <= 645' ../data/alignments/SRR5377828-GRCh38_p13.sam"
   ]
  },
  {
   "cell_type": "code",
   "execution_count": 111,
   "metadata": {},
   "outputs": [
    {
     "name": "stdout",
     "output_type": "stream",
     "text": [
      "@SQ\tSN:NC_002516.2\tLN:6264404\n",
      "@PG\tID:bwa\tPN:bwa\tVN:0.7.17-r1188\tCL:bwa mem -t 24 ref_genomes/pseudomonas_aeruginosa_pao1.fasta SRR5377828/SRR5377828_1.fastq SRR5377828/SRR5377828_2.fastq\n",
      "SRR5377828.1\t77\t*\t0\t0\t*\t*\t0\t0\tAGGAAAGTCAGGCATCGCCTAAAAGGAGTGGTCCCTATCTAGCCCCAAGTCTGGAGCAGAAAGGGCAGGTCCATTCTGGCCCAAGTGACATTGTTAGATCC\tBBBFFFBFFFFFFIFIFFFIIFFIIIBFBFFIIIIIIIIFIFFFFFB<B<BBFFIIIIIFFIFFFFFBB<BBBBFBFFBBBBBBFFFBFBBFBBBBFFFBF\tAS:i:0\tXS:i:0\n",
      "SRR5377828.1\t141\t*\t0\t0\t*\t*\t0\t0\tCATGGGAACTGTGAAGAGGCACCCTGGCAAGCAGCAGTGATTGGGGGAGGGGACAGGATCTAACAATGTCACTTGGGCCAGAATGGACCTGCCCTTTCTGC\tB<BFFFFFFFFBFFBFFIIIFIFFFFFBFBFFBFIFFFFBBFFFFFF<BBFFBBBBBB<BBBBBB<BB<BBBBBBBBBBBBBBBBBBBBBBBBBBBBBBB<\tAS:i:0\tXS:i:0\n",
      "SRR5377828.2\t77\t*\t0\t0\t*\t*\t0\t0\tGTGGAGTTGGTCTTCTCACTCTTGAAGCTGCTCAATGTCTCCCTGTCAGTGCCGCTGAAGCAGGAGTCTGAGGAGCCGGCTTTCTGGGGCGTGGGCTCCCC\tBBBFBFBFFFFFFIIIIIIIIIIIIIIIIIIIIIIIIIIIIIIIIFIIIFFFIIFFIFFIFIIIIIFIFFFFFBFFFBBFFFBFFFFBBFFBFFFFFBBBF\tAS:i:0\tXS:i:0\n",
      "SRR5377828.2\t141\t*\t0\t0\t*\t*\t0\t0\tNNNNNNNNNNNNNNNNNNNNNNNCTGGTGAGGANNNNNNNNNNNNNGGAACAACGCAGGGGGGCAGGTGGCTATCAGCCCCTTGACCGGCGGGGCTCAGGG\t#####################################################################################################\tAS:i:0\tXS:i:0\n",
      "SRR5377828.3\t77\t*\t0\t0\t*\t*\t0\t0\tGCTTTCATGCTCAGCTGGGACTGCAGCTCAATCTCCAGGCCTTGGAGCGTGCGCCTGAGCTCCGTGATCTCTGTCTTGCTGGTCTGAATCATGGCAGTGTT\tBBBFFFFFFFFFFIIIIIIIIIIIIIIIIIIIIIIIIIIIIIIIIIIIIIIIIIIIIIIFFFFFFFFFFFFFFFFFFFFFFFFFFFFBFFFFFFFFFFFFF\tAS:i:0\tXS:i:0\n"
     ]
    }
   ],
   "source": [
    "!awk 'NR >= 1 && NR <= 7' ../data/alignments/SRR5377828-pseudomonas_aeruginosa_pao1.sam"
   ]
  },
  {
   "cell_type": "code",
   "execution_count": 134,
   "metadata": {},
   "outputs": [
    {
     "name": "stdout",
     "output_type": "stream",
     "text": [
      "27263618\n"
     ]
    }
   ],
   "source": [
    "!samtools view -c ../data/alignments/SRR5377828-GRCh38_p13-sorted.bam"
   ]
  },
  {
   "cell_type": "code",
   "execution_count": 139,
   "metadata": {},
   "outputs": [
    {
     "name": "stdout",
     "output_type": "stream",
     "text": [
      "SRR5377828.12287960\t177\tNC_000016.10\t88656956\t60\t101M\tNC_000017.11\t77498970\t0\tGAGCTGGGTCTAGCGGGGCCTGCAACGAGCGGTGTCCATGGGAACCCTCAGTTACGTGGGCCACAAAATCATCGCTATTTTAGGGCTGAGCCAGTTTGAAG\t###################################################B<70<0<'B07BB'<BB7B70BB00<000<B000<<BBB<BBBBBBB00<\tNM:i:7\tMD:Z:10C15C3T3C4T4T13A42\tMC:Z:101M\tAS:i:66\tXS:i:19\n",
      "SRR5377828.12287961\t97\tNC_000012.12\t52519053\t8\t101M\t=\t52519739\t751\tCTGCTCGAACAACGGCTCCAGGTTCTGCCTCACAGTCTTGGTGCCCTGCTCCTGCAGCAGGGTCCACTTGGTGTCCAGAACCTTGTTCTGCTGCTCCAGGA\tBBBBBFFFFFBBFF7FFFFFIIFBFFFFFFIFFIFBFFFIIB7BFFFFFFFIIIIFBFFFB7<<B<BBBBBBBBBBB<BBBBBBBBBBFBBBBBBBBBBBB\tNM:i:0\tMD:Z:101\tMC:Z:36S65M\tAS:i:101\tXS:i:96\tXA:Z:NC_000012.12,+52472173,101M,1;NC_000012.12,+52450513,101M,1;NC_000012.12,+52491629,101M,2;\n",
      "SRR5377828.12287961\t145\tNC_000012.12\t52519739\t25\t36S65M\t=\t52519053\t-751\tGGTGTCCAGAACCTTGTTCTGCTGCTCCAGGAACCGCACCTTGTCGATGAAGGAGGCAAACTTATTGTTGAGGGTCTTGATCTGCTCGCGCTCCTCGGTCC\t0BBB<B<<<<<BBFBBBB<BBBBBFFFFFFB<7BBB<7FBBB<BBBBBBFFFBBBFFFBBFFFFIIIFFFB<0<7BIFFF<FFFFFIIFFFFFFFFFFBBB\tNM:i:0\tMD:Z:65\tMC:Z:101M\tAS:i:65\tXS:i:57\tSA:Z:NC_000012.12,52519122,-,41M60S,17,0;\tXA:Z:NC_000011.10,+65727243,14S21M3I50M13S,4;NC_000012.12,-52433805,37S64M,2;\n",
      "SRR5377828.12287961\t2193\tNC_000012.12\t52519122\t17\t41M60H\t=\t52519053\t-110\tGGTGTCCAGAACCTTGTTCTGCTGCTCCAGGAACCGCACCT\t0BBB<B<<<<<BBFBBBB<BBBBBFFFFFFB<7BBB<7FBB\tNM:i:0\tMD:Z:41\tMC:Z:101M\tAS:i:41\tXS:i:37\tSA:Z:NC_000012.12,52519739,-,36S65M,25,0;\tXA:Z:NC_000012.12,-52491702,4S37M60S,0;NC_000012.12,-52753482,41M60S,1;NC_000012.12,-52472242,41M60S,1;NC_000012.12,-52450582,41M60S,1;\n"
     ]
    }
   ],
   "source": [
    "!tail -4 ../data/alignments/SRR5377828-GRCh38_p13.sam"
   ]
  },
  {
   "cell_type": "code",
   "execution_count": 135,
   "metadata": {},
   "outputs": [
    {
     "name": "stdout",
     "output_type": "stream",
     "text": [
      "24576011\n"
     ]
    }
   ],
   "source": [
    "!samtools view -c ../data/alignments/SRR5377828-pseudomonas_aeruginosa_pao1.sam"
   ]
  },
  {
   "cell_type": "code",
   "execution_count": 140,
   "metadata": {},
   "outputs": [
    {
     "name": "stdout",
     "output_type": "stream",
     "text": [
      "SRR5377828.12287960\t77\t*\t0\t0\t*\t*\t0\t0\tGGAGGGGAGCGTGCAGCCCACTGGGCTCCTCTGCAAGTGCGAGGCCTGGCCCCCACCCCAAGGCCTCCGGCACTGAGAACCCCACACAGACGGATGATCTG\tBBBBF<B7BFF<BB0B7BFFFIII<F<BFBFBFFFBF<<7BBFBBBFFFFBB7<BB<BBBBBB<BB000<B7<BBBBBBB<70<B<7<7<7<<<<<BBBF<\tAS:i:0\tXS:i:0\n",
      "SRR5377828.12287960\t141\t*\t0\t0\t*\t*\t0\t0\tCTTCAAACTGGCTCAGCCCTAAAATAGCGATGATTTTGTGGCCCACGTAACTGAGGGTTCCCATGGACACCGCTCGTTGCAGGCCCCGCTAGACCCAGCTC\t<00BBBBBBB<BBB<<000B<000<00BB07B7BB<'BB70B'<0<07<B###################################################\tAS:i:0\tXS:i:0\n",
      "SRR5377828.12287961\t77\t*\t0\t0\t*\t*\t0\t0\tCTGCTCGAACAACGGCTCCAGGTTCTGCCTCACAGTCTTGGTGCCCTGCTCCTGCAGCAGGGTCCACTTGGTGTCCAGAACCTTGTTCTGCTGCTCCAGGA\tBBBBBFFFFFBBFF7FFFFFIIFBFFFFFFIFFIFBFFFIIB7BFFFFFFFIIIIFBFFFB7<<B<BBBBBBBBBBB<BBBBBBBBBBFBBBBBBBBBBBB\tAS:i:0\tXS:i:0\n",
      "SRR5377828.12287961\t141\t*\t0\t0\t*\t*\t0\t0\tGGACCGAGGAGCGCGAGCAGATCAAGACCCTCAACAATAAGTTTGCCTCCTTCATCGACAAGGTGCGGTTCCTGGAGCAGCAGAACAAGGTTCTGGACACC\tBBBFFFFFFFFFFIIFFFFF<FFFIB7<0<BFFFIIIFFFFBBFFFBBBFFFBBBBBB<BBBF7<BBB7<BFFFFFFBBBBB<BBBBFBB<<<<<B<BBB0\tAS:i:0\tXS:i:0\n"
     ]
    }
   ],
   "source": [
    "!tail -4 ../data/alignments/SRR5377828-pseudomonas_aeruginosa_pao1.sam"
   ]
  },
  {
   "cell_type": "code",
   "execution_count": 565,
   "metadata": {},
   "outputs": [
    {
     "data": {
      "text/html": [
       "<div>\n",
       "<style scoped>\n",
       "    .dataframe tbody tr th:only-of-type {\n",
       "        vertical-align: middle;\n",
       "    }\n",
       "\n",
       "    .dataframe tbody tr th {\n",
       "        vertical-align: top;\n",
       "    }\n",
       "\n",
       "    .dataframe thead th {\n",
       "        text-align: right;\n",
       "    }\n",
       "</style>\n",
       "<table border=\"1\" class=\"dataframe\">\n",
       "  <thead>\n",
       "    <tr style=\"text-align: right;\">\n",
       "      <th></th>\n",
       "      <th>query_name</th>\n",
       "      <th>flag</th>\n",
       "      <th>reference_id</th>\n",
       "      <th>reference_start</th>\n",
       "      <th>mapping_quality</th>\n",
       "      <th>cigarstring</th>\n",
       "      <th>next_reference_id</th>\n",
       "      <th>next_reference_start</th>\n",
       "      <th>query_alignment_length</th>\n",
       "      <th>query_sequence</th>\n",
       "      <th>query_qualities</th>\n",
       "      <th>tags</th>\n",
       "    </tr>\n",
       "  </thead>\n",
       "  <tbody>\n",
       "    <tr>\n",
       "      <th>0</th>\n",
       "      <td>SRR5377828.5086455</td>\n",
       "      <td>163</td>\n",
       "      <td>0</td>\n",
       "      <td>1776</td>\n",
       "      <td>40</td>\n",
       "      <td>70S19M12S</td>\n",
       "      <td>0</td>\n",
       "      <td>1776</td>\n",
       "      <td>19</td>\n",
       "      <td>AGTTTCCTGATCTGTA...</td>\n",
       "      <td>[33, 33, 33, 37,...</td>\n",
       "      <td>[(NM, 0), (MD, 1...</td>\n",
       "    </tr>\n",
       "    <tr>\n",
       "      <th>1</th>\n",
       "      <td>SRR5377828.5086455</td>\n",
       "      <td>83</td>\n",
       "      <td>0</td>\n",
       "      <td>1776</td>\n",
       "      <td>40</td>\n",
       "      <td>32S19M50S</td>\n",
       "      <td>0</td>\n",
       "      <td>1776</td>\n",
       "      <td>19</td>\n",
       "      <td>GTTTCTCTCCAACTCT...</td>\n",
       "      <td>[37, 37, 37, 37,...</td>\n",
       "      <td>[(NM, 0), (MD, 1...</td>\n",
       "    </tr>\n",
       "    <tr>\n",
       "      <th>2</th>\n",
       "      <td>SRR5377828.1711887</td>\n",
       "      <td>163</td>\n",
       "      <td>0</td>\n",
       "      <td>2953</td>\n",
       "      <td>40</td>\n",
       "      <td>33S19M49S</td>\n",
       "      <td>0</td>\n",
       "      <td>2953</td>\n",
       "      <td>19</td>\n",
       "      <td>CTCTGATGATAGCATC...</td>\n",
       "      <td>[33, 33, 33, 37,...</td>\n",
       "      <td>[(NM, 0), (MD, 1...</td>\n",
       "    </tr>\n",
       "    <tr>\n",
       "      <th>3</th>\n",
       "      <td>SRR5377828.3850520</td>\n",
       "      <td>163</td>\n",
       "      <td>0</td>\n",
       "      <td>2953</td>\n",
       "      <td>40</td>\n",
       "      <td>25S19M57S</td>\n",
       "      <td>0</td>\n",
       "      <td>2953</td>\n",
       "      <td>19</td>\n",
       "      <td>ATAGCATCTCAGCAGC...</td>\n",
       "      <td>[33, 33, 33, 37,...</td>\n",
       "      <td>[(NM, 0), (MD, 1...</td>\n",
       "    </tr>\n",
       "    <tr>\n",
       "      <th>4</th>\n",
       "      <td>SRR5377828.5847773</td>\n",
       "      <td>163</td>\n",
       "      <td>0</td>\n",
       "      <td>2953</td>\n",
       "      <td>40</td>\n",
       "      <td>10S19M72S</td>\n",
       "      <td>0</td>\n",
       "      <td>2953</td>\n",
       "      <td>19</td>\n",
       "      <td>CAACCAACAAAGGAAG...</td>\n",
       "      <td>[33, 33, 33, 37,...</td>\n",
       "      <td>[(NM, 0), (MD, 1...</td>\n",
       "    </tr>\n",
       "    <tr>\n",
       "      <th>5</th>\n",
       "      <td>SRR5377828.6639847</td>\n",
       "      <td>163</td>\n",
       "      <td>0</td>\n",
       "      <td>2953</td>\n",
       "      <td>40</td>\n",
       "      <td>18S19M64S</td>\n",
       "      <td>0</td>\n",
       "      <td>2953</td>\n",
       "      <td>19</td>\n",
       "      <td>CTCAGCAGCAACCAAC...</td>\n",
       "      <td>[33, 33, 33, 37,...</td>\n",
       "      <td>[(NM, 0), (MD, 1...</td>\n",
       "    </tr>\n",
       "    <tr>\n",
       "      <th>6</th>\n",
       "      <td>SRR5377828.1711887</td>\n",
       "      <td>83</td>\n",
       "      <td>0</td>\n",
       "      <td>2953</td>\n",
       "      <td>40</td>\n",
       "      <td>21S19M61S</td>\n",
       "      <td>0</td>\n",
       "      <td>2953</td>\n",
       "      <td>19</td>\n",
       "      <td>CATCTCAGCAGCAACC...</td>\n",
       "      <td>[33, 33, 33, 22,...</td>\n",
       "      <td>[(NM, 0), (MD, 1...</td>\n",
       "    </tr>\n",
       "    <tr>\n",
       "      <th>7</th>\n",
       "      <td>SRR5377828.3850520</td>\n",
       "      <td>83</td>\n",
       "      <td>0</td>\n",
       "      <td>2953</td>\n",
       "      <td>40</td>\n",
       "      <td>39S19M43S</td>\n",
       "      <td>0</td>\n",
       "      <td>2953</td>\n",
       "      <td>19</td>\n",
       "      <td>TGCTCTTCCGATCTAT...</td>\n",
       "      <td>[37, 37, 33, 37,...</td>\n",
       "      <td>[(NM, 0), (MD, 1...</td>\n",
       "    </tr>\n",
       "    <tr>\n",
       "      <th>8</th>\n",
       "      <td>SRR5377828.5847773</td>\n",
       "      <td>83</td>\n",
       "      <td>0</td>\n",
       "      <td>2953</td>\n",
       "      <td>40</td>\n",
       "      <td>21S19M61S</td>\n",
       "      <td>0</td>\n",
       "      <td>2953</td>\n",
       "      <td>19</td>\n",
       "      <td>TCTTCCGATCTCAACC...</td>\n",
       "      <td>[33, 37, 37, 37,...</td>\n",
       "      <td>[(NM, 0), (MD, 1...</td>\n",
       "    </tr>\n",
       "    <tr>\n",
       "      <th>9</th>\n",
       "      <td>SRR5377828.6639847</td>\n",
       "      <td>83</td>\n",
       "      <td>0</td>\n",
       "      <td>2953</td>\n",
       "      <td>40</td>\n",
       "      <td>16S19M66S</td>\n",
       "      <td>0</td>\n",
       "      <td>2953</td>\n",
       "      <td>19</td>\n",
       "      <td>CAGCAGCAACCAACAA...</td>\n",
       "      <td>[33, 37, 37, 37,...</td>\n",
       "      <td>[(NM, 0), (MD, 1...</td>\n",
       "    </tr>\n",
       "  </tbody>\n",
       "</table>\n",
       "</div>"
      ],
      "text/plain": [
       "           query_name  ...                 tags\n",
       "0  SRR5377828.5086455  ...  [(NM, 0), (MD, 1...\n",
       "1  SRR5377828.5086455  ...  [(NM, 0), (MD, 1...\n",
       "2  SRR5377828.1711887  ...  [(NM, 0), (MD, 1...\n",
       "3  SRR5377828.3850520  ...  [(NM, 0), (MD, 1...\n",
       "4  SRR5377828.5847773  ...  [(NM, 0), (MD, 1...\n",
       "5  SRR5377828.6639847  ...  [(NM, 0), (MD, 1...\n",
       "6  SRR5377828.1711887  ...  [(NM, 0), (MD, 1...\n",
       "7  SRR5377828.3850520  ...  [(NM, 0), (MD, 1...\n",
       "8  SRR5377828.5847773  ...  [(NM, 0), (MD, 1...\n",
       "9  SRR5377828.6639847  ...  [(NM, 0), (MD, 1...\n",
       "\n",
       "[10 rows x 12 columns]"
      ]
     },
     "execution_count": 565,
     "metadata": {},
     "output_type": "execute_result"
    }
   ],
   "source": [
    "pd.set_option('max_colwidth', 20)\n",
    "samfile = pysam.AlignmentFile('../data/alignments/SRR5377828-pseudomonas_aeruginosa_pao1-sorted.bam', \"rb\")\n",
    "bam_to_df(samfile, chr = None, start=None, stop = None, limit=10)"
   ]
  },
  {
   "cell_type": "code",
   "execution_count": 22,
   "metadata": {},
   "outputs": [],
   "source": [
    "samfile = pysam.AlignmentFile('../data/alignments/SRR5377828-GRCh38_p13-sorted.bam', \"rb\")\n",
    "all_reads_pseudo = bam_to_df(samfile, chr = None, start=None, stop = None, limit=300000)"
   ]
  },
  {
   "cell_type": "code",
   "execution_count": 26,
   "metadata": {},
   "outputs": [
    {
     "data": {
      "text/html": [
       "<div>\n",
       "<style scoped>\n",
       "    .dataframe tbody tr th:only-of-type {\n",
       "        vertical-align: middle;\n",
       "    }\n",
       "\n",
       "    .dataframe tbody tr th {\n",
       "        vertical-align: top;\n",
       "    }\n",
       "\n",
       "    .dataframe thead th {\n",
       "        text-align: right;\n",
       "    }\n",
       "</style>\n",
       "<table border=\"1\" class=\"dataframe\">\n",
       "  <thead>\n",
       "    <tr style=\"text-align: right;\">\n",
       "      <th></th>\n",
       "      <th>query_name</th>\n",
       "      <th>flag</th>\n",
       "      <th>reference_id</th>\n",
       "      <th>reference_start</th>\n",
       "      <th>mapping_quality</th>\n",
       "      <th>cigarstring</th>\n",
       "      <th>next_reference_id</th>\n",
       "      <th>next_reference_start</th>\n",
       "      <th>query_alignment_length</th>\n",
       "      <th>query_sequence</th>\n",
       "      <th>query_qualities</th>\n",
       "      <th>tags</th>\n",
       "    </tr>\n",
       "  </thead>\n",
       "  <tbody>\n",
       "    <tr>\n",
       "      <th>0</th>\n",
       "      <td>SRR5377828.6473929</td>\n",
       "      <td>163</td>\n",
       "      <td>0</td>\n",
       "      <td>12062</td>\n",
       "      <td>0</td>\n",
       "      <td>101M</td>\n",
       "      <td>0</td>\n",
       "      <td>12069</td>\n",
       "      <td>101</td>\n",
       "      <td>GAGTGGAGTTTTCCTG...</td>\n",
       "      <td>[33, 33, 33, 33,...</td>\n",
       "      <td>[(NM, 0), (MD, 1...</td>\n",
       "    </tr>\n",
       "    <tr>\n",
       "      <th>1</th>\n",
       "      <td>SRR5377828.6473929</td>\n",
       "      <td>83</td>\n",
       "      <td>0</td>\n",
       "      <td>12069</td>\n",
       "      <td>0</td>\n",
       "      <td>101M</td>\n",
       "      <td>0</td>\n",
       "      <td>12062</td>\n",
       "      <td>101</td>\n",
       "      <td>GTTTTCCTGTGGAGAG...</td>\n",
       "      <td>[37, 37, 37, 37,...</td>\n",
       "      <td>[(NM, 0), (MD, 1...</td>\n",
       "    </tr>\n",
       "    <tr>\n",
       "      <th>2</th>\n",
       "      <td>SRR5377828.2565999</td>\n",
       "      <td>99</td>\n",
       "      <td>0</td>\n",
       "      <td>14409</td>\n",
       "      <td>0</td>\n",
       "      <td>101M</td>\n",
       "      <td>0</td>\n",
       "      <td>14489</td>\n",
       "      <td>101</td>\n",
       "      <td>CTCAGTTCTTTATTGA...</td>\n",
       "      <td>[33, 33, 33, 37,...</td>\n",
       "      <td>[(NM, 0), (MD, 1...</td>\n",
       "    </tr>\n",
       "    <tr>\n",
       "      <th>3</th>\n",
       "      <td>SRR5377828.2580969</td>\n",
       "      <td>99</td>\n",
       "      <td>0</td>\n",
       "      <td>14416</td>\n",
       "      <td>0</td>\n",
       "      <td>101M</td>\n",
       "      <td>0</td>\n",
       "      <td>14418</td>\n",
       "      <td>101</td>\n",
       "      <td>CTTTATTGATTGGTGT...</td>\n",
       "      <td>[33, 33, 33, 37,...</td>\n",
       "      <td>[(NM, 1), (MD, 4...</td>\n",
       "    </tr>\n",
       "    <tr>\n",
       "      <th>4</th>\n",
       "      <td>SRR5377828.6822074</td>\n",
       "      <td>99</td>\n",
       "      <td>0</td>\n",
       "      <td>14416</td>\n",
       "      <td>0</td>\n",
       "      <td>101M</td>\n",
       "      <td>0</td>\n",
       "      <td>14447</td>\n",
       "      <td>101</td>\n",
       "      <td>CTTTATTGATTGGTGT...</td>\n",
       "      <td>[33, 33, 33, 37,...</td>\n",
       "      <td>[(NM, 1), (MD, 4...</td>\n",
       "    </tr>\n",
       "    <tr>\n",
       "      <th>...</th>\n",
       "      <td>...</td>\n",
       "      <td>...</td>\n",
       "      <td>...</td>\n",
       "      <td>...</td>\n",
       "      <td>...</td>\n",
       "      <td>...</td>\n",
       "      <td>...</td>\n",
       "      <td>...</td>\n",
       "      <td>...</td>\n",
       "      <td>...</td>\n",
       "      <td>...</td>\n",
       "      <td>...</td>\n",
       "    </tr>\n",
       "    <tr>\n",
       "      <th>299995</th>\n",
       "      <td>SRR5377828.775115</td>\n",
       "      <td>83</td>\n",
       "      <td>0</td>\n",
       "      <td>15932781</td>\n",
       "      <td>60</td>\n",
       "      <td>101M</td>\n",
       "      <td>0</td>\n",
       "      <td>15932784</td>\n",
       "      <td>101</td>\n",
       "      <td>TCTCTGAGGCCTCTGC...</td>\n",
       "      <td>[15, 33, 33, 33,...</td>\n",
       "      <td>[(NM, 1), (MD, 2...</td>\n",
       "    </tr>\n",
       "    <tr>\n",
       "      <th>299996</th>\n",
       "      <td>SRR5377828.3123978</td>\n",
       "      <td>83</td>\n",
       "      <td>0</td>\n",
       "      <td>15932781</td>\n",
       "      <td>60</td>\n",
       "      <td>101M</td>\n",
       "      <td>0</td>\n",
       "      <td>15932764</td>\n",
       "      <td>101</td>\n",
       "      <td>TCGCTGAGGCCTCTGC...</td>\n",
       "      <td>[22, 37, 37, 37,...</td>\n",
       "      <td>[(NM, 0), (MD, 1...</td>\n",
       "    </tr>\n",
       "    <tr>\n",
       "      <th>299997</th>\n",
       "      <td>SRR5377828.775115</td>\n",
       "      <td>163</td>\n",
       "      <td>0</td>\n",
       "      <td>15932784</td>\n",
       "      <td>60</td>\n",
       "      <td>98M3S</td>\n",
       "      <td>0</td>\n",
       "      <td>15932781</td>\n",
       "      <td>98</td>\n",
       "      <td>CTGAGGCCTCTGCCTC...</td>\n",
       "      <td>[33, 33, 27, 33,...</td>\n",
       "      <td>[(NM, 0), (MD, 9...</td>\n",
       "    </tr>\n",
       "    <tr>\n",
       "      <th>299998</th>\n",
       "      <td>SRR5377828.4045150</td>\n",
       "      <td>163</td>\n",
       "      <td>0</td>\n",
       "      <td>15932789</td>\n",
       "      <td>60</td>\n",
       "      <td>83M18S</td>\n",
       "      <td>0</td>\n",
       "      <td>15932789</td>\n",
       "      <td>83</td>\n",
       "      <td>GCCTCTGCCTCTGCTG...</td>\n",
       "      <td>[33, 27, 33, 33,...</td>\n",
       "      <td>[(NM, 0), (MD, 8...</td>\n",
       "    </tr>\n",
       "    <tr>\n",
       "      <th>299999</th>\n",
       "      <td>SRR5377828.4045150</td>\n",
       "      <td>83</td>\n",
       "      <td>0</td>\n",
       "      <td>15932789</td>\n",
       "      <td>60</td>\n",
       "      <td>18S83M</td>\n",
       "      <td>0</td>\n",
       "      <td>15932789</td>\n",
       "      <td>83</td>\n",
       "      <td>CGTGTGCTCTTCCGAT...</td>\n",
       "      <td>[27, 33, 33, 27,...</td>\n",
       "      <td>[(NM, 0), (MD, 8...</td>\n",
       "    </tr>\n",
       "  </tbody>\n",
       "</table>\n",
       "<p>300000 rows × 12 columns</p>\n",
       "</div>"
      ],
      "text/plain": [
       "                query_name  flag  reference_id  reference_start  \\\n",
       "0       SRR5377828.6473929   163             0            12062   \n",
       "1       SRR5377828.6473929    83             0            12069   \n",
       "2       SRR5377828.2565999    99             0            14409   \n",
       "3       SRR5377828.2580969    99             0            14416   \n",
       "4       SRR5377828.6822074    99             0            14416   \n",
       "...                    ...   ...           ...              ...   \n",
       "299995   SRR5377828.775115    83             0         15932781   \n",
       "299996  SRR5377828.3123978    83             0         15932781   \n",
       "299997   SRR5377828.775115   163             0         15932784   \n",
       "299998  SRR5377828.4045150   163             0         15932789   \n",
       "299999  SRR5377828.4045150    83             0         15932789   \n",
       "\n",
       "        mapping_quality cigarstring  next_reference_id  next_reference_start  \\\n",
       "0                     0        101M                  0                12069    \n",
       "1                     0        101M                  0                12062    \n",
       "2                     0        101M                  0                14489    \n",
       "3                     0        101M                  0                14418    \n",
       "4                     0        101M                  0                14447    \n",
       "...                 ...         ...                ...                  ...    \n",
       "299995               60        101M                  0             15932784    \n",
       "299996               60        101M                  0             15932764    \n",
       "299997               60       98M3S                  0             15932781    \n",
       "299998               60      83M18S                  0             15932789    \n",
       "299999               60      18S83M                  0             15932789    \n",
       "\n",
       "        query_alignment_length       query_sequence      query_qualities  \\\n",
       "0                       101     GAGTGGAGTTTTCCTG...  [33, 33, 33, 33,...   \n",
       "1                       101     GTTTTCCTGTGGAGAG...  [37, 37, 37, 37,...   \n",
       "2                       101     CTCAGTTCTTTATTGA...  [33, 33, 33, 37,...   \n",
       "3                       101     CTTTATTGATTGGTGT...  [33, 33, 33, 37,...   \n",
       "4                       101     CTTTATTGATTGGTGT...  [33, 33, 33, 37,...   \n",
       "...                     ...                     ...                  ...   \n",
       "299995                  101     TCTCTGAGGCCTCTGC...  [15, 33, 33, 33,...   \n",
       "299996                  101     TCGCTGAGGCCTCTGC...  [22, 37, 37, 37,...   \n",
       "299997                   98     CTGAGGCCTCTGCCTC...  [33, 33, 27, 33,...   \n",
       "299998                   83     GCCTCTGCCTCTGCTG...  [33, 27, 33, 33,...   \n",
       "299999                   83     CGTGTGCTCTTCCGAT...  [27, 33, 33, 27,...   \n",
       "\n",
       "                       tags  \n",
       "0       [(NM, 0), (MD, 1...  \n",
       "1       [(NM, 0), (MD, 1...  \n",
       "2       [(NM, 0), (MD, 1...  \n",
       "3       [(NM, 1), (MD, 4...  \n",
       "4       [(NM, 1), (MD, 4...  \n",
       "...                     ...  \n",
       "299995  [(NM, 1), (MD, 2...  \n",
       "299996  [(NM, 0), (MD, 1...  \n",
       "299997  [(NM, 0), (MD, 9...  \n",
       "299998  [(NM, 0), (MD, 8...  \n",
       "299999  [(NM, 0), (MD, 8...  \n",
       "\n",
       "[300000 rows x 12 columns]"
      ]
     },
     "execution_count": 26,
     "metadata": {},
     "output_type": "execute_result"
    }
   ],
   "source": [
    "pd.set_option('max_colwidth', 20)\n",
    "all_reads_pseudo"
   ]
  },
  {
   "cell_type": "code",
   "execution_count": 24,
   "metadata": {},
   "outputs": [
    {
     "data": {
      "text/plain": [
       "array([ 163,   83,   99,  147,   65,   97,  145,  177, 2113, 2225, 2145,\n",
       "       2195, 2193,   73,  133,  161, 2147, 2227, 2115,   81,  121,  181,\n",
       "       2129,  113,  129, 2131, 2211, 2163, 2209,   69,  137, 2169, 2121,\n",
       "       2177, 2179, 2161,  117,  185, 2185])"
      ]
     },
     "execution_count": 24,
     "metadata": {},
     "output_type": "execute_result"
    }
   ],
   "source": [
    "all_reads_pseudo.flag.unique()"
   ]
  },
  {
   "cell_type": "code",
   "execution_count": 27,
   "metadata": {},
   "outputs": [],
   "source": [
    "samfile = pysam.AlignmentFile('../data/alignments/SRR5377828-pseudomonas_aeruginosa_pao1-sorted.bam', \"rb\")\n",
    "all_reads_pseudo = bam_to_df(samfile, chr = None, start=None, stop = None, limit=300000)"
   ]
  },
  {
   "cell_type": "code",
   "execution_count": 28,
   "metadata": {},
   "outputs": [
    {
     "data": {
      "text/html": [
       "<div>\n",
       "<style scoped>\n",
       "    .dataframe tbody tr th:only-of-type {\n",
       "        vertical-align: middle;\n",
       "    }\n",
       "\n",
       "    .dataframe tbody tr th {\n",
       "        vertical-align: top;\n",
       "    }\n",
       "\n",
       "    .dataframe thead th {\n",
       "        text-align: right;\n",
       "    }\n",
       "</style>\n",
       "<table border=\"1\" class=\"dataframe\">\n",
       "  <thead>\n",
       "    <tr style=\"text-align: right;\">\n",
       "      <th></th>\n",
       "      <th>query_name</th>\n",
       "      <th>flag</th>\n",
       "      <th>reference_id</th>\n",
       "      <th>reference_start</th>\n",
       "      <th>mapping_quality</th>\n",
       "      <th>cigarstring</th>\n",
       "      <th>next_reference_id</th>\n",
       "      <th>next_reference_start</th>\n",
       "      <th>query_alignment_length</th>\n",
       "      <th>query_sequence</th>\n",
       "      <th>query_qualities</th>\n",
       "      <th>tags</th>\n",
       "    </tr>\n",
       "  </thead>\n",
       "  <tbody>\n",
       "    <tr>\n",
       "      <th>0</th>\n",
       "      <td>SRR5377828.5086455</td>\n",
       "      <td>163</td>\n",
       "      <td>0</td>\n",
       "      <td>1776</td>\n",
       "      <td>40</td>\n",
       "      <td>70S19M12S</td>\n",
       "      <td>0</td>\n",
       "      <td>1776</td>\n",
       "      <td>19</td>\n",
       "      <td>AGTTTCCTGATCTGTA...</td>\n",
       "      <td>[33, 33, 33, 37,...</td>\n",
       "      <td>[(NM, 0), (MD, 1...</td>\n",
       "    </tr>\n",
       "    <tr>\n",
       "      <th>1</th>\n",
       "      <td>SRR5377828.5086455</td>\n",
       "      <td>83</td>\n",
       "      <td>0</td>\n",
       "      <td>1776</td>\n",
       "      <td>40</td>\n",
       "      <td>32S19M50S</td>\n",
       "      <td>0</td>\n",
       "      <td>1776</td>\n",
       "      <td>19</td>\n",
       "      <td>GTTTCTCTCCAACTCT...</td>\n",
       "      <td>[37, 37, 37, 37,...</td>\n",
       "      <td>[(NM, 0), (MD, 1...</td>\n",
       "    </tr>\n",
       "    <tr>\n",
       "      <th>2</th>\n",
       "      <td>SRR5377828.1711887</td>\n",
       "      <td>163</td>\n",
       "      <td>0</td>\n",
       "      <td>2953</td>\n",
       "      <td>40</td>\n",
       "      <td>33S19M49S</td>\n",
       "      <td>0</td>\n",
       "      <td>2953</td>\n",
       "      <td>19</td>\n",
       "      <td>CTCTGATGATAGCATC...</td>\n",
       "      <td>[33, 33, 33, 37,...</td>\n",
       "      <td>[(NM, 0), (MD, 1...</td>\n",
       "    </tr>\n",
       "    <tr>\n",
       "      <th>3</th>\n",
       "      <td>SRR5377828.3850520</td>\n",
       "      <td>163</td>\n",
       "      <td>0</td>\n",
       "      <td>2953</td>\n",
       "      <td>40</td>\n",
       "      <td>25S19M57S</td>\n",
       "      <td>0</td>\n",
       "      <td>2953</td>\n",
       "      <td>19</td>\n",
       "      <td>ATAGCATCTCAGCAGC...</td>\n",
       "      <td>[33, 33, 33, 37,...</td>\n",
       "      <td>[(NM, 0), (MD, 1...</td>\n",
       "    </tr>\n",
       "    <tr>\n",
       "      <th>4</th>\n",
       "      <td>SRR5377828.5847773</td>\n",
       "      <td>163</td>\n",
       "      <td>0</td>\n",
       "      <td>2953</td>\n",
       "      <td>40</td>\n",
       "      <td>10S19M72S</td>\n",
       "      <td>0</td>\n",
       "      <td>2953</td>\n",
       "      <td>19</td>\n",
       "      <td>CAACCAACAAAGGAAG...</td>\n",
       "      <td>[33, 33, 33, 37,...</td>\n",
       "      <td>[(NM, 0), (MD, 1...</td>\n",
       "    </tr>\n",
       "    <tr>\n",
       "      <th>...</th>\n",
       "      <td>...</td>\n",
       "      <td>...</td>\n",
       "      <td>...</td>\n",
       "      <td>...</td>\n",
       "      <td>...</td>\n",
       "      <td>...</td>\n",
       "      <td>...</td>\n",
       "      <td>...</td>\n",
       "      <td>...</td>\n",
       "      <td>...</td>\n",
       "      <td>...</td>\n",
       "      <td>...</td>\n",
       "    </tr>\n",
       "    <tr>\n",
       "      <th>133898</th>\n",
       "      <td>SRR5377828.10601876</td>\n",
       "      <td>83</td>\n",
       "      <td>0</td>\n",
       "      <td>6261934</td>\n",
       "      <td>60</td>\n",
       "      <td>37S25M39S</td>\n",
       "      <td>0</td>\n",
       "      <td>6261934</td>\n",
       "      <td>25</td>\n",
       "      <td>CTGTTCGACTACCTGA...</td>\n",
       "      <td>[37, 33, 37, 33,...</td>\n",
       "      <td>[(NM, 0), (MD, 2...</td>\n",
       "    </tr>\n",
       "    <tr>\n",
       "      <th>133899</th>\n",
       "      <td>SRR5377828.11448389</td>\n",
       "      <td>83</td>\n",
       "      <td>0</td>\n",
       "      <td>6261934</td>\n",
       "      <td>60</td>\n",
       "      <td>13S25M63S</td>\n",
       "      <td>0</td>\n",
       "      <td>6261934</td>\n",
       "      <td>25</td>\n",
       "      <td>AGGAAGAGGAAGAAGA...</td>\n",
       "      <td>[37, 37, 37, 37,...</td>\n",
       "      <td>[(NM, 0), (MD, 2...</td>\n",
       "    </tr>\n",
       "    <tr>\n",
       "      <th>133900</th>\n",
       "      <td>SRR5377828.11465347</td>\n",
       "      <td>83</td>\n",
       "      <td>0</td>\n",
       "      <td>6261934</td>\n",
       "      <td>60</td>\n",
       "      <td>27S25M49S</td>\n",
       "      <td>0</td>\n",
       "      <td>6261934</td>\n",
       "      <td>25</td>\n",
       "      <td>ACCTGAAGAAGATGAG...</td>\n",
       "      <td>[27, 33, 37, 37,...</td>\n",
       "      <td>[(NM, 0), (MD, 2...</td>\n",
       "    </tr>\n",
       "    <tr>\n",
       "      <th>133901</th>\n",
       "      <td>SRR5377828.6154143</td>\n",
       "      <td>83</td>\n",
       "      <td>0</td>\n",
       "      <td>6261939</td>\n",
       "      <td>46</td>\n",
       "      <td>20M81S</td>\n",
       "      <td>0</td>\n",
       "      <td>6261934</td>\n",
       "      <td>20</td>\n",
       "      <td>AAGAAGAAGGTGAAGA...</td>\n",
       "      <td>[37, 33, 33, 37,...</td>\n",
       "      <td>[(NM, 0), (MD, 2...</td>\n",
       "    </tr>\n",
       "    <tr>\n",
       "      <th>133902</th>\n",
       "      <td>SRR5377828.1938021</td>\n",
       "      <td>83</td>\n",
       "      <td>0</td>\n",
       "      <td>6261940</td>\n",
       "      <td>40</td>\n",
       "      <td>19M82S</td>\n",
       "      <td>0</td>\n",
       "      <td>6261934</td>\n",
       "      <td>19</td>\n",
       "      <td>AGAAGAAGGTGAAGAT...</td>\n",
       "      <td>[37, 37, 37, 37,...</td>\n",
       "      <td>[(NM, 0), (MD, 1...</td>\n",
       "    </tr>\n",
       "  </tbody>\n",
       "</table>\n",
       "<p>133903 rows × 12 columns</p>\n",
       "</div>"
      ],
      "text/plain": [
       "                 query_name  flag  reference_id  reference_start  \\\n",
       "0        SRR5377828.5086455   163             0             1776   \n",
       "1        SRR5377828.5086455    83             0             1776   \n",
       "2        SRR5377828.1711887   163             0             2953   \n",
       "3        SRR5377828.3850520   163             0             2953   \n",
       "4        SRR5377828.5847773   163             0             2953   \n",
       "...                     ...   ...           ...              ...   \n",
       "133898  SRR5377828.10601876    83             0          6261934   \n",
       "133899  SRR5377828.11448389    83             0          6261934   \n",
       "133900  SRR5377828.11465347    83             0          6261934   \n",
       "133901   SRR5377828.6154143    83             0          6261939   \n",
       "133902   SRR5377828.1938021    83             0          6261940   \n",
       "\n",
       "        mapping_quality cigarstring  next_reference_id  next_reference_start  \\\n",
       "0                    40   70S19M12S                  0                 1776    \n",
       "1                    40   32S19M50S                  0                 1776    \n",
       "2                    40   33S19M49S                  0                 2953    \n",
       "3                    40   25S19M57S                  0                 2953    \n",
       "4                    40   10S19M72S                  0                 2953    \n",
       "...                 ...         ...                ...                  ...    \n",
       "133898               60   37S25M39S                  0              6261934    \n",
       "133899               60   13S25M63S                  0              6261934    \n",
       "133900               60   27S25M49S                  0              6261934    \n",
       "133901               46      20M81S                  0              6261934    \n",
       "133902               40      19M82S                  0              6261934    \n",
       "\n",
       "        query_alignment_length       query_sequence      query_qualities  \\\n",
       "0                        19     AGTTTCCTGATCTGTA...  [33, 33, 33, 37,...   \n",
       "1                        19     GTTTCTCTCCAACTCT...  [37, 37, 37, 37,...   \n",
       "2                        19     CTCTGATGATAGCATC...  [33, 33, 33, 37,...   \n",
       "3                        19     ATAGCATCTCAGCAGC...  [33, 33, 33, 37,...   \n",
       "4                        19     CAACCAACAAAGGAAG...  [33, 33, 33, 37,...   \n",
       "...                     ...                     ...                  ...   \n",
       "133898                   25     CTGTTCGACTACCTGA...  [37, 33, 37, 33,...   \n",
       "133899                   25     AGGAAGAGGAAGAAGA...  [37, 37, 37, 37,...   \n",
       "133900                   25     ACCTGAAGAAGATGAG...  [27, 33, 37, 37,...   \n",
       "133901                   20     AAGAAGAAGGTGAAGA...  [37, 33, 33, 37,...   \n",
       "133902                   19     AGAAGAAGGTGAAGAT...  [37, 37, 37, 37,...   \n",
       "\n",
       "                       tags  \n",
       "0       [(NM, 0), (MD, 1...  \n",
       "1       [(NM, 0), (MD, 1...  \n",
       "2       [(NM, 0), (MD, 1...  \n",
       "3       [(NM, 0), (MD, 1...  \n",
       "4       [(NM, 0), (MD, 1...  \n",
       "...                     ...  \n",
       "133898  [(NM, 0), (MD, 2...  \n",
       "133899  [(NM, 0), (MD, 2...  \n",
       "133900  [(NM, 0), (MD, 2...  \n",
       "133901  [(NM, 0), (MD, 2...  \n",
       "133902  [(NM, 0), (MD, 1...  \n",
       "\n",
       "[133903 rows x 12 columns]"
      ]
     },
     "execution_count": 28,
     "metadata": {},
     "output_type": "execute_result"
    }
   ],
   "source": [
    "all_reads_pseudo"
   ]
  },
  {
   "cell_type": "code",
   "execution_count": 29,
   "metadata": {},
   "outputs": [
    {
     "data": {
      "text/plain": [
       "array([ 163,   83,   99,  147,   69,  137,   73,  133,  117,  185,  161,\n",
       "         81,  113,  129,  121,  181, 2185, 2177, 2161, 2179, 2129, 2209,\n",
       "       2169, 2163,  177,   97,  145,   65, 2145, 2147, 2195, 2225, 2113,\n",
       "       2193, 2121])"
      ]
     },
     "execution_count": 29,
     "metadata": {},
     "output_type": "execute_result"
    }
   ],
   "source": [
    "all_reads_pseudo.flag.unique()"
   ]
  },
  {
   "cell_type": "code",
   "execution_count": 45,
   "metadata": {},
   "outputs": [
    {
     "name": "stdout",
     "output_type": "stream",
     "text": [
      "00000100001\u001b[1m1\u001b[0m  1     read paired - template having multiple segments in sequencing\n",
      "0000010000\u001b[1m1\u001b[0m1  2     read mapped in proper pair - each segment properly aligned according to the aligner\n",
      "000001000011  0   \n",
      "000001000011  0   \n",
      "000001000011  0   \n",
      "000001000011  0   \n",
      "00000\u001b[1m1\u001b[0m000011  64    first in pair - the first segment in the template\n",
      "000001000011  0   \n",
      "000001000011  0   \n",
      "000001000011  0   \n",
      "000001000011  0   \n",
      "000001000011  0   \n"
     ]
    },
    {
     "data": {
      "text/plain": [
       "'read paired - template having multiple segments in sequencing + read mapped in proper pair - each segment properly aligned according to the aligner + first in pair - the first segment in the template'"
      ]
     },
     "execution_count": 45,
     "metadata": {},
     "output_type": "execute_result"
    }
   ],
   "source": [
    "sam_flag_decoder(67)"
   ]
  },
  {
   "cell_type": "code",
   "execution_count": 543,
   "metadata": {},
   "outputs": [
    {
     "data": {
      "text/plain": [
       "'read is PCR or optical duplicate + supplementary alignment'"
      ]
     },
     "execution_count": 543,
     "metadata": {},
     "output_type": "execute_result"
    }
   ],
   "source": [
    "sam_flag_decoder(3072, logging=False)"
   ]
  },
  {
   "cell_type": "code",
   "execution_count": 48,
   "metadata": {},
   "outputs": [],
   "source": [
    "bam_sample = bam_to_df(samfile, chr = None, start=None, stop = None, limit=10)"
   ]
  },
  {
   "cell_type": "code",
   "execution_count": 49,
   "metadata": {},
   "outputs": [],
   "source": [
    "bam_sample['flag_text'] = bam_sample.apply(lambda row: sam_flag_decoder(int(row.flag), logging=False), axis=1)"
   ]
  },
  {
   "cell_type": "code",
   "execution_count": 50,
   "metadata": {},
   "outputs": [
    {
     "data": {
      "text/html": [
       "<div>\n",
       "<style scoped>\n",
       "    .dataframe tbody tr th:only-of-type {\n",
       "        vertical-align: middle;\n",
       "    }\n",
       "\n",
       "    .dataframe tbody tr th {\n",
       "        vertical-align: top;\n",
       "    }\n",
       "\n",
       "    .dataframe thead th {\n",
       "        text-align: right;\n",
       "    }\n",
       "</style>\n",
       "<table border=\"1\" class=\"dataframe\">\n",
       "  <thead>\n",
       "    <tr style=\"text-align: right;\">\n",
       "      <th></th>\n",
       "      <th>query_name</th>\n",
       "      <th>flag</th>\n",
       "      <th>reference_id</th>\n",
       "      <th>reference_start</th>\n",
       "      <th>mapping_quality</th>\n",
       "      <th>cigarstring</th>\n",
       "      <th>next_reference_id</th>\n",
       "      <th>next_reference_start</th>\n",
       "      <th>query_alignment_length</th>\n",
       "      <th>query_sequence</th>\n",
       "      <th>query_qualities</th>\n",
       "      <th>tags</th>\n",
       "      <th>flag_text</th>\n",
       "    </tr>\n",
       "  </thead>\n",
       "  <tbody>\n",
       "    <tr>\n",
       "      <th>0</th>\n",
       "      <td>SRR5377828.5086455</td>\n",
       "      <td>163</td>\n",
       "      <td>0</td>\n",
       "      <td>1776</td>\n",
       "      <td>40</td>\n",
       "      <td>70S19M12S</td>\n",
       "      <td>0</td>\n",
       "      <td>1776</td>\n",
       "      <td>19</td>\n",
       "      <td>AGTTTCCTGATCTGTA...</td>\n",
       "      <td>[33, 33, 33, 37,...</td>\n",
       "      <td>[(NM, 0), (MD, 1...</td>\n",
       "      <td>read paired - te...</td>\n",
       "    </tr>\n",
       "    <tr>\n",
       "      <th>1</th>\n",
       "      <td>SRR5377828.5086455</td>\n",
       "      <td>83</td>\n",
       "      <td>0</td>\n",
       "      <td>1776</td>\n",
       "      <td>40</td>\n",
       "      <td>32S19M50S</td>\n",
       "      <td>0</td>\n",
       "      <td>1776</td>\n",
       "      <td>19</td>\n",
       "      <td>GTTTCTCTCCAACTCT...</td>\n",
       "      <td>[37, 37, 37, 37,...</td>\n",
       "      <td>[(NM, 0), (MD, 1...</td>\n",
       "      <td>read paired - te...</td>\n",
       "    </tr>\n",
       "    <tr>\n",
       "      <th>2</th>\n",
       "      <td>SRR5377828.1711887</td>\n",
       "      <td>163</td>\n",
       "      <td>0</td>\n",
       "      <td>2953</td>\n",
       "      <td>40</td>\n",
       "      <td>33S19M49S</td>\n",
       "      <td>0</td>\n",
       "      <td>2953</td>\n",
       "      <td>19</td>\n",
       "      <td>CTCTGATGATAGCATC...</td>\n",
       "      <td>[33, 33, 33, 37,...</td>\n",
       "      <td>[(NM, 0), (MD, 1...</td>\n",
       "      <td>read paired - te...</td>\n",
       "    </tr>\n",
       "    <tr>\n",
       "      <th>3</th>\n",
       "      <td>SRR5377828.3850520</td>\n",
       "      <td>163</td>\n",
       "      <td>0</td>\n",
       "      <td>2953</td>\n",
       "      <td>40</td>\n",
       "      <td>25S19M57S</td>\n",
       "      <td>0</td>\n",
       "      <td>2953</td>\n",
       "      <td>19</td>\n",
       "      <td>ATAGCATCTCAGCAGC...</td>\n",
       "      <td>[33, 33, 33, 37,...</td>\n",
       "      <td>[(NM, 0), (MD, 1...</td>\n",
       "      <td>read paired - te...</td>\n",
       "    </tr>\n",
       "    <tr>\n",
       "      <th>4</th>\n",
       "      <td>SRR5377828.5847773</td>\n",
       "      <td>163</td>\n",
       "      <td>0</td>\n",
       "      <td>2953</td>\n",
       "      <td>40</td>\n",
       "      <td>10S19M72S</td>\n",
       "      <td>0</td>\n",
       "      <td>2953</td>\n",
       "      <td>19</td>\n",
       "      <td>CAACCAACAAAGGAAG...</td>\n",
       "      <td>[33, 33, 33, 37,...</td>\n",
       "      <td>[(NM, 0), (MD, 1...</td>\n",
       "      <td>read paired - te...</td>\n",
       "    </tr>\n",
       "    <tr>\n",
       "      <th>5</th>\n",
       "      <td>SRR5377828.6639847</td>\n",
       "      <td>163</td>\n",
       "      <td>0</td>\n",
       "      <td>2953</td>\n",
       "      <td>40</td>\n",
       "      <td>18S19M64S</td>\n",
       "      <td>0</td>\n",
       "      <td>2953</td>\n",
       "      <td>19</td>\n",
       "      <td>CTCAGCAGCAACCAAC...</td>\n",
       "      <td>[33, 33, 33, 37,...</td>\n",
       "      <td>[(NM, 0), (MD, 1...</td>\n",
       "      <td>read paired - te...</td>\n",
       "    </tr>\n",
       "    <tr>\n",
       "      <th>6</th>\n",
       "      <td>SRR5377828.1711887</td>\n",
       "      <td>83</td>\n",
       "      <td>0</td>\n",
       "      <td>2953</td>\n",
       "      <td>40</td>\n",
       "      <td>21S19M61S</td>\n",
       "      <td>0</td>\n",
       "      <td>2953</td>\n",
       "      <td>19</td>\n",
       "      <td>CATCTCAGCAGCAACC...</td>\n",
       "      <td>[33, 33, 33, 22,...</td>\n",
       "      <td>[(NM, 0), (MD, 1...</td>\n",
       "      <td>read paired - te...</td>\n",
       "    </tr>\n",
       "    <tr>\n",
       "      <th>7</th>\n",
       "      <td>SRR5377828.3850520</td>\n",
       "      <td>83</td>\n",
       "      <td>0</td>\n",
       "      <td>2953</td>\n",
       "      <td>40</td>\n",
       "      <td>39S19M43S</td>\n",
       "      <td>0</td>\n",
       "      <td>2953</td>\n",
       "      <td>19</td>\n",
       "      <td>TGCTCTTCCGATCTAT...</td>\n",
       "      <td>[37, 37, 33, 37,...</td>\n",
       "      <td>[(NM, 0), (MD, 1...</td>\n",
       "      <td>read paired - te...</td>\n",
       "    </tr>\n",
       "    <tr>\n",
       "      <th>8</th>\n",
       "      <td>SRR5377828.5847773</td>\n",
       "      <td>83</td>\n",
       "      <td>0</td>\n",
       "      <td>2953</td>\n",
       "      <td>40</td>\n",
       "      <td>21S19M61S</td>\n",
       "      <td>0</td>\n",
       "      <td>2953</td>\n",
       "      <td>19</td>\n",
       "      <td>TCTTCCGATCTCAACC...</td>\n",
       "      <td>[33, 37, 37, 37,...</td>\n",
       "      <td>[(NM, 0), (MD, 1...</td>\n",
       "      <td>read paired - te...</td>\n",
       "    </tr>\n",
       "    <tr>\n",
       "      <th>9</th>\n",
       "      <td>SRR5377828.6639847</td>\n",
       "      <td>83</td>\n",
       "      <td>0</td>\n",
       "      <td>2953</td>\n",
       "      <td>40</td>\n",
       "      <td>16S19M66S</td>\n",
       "      <td>0</td>\n",
       "      <td>2953</td>\n",
       "      <td>19</td>\n",
       "      <td>CAGCAGCAACCAACAA...</td>\n",
       "      <td>[33, 37, 37, 37,...</td>\n",
       "      <td>[(NM, 0), (MD, 1...</td>\n",
       "      <td>read paired - te...</td>\n",
       "    </tr>\n",
       "  </tbody>\n",
       "</table>\n",
       "</div>"
      ],
      "text/plain": [
       "           query_name  flag  reference_id  reference_start  mapping_quality  \\\n",
       "0  SRR5377828.5086455   163             0             1776               40   \n",
       "1  SRR5377828.5086455    83             0             1776               40   \n",
       "2  SRR5377828.1711887   163             0             2953               40   \n",
       "3  SRR5377828.3850520   163             0             2953               40   \n",
       "4  SRR5377828.5847773   163             0             2953               40   \n",
       "5  SRR5377828.6639847   163             0             2953               40   \n",
       "6  SRR5377828.1711887    83             0             2953               40   \n",
       "7  SRR5377828.3850520    83             0             2953               40   \n",
       "8  SRR5377828.5847773    83             0             2953               40   \n",
       "9  SRR5377828.6639847    83             0             2953               40   \n",
       "\n",
       "  cigarstring  next_reference_id  next_reference_start  \\\n",
       "0   70S19M12S                  0                 1776    \n",
       "1   32S19M50S                  0                 1776    \n",
       "2   33S19M49S                  0                 2953    \n",
       "3   25S19M57S                  0                 2953    \n",
       "4   10S19M72S                  0                 2953    \n",
       "5   18S19M64S                  0                 2953    \n",
       "6   21S19M61S                  0                 2953    \n",
       "7   39S19M43S                  0                 2953    \n",
       "8   21S19M61S                  0                 2953    \n",
       "9   16S19M66S                  0                 2953    \n",
       "\n",
       "   query_alignment_length       query_sequence      query_qualities  \\\n",
       "0                   19     AGTTTCCTGATCTGTA...  [33, 33, 33, 37,...   \n",
       "1                   19     GTTTCTCTCCAACTCT...  [37, 37, 37, 37,...   \n",
       "2                   19     CTCTGATGATAGCATC...  [33, 33, 33, 37,...   \n",
       "3                   19     ATAGCATCTCAGCAGC...  [33, 33, 33, 37,...   \n",
       "4                   19     CAACCAACAAAGGAAG...  [33, 33, 33, 37,...   \n",
       "5                   19     CTCAGCAGCAACCAAC...  [33, 33, 33, 37,...   \n",
       "6                   19     CATCTCAGCAGCAACC...  [33, 33, 33, 22,...   \n",
       "7                   19     TGCTCTTCCGATCTAT...  [37, 37, 33, 37,...   \n",
       "8                   19     TCTTCCGATCTCAACC...  [33, 37, 37, 37,...   \n",
       "9                   19     CAGCAGCAACCAACAA...  [33, 37, 37, 37,...   \n",
       "\n",
       "                  tags            flag_text  \n",
       "0  [(NM, 0), (MD, 1...  read paired - te...  \n",
       "1  [(NM, 0), (MD, 1...  read paired - te...  \n",
       "2  [(NM, 0), (MD, 1...  read paired - te...  \n",
       "3  [(NM, 0), (MD, 1...  read paired - te...  \n",
       "4  [(NM, 0), (MD, 1...  read paired - te...  \n",
       "5  [(NM, 0), (MD, 1...  read paired - te...  \n",
       "6  [(NM, 0), (MD, 1...  read paired - te...  \n",
       "7  [(NM, 0), (MD, 1...  read paired - te...  \n",
       "8  [(NM, 0), (MD, 1...  read paired - te...  \n",
       "9  [(NM, 0), (MD, 1...  read paired - te...  "
      ]
     },
     "execution_count": 50,
     "metadata": {},
     "output_type": "execute_result"
    }
   ],
   "source": [
    "pd.set_option('max_colwidth', 20)\n",
    "bam_sample"
   ]
  },
  {
   "cell_type": "code",
   "execution_count": 51,
   "metadata": {},
   "outputs": [
    {
     "data": {
      "text/html": [
       "<div>\n",
       "<style scoped>\n",
       "    .dataframe tbody tr th:only-of-type {\n",
       "        vertical-align: middle;\n",
       "    }\n",
       "\n",
       "    .dataframe tbody tr th {\n",
       "        vertical-align: top;\n",
       "    }\n",
       "\n",
       "    .dataframe thead th {\n",
       "        text-align: right;\n",
       "    }\n",
       "</style>\n",
       "<table border=\"1\" class=\"dataframe\">\n",
       "  <thead>\n",
       "    <tr style=\"text-align: right;\">\n",
       "      <th></th>\n",
       "      <th>query_name</th>\n",
       "      <th>flag</th>\n",
       "      <th>flag_text</th>\n",
       "    </tr>\n",
       "  </thead>\n",
       "  <tbody>\n",
       "    <tr>\n",
       "      <th>0</th>\n",
       "      <td>SRR5377828.5086455</td>\n",
       "      <td>163</td>\n",
       "      <td>read paired - template having multiple segments in sequencing + read mapped in proper pair - each segment properly aligned according to the aligner + mate reverse strand - SEQ of the next segment in the template being reversed + second in pair - the last segment in the template</td>\n",
       "    </tr>\n",
       "    <tr>\n",
       "      <th>1</th>\n",
       "      <td>SRR5377828.5086455</td>\n",
       "      <td>83</td>\n",
       "      <td>read paired - template having multiple segments in sequencing + read mapped in proper pair - each segment properly aligned according to the aligner + read reverse strand - SEQ being reverse complemented + first in pair - the first segment in the template</td>\n",
       "    </tr>\n",
       "    <tr>\n",
       "      <th>2</th>\n",
       "      <td>SRR5377828.1711887</td>\n",
       "      <td>163</td>\n",
       "      <td>read paired - template having multiple segments in sequencing + read mapped in proper pair - each segment properly aligned according to the aligner + mate reverse strand - SEQ of the next segment in the template being reversed + second in pair - the last segment in the template</td>\n",
       "    </tr>\n",
       "    <tr>\n",
       "      <th>3</th>\n",
       "      <td>SRR5377828.3850520</td>\n",
       "      <td>163</td>\n",
       "      <td>read paired - template having multiple segments in sequencing + read mapped in proper pair - each segment properly aligned according to the aligner + mate reverse strand - SEQ of the next segment in the template being reversed + second in pair - the last segment in the template</td>\n",
       "    </tr>\n",
       "    <tr>\n",
       "      <th>4</th>\n",
       "      <td>SRR5377828.5847773</td>\n",
       "      <td>163</td>\n",
       "      <td>read paired - template having multiple segments in sequencing + read mapped in proper pair - each segment properly aligned according to the aligner + mate reverse strand - SEQ of the next segment in the template being reversed + second in pair - the last segment in the template</td>\n",
       "    </tr>\n",
       "    <tr>\n",
       "      <th>5</th>\n",
       "      <td>SRR5377828.6639847</td>\n",
       "      <td>163</td>\n",
       "      <td>read paired - template having multiple segments in sequencing + read mapped in proper pair - each segment properly aligned according to the aligner + mate reverse strand - SEQ of the next segment in the template being reversed + second in pair - the last segment in the template</td>\n",
       "    </tr>\n",
       "    <tr>\n",
       "      <th>6</th>\n",
       "      <td>SRR5377828.1711887</td>\n",
       "      <td>83</td>\n",
       "      <td>read paired - template having multiple segments in sequencing + read mapped in proper pair - each segment properly aligned according to the aligner + read reverse strand - SEQ being reverse complemented + first in pair - the first segment in the template</td>\n",
       "    </tr>\n",
       "    <tr>\n",
       "      <th>7</th>\n",
       "      <td>SRR5377828.3850520</td>\n",
       "      <td>83</td>\n",
       "      <td>read paired - template having multiple segments in sequencing + read mapped in proper pair - each segment properly aligned according to the aligner + read reverse strand - SEQ being reverse complemented + first in pair - the first segment in the template</td>\n",
       "    </tr>\n",
       "    <tr>\n",
       "      <th>8</th>\n",
       "      <td>SRR5377828.5847773</td>\n",
       "      <td>83</td>\n",
       "      <td>read paired - template having multiple segments in sequencing + read mapped in proper pair - each segment properly aligned according to the aligner + read reverse strand - SEQ being reverse complemented + first in pair - the first segment in the template</td>\n",
       "    </tr>\n",
       "    <tr>\n",
       "      <th>9</th>\n",
       "      <td>SRR5377828.6639847</td>\n",
       "      <td>83</td>\n",
       "      <td>read paired - template having multiple segments in sequencing + read mapped in proper pair - each segment properly aligned according to the aligner + read reverse strand - SEQ being reverse complemented + first in pair - the first segment in the template</td>\n",
       "    </tr>\n",
       "  </tbody>\n",
       "</table>\n",
       "</div>"
      ],
      "text/plain": [
       "           query_name  flag  \\\n",
       "0  SRR5377828.5086455   163   \n",
       "1  SRR5377828.5086455    83   \n",
       "2  SRR5377828.1711887   163   \n",
       "3  SRR5377828.3850520   163   \n",
       "4  SRR5377828.5847773   163   \n",
       "5  SRR5377828.6639847   163   \n",
       "6  SRR5377828.1711887    83   \n",
       "7  SRR5377828.3850520    83   \n",
       "8  SRR5377828.5847773    83   \n",
       "9  SRR5377828.6639847    83   \n",
       "\n",
       "                                                                                                                                                                                                                                                                                flag_text  \n",
       "0  read paired - template having multiple segments in sequencing + read mapped in proper pair - each segment properly aligned according to the aligner + mate reverse strand - SEQ of the next segment in the template being reversed + second in pair - the last segment in the template  \n",
       "1                          read paired - template having multiple segments in sequencing + read mapped in proper pair - each segment properly aligned according to the aligner + read reverse strand - SEQ being reverse complemented + first in pair - the first segment in the template  \n",
       "2  read paired - template having multiple segments in sequencing + read mapped in proper pair - each segment properly aligned according to the aligner + mate reverse strand - SEQ of the next segment in the template being reversed + second in pair - the last segment in the template  \n",
       "3  read paired - template having multiple segments in sequencing + read mapped in proper pair - each segment properly aligned according to the aligner + mate reverse strand - SEQ of the next segment in the template being reversed + second in pair - the last segment in the template  \n",
       "4  read paired - template having multiple segments in sequencing + read mapped in proper pair - each segment properly aligned according to the aligner + mate reverse strand - SEQ of the next segment in the template being reversed + second in pair - the last segment in the template  \n",
       "5  read paired - template having multiple segments in sequencing + read mapped in proper pair - each segment properly aligned according to the aligner + mate reverse strand - SEQ of the next segment in the template being reversed + second in pair - the last segment in the template  \n",
       "6                          read paired - template having multiple segments in sequencing + read mapped in proper pair - each segment properly aligned according to the aligner + read reverse strand - SEQ being reverse complemented + first in pair - the first segment in the template  \n",
       "7                          read paired - template having multiple segments in sequencing + read mapped in proper pair - each segment properly aligned according to the aligner + read reverse strand - SEQ being reverse complemented + first in pair - the first segment in the template  \n",
       "8                          read paired - template having multiple segments in sequencing + read mapped in proper pair - each segment properly aligned according to the aligner + read reverse strand - SEQ being reverse complemented + first in pair - the first segment in the template  \n",
       "9                          read paired - template having multiple segments in sequencing + read mapped in proper pair - each segment properly aligned according to the aligner + read reverse strand - SEQ being reverse complemented + first in pair - the first segment in the template  "
      ]
     },
     "execution_count": 51,
     "metadata": {},
     "output_type": "execute_result"
    }
   ],
   "source": [
    "pd.set_option('max_colwidth', 500)\n",
    "bam_sample[['query_name', 'flag', 'flag_text']]"
   ]
  },
  {
   "cell_type": "markdown",
   "metadata": {},
   "source": [
    "## SAMtools"
   ]
  },
  {
   "cell_type": "markdown",
   "metadata": {},
   "source": [
    "Testing Flags"
   ]
  },
  {
   "cell_type": "code",
   "execution_count": 552,
   "metadata": {},
   "outputs": [
    {
     "name": "stdout",
     "output_type": "stream",
     "text": [
      "6046220\n"
     ]
    }
   ],
   "source": [
    "!samtools view -@ 24 -c -f 163 ../data/alignments/SRR5377828-GRCh38_p13-sorted.bam"
   ]
  },
  {
   "cell_type": "code",
   "execution_count": 553,
   "metadata": {},
   "outputs": [
    {
     "name": "stdout",
     "output_type": "stream",
     "text": [
      "0\n"
     ]
    }
   ],
   "source": [
    "!samtools view -@ 24 -c -F 163 ../data/alignments/SRR5377828-GRCh38_p13-sorted.bam"
   ]
  },
  {
   "cell_type": "code",
   "execution_count": 555,
   "metadata": {},
   "outputs": [
    {
     "name": "stdout",
     "output_type": "stream",
     "text": [
      "0\n"
     ]
    }
   ],
   "source": [
    "!samtools view -@ 24 -c -f 1024 ../data/alignments/SRR5377828-GRCh38_p13-sorted.bam"
   ]
  },
  {
   "cell_type": "code",
   "execution_count": 554,
   "metadata": {},
   "outputs": [
    {
     "name": "stdout",
     "output_type": "stream",
     "text": [
      "27263618\n"
     ]
    }
   ],
   "source": [
    "!samtools view -@ 24 -c -F 1024 ../data/alignments/SRR5377828-GRCh38_p13-sorted.bam"
   ]
  },
  {
   "cell_type": "markdown",
   "metadata": {},
   "source": [
    "# Bucketing of Reads and Mappings\n",
    "Source: https://www.slideshare.net/lindenb/ngsformats?ref=http://plindenbaum.blogspot.com/2013/09/presentation-file-formats-for-next.html?m=1\n",
    "\n",
    "-f INT\n",
    "Only output alignments with all bits set in INT present in the FLAG field. INT can be specified in hex by beginning with `0x' (i.e. /^0x[0-9A-F]+/) or in octal by beginning with `0' (i.e. /^0[0-7]+/) [0].\n",
    "\n",
    "-F INT\n",
    "Do not output alignments with any bits set in INT present in the FLAG field. INT can be specified in hex by beginning with `0x' (i.e. /^0x[0-9A-F]+/) or in octal by beginning with `0' (i.e. /^0[0-7]+/) [0].\n",
    "\n",
    "-G INT\n",
    "Do not output alignments with all bits set in INT present in the FLAG field. This is the opposite of -f such that -f12 -G12 is the same as no filtering at all. INT can be specified in hex by beginning with `0x' (i.e. /^0x[0-9A-F]+/) or in octal by beginning with `0' (i.e. /^0[0-7]+/) [0].\n",
    "\n",
    "When you want to select reads with a specific flag, none of this option only will get what you want. You can get what you want by combining -f and -F. For example, if you want a flag 67, which is 00001000011, the complement flag is 11110111100, which is 1980. Then samtools view -f 67 -F 1980 will get reads with flag exactly 67."
   ]
  },
  {
   "cell_type": "markdown",
   "metadata": {},
   "source": [
    "## Unpaired Reads\n",
    "Source: http://seqanswers.com/forums/showthread.php?t=17314\n",
    "- 4 - 0000000100 - \"this is an unpaired read and is not mapped\".\n",
    "- 16 - 0000010000 - \"this is an unpaired read is mapped in the reverse orientation\".\n",
    "- 0 - 0000000000 - \"this unpaired read is mapped in the forward orientation\"."
   ]
  },
  {
   "cell_type": "markdown",
   "metadata": {},
   "source": [
    "### 4 - 0000000100 - \"this is an unpaired read and is not mapped\""
   ]
  },
  {
   "cell_type": "code",
   "execution_count": 118,
   "metadata": {},
   "outputs": [
    {
     "name": "stdout",
     "output_type": "stream",
     "text": [
      "117\n",
      "133\n",
      "141\n",
      "181\n",
      "69\n",
      "77\n"
     ]
    }
   ],
   "source": [
    "!samtools view -@ 24 -f 4 ../data/alignments/SRR5377828-GRCh38_p13-sorted.bam | cut -f2 | sort | uniq"
   ]
  },
  {
   "cell_type": "code",
   "execution_count": 6,
   "metadata": {},
   "outputs": [
    {
     "name": "stdout",
     "output_type": "stream",
     "text": [
      "135888\n"
     ]
    }
   ],
   "source": [
    "!samtools view -@ 24 -c -f 4 ../data/alignments/SRR5377828-GRCh38_p13-sorted.bam"
   ]
  },
  {
   "cell_type": "code",
   "execution_count": 109,
   "metadata": {},
   "outputs": [
    {
     "name": "stdout",
     "output_type": "stream",
     "text": [
      "24447039\n"
     ]
    }
   ],
   "source": [
    "!samtools view -@ 24 -c -f 4 ../data/alignments/SRR5377828-pseudomonas_aeruginosa_pao1-sorted.bam"
   ]
  },
  {
   "cell_type": "markdown",
   "metadata": {},
   "source": [
    "### 16 - 0000010000 - \"this is an unpaired read is mapped in the reverse orientation\""
   ]
  },
  {
   "cell_type": "code",
   "execution_count": 5,
   "metadata": {},
   "outputs": [
    {
     "name": "stdout",
     "output_type": "stream",
     "text": [
      "13579075\n"
     ]
    }
   ],
   "source": [
    "!samtools view -@ 24 -c -f 16 ../data/alignments/SRR5377828-GRCh38_p13-sorted.bam"
   ]
  },
  {
   "cell_type": "code",
   "execution_count": 110,
   "metadata": {},
   "outputs": [
    {
     "name": "stdout",
     "output_type": "stream",
     "text": [
      "66512\n"
     ]
    }
   ],
   "source": [
    "!samtools view -@ 24 -c -f 16 ../data/alignments/SRR5377828-pseudomonas_aeruginosa_pao1-sorted.bam"
   ]
  },
  {
   "cell_type": "markdown",
   "metadata": {},
   "source": [
    "### 0 - 0000000000 - \"this unpaired read is mapped in the forward orientation\""
   ]
  },
  {
   "cell_type": "code",
   "execution_count": 113,
   "metadata": {},
   "outputs": [
    {
     "name": "stdout",
     "output_type": "stream",
     "text": [
      "0   : 000000000000\n",
      "4095: 111111111111\n"
     ]
    }
   ],
   "source": [
    "sam_flag_to_bin(0)"
   ]
  },
  {
   "cell_type": "code",
   "execution_count": 53,
   "metadata": {},
   "outputs": [
    {
     "name": "stdout",
     "output_type": "stream",
     "text": [
      "0\n"
     ]
    }
   ],
   "source": [
    "!samtools view -@ 24 -c -f 0 -F 4095 ../data/alignments/SRR5377828-GRCh38_p13-sorted.bam"
   ]
  },
  {
   "cell_type": "code",
   "execution_count": 111,
   "metadata": {},
   "outputs": [
    {
     "name": "stdout",
     "output_type": "stream",
     "text": [
      "0\n"
     ]
    }
   ],
   "source": [
    "!samtools view -@ 24 -c -f 0 -F 4095 ../data/alignments/SRR5377828-pseudomonas_aeruginosa_pao1-sorted.bam"
   ]
  },
  {
   "cell_type": "markdown",
   "metadata": {},
   "source": [
    "## PairedReads\n",
    "For paired reads, 0'th bit HAS to be set. Hence all flags for paired reads HAVE to be odd. In other words, all even-numbered flags other than the above three (0, 4 and 16) are meaningless. \n",
    "\n",
    "For paired reads all flags in the intervals [65-127] and [193-255] relate to the first read of a pair. All other (odd) flags refer to the second read in a pair."
   ]
  },
  {
   "cell_type": "markdown",
   "metadata": {},
   "source": [
    "### Both reads have aligned\n",
    "- 65 - 0001000001 - this is first read in pair and both reads aligned the forward strand.\n",
    "- 129 - 0010000001 - this is second read of pair and both reads aligned the forward strand.\n",
    "- 67 (0001000011) and 131 (0010000011) also mean the same as 65 and 129 with the added assurance that \"the pair is properly aligned\" meaning that they mapped within a proper distance from each other.\n",
    "- 113 - 0001110001 - \"this is the first read of a pair, both reads in pair were flipped and both mapped\".\n",
    "- 177 - 0001110001 - \"this is the second read of a pair, both reads in pair were flipped and both mapped\".\n",
    "- 81 - 0001010001 - \"this is the first read of pair, both reads mapped, we had to flip this read, but mate is in forward orientation\".\n",
    "- 161 - 0010100001 - \"this is second read, this one is forward but we flipped its mate and both reads mapped\".\n",
    "- 163 (0010100011) and 83 (0001010011) are the same as 161 and 81 except \"it is in a proper pair\".\n",
    "- 97 - 0001100001 - \"this is first read, its mate is flipped but this is forward. Both mapped\".\n",
    "- 145 - 0010010001 - \"this is second read. it is flipped but its mate is not. Both mapped\".\n",
    "- 99 (0001100011) and 147 (0010010011) are the same as 97 and 145 except with \"proper mapping in pair\"."
   ]
  },
  {
   "cell_type": "markdown",
   "metadata": {},
   "source": [
    "### No reads have aligned\n",
    "- 77 - 0001001101 - First in pair, both reads in pair unmapped. \"All bad\"\n",
    "- 141 - 0010001101 - Second in pair and \"all bad\"."
   ]
  },
  {
   "cell_type": "markdown",
   "metadata": {},
   "source": [
    "### Only one read has aligned\n",
    "- 69 - 0001000101 - First read in pair. This read is unmapped but its mate is mapped.\n",
    "- 137 - 0010001001 - second in pair. Read is mapped but mate is unmapped.\n",
    "- 73 - 0001001001 - First read in pair. This read is mapped but its mate is not.\n",
    "- 133 - 0010000101 - 2nd in pair. Read unmapped but mate is mapped."
   ]
  },
  {
   "cell_type": "code",
   "execution_count": 148,
   "metadata": {},
   "outputs": [
    {
     "name": "stdout",
     "output_type": "stream",
     "text": [
      "00000100010\u001b[1m1\u001b[0m  1     read paired - template having multiple segments in sequencing\n",
      "000001000101  0   \n",
      "000001000\u001b[1m1\u001b[0m01  4     read unmapped - segment unmapped\n",
      "000001000101  0   \n",
      "000001000101  0   \n",
      "000001000101  0   \n",
      "00000\u001b[1m1\u001b[0m000101  64    first in pair - the first segment in the template\n",
      "000001000101  0   \n",
      "000001000101  0   \n",
      "000001000101  0   \n",
      "000001000101  0   \n",
      "000001000101  0   \n"
     ]
    },
    {
     "data": {
      "text/plain": [
       "'read paired - template having multiple segments in sequencing + read unmapped - segment unmapped + first in pair - the first segment in the template'"
      ]
     },
     "execution_count": 148,
     "metadata": {},
     "output_type": "execute_result"
    }
   ],
   "source": [
    "sam_flag_decoder(69)"
   ]
  },
  {
   "cell_type": "code",
   "execution_count": 149,
   "metadata": {},
   "outputs": [
    {
     "name": "stdout",
     "output_type": "stream",
     "text": [
      "00001000100\u001b[1m1\u001b[0m  1     read paired - template having multiple segments in sequencing\n",
      "000010001001  0   \n",
      "000010001001  0   \n",
      "00001000\u001b[1m1\u001b[0m001  8     mate unmapped - next segment in the template unmapped\n",
      "000010001001  0   \n",
      "000010001001  0   \n",
      "000010001001  0   \n",
      "0000\u001b[1m1\u001b[0m0001001  128   second in pair - the last segment in the template\n",
      "000010001001  0   \n",
      "000010001001  0   \n",
      "000010001001  0   \n",
      "000010001001  0   \n"
     ]
    },
    {
     "data": {
      "text/plain": [
       "'read paired - template having multiple segments in sequencing + mate unmapped - next segment in the template unmapped + second in pair - the last segment in the template'"
      ]
     },
     "execution_count": 149,
     "metadata": {},
     "output_type": "execute_result"
    }
   ],
   "source": [
    "sam_flag_decoder(137)"
   ]
  },
  {
   "cell_type": "code",
   "execution_count": 150,
   "metadata": {},
   "outputs": [
    {
     "name": "stdout",
     "output_type": "stream",
     "text": [
      "00000100100\u001b[1m1\u001b[0m  1     read paired - template having multiple segments in sequencing\n",
      "000001001001  0   \n",
      "000001001001  0   \n",
      "00000100\u001b[1m1\u001b[0m001  8     mate unmapped - next segment in the template unmapped\n",
      "000001001001  0   \n",
      "000001001001  0   \n",
      "00000\u001b[1m1\u001b[0m001001  64    first in pair - the first segment in the template\n",
      "000001001001  0   \n",
      "000001001001  0   \n",
      "000001001001  0   \n",
      "000001001001  0   \n",
      "000001001001  0   \n"
     ]
    },
    {
     "data": {
      "text/plain": [
       "'read paired - template having multiple segments in sequencing + mate unmapped - next segment in the template unmapped + first in pair - the first segment in the template'"
      ]
     },
     "execution_count": 150,
     "metadata": {},
     "output_type": "execute_result"
    }
   ],
   "source": [
    "sam_flag_decoder(73)"
   ]
  },
  {
   "cell_type": "code",
   "execution_count": 151,
   "metadata": {},
   "outputs": [
    {
     "name": "stdout",
     "output_type": "stream",
     "text": [
      "00001000010\u001b[1m1\u001b[0m  1     read paired - template having multiple segments in sequencing\n",
      "000010000101  0   \n",
      "000010000\u001b[1m1\u001b[0m01  4     read unmapped - segment unmapped\n",
      "000010000101  0   \n",
      "000010000101  0   \n",
      "000010000101  0   \n",
      "000010000101  0   \n",
      "0000\u001b[1m1\u001b[0m0000101  128   second in pair - the last segment in the template\n",
      "000010000101  0   \n",
      "000010000101  0   \n",
      "000010000101  0   \n",
      "000010000101  0   \n"
     ]
    },
    {
     "data": {
      "text/plain": [
       "'read paired - template having multiple segments in sequencing + read unmapped - segment unmapped + second in pair - the last segment in the template'"
      ]
     },
     "execution_count": 151,
     "metadata": {},
     "output_type": "execute_result"
    }
   ],
   "source": [
    "sam_flag_decoder(133)"
   ]
  },
  {
   "cell_type": "markdown",
   "metadata": {},
   "source": [
    "# Buckets"
   ]
  },
  {
   "cell_type": "markdown",
   "metadata": {},
   "source": [
    "## R1 Mapped - R2 Mapped"
   ]
  },
  {
   "cell_type": "code",
   "execution_count": 141,
   "metadata": {},
   "outputs": [
    {
     "name": "stdout",
     "output_type": "stream",
     "text": [
      "83\n",
      "99\n",
      "147\n",
      "163\n",
      "2115\n",
      "2131\n",
      "2147\n",
      "2163\n",
      "2179\n",
      "2195\n",
      "2211\n",
      "2227\n"
     ]
    }
   ],
   "source": [
    "!samtools view -@ 24 -f 3 ../data/alignments/SRR5377828-GRCh38_p13-sorted.bam | cut -f2 | sort -n | uniq"
   ]
  },
  {
   "cell_type": "code",
   "execution_count": 125,
   "metadata": {},
   "outputs": [
    {
     "name": "stdout",
     "output_type": "stream",
     "text": [
      "22457925\n"
     ]
    }
   ],
   "source": [
    "!samtools view -@ 24 -c -f 3 ../data/alignments/SRR5377828-GRCh38_p13-sorted.bam"
   ]
  },
  {
   "cell_type": "code",
   "execution_count": 126,
   "metadata": {},
   "outputs": [
    {
     "name": "stdout",
     "output_type": "stream",
     "text": [
      "10000100001\u001b[1m1\u001b[0m  1     read paired - template having multiple segments in sequencing\n",
      "1000010000\u001b[1m1\u001b[0m1  2     read mapped in proper pair - each segment properly aligned according to the aligner\n",
      "100001000011  0   \n",
      "100001000011  0   \n",
      "100001000011  0   \n",
      "100001000011  0   \n",
      "10000\u001b[1m1\u001b[0m000011  64    first in pair - the first segment in the template\n",
      "100001000011  0   \n",
      "100001000011  0   \n",
      "100001000011  0   \n",
      "100001000011  0   \n",
      "\u001b[1m1\u001b[0m00001000011  2048  supplementary alignment\n"
     ]
    },
    {
     "data": {
      "text/plain": [
       "'read paired - template having multiple segments in sequencing + read mapped in proper pair - each segment properly aligned according to the aligner + first in pair - the first segment in the template + supplementary alignment'"
      ]
     },
     "execution_count": 126,
     "metadata": {},
     "output_type": "execute_result"
    }
   ],
   "source": [
    "sam_flag_decoder(2115)"
   ]
  },
  {
   "cell_type": "code",
   "execution_count": 140,
   "metadata": {},
   "outputs": [
    {
     "name": "stdout",
     "output_type": "stream",
     "text": [
      "83\n",
      "99\n",
      "147\n",
      "163\n"
     ]
    }
   ],
   "source": [
    "!samtools view -@ 24 -f 3 -F 2048 ../data/alignments/SRR5377828-GRCh38_p13-sorted.bam | cut -f2 | sort -n | uniq"
   ]
  },
  {
   "cell_type": "code",
   "execution_count": 132,
   "metadata": {},
   "outputs": [
    {
     "name": "stdout",
     "output_type": "stream",
     "text": [
      "20977874\n"
     ]
    }
   ],
   "source": [
    "!samtools view -@ 24 -c -f 3 -F 2048 ../data/alignments/SRR5377828-GRCh38_p13-sorted.bam"
   ]
  },
  {
   "cell_type": "code",
   "execution_count": 133,
   "metadata": {},
   "outputs": [
    {
     "name": "stdout",
     "output_type": "stream",
     "text": [
      "115694\n"
     ]
    }
   ],
   "source": [
    "!samtools view -@ 24 -c -f 3 -F 2048 ../data/alignments/SRR5377828-pseudomonas_aeruginosa_pao1-sorted.bam"
   ]
  },
  {
   "cell_type": "markdown",
   "metadata": {},
   "source": [
    "## R1 Mapped, R2 Unmapped"
   ]
  },
  {
   "cell_type": "code",
   "execution_count": 152,
   "metadata": {},
   "outputs": [
    {
     "name": "stdout",
     "output_type": "stream",
     "text": [
      "00000100100\u001b[1m1\u001b[0m  1     read paired - template having multiple segments in sequencing\n",
      "000001001001  0   \n",
      "000001001001  0   \n",
      "00000100\u001b[1m1\u001b[0m001  8     mate unmapped - next segment in the template unmapped\n",
      "000001001001  0   \n",
      "000001001001  0   \n",
      "00000\u001b[1m1\u001b[0m001001  64    first in pair - the first segment in the template\n",
      "000001001001  0   \n",
      "000001001001  0   \n",
      "000001001001  0   \n",
      "000001001001  0   \n",
      "000001001001  0   \n"
     ]
    },
    {
     "data": {
      "text/plain": [
       "'read paired - template having multiple segments in sequencing + mate unmapped - next segment in the template unmapped + first in pair - the first segment in the template'"
      ]
     },
     "execution_count": 152,
     "metadata": {},
     "output_type": "execute_result"
    }
   ],
   "source": [
    "sam_flag_decoder(73)"
   ]
  },
  {
   "cell_type": "code",
   "execution_count": 139,
   "metadata": {},
   "outputs": [
    {
     "name": "stdout",
     "output_type": "stream",
     "text": [
      "73\n",
      "77\n",
      "121\n",
      "2121\n",
      "2169\n"
     ]
    }
   ],
   "source": [
    "!samtools view -@ 24 -f 73 ../data/alignments/SRR5377828-GRCh38_p13-sorted.bam | cut -f2 | sort -n | uniq"
   ]
  },
  {
   "cell_type": "code",
   "execution_count": 142,
   "metadata": {},
   "outputs": [
    {
     "name": "stdout",
     "output_type": "stream",
     "text": [
      "73\n",
      "77\n",
      "121\n"
     ]
    }
   ],
   "source": [
    "!samtools view -@ 24 -f 73 -F 2048 ../data/alignments/SRR5377828-GRCh38_p13-sorted.bam | cut -f2 | sort -n | uniq"
   ]
  },
  {
   "cell_type": "code",
   "execution_count": 160,
   "metadata": {},
   "outputs": [
    {
     "name": "stdout",
     "output_type": "stream",
     "text": [
      "00000100110\u001b[1m1\u001b[0m  1     read paired - template having multiple segments in sequencing\n",
      "000001001101  0   \n",
      "000001001\u001b[1m1\u001b[0m01  4     read unmapped - segment unmapped\n",
      "00000100\u001b[1m1\u001b[0m101  8     mate unmapped - next segment in the template unmapped\n",
      "000001001101  0   \n",
      "000001001101  0   \n",
      "00000\u001b[1m1\u001b[0m001101  64    first in pair - the first segment in the template\n",
      "000001001101  0   \n",
      "000001001101  0   \n",
      "000001001101  0   \n",
      "000001001101  0   \n",
      "000001001101  0   \n"
     ]
    },
    {
     "data": {
      "text/plain": [
       "'read paired - template having multiple segments in sequencing + read unmapped - segment unmapped + mate unmapped - next segment in the template unmapped + first in pair - the first segment in the template'"
      ]
     },
     "execution_count": 160,
     "metadata": {},
     "output_type": "execute_result"
    }
   ],
   "source": [
    "sam_flag_decoder(77)"
   ]
  },
  {
   "cell_type": "code",
   "execution_count": 162,
   "metadata": {},
   "outputs": [
    {
     "name": "stdout",
     "output_type": "stream",
     "text": [
      "00000111100\u001b[1m1\u001b[0m  1     read paired - template having multiple segments in sequencing\n",
      "000001111001  0   \n",
      "000001111001  0   \n",
      "00000111\u001b[1m1\u001b[0m001  8     mate unmapped - next segment in the template unmapped\n",
      "0000011\u001b[1m1\u001b[0m1001  16    read reverse strand - SEQ being reverse complemented\n",
      "000001\u001b[1m1\u001b[0m11001  32    mate reverse strand - SEQ of the next segment in the template being reversed\n",
      "00000\u001b[1m1\u001b[0m111001  64    first in pair - the first segment in the template\n",
      "000001111001  0   \n",
      "000001111001  0   \n",
      "000001111001  0   \n",
      "000001111001  0   \n",
      "000001111001  0   \n"
     ]
    },
    {
     "data": {
      "text/plain": [
       "'read paired - template having multiple segments in sequencing + mate unmapped - next segment in the template unmapped + read reverse strand - SEQ being reverse complemented + mate reverse strand - SEQ of the next segment in the template being reversed + first in pair - the first segment in the template'"
      ]
     },
     "execution_count": 162,
     "metadata": {},
     "output_type": "execute_result"
    }
   ],
   "source": [
    "sam_flag_decoder(121)"
   ]
  },
  {
   "cell_type": "code",
   "execution_count": 161,
   "metadata": {},
   "outputs": [
    {
     "name": "stdout",
     "output_type": "stream",
     "text": [
      "00000100100\u001b[1m1\u001b[0m  1     read paired - template having multiple segments in sequencing\n",
      "000001001001  0   \n",
      "000001001001  0   \n",
      "00000100\u001b[1m1\u001b[0m001  8     mate unmapped - next segment in the template unmapped\n",
      "000001001001  0   \n",
      "000001001001  0   \n",
      "00000\u001b[1m1\u001b[0m001001  64    first in pair - the first segment in the template\n",
      "000001001001  0   \n",
      "000001001001  0   \n",
      "000001001001  0   \n",
      "000001001001  0   \n",
      "000001001001  0   \n"
     ]
    },
    {
     "data": {
      "text/plain": [
       "'read paired - template having multiple segments in sequencing + mate unmapped - next segment in the template unmapped + first in pair - the first segment in the template'"
      ]
     },
     "execution_count": 161,
     "metadata": {},
     "output_type": "execute_result"
    }
   ],
   "source": [
    "sam_flag_decoder(73)"
   ]
  },
  {
   "cell_type": "code",
   "execution_count": 163,
   "metadata": {},
   "outputs": [
    {
     "name": "stdout",
     "output_type": "stream",
     "text": [
      "73  : 000001001001\n",
      "4022: 111110110110\n"
     ]
    }
   ],
   "source": [
    "sam_flag_to_bin(73)"
   ]
  },
  {
   "cell_type": "code",
   "execution_count": 164,
   "metadata": {},
   "outputs": [
    {
     "name": "stdout",
     "output_type": "stream",
     "text": [
      "18894\n"
     ]
    }
   ],
   "source": [
    "!samtools view -@ 24 -c -f 73 -F 4022 ../data/alignments/SRR5377828-GRCh38_p13-sorted.bam"
   ]
  },
  {
   "cell_type": "code",
   "execution_count": 165,
   "metadata": {},
   "outputs": [
    {
     "name": "stdout",
     "output_type": "stream",
     "text": [
      "2245\n"
     ]
    }
   ],
   "source": [
    "!samtools view -@ 24 -c -f 73 -F 4022 ../data/alignments/SRR5377828-pseudomonas_aeruginosa_pao1-sorted.bam"
   ]
  },
  {
   "cell_type": "code",
   "execution_count": 153,
   "metadata": {},
   "outputs": [
    {
     "name": "stdout",
     "output_type": "stream",
     "text": [
      "00001000010\u001b[1m1\u001b[0m  1     read paired - template having multiple segments in sequencing\n",
      "000010000101  0   \n",
      "000010000\u001b[1m1\u001b[0m01  4     read unmapped - segment unmapped\n",
      "000010000101  0   \n",
      "000010000101  0   \n",
      "000010000101  0   \n",
      "000010000101  0   \n",
      "0000\u001b[1m1\u001b[0m0000101  128   second in pair - the last segment in the template\n",
      "000010000101  0   \n",
      "000010000101  0   \n",
      "000010000101  0   \n",
      "000010000101  0   \n"
     ]
    },
    {
     "data": {
      "text/plain": [
       "'read paired - template having multiple segments in sequencing + read unmapped - segment unmapped + second in pair - the last segment in the template'"
      ]
     },
     "execution_count": 153,
     "metadata": {},
     "output_type": "execute_result"
    }
   ],
   "source": [
    "sam_flag_decoder(133)"
   ]
  },
  {
   "cell_type": "code",
   "execution_count": 167,
   "metadata": {},
   "outputs": [
    {
     "name": "stdout",
     "output_type": "stream",
     "text": [
      "133 : 000010000101\n",
      "3962: 111101111010\n"
     ]
    }
   ],
   "source": [
    "sam_flag_to_bin(133)"
   ]
  },
  {
   "cell_type": "code",
   "execution_count": 179,
   "metadata": {},
   "outputs": [
    {
     "name": "stdout",
     "output_type": "stream",
     "text": [
      "18894\n"
     ]
    }
   ],
   "source": [
    "!samtools view -@ 24 -c -f 133 -F 3962 ../data/alignments/SRR5377828-GRCh38_p13-sorted.bam "
   ]
  },
  {
   "cell_type": "code",
   "execution_count": 180,
   "metadata": {},
   "outputs": [
    {
     "name": "stdout",
     "output_type": "stream",
     "text": [
      "2245\n"
     ]
    }
   ],
   "source": [
    "!samtools view -@ 24 -c -f 133 -F 3962 ../data/alignments/SRR5377828-pseudomonas_aeruginosa_pao1-sorted.bam "
   ]
  },
  {
   "cell_type": "markdown",
   "metadata": {},
   "source": [
    "## R1 Unmapped, R2 Mapped"
   ]
  },
  {
   "cell_type": "code",
   "execution_count": 181,
   "metadata": {},
   "outputs": [
    {
     "name": "stdout",
     "output_type": "stream",
     "text": [
      "00000100010\u001b[1m1\u001b[0m  1     read paired - template having multiple segments in sequencing\n",
      "000001000101  0   \n",
      "000001000\u001b[1m1\u001b[0m01  4     read unmapped - segment unmapped\n",
      "000001000101  0   \n",
      "000001000101  0   \n",
      "000001000101  0   \n",
      "00000\u001b[1m1\u001b[0m000101  64    first in pair - the first segment in the template\n",
      "000001000101  0   \n",
      "000001000101  0   \n",
      "000001000101  0   \n",
      "000001000101  0   \n",
      "000001000101  0   \n"
     ]
    },
    {
     "data": {
      "text/plain": [
       "'read paired - template having multiple segments in sequencing + read unmapped - segment unmapped + first in pair - the first segment in the template'"
      ]
     },
     "execution_count": 181,
     "metadata": {},
     "output_type": "execute_result"
    }
   ],
   "source": [
    "sam_flag_decoder(69)"
   ]
  },
  {
   "cell_type": "code",
   "execution_count": 182,
   "metadata": {},
   "outputs": [
    {
     "name": "stdout",
     "output_type": "stream",
     "text": [
      "69\n",
      "77\n",
      "117\n"
     ]
    }
   ],
   "source": [
    "!samtools view -@ 24 -f 69 ../data/alignments/SRR5377828-GRCh38_p13-sorted.bam | cut -f2 | sort -n | uniq"
   ]
  },
  {
   "cell_type": "code",
   "execution_count": 183,
   "metadata": {},
   "outputs": [
    {
     "name": "stdout",
     "output_type": "stream",
     "text": [
      "69\n",
      "77\n",
      "117\n"
     ]
    }
   ],
   "source": [
    "!samtools view -@ 24 -f 69 -F 2048 ../data/alignments/SRR5377828-GRCh38_p13-sorted.bam | cut -f2 | sort -n | uniq"
   ]
  },
  {
   "cell_type": "code",
   "execution_count": 189,
   "metadata": {},
   "outputs": [
    {
     "name": "stdout",
     "output_type": "stream",
     "text": [
      "00000100110\u001b[1m1\u001b[0m  1     read paired - template having multiple segments in sequencing\n",
      "000001001101  0   \n",
      "000001001\u001b[1m1\u001b[0m01  4     read unmapped - segment unmapped\n",
      "00000100\u001b[1m1\u001b[0m101  8     mate unmapped - next segment in the template unmapped\n",
      "000001001101  0   \n",
      "000001001101  0   \n",
      "00000\u001b[1m1\u001b[0m001101  64    first in pair - the first segment in the template\n",
      "000001001101  0   \n",
      "000001001101  0   \n",
      "000001001101  0   \n",
      "000001001101  0   \n",
      "000001001101  0   \n"
     ]
    },
    {
     "data": {
      "text/plain": [
       "'read paired - template having multiple segments in sequencing + read unmapped - segment unmapped + mate unmapped - next segment in the template unmapped + first in pair - the first segment in the template'"
      ]
     },
     "execution_count": 189,
     "metadata": {},
     "output_type": "execute_result"
    }
   ],
   "source": [
    "sam_flag_decoder(77)"
   ]
  },
  {
   "cell_type": "code",
   "execution_count": 188,
   "metadata": {},
   "outputs": [
    {
     "name": "stdout",
     "output_type": "stream",
     "text": [
      "00000111010\u001b[1m1\u001b[0m  1     read paired - template having multiple segments in sequencing\n",
      "000001110101  0   \n",
      "000001110\u001b[1m1\u001b[0m01  4     read unmapped - segment unmapped\n",
      "000001110101  0   \n",
      "0000011\u001b[1m1\u001b[0m0101  16    read reverse strand - SEQ being reverse complemented\n",
      "000001\u001b[1m1\u001b[0m10101  32    mate reverse strand - SEQ of the next segment in the template being reversed\n",
      "00000\u001b[1m1\u001b[0m110101  64    first in pair - the first segment in the template\n",
      "000001110101  0   \n",
      "000001110101  0   \n",
      "000001110101  0   \n",
      "000001110101  0   \n",
      "000001110101  0   \n"
     ]
    },
    {
     "data": {
      "text/plain": [
       "'read paired - template having multiple segments in sequencing + read unmapped - segment unmapped + read reverse strand - SEQ being reverse complemented + mate reverse strand - SEQ of the next segment in the template being reversed + first in pair - the first segment in the template'"
      ]
     },
     "execution_count": 188,
     "metadata": {},
     "output_type": "execute_result"
    }
   ],
   "source": [
    "sam_flag_decoder(117)"
   ]
  },
  {
   "cell_type": "code",
   "execution_count": 190,
   "metadata": {},
   "outputs": [
    {
     "name": "stdout",
     "output_type": "stream",
     "text": [
      "00000100010\u001b[1m1\u001b[0m  1     read paired - template having multiple segments in sequencing\n",
      "000001000101  0   \n",
      "000001000\u001b[1m1\u001b[0m01  4     read unmapped - segment unmapped\n",
      "000001000101  0   \n",
      "000001000101  0   \n",
      "000001000101  0   \n",
      "00000\u001b[1m1\u001b[0m000101  64    first in pair - the first segment in the template\n",
      "000001000101  0   \n",
      "000001000101  0   \n",
      "000001000101  0   \n",
      "000001000101  0   \n",
      "000001000101  0   \n"
     ]
    },
    {
     "data": {
      "text/plain": [
       "'read paired - template having multiple segments in sequencing + read unmapped - segment unmapped + first in pair - the first segment in the template'"
      ]
     },
     "execution_count": 190,
     "metadata": {},
     "output_type": "execute_result"
    }
   ],
   "source": [
    "sam_flag_decoder(69)"
   ]
  },
  {
   "cell_type": "code",
   "execution_count": 187,
   "metadata": {},
   "outputs": [
    {
     "name": "stdout",
     "output_type": "stream",
     "text": [
      "69  : 000001000101\n",
      "4026: 111110111010\n"
     ]
    }
   ],
   "source": [
    "sam_flag_to_bin(69)"
   ]
  },
  {
   "cell_type": "code",
   "execution_count": 191,
   "metadata": {},
   "outputs": [
    {
     "name": "stdout",
     "output_type": "stream",
     "text": [
      "272\n"
     ]
    }
   ],
   "source": [
    "!samtools view -@ 24 -c -f 69 -F 4026 ../data/alignments/SRR5377828-GRCh38_p13-sorted.bam"
   ]
  },
  {
   "cell_type": "code",
   "execution_count": 192,
   "metadata": {},
   "outputs": [
    {
     "name": "stdout",
     "output_type": "stream",
     "text": [
      "460\n"
     ]
    }
   ],
   "source": [
    "!samtools view -@ 24 -c -f 69 -F 4026 ../data/alignments/SRR5377828-pseudomonas_aeruginosa_pao1-sorted.bam"
   ]
  },
  {
   "cell_type": "code",
   "execution_count": 193,
   "metadata": {},
   "outputs": [
    {
     "name": "stdout",
     "output_type": "stream",
     "text": [
      "00001000100\u001b[1m1\u001b[0m  1     read paired - template having multiple segments in sequencing\n",
      "000010001001  0   \n",
      "000010001001  0   \n",
      "00001000\u001b[1m1\u001b[0m001  8     mate unmapped - next segment in the template unmapped\n",
      "000010001001  0   \n",
      "000010001001  0   \n",
      "000010001001  0   \n",
      "0000\u001b[1m1\u001b[0m0001001  128   second in pair - the last segment in the template\n",
      "000010001001  0   \n",
      "000010001001  0   \n",
      "000010001001  0   \n",
      "000010001001  0   \n"
     ]
    },
    {
     "data": {
      "text/plain": [
       "'read paired - template having multiple segments in sequencing + mate unmapped - next segment in the template unmapped + second in pair - the last segment in the template'"
      ]
     },
     "execution_count": 193,
     "metadata": {},
     "output_type": "execute_result"
    }
   ],
   "source": [
    "sam_flag_decoder(137)"
   ]
  },
  {
   "cell_type": "code",
   "execution_count": 194,
   "metadata": {},
   "outputs": [
    {
     "name": "stdout",
     "output_type": "stream",
     "text": [
      "137 : 000010001001\n",
      "3958: 111101110110\n"
     ]
    }
   ],
   "source": [
    "sam_flag_to_bin(137)"
   ]
  },
  {
   "cell_type": "code",
   "execution_count": 197,
   "metadata": {},
   "outputs": [
    {
     "name": "stdout",
     "output_type": "stream",
     "text": [
      "272\n"
     ]
    }
   ],
   "source": [
    "!samtools view -@ 24 -c -f 137 -F 3958 ../data/alignments/SRR5377828-GRCh38_p13-sorted.bam "
   ]
  },
  {
   "cell_type": "code",
   "execution_count": 198,
   "metadata": {},
   "outputs": [
    {
     "name": "stdout",
     "output_type": "stream",
     "text": [
      "460\n"
     ]
    }
   ],
   "source": [
    "!samtools view -@ 24 -c -f 137 -F 3958 ../data/alignments/SRR5377828-pseudomonas_aeruginosa_pao1-sorted.bam "
   ]
  },
  {
   "cell_type": "markdown",
   "metadata": {},
   "source": [
    "## R1 Unmapped, R2 Unmapped"
   ]
  },
  {
   "cell_type": "code",
   "execution_count": 199,
   "metadata": {},
   "outputs": [
    {
     "name": "stdout",
     "output_type": "stream",
     "text": [
      "00000100110\u001b[1m1\u001b[0m  1     read paired - template having multiple segments in sequencing\n",
      "000001001101  0   \n",
      "000001001\u001b[1m1\u001b[0m01  4     read unmapped - segment unmapped\n",
      "00000100\u001b[1m1\u001b[0m101  8     mate unmapped - next segment in the template unmapped\n",
      "000001001101  0   \n",
      "000001001101  0   \n",
      "00000\u001b[1m1\u001b[0m001101  64    first in pair - the first segment in the template\n",
      "000001001101  0   \n",
      "000001001101  0   \n",
      "000001001101  0   \n",
      "000001001101  0   \n",
      "000001001101  0   \n"
     ]
    },
    {
     "data": {
      "text/plain": [
       "'read paired - template having multiple segments in sequencing + read unmapped - segment unmapped + mate unmapped - next segment in the template unmapped + first in pair - the first segment in the template'"
      ]
     },
     "execution_count": 199,
     "metadata": {},
     "output_type": "execute_result"
    }
   ],
   "source": [
    "sam_flag_decoder(77)"
   ]
  },
  {
   "cell_type": "code",
   "execution_count": 211,
   "metadata": {},
   "outputs": [
    {
     "name": "stdout",
     "output_type": "stream",
     "text": [
      "77\n"
     ]
    }
   ],
   "source": [
    "!samtools view -@ 24 -f 77 ../data/alignments/SRR5377828-GRCh38_p13-sorted.bam | cut -f2 | sort -n | uniq"
   ]
  },
  {
   "cell_type": "code",
   "execution_count": 212,
   "metadata": {},
   "outputs": [
    {
     "name": "stdout",
     "output_type": "stream",
     "text": [
      "47411\n"
     ]
    }
   ],
   "source": [
    "!samtools view -@ 24 -c -f 77 ../data/alignments/SRR5377828-GRCh38_p13-sorted.bam "
   ]
  },
  {
   "cell_type": "code",
   "execution_count": 213,
   "metadata": {},
   "outputs": [
    {
     "name": "stdout",
     "output_type": "stream",
     "text": [
      "141\n"
     ]
    }
   ],
   "source": [
    "!samtools view -@ 24 -f 141 ../data/alignments/SRR5377828-GRCh38_p13-sorted.bam | cut -f2 | sort -n | uniq"
   ]
  },
  {
   "cell_type": "code",
   "execution_count": 214,
   "metadata": {},
   "outputs": [
    {
     "name": "stdout",
     "output_type": "stream",
     "text": [
      "47411\n"
     ]
    }
   ],
   "source": [
    "!samtools view -@ 24 -c -f 141 ../data/alignments/SRR5377828-GRCh38_p13-sorted.bam "
   ]
  },
  {
   "cell_type": "code",
   "execution_count": 215,
   "metadata": {},
   "outputs": [
    {
     "name": "stdout",
     "output_type": "stream",
     "text": [
      "77\n"
     ]
    }
   ],
   "source": [
    "!samtools view -@ 24 -f 77 ../data/alignments/SRR5377828-pseudomonas_aeruginosa_pao1-sorted.bam | cut -f2 | sort -n | uniq"
   ]
  },
  {
   "cell_type": "code",
   "execution_count": 216,
   "metadata": {},
   "outputs": [
    {
     "name": "stdout",
     "output_type": "stream",
     "text": [
      "12221054\n"
     ]
    }
   ],
   "source": [
    "!samtools view -@ 24 -c -f 77 ../data/alignments/SRR5377828-pseudomonas_aeruginosa_pao1-sorted.bam "
   ]
  },
  {
   "cell_type": "code",
   "execution_count": 217,
   "metadata": {},
   "outputs": [
    {
     "name": "stdout",
     "output_type": "stream",
     "text": [
      "141\n"
     ]
    }
   ],
   "source": [
    "!samtools view -@ 24 -f 141 ../data/alignments/SRR5377828-pseudomonas_aeruginosa_pao1-sorted.bam | cut -f2 | sort -n | uniq"
   ]
  },
  {
   "cell_type": "code",
   "execution_count": 218,
   "metadata": {},
   "outputs": [
    {
     "name": "stdout",
     "output_type": "stream",
     "text": [
      "12221054\n"
     ]
    }
   ],
   "source": [
    "!samtools view -@ 24 -c -f 141 ../data/alignments/SRR5377828-pseudomonas_aeruginosa_pao1-sorted.bam "
   ]
  },
  {
   "cell_type": "markdown",
   "metadata": {},
   "source": [
    "# Generating Bucket BAM Files"
   ]
  },
  {
   "cell_type": "code",
   "execution_count": 405,
   "metadata": {},
   "outputs": [],
   "source": [
    "!rm ../data/buckets/*"
   ]
  },
  {
   "cell_type": "code",
   "execution_count": 406,
   "metadata": {},
   "outputs": [
    {
     "name": "stdout",
     "output_type": "stream",
     "text": [
      "../data/buckets\n",
      "\n",
      "0 directories, 0 files\n"
     ]
    }
   ],
   "source": [
    "!tree ../data/buckets -h"
   ]
  },
  {
   "cell_type": "markdown",
   "metadata": {},
   "source": [
    "## Recipient -> Donor (Pseudomonas)"
   ]
  },
  {
   "cell_type": "markdown",
   "metadata": {},
   "source": [
    "### R1 Mapped - R2 Mapped\n",
    "- parameters -f 3 -F 2048 includes flags: 83, 99 147, 163"
   ]
  },
  {
   "cell_type": "code",
   "execution_count": 407,
   "metadata": {},
   "outputs": [],
   "source": [
    "!samtools view -@ 24 -f 3 -F 2048 ../data/alignments/SRR5377828-pseudomonas_aeruginosa_pao1-sorted.bam \\\n",
    "    -o ../data/buckets/SRR5377828-pseudomonas_aeruginosa_pao1_MM.bam"
   ]
  },
  {
   "cell_type": "code",
   "execution_count": 408,
   "metadata": {},
   "outputs": [
    {
     "name": "stdout",
     "output_type": "stream",
     "text": [
      "115694\n"
     ]
    }
   ],
   "source": [
    "!samtools view -@ 24 -c ../data/buckets/SRR5377828-pseudomonas_aeruginosa_pao1_MM.bam"
   ]
  },
  {
   "cell_type": "markdown",
   "metadata": {},
   "source": [
    "### R1 Mapped - R2 Unmapped"
   ]
  },
  {
   "cell_type": "code",
   "execution_count": 409,
   "metadata": {},
   "outputs": [],
   "source": [
    "!samtools view -@ 24 -f 73 -F 4022 ../data/alignments/SRR5377828-pseudomonas_aeruginosa_pao1-sorted.bam \\\n",
    "    -o ../data/buckets/SRR5377828-pseudomonas_aeruginosa_pao1_MU_R1.bam"
   ]
  },
  {
   "cell_type": "code",
   "execution_count": 410,
   "metadata": {},
   "outputs": [
    {
     "name": "stdout",
     "output_type": "stream",
     "text": [
      "2245\n"
     ]
    }
   ],
   "source": [
    "!samtools view -@ 24 -c ../data/buckets/SRR5377828-pseudomonas_aeruginosa_pao1_MU_R1.bam"
   ]
  },
  {
   "cell_type": "code",
   "execution_count": 411,
   "metadata": {},
   "outputs": [],
   "source": [
    "!samtools view -@ 24 -f 133 -F 3962 ../data/alignments/SRR5377828-pseudomonas_aeruginosa_pao1-sorted.bam \\\n",
    "    -o ../data/buckets/SRR5377828-pseudomonas_aeruginosa_pao1_MU_R2.bam"
   ]
  },
  {
   "cell_type": "code",
   "execution_count": 412,
   "metadata": {},
   "outputs": [
    {
     "name": "stdout",
     "output_type": "stream",
     "text": [
      "2245\n"
     ]
    }
   ],
   "source": [
    "!samtools view -@ 24 -c ../data/buckets/SRR5377828-pseudomonas_aeruginosa_pao1_MU_R2.bam"
   ]
  },
  {
   "cell_type": "code",
   "execution_count": 413,
   "metadata": {},
   "outputs": [],
   "source": [
    "!samtools merge  \\\n",
    "    ../data/buckets/SRR5377828-pseudomonas_aeruginosa_pao1_MU.bam \\\n",
    "    -@ 24 -f \\\n",
    "    ../data/buckets/SRR5377828-pseudomonas_aeruginosa_pao1_MU_R1.bam \\\n",
    "    ../data/buckets/SRR5377828-pseudomonas_aeruginosa_pao1_MU_R2.bam"
   ]
  },
  {
   "cell_type": "code",
   "execution_count": 414,
   "metadata": {},
   "outputs": [
    {
     "name": "stdout",
     "output_type": "stream",
     "text": [
      "4490\n"
     ]
    }
   ],
   "source": [
    "!samtools view -@ 24 -c ../data/buckets/SRR5377828-pseudomonas_aeruginosa_pao1_MU.bam"
   ]
  },
  {
   "cell_type": "markdown",
   "metadata": {},
   "source": [
    "### R1 Unmapped - R2 Mapped"
   ]
  },
  {
   "cell_type": "code",
   "execution_count": 415,
   "metadata": {},
   "outputs": [],
   "source": [
    "!samtools view -@ 24 -f 69 -F 4026 ../data/alignments/SRR5377828-pseudomonas_aeruginosa_pao1-sorted.bam \\\n",
    "    -o ../data/buckets/SRR5377828-pseudomonas_aeruginosa_pao1_UM_R1.bam"
   ]
  },
  {
   "cell_type": "code",
   "execution_count": 416,
   "metadata": {},
   "outputs": [
    {
     "name": "stdout",
     "output_type": "stream",
     "text": [
      "460\n"
     ]
    }
   ],
   "source": [
    "!samtools view -@ 24 -c ../data/buckets/SRR5377828-pseudomonas_aeruginosa_pao1_UM_R1.bam"
   ]
  },
  {
   "cell_type": "code",
   "execution_count": 417,
   "metadata": {},
   "outputs": [],
   "source": [
    "!samtools view -@ 24 -f 137 -F 3958 ../data/alignments/SRR5377828-pseudomonas_aeruginosa_pao1-sorted.bam \\\n",
    "    -o ../data/buckets/SRR5377828-pseudomonas_aeruginosa_pao1_UM_R2.bam"
   ]
  },
  {
   "cell_type": "code",
   "execution_count": 418,
   "metadata": {},
   "outputs": [
    {
     "name": "stdout",
     "output_type": "stream",
     "text": [
      "460\n"
     ]
    }
   ],
   "source": [
    "!samtools view -@ 24 -c ../data/buckets/SRR5377828-pseudomonas_aeruginosa_pao1_UM_R2.bam"
   ]
  },
  {
   "cell_type": "code",
   "execution_count": 419,
   "metadata": {},
   "outputs": [],
   "source": [
    "!samtools merge  \\\n",
    "    ../data/buckets/SRR5377828-pseudomonas_aeruginosa_pao1_UM.bam \\\n",
    "    -@ 24 -f \\\n",
    "    ../data/buckets/SRR5377828-pseudomonas_aeruginosa_pao1_UM_R1.bam \\\n",
    "    ../data/buckets/SRR5377828-pseudomonas_aeruginosa_pao1_UM_R2.bam"
   ]
  },
  {
   "cell_type": "code",
   "execution_count": 420,
   "metadata": {},
   "outputs": [
    {
     "name": "stdout",
     "output_type": "stream",
     "text": [
      "920\n"
     ]
    }
   ],
   "source": [
    "!samtools view -@ 24 -c ../data/buckets/SRR5377828-pseudomonas_aeruginosa_pao1_UM.bam"
   ]
  },
  {
   "cell_type": "markdown",
   "metadata": {},
   "source": [
    "### R1 Unmapped - R2 Unmapped"
   ]
  },
  {
   "cell_type": "code",
   "execution_count": 421,
   "metadata": {},
   "outputs": [],
   "source": [
    "!samtools view -@ 24 -f 77 ../data/alignments/SRR5377828-pseudomonas_aeruginosa_pao1-sorted.bam \\\n",
    "    -o ../data/buckets/SRR5377828-pseudomonas_aeruginosa_pao1_UU_R1.bam"
   ]
  },
  {
   "cell_type": "code",
   "execution_count": 422,
   "metadata": {},
   "outputs": [
    {
     "name": "stdout",
     "output_type": "stream",
     "text": [
      "12221054\n"
     ]
    }
   ],
   "source": [
    "!samtools view -@ 24 -c ../data/buckets/SRR5377828-pseudomonas_aeruginosa_pao1_UU_R1.bam"
   ]
  },
  {
   "cell_type": "code",
   "execution_count": 423,
   "metadata": {},
   "outputs": [],
   "source": [
    "!samtools view -@ 24 -f 141 ../data/alignments/SRR5377828-pseudomonas_aeruginosa_pao1-sorted.bam \\\n",
    "    -o ../data/buckets/SRR5377828-pseudomonas_aeruginosa_pao1_UU_R2.bam"
   ]
  },
  {
   "cell_type": "code",
   "execution_count": 424,
   "metadata": {},
   "outputs": [
    {
     "name": "stdout",
     "output_type": "stream",
     "text": [
      "12221054\n"
     ]
    }
   ],
   "source": [
    "!samtools view -@ 24 -c ../data/buckets/SRR5377828-pseudomonas_aeruginosa_pao1_UU_R2.bam"
   ]
  },
  {
   "cell_type": "code",
   "execution_count": 425,
   "metadata": {},
   "outputs": [],
   "source": [
    "!samtools merge  \\\n",
    "    ../data/buckets/SRR5377828-pseudomonas_aeruginosa_pao1_UU.bam \\\n",
    "    -@ 24 -f \\\n",
    "    ../data/buckets/SRR5377828-pseudomonas_aeruginosa_pao1_UU_R1.bam \\\n",
    "    ../data/buckets/SRR5377828-pseudomonas_aeruginosa_pao1_UU_R2.bam"
   ]
  },
  {
   "cell_type": "code",
   "execution_count": 426,
   "metadata": {},
   "outputs": [
    {
     "name": "stdout",
     "output_type": "stream",
     "text": [
      "24442108\n"
     ]
    }
   ],
   "source": [
    "!samtools view -@ 24 -c ../data/buckets/SRR5377828-pseudomonas_aeruginosa_pao1_UU.bam"
   ]
  },
  {
   "cell_type": "markdown",
   "metadata": {},
   "source": [
    "## Recipient -> Host (Human)"
   ]
  },
  {
   "cell_type": "markdown",
   "metadata": {},
   "source": [
    "### R1 Mapped - R2 Mapped\n",
    "- parameters -f 3 -F 2048 includes flags: 83, 99 147, 163"
   ]
  },
  {
   "cell_type": "code",
   "execution_count": 427,
   "metadata": {},
   "outputs": [],
   "source": [
    "!samtools view -@ 24 -f 3 -F 2048 ../data/alignments/SRR5377828-GRCh38_p13-sorted.bam \\\n",
    "    -o ../data/buckets/SRR5377828-GRCh38_p13_MM.bam"
   ]
  },
  {
   "cell_type": "code",
   "execution_count": 428,
   "metadata": {},
   "outputs": [
    {
     "name": "stdout",
     "output_type": "stream",
     "text": [
      "20977874\n"
     ]
    }
   ],
   "source": [
    "!samtools view -@ 24 -c ../data/buckets/SRR5377828-GRCh38_p13_MM.bam"
   ]
  },
  {
   "cell_type": "markdown",
   "metadata": {},
   "source": [
    "### R1 Mapped - R2 Unmapped"
   ]
  },
  {
   "cell_type": "code",
   "execution_count": 429,
   "metadata": {},
   "outputs": [],
   "source": [
    "!samtools view -@ 24 -f 73 -F 4022 ../data/alignments/SRR5377828-GRCh38_p13-sorted.bam \\\n",
    "    -o ../data/buckets/SRR5377828-GRCh38_p13_MU_R1.bam"
   ]
  },
  {
   "cell_type": "code",
   "execution_count": 430,
   "metadata": {},
   "outputs": [
    {
     "name": "stdout",
     "output_type": "stream",
     "text": [
      "18894\n"
     ]
    }
   ],
   "source": [
    "!samtools view -@ 24 -c ../data/buckets/SRR5377828-GRCh38_p13_MU_R1.bam"
   ]
  },
  {
   "cell_type": "code",
   "execution_count": 431,
   "metadata": {},
   "outputs": [],
   "source": [
    "!samtools view -@ 24 -f 133 -F 3962 ../data/alignments/SRR5377828-GRCh38_p13-sorted.bam \\\n",
    "    -o ../data/buckets/SRR5377828-GRCh38_p13_MU_R2.bam"
   ]
  },
  {
   "cell_type": "code",
   "execution_count": 432,
   "metadata": {},
   "outputs": [
    {
     "name": "stdout",
     "output_type": "stream",
     "text": [
      "18894\n"
     ]
    }
   ],
   "source": [
    "!samtools view -@ 24 -c ../data/buckets/SRR5377828-GRCh38_p13_MU_R2.bam"
   ]
  },
  {
   "cell_type": "code",
   "execution_count": 433,
   "metadata": {},
   "outputs": [],
   "source": [
    "!samtools merge  \\\n",
    "    ../data/buckets/SRR5377828-GRCh38_p13_MU.bam \\\n",
    "    -@ 24 -f \\\n",
    "    ../data/buckets/SRR5377828-GRCh38_p13_MU_R1.bam \\\n",
    "    ../data/buckets/SRR5377828-GRCh38_p13_MU_R2.bam"
   ]
  },
  {
   "cell_type": "code",
   "execution_count": 434,
   "metadata": {},
   "outputs": [
    {
     "name": "stdout",
     "output_type": "stream",
     "text": [
      "37788\n"
     ]
    }
   ],
   "source": [
    "!samtools view -@ 24 -c ../data/buckets/SRR5377828-GRCh38_p13_MU.bam"
   ]
  },
  {
   "cell_type": "markdown",
   "metadata": {},
   "source": [
    "### R1 Unmapped - R2 Mapped"
   ]
  },
  {
   "cell_type": "code",
   "execution_count": 13,
   "metadata": {},
   "outputs": [],
   "source": [
    "!samtools view -@ 24 -f 69 -F 4026 ../data/alignments/SRR5377828-GRCh38_p13-sorted.bam \\\n",
    "    -o ../data/buckets/SRR5377828-GRCh38_p13_UM_R1.bam"
   ]
  },
  {
   "cell_type": "code",
   "execution_count": 14,
   "metadata": {},
   "outputs": [
    {
     "name": "stdout",
     "output_type": "stream",
     "text": [
      "272\n"
     ]
    }
   ],
   "source": [
    "!samtools view -@ 24 -c ../data/buckets/SRR5377828-GRCh38_p13_UM_R1.bam"
   ]
  },
  {
   "cell_type": "code",
   "execution_count": 15,
   "metadata": {},
   "outputs": [],
   "source": [
    "!samtools view -@ 24 -f 137 -F 3958 ../data/alignments/SRR5377828-GRCh38_p13-sorted.bam \\\n",
    "    -o ../data/buckets/SRR5377828-GRCh38_p13_UM_R2.bam"
   ]
  },
  {
   "cell_type": "code",
   "execution_count": 16,
   "metadata": {},
   "outputs": [
    {
     "name": "stdout",
     "output_type": "stream",
     "text": [
      "272\n"
     ]
    }
   ],
   "source": [
    "!samtools view -@ 24 -c ../data/buckets/SRR5377828-GRCh38_p13_UM_R2.bam"
   ]
  },
  {
   "cell_type": "code",
   "execution_count": 17,
   "metadata": {},
   "outputs": [],
   "source": [
    "!samtools merge  \\\n",
    "    ../data/buckets/SRR5377828-GRCh38_p13_UM.bam \\\n",
    "    -@ 24 -f \\\n",
    "    ../data/buckets/SRR5377828-GRCh38_p13_UM_R1.bam \\\n",
    "    ../data/buckets/SRR5377828-GRCh38_p13_UM_R2.bam"
   ]
  },
  {
   "cell_type": "code",
   "execution_count": 440,
   "metadata": {},
   "outputs": [
    {
     "name": "stdout",
     "output_type": "stream",
     "text": [
      "544\n"
     ]
    }
   ],
   "source": [
    "!samtools view -@ 24 -c ../data/buckets/SRR5377828-GRCh38_p13_UM.bam"
   ]
  },
  {
   "cell_type": "markdown",
   "metadata": {},
   "source": [
    "### R1 Unmapped - R2 Unmapped"
   ]
  },
  {
   "cell_type": "code",
   "execution_count": 441,
   "metadata": {},
   "outputs": [],
   "source": [
    "!samtools view -@ 24 -f 77 ../data/alignments/SRR5377828-GRCh38_p13-sorted.bam \\\n",
    "    -o ../data/buckets/SRR5377828-GRCh38_p13_UU_R1.bam"
   ]
  },
  {
   "cell_type": "code",
   "execution_count": 442,
   "metadata": {},
   "outputs": [
    {
     "name": "stdout",
     "output_type": "stream",
     "text": [
      "47411\n"
     ]
    }
   ],
   "source": [
    "!samtools view -@ 24 -c ../data/buckets/SRR5377828-GRCh38_p13_UU_R1.bam"
   ]
  },
  {
   "cell_type": "code",
   "execution_count": 443,
   "metadata": {},
   "outputs": [],
   "source": [
    "!samtools view -@ 24 -f 141 ../data/alignments/SRR5377828-GRCh38_p13-sorted.bam \\\n",
    "    -o ../data/buckets/SRR5377828-GRCh38_p13_UU_R2.bam"
   ]
  },
  {
   "cell_type": "code",
   "execution_count": 444,
   "metadata": {},
   "outputs": [
    {
     "name": "stdout",
     "output_type": "stream",
     "text": [
      "47411\n"
     ]
    }
   ],
   "source": [
    "!samtools view -@ 24 -c ../data/buckets/SRR5377828-GRCh38_p13_UU_R2.bam"
   ]
  },
  {
   "cell_type": "code",
   "execution_count": 445,
   "metadata": {},
   "outputs": [],
   "source": [
    "!samtools merge  \\\n",
    "    ../data/buckets/SRR5377828-GRCh38_p13_UU.bam \\\n",
    "    -@ 24 -f \\\n",
    "    ../data/buckets/SRR5377828-GRCh38_p13_UU_R1.bam \\\n",
    "    ../data/buckets/SRR5377828-GRCh38_p13_UU_R2.bam"
   ]
  },
  {
   "cell_type": "code",
   "execution_count": 446,
   "metadata": {},
   "outputs": [
    {
     "name": "stdout",
     "output_type": "stream",
     "text": [
      "94822\n"
     ]
    }
   ],
   "source": [
    "!samtools view -@ 24 -c ../data/buckets/SRR5377828-GRCh38_p13_UU.bam"
   ]
  },
  {
   "cell_type": "markdown",
   "metadata": {},
   "source": [
    "# Clean up"
   ]
  },
  {
   "cell_type": "code",
   "execution_count": 453,
   "metadata": {},
   "outputs": [],
   "source": [
    "!rm ../data/buckets/*R1.bam"
   ]
  },
  {
   "cell_type": "code",
   "execution_count": 454,
   "metadata": {},
   "outputs": [],
   "source": [
    "!rm ../data/buckets/*R2.bam"
   ]
  },
  {
   "cell_type": "markdown",
   "metadata": {},
   "source": [
    "# Analysis - Why MU is much larger than UM?"
   ]
  },
  {
   "cell_type": "markdown",
   "metadata": {},
   "source": [
    "### R1 Mapped - R2 Unmapped"
   ]
  },
  {
   "cell_type": "code",
   "execution_count": 475,
   "metadata": {},
   "outputs": [
    {
     "name": "stdout",
     "output_type": "stream",
     "text": [
      "73  : 000001001001\n",
      "4022: 111110110110\n"
     ]
    }
   ],
   "source": [
    "sam_flag_to_bin(73)"
   ]
  },
  {
   "cell_type": "code",
   "execution_count": 463,
   "metadata": {},
   "outputs": [
    {
     "name": "stdout",
     "output_type": "stream",
     "text": [
      "2245\n"
     ]
    }
   ],
   "source": [
    "!samtools view -@ 24 -c -f 73 -F 4022 ../data/alignments/SRR5377828-pseudomonas_aeruginosa_pao1-sorted.bam"
   ]
  },
  {
   "cell_type": "code",
   "execution_count": 464,
   "metadata": {},
   "outputs": [
    {
     "name": "stdout",
     "output_type": "stream",
     "text": [
      "73\n"
     ]
    }
   ],
   "source": [
    "!samtools view -@ 24 -f 73 -F 4022 ../data/alignments/SRR5377828-pseudomonas_aeruginosa_pao1-sorted.bam | cut -f2 | sort -n | uniq"
   ]
  },
  {
   "cell_type": "code",
   "execution_count": 476,
   "metadata": {},
   "outputs": [
    {
     "name": "stdout",
     "output_type": "stream",
     "text": [
      "133 : 000010000101\n",
      "3962: 111101111010\n"
     ]
    }
   ],
   "source": [
    "sam_flag_to_bin(133)"
   ]
  },
  {
   "cell_type": "code",
   "execution_count": 465,
   "metadata": {},
   "outputs": [
    {
     "name": "stdout",
     "output_type": "stream",
     "text": [
      "2245\n"
     ]
    }
   ],
   "source": [
    "!samtools view -@ 24 -c -f 133 -F 3962 ../data/alignments/SRR5377828-pseudomonas_aeruginosa_pao1-sorted.bam"
   ]
  },
  {
   "cell_type": "code",
   "execution_count": 466,
   "metadata": {},
   "outputs": [
    {
     "name": "stdout",
     "output_type": "stream",
     "text": [
      "133\n"
     ]
    }
   ],
   "source": [
    "!samtools view -@ 24 -f 133 -F 3962 ../data/alignments/SRR5377828-pseudomonas_aeruginosa_pao1-sorted.bam | cut -f2 | sort -n | uniq"
   ]
  },
  {
   "cell_type": "code",
   "execution_count": 467,
   "metadata": {},
   "outputs": [
    {
     "name": "stdout",
     "output_type": "stream",
     "text": [
      "00000100100\u001b[1m1\u001b[0m  1     read paired - template having multiple segments in sequencing\n",
      "000001001001  0   \n",
      "000001001001  0   \n",
      "00000100\u001b[1m1\u001b[0m001  8     mate unmapped - next segment in the template unmapped\n",
      "000001001001  0   \n",
      "000001001001  0   \n",
      "00000\u001b[1m1\u001b[0m001001  64    first in pair - the first segment in the template\n",
      "000001001001  0   \n",
      "000001001001  0   \n",
      "000001001001  0   \n",
      "000001001001  0   \n",
      "000001001001  0   \n"
     ]
    },
    {
     "data": {
      "text/plain": [
       "'read paired - template having multiple segments in sequencing + mate unmapped - next segment in the template unmapped + first in pair - the first segment in the template'"
      ]
     },
     "execution_count": 467,
     "metadata": {},
     "output_type": "execute_result"
    }
   ],
   "source": [
    "sam_flag_decoder(73)"
   ]
  },
  {
   "cell_type": "code",
   "execution_count": 468,
   "metadata": {},
   "outputs": [
    {
     "name": "stdout",
     "output_type": "stream",
     "text": [
      "00001000010\u001b[1m1\u001b[0m  1     read paired - template having multiple segments in sequencing\n",
      "000010000101  0   \n",
      "000010000\u001b[1m1\u001b[0m01  4     read unmapped - segment unmapped\n",
      "000010000101  0   \n",
      "000010000101  0   \n",
      "000010000101  0   \n",
      "000010000101  0   \n",
      "0000\u001b[1m1\u001b[0m0000101  128   second in pair - the last segment in the template\n",
      "000010000101  0   \n",
      "000010000101  0   \n",
      "000010000101  0   \n",
      "000010000101  0   \n"
     ]
    },
    {
     "data": {
      "text/plain": [
       "'read paired - template having multiple segments in sequencing + read unmapped - segment unmapped + second in pair - the last segment in the template'"
      ]
     },
     "execution_count": 468,
     "metadata": {},
     "output_type": "execute_result"
    }
   ],
   "source": [
    "sam_flag_decoder(133)"
   ]
  },
  {
   "cell_type": "markdown",
   "metadata": {},
   "source": [
    "### R1 Unmapped - R2 Mapped"
   ]
  },
  {
   "cell_type": "code",
   "execution_count": 477,
   "metadata": {},
   "outputs": [
    {
     "name": "stdout",
     "output_type": "stream",
     "text": [
      "69  : 000001000101\n",
      "4026: 111110111010\n"
     ]
    }
   ],
   "source": [
    "sam_flag_to_bin(69)"
   ]
  },
  {
   "cell_type": "code",
   "execution_count": 469,
   "metadata": {},
   "outputs": [
    {
     "name": "stdout",
     "output_type": "stream",
     "text": [
      "460\n"
     ]
    }
   ],
   "source": [
    "!samtools view -@ 24 -c -f 69 -F 4026 ../data/alignments/SRR5377828-pseudomonas_aeruginosa_pao1-sorted.bam"
   ]
  },
  {
   "cell_type": "code",
   "execution_count": 470,
   "metadata": {},
   "outputs": [
    {
     "name": "stdout",
     "output_type": "stream",
     "text": [
      "69\n"
     ]
    }
   ],
   "source": [
    "!samtools view -@ 24 -f 69 -F 4026 ../data/alignments/SRR5377828-pseudomonas_aeruginosa_pao1-sorted.bam | cut -f2 | sort -n | uniq"
   ]
  },
  {
   "cell_type": "code",
   "execution_count": 478,
   "metadata": {},
   "outputs": [
    {
     "name": "stdout",
     "output_type": "stream",
     "text": [
      "137 : 000010001001\n",
      "3958: 111101110110\n"
     ]
    }
   ],
   "source": [
    "sam_flag_to_bin(137)"
   ]
  },
  {
   "cell_type": "code",
   "execution_count": 471,
   "metadata": {},
   "outputs": [
    {
     "name": "stdout",
     "output_type": "stream",
     "text": [
      "460\n"
     ]
    }
   ],
   "source": [
    "!samtools view -@ 24 -c -f 137 -F 3958 ../data/alignments/SRR5377828-pseudomonas_aeruginosa_pao1-sorted.bam "
   ]
  },
  {
   "cell_type": "code",
   "execution_count": 472,
   "metadata": {},
   "outputs": [
    {
     "name": "stdout",
     "output_type": "stream",
     "text": [
      "137\n"
     ]
    }
   ],
   "source": [
    "!samtools view -@ 24 -f 137 -F 3958 ../data/alignments/SRR5377828-pseudomonas_aeruginosa_pao1-sorted.bam | cut -f2 | sort -n | uniq"
   ]
  },
  {
   "cell_type": "code",
   "execution_count": 473,
   "metadata": {},
   "outputs": [
    {
     "name": "stdout",
     "output_type": "stream",
     "text": [
      "00000100010\u001b[1m1\u001b[0m  1     read paired - template having multiple segments in sequencing\n",
      "000001000101  0   \n",
      "000001000\u001b[1m1\u001b[0m01  4     read unmapped - segment unmapped\n",
      "000001000101  0   \n",
      "000001000101  0   \n",
      "000001000101  0   \n",
      "00000\u001b[1m1\u001b[0m000101  64    first in pair - the first segment in the template\n",
      "000001000101  0   \n",
      "000001000101  0   \n",
      "000001000101  0   \n",
      "000001000101  0   \n",
      "000001000101  0   \n"
     ]
    },
    {
     "data": {
      "text/plain": [
       "'read paired - template having multiple segments in sequencing + read unmapped - segment unmapped + first in pair - the first segment in the template'"
      ]
     },
     "execution_count": 473,
     "metadata": {},
     "output_type": "execute_result"
    }
   ],
   "source": [
    "sam_flag_decoder(69)"
   ]
  },
  {
   "cell_type": "code",
   "execution_count": 20,
   "metadata": {},
   "outputs": [
    {
     "name": "stdout",
     "output_type": "stream",
     "text": [
      "00001000100\u001b[1m1\u001b[0m  1     read paired - template having multiple segments in sequencing\n",
      "000010001001  0   \n",
      "000010001001  0   \n",
      "00001000\u001b[1m1\u001b[0m001  8     mate unmapped - next segment in the template unmapped\n",
      "000010001001  0   \n",
      "000010001001  0   \n",
      "000010001001  0   \n",
      "0000\u001b[1m1\u001b[0m0001001  128   second in pair - the last segment in the template\n",
      "000010001001  0   \n",
      "000010001001  0   \n",
      "000010001001  0   \n",
      "000010001001  0   \n"
     ]
    },
    {
     "data": {
      "text/plain": [
       "'read paired - template having multiple segments in sequencing + mate unmapped - next segment in the template unmapped + second in pair - the last segment in the template'"
      ]
     },
     "execution_count": 20,
     "metadata": {},
     "output_type": "execute_result"
    }
   ],
   "source": [
    "sam_flag_decoder(137)"
   ]
  },
  {
   "cell_type": "markdown",
   "metadata": {},
   "source": [
    "### Is there a difference overall?"
   ]
  },
  {
   "cell_type": "code",
   "execution_count": 23,
   "metadata": {},
   "outputs": [
    {
     "name": "stdout",
     "output_type": "stream",
     "text": [
      "65\n",
      "69\n",
      "73\n",
      "77\n",
      "81\n",
      "83\n",
      "97\n",
      "99\n",
      "113\n",
      "117\n",
      "121\n",
      "2113\n",
      "2121\n",
      "2129\n",
      "2145\n",
      "2147\n",
      "2161\n",
      "2163\n",
      "2169\n"
     ]
    }
   ],
   "source": [
    "!samtools view -@ 24 -f 64 ../data/alignments/SRR5377828-pseudomonas_aeruginosa_pao1-sorted.bam | cut -f2 | sort -n | uniq"
   ]
  },
  {
   "cell_type": "code",
   "execution_count": 12,
   "metadata": {},
   "outputs": [
    {
     "name": "stdout",
     "output_type": "stream",
     "text": [
      "12287994\n"
     ]
    }
   ],
   "source": [
    "!samtools view -@ 24 -cf 64 ../data/alignments/SRR5377828-pseudomonas_aeruginosa_pao1-sorted.bam "
   ]
  },
  {
   "cell_type": "code",
   "execution_count": 8,
   "metadata": {},
   "outputs": [
    {
     "name": "stdout",
     "output_type": "stream",
     "text": [
      "12288017\n"
     ]
    }
   ],
   "source": [
    "!samtools view -@ 24 -cf 128 ../data/alignments/SRR5377828-pseudomonas_aeruginosa_pao1-sorted.bam "
   ]
  },
  {
   "cell_type": "code",
   "execution_count": 9,
   "metadata": {},
   "outputs": [
    {
     "name": "stdout",
     "output_type": "stream",
     "text": [
      "13600288\n"
     ]
    }
   ],
   "source": [
    "!samtools view -@ 24 -cf 64 ../data/alignments/SRR5377828-GRCh38_p13-sorted.bam "
   ]
  },
  {
   "cell_type": "code",
   "execution_count": 10,
   "metadata": {},
   "outputs": [
    {
     "name": "stdout",
     "output_type": "stream",
     "text": [
      "13663330\n"
     ]
    }
   ],
   "source": [
    "!samtools view -@ 24 -cf 128 ../data/alignments/SRR5377828-GRCh38_p13-sorted.bam "
   ]
  },
  {
   "cell_type": "markdown",
   "metadata": {},
   "source": [
    "# MU, UM, MM, UU Buckets for Donor and Host"
   ]
  },
  {
   "cell_type": "code",
   "execution_count": null,
   "metadata": {},
   "outputs": [],
   "source": [
    "%%bash\n",
    "# Recipient -> Donor (Pseudomonas)\n",
    "## R1 Mapped - R2 Mapped\n",
    "samtools view -@ 24 -f 3 -F 2048 ../data/alignments/SRR5377828-pseudomonas_aeruginosa_pao1-sorted.bam \\\n",
    "    -o ../data/buckets/SRR5377828-pseudomonas_aeruginosa_pao1_MM.bam\n",
    "\n",
    "## R1 Mapped - R2 Unmapped\n",
    "samtools view -@ 24 -f 73 -F 4022 ../data/alignments/SRR5377828-pseudomonas_aeruginosa_pao1-sorted.bam \\\n",
    "    -o ../data/buckets/SRR5377828-pseudomonas_aeruginosa_pao1_MU_R1.bam\n",
    "samtools view -@ 24 -f 133 -F 3962 ../data/alignments/SRR5377828-pseudomonas_aeruginosa_pao1-sorted.bam \\\n",
    "    -o ../data/buckets/SRR5377828-pseudomonas_aeruginosa_pao1_MU_R2.bam\n",
    "samtools merge  \\\n",
    "    ../data/buckets/SRR5377828-pseudomonas_aeruginosa_pao1_MU.bam \\\n",
    "    -@ 24 -f \\\n",
    "    ../data/buckets/SRR5377828-pseudomonas_aeruginosa_pao1_MU_R1.bam \\\n",
    "    ../data/buckets/SRR5377828-pseudomonas_aeruginosa_pao1_MU_R2.bam\n",
    "\n",
    "## R1 Unmapped - R2 Mapped\n",
    "samtools view -@ 24 -f 69 -F 4026 ../data/alignments/SRR5377828-pseudomonas_aeruginosa_pao1-sorted.bam \\\n",
    "    -o ../data/buckets/SRR5377828-pseudomonas_aeruginosa_pao1_UM_R1.bam\n",
    "samtools view -@ 24 -f 137 -F 3958 ../data/alignments/SRR5377828-pseudomonas_aeruginosa_pao1-sorted.bam \\\n",
    "    -o ../data/buckets/SRR5377828-pseudomonas_aeruginosa_pao1_UM_R2.bam\n",
    "samtools merge  \\\n",
    "    ../data/buckets/SRR5377828-pseudomonas_aeruginosa_pao1_UM.bam \\\n",
    "    -@ 24 -f \\\n",
    "    ../data/buckets/SRR5377828-pseudomonas_aeruginosa_pao1_UM_R1.bam \\\n",
    "    ../data/buckets/SRR5377828-pseudomonas_aeruginosa_pao1_UM_R2.bam\n",
    "\n",
    "## R1 Unmapped - R2 Unmapped\n",
    "samtools view -@ 24 -f 77 ../data/alignments/SRR5377828-pseudomonas_aeruginosa_pao1-sorted.bam \\\n",
    "    -o ../data/buckets/SRR5377828-pseudomonas_aeruginosa_pao1_UU_R1.bam\n",
    "samtools view -@ 24 -f 141 ../data/alignments/SRR5377828-pseudomonas_aeruginosa_pao1-sorted.bam \\\n",
    "    -o ../data/buckets/SRR5377828-pseudomonas_aeruginosa_pao1_UU_R2.bam\n",
    "samtools merge  \\\n",
    "    ../data/buckets/SRR5377828-pseudomonas_aeruginosa_pao1_UU.bam \\\n",
    "    -@ 24 -f \\\n",
    "    ../data/buckets/SRR5377828-pseudomonas_aeruginosa_pao1_UU_R1.bam \\\n",
    "    ../data/buckets/SRR5377828-pseudomonas_aeruginosa_pao1_UU_R2.bam\n",
    "\n",
    "\n",
    "\n",
    "# Recipient -> Host (Human)\n",
    "## R1 Mapped - R2 Mapped\n",
    "samtools view -@ 24 -f 3 -F 2048 ../data/alignments/SRR5377828-GRCh38_p13-sorted.bam \\\n",
    "    -o ../data/buckets/SRR5377828-GRCh38_p13_MM.bam\n",
    "\n",
    "## R1 Mapped - R2 Unmapped\n",
    "samtools view -@ 24 -f 73 -F 4022 ../data/alignments/SRR5377828-GRCh38_p13-sorted.bam \\\n",
    "    -o ../data/buckets/SRR5377828-GRCh38_p13_MU_R1.bam\n",
    "samtools view -@ 24 -f 133 -F 3962 ../data/alignments/SRR5377828-GRCh38_p13-sorted.bam \\\n",
    "    -o ../data/buckets/SRR5377828-GRCh38_p13_MU_R2.bam\n",
    "samtools merge  \\\n",
    "    ../data/buckets/SRR5377828-GRCh38_p13_MU.bam \\\n",
    "    -@ 24 -f \\\n",
    "    ../data/buckets/SRR5377828-GRCh38_p13_MU_R1.bam \\\n",
    "    ../data/buckets/SRR5377828-GRCh38_p13_MU_R2.bam\n",
    "\n",
    "## R1 Unmapped - R2 Mapped\n",
    "samtools view -@ 24 -f 69 -F 4026 ../data/alignments/SRR5377828-GRCh38_p13-sorted.bam \\\n",
    "    -o ../data/buckets/SRR5377828-GRCh38_p13_UM_R1.bam\n",
    "samtools view -@ 24 -f 137 -F 3958 ../data/alignments/SRR5377828-GRCh38_p13-sorted.bam \\\n",
    "    -o ../data/buckets/SRR5377828-GRCh38_p13_UM_R2.bam\n",
    "samtools merge  \\\n",
    "    ../data/buckets/SRR5377828-GRCh38_p13_UM.bam \\\n",
    "    -@ 24 -f \\\n",
    "    ../data/buckets/SRR5377828-GRCh38_p13_UM_R1.bam \\\n",
    "    ../data/buckets/SRR5377828-GRCh38_p13_UM_R2.bam\n",
    "\n",
    "## R1 Unmapped - R2 Unmapped\n",
    "samtools view -@ 24 -f 77 ../data/alignments/SRR5377828-GRCh38_p13-sorted.bam \\\n",
    "    -o ../data/buckets/SRR5377828-GRCh38_p13_UU_R1.bam\n",
    "samtools view -@ 24 -f 141 ../data/alignments/SRR5377828-GRCh38_p13-sorted.bam \\\n",
    "    -o ../data/buckets/SRR5377828-GRCh38_p13_UU_R2.bam\n",
    "samtools merge  \\\n",
    "    ../data/buckets/SRR5377828-GRCh38_p13_UU.bam \\\n",
    "    -@ 24 -f \\\n",
    "    ../data/buckets/SRR5377828-GRCh38_p13_UU_R1.bam \\\n",
    "    ../data/buckets/SRR5377828-GRCh38_p13_UU_R2.bam"
   ]
  },
  {
   "cell_type": "code",
   "execution_count": 1,
   "metadata": {},
   "outputs": [
    {
     "name": "stdout",
     "output_type": "stream",
     "text": [
      "../data/buckets\n",
      "├── [949M]  SRR5377828-GRCh38_p13_MM.bam\n",
      "├── [2.3M]  SRR5377828-GRCh38_p13_MU.bam\n",
      "├── [ 50K]  SRR5377828-GRCh38_p13_UM.bam\n",
      "├── [4.5M]  SRR5377828-GRCh38_p13_UU.bam\n",
      "├── [5.4M]  SRR5377828-pseudomonas_aeruginosa_pao1_MM.bam\n",
      "├── [210K]  SRR5377828-pseudomonas_aeruginosa_pao1_MU.bam\n",
      "├── [ 46K]  SRR5377828-pseudomonas_aeruginosa_pao1_UM.bam\n",
      "└── [1.2G]  SRR5377828-pseudomonas_aeruginosa_pao1_UU.bam\n",
      "\n",
      "0 directories, 8 files\n"
     ]
    }
   ],
   "source": [
    "!tree ../data/buckets -h"
   ]
  },
  {
   "cell_type": "markdown",
   "metadata": {},
   "source": [
    "# Grouping between buckets"
   ]
  },
  {
   "cell_type": "markdown",
   "metadata": {},
   "source": [
    "For the UM_MU intersect, one could use bedtools bamtobed on UM, and bedtools bamtobed on MU. Then we'd have two BED files. Then use bedtools intersect to intersect the two BED files into another BED file, containing a list of the intersections. Lastly, run samtools view -L on the intersect.BED file, for each SAM file to filter for the intersection reads. Lastly, we could do a samtools merge to bring the two sam tools together, but still, it feels odd to have two alignments for organisms on the same SAM file right?"
   ]
  },
  {
   "cell_type": "markdown",
   "metadata": {},
   "source": [
    "## Create files containing a unique, ordered, list of QNAMES (the identifiers for the reads, or Read IDs)"
   ]
  },
  {
   "cell_type": "code",
   "execution_count": 63,
   "metadata": {},
   "outputs": [],
   "source": [
    "!samtools view -@ 24 ../data/buckets/SRR5377828-GRCh38_p13_MU.bam | cut -f1 | sort | uniq > ../data/bucket_pairs/SRR5377828-GRCh38_p13_MU_QNAMEs.txt"
   ]
  },
  {
   "cell_type": "code",
   "execution_count": 64,
   "metadata": {},
   "outputs": [],
   "source": [
    "!samtools view -@ 24 ../data/buckets/SRR5377828-GRCh38_p13_UM.bam | cut -f1 | sort | uniq > ../data/bucket_pairs/SRR5377828-GRCh38_p13_UM_QNAMEs.txt"
   ]
  },
  {
   "cell_type": "code",
   "execution_count": 65,
   "metadata": {},
   "outputs": [],
   "source": [
    "!samtools view -@ 24 ../data/buckets/SRR5377828-GRCh38_p13_MM.bam | cut -f1 | sort | uniq > ../data/bucket_pairs/SRR5377828-GRCh38_p13_MM_QNAMEs.txt"
   ]
  },
  {
   "cell_type": "code",
   "execution_count": 66,
   "metadata": {},
   "outputs": [],
   "source": [
    "!samtools view -@ 24 ../data/buckets/SRR5377828-GRCh38_p13_UU.bam | cut -f1 | sort | uniq > ../data/bucket_pairs/SRR5377828-GRCh38_p13_UU_QNAMEs.txt"
   ]
  },
  {
   "cell_type": "code",
   "execution_count": 67,
   "metadata": {},
   "outputs": [],
   "source": [
    "!samtools view -@ 24 ../data/buckets/SRR5377828-pseudomonas_aeruginosa_pao1_MU.bam | cut -f1 | sort | uniq > ../data/bucket_pairs/SRR5377828-pseudomonas_aeruginosa_pao1_MU_QNAMEs.txt"
   ]
  },
  {
   "cell_type": "code",
   "execution_count": 68,
   "metadata": {},
   "outputs": [],
   "source": [
    "!samtools view -@ 24 ../data/buckets/SRR5377828-pseudomonas_aeruginosa_pao1_UM.bam | cut -f1 | sort | uniq > ../data/bucket_pairs/SRR5377828-pseudomonas_aeruginosa_pao1_UM_QNAMEs.txt"
   ]
  },
  {
   "cell_type": "code",
   "execution_count": 69,
   "metadata": {},
   "outputs": [],
   "source": [
    "!samtools view -@ 24 ../data/buckets/SRR5377828-pseudomonas_aeruginosa_pao1_MM.bam | cut -f1 | sort | uniq > ../data/bucket_pairs/SRR5377828-pseudomonas_aeruginosa_pao1_MM_QNAMEs.txt"
   ]
  },
  {
   "cell_type": "code",
   "execution_count": 70,
   "metadata": {},
   "outputs": [],
   "source": [
    "!samtools view -@ 24 ../data/buckets/SRR5377828-pseudomonas_aeruginosa_pao1_UU.bam | cut -f1 | sort | uniq > ../data/bucket_pairs/SRR5377828-pseudomonas_aeruginosa_pao1_UU_QNAMEs.txt"
   ]
  },
  {
   "cell_type": "markdown",
   "metadata": {},
   "source": [
    "## Create files containing the inner join between two groups of files, using QNAMEs"
   ]
  },
  {
   "cell_type": "code",
   "execution_count": 82,
   "metadata": {},
   "outputs": [],
   "source": [
    "%%bash\n",
    "comm -12 ../data/bucket_pairs/SRR5377828-pseudomonas_aeruginosa_pao1_MU_QNAMEs.txt ../data/bucket_pairs/SRR5377828-GRCh38_p13_UM_QNAMEs.txt \\\n",
    "    > ../data/bucket_pairs/donor_MU_UM_host.txt"
   ]
  },
  {
   "cell_type": "code",
   "execution_count": 83,
   "metadata": {},
   "outputs": [
    {
     "name": "stdout",
     "output_type": "stream",
     "text": [
      "47\n"
     ]
    }
   ],
   "source": [
    "!cat ../data/bucket_pairs/donor_MU_UM_host.txt | wc -l"
   ]
  },
  {
   "cell_type": "code",
   "execution_count": 84,
   "metadata": {},
   "outputs": [],
   "source": [
    "%%bash\n",
    "comm -12 ../data/bucket_pairs/SRR5377828-pseudomonas_aeruginosa_pao1_UM_QNAMEs.txt ../data/bucket_pairs/SRR5377828-GRCh38_p13_MU_QNAMEs.txt \\\n",
    "    > ../data/bucket_pairs/donor_UM_MU_host.txt"
   ]
  },
  {
   "cell_type": "code",
   "execution_count": 85,
   "metadata": {},
   "outputs": [
    {
     "name": "stdout",
     "output_type": "stream",
     "text": [
      "19\n"
     ]
    }
   ],
   "source": [
    "!cat ../data/bucket_pairs/donor_UM_MU_host.txt | wc -l"
   ]
  },
  {
   "cell_type": "code",
   "execution_count": 86,
   "metadata": {},
   "outputs": [],
   "source": [
    "%%bash\n",
    "comm -12 ../data/bucket_pairs/SRR5377828-pseudomonas_aeruginosa_pao1_MU_QNAMEs.txt ../data/bucket_pairs/SRR5377828-GRCh38_p13_MM_QNAMEs.txt \\\n",
    "    > ../data/bucket_pairs/donor_MU_MM_host.txt"
   ]
  },
  {
   "cell_type": "code",
   "execution_count": 87,
   "metadata": {},
   "outputs": [
    {
     "name": "stdout",
     "output_type": "stream",
     "text": [
      "382\n"
     ]
    }
   ],
   "source": [
    "!cat ../data/bucket_pairs/donor_MU_MM_host.txt | wc -l"
   ]
  },
  {
   "cell_type": "code",
   "execution_count": 88,
   "metadata": {},
   "outputs": [],
   "source": [
    "%%bash\n",
    "comm -12 ../data/bucket_pairs/SRR5377828-pseudomonas_aeruginosa_pao1_UM_QNAMEs.txt ../data/bucket_pairs/SRR5377828-GRCh38_p13_MM_QNAMEs.txt \\\n",
    "    > ../data/bucket_pairs/donor_UM_MM_host.txt"
   ]
  },
  {
   "cell_type": "code",
   "execution_count": 89,
   "metadata": {},
   "outputs": [
    {
     "name": "stdout",
     "output_type": "stream",
     "text": [
      "21\n"
     ]
    }
   ],
   "source": [
    "!cat ../data/bucket_pairs/donor_UM_MM_host.txt | wc -l"
   ]
  },
  {
   "cell_type": "code",
   "execution_count": 90,
   "metadata": {},
   "outputs": [],
   "source": [
    "%%bash\n",
    "comm -12 ../data/bucket_pairs/SRR5377828-pseudomonas_aeruginosa_pao1_MM_QNAMEs.txt ../data/bucket_pairs/SRR5377828-GRCh38_p13_UU_QNAMEs.txt \\\n",
    "    > ../data/bucket_pairs/donor_MM_UU_host.txt"
   ]
  },
  {
   "cell_type": "code",
   "execution_count": 91,
   "metadata": {},
   "outputs": [
    {
     "name": "stdout",
     "output_type": "stream",
     "text": [
      "14304\n"
     ]
    }
   ],
   "source": [
    "!cat ../data/bucket_pairs/donor_MM_UU_host.txt | wc -l"
   ]
  },
  {
   "cell_type": "code",
   "execution_count": 92,
   "metadata": {},
   "outputs": [],
   "source": [
    "%%bash\n",
    "comm -12 ../data/bucket_pairs/SRR5377828-pseudomonas_aeruginosa_pao1_UU_QNAMEs.txt ../data/bucket_pairs/SRR5377828-GRCh38_p13_MM_QNAMEs.txt \\\n",
    "    > ../data/bucket_pairs/donor_UU_MM_host.txt"
   ]
  },
  {
   "cell_type": "code",
   "execution_count": 93,
   "metadata": {},
   "outputs": [
    {
     "name": "stdout",
     "output_type": "stream",
     "text": [
      "10446673\n"
     ]
    }
   ],
   "source": [
    "!cat ../data/bucket_pairs/donor_UU_MM_host.txt | wc -l"
   ]
  },
  {
   "cell_type": "markdown",
   "metadata": {},
   "source": [
    "## Filtering the original BAM files using the inner join text files containing the common QNAMEs"
   ]
  },
  {
   "cell_type": "code",
   "execution_count": null,
   "metadata": {},
   "outputs": [],
   "source": [
    "!sudo apt-get install -y --quiet picard-tools"
   ]
  },
  {
   "cell_type": "code",
   "execution_count": 112,
   "metadata": {},
   "outputs": [
    {
     "name": "stderr",
     "output_type": "stream",
     "text": [
      "[Sat May 30 06:19:19 UTC 2020] picard.sam.FilterSamReads INPUT=../data/buckets/SRR5377828-pseudomonas_aeruginosa_pao1_MU.bam FILTER=includeReadList [OUTPUT SAM/BAM will contain reads that are supplied in the READ_LIST_FILE file] READ_LIST_FILE=../data/bucket_pairs/donor_MU_UM_host.txt OUTPUT=../data/bucket_pairs/RR5377828-pseudomonas_aeruginosa_pao1_donor_MU_UM_host.bam    WRITE_READS_FILES=true VERBOSITY=INFO QUIET=false VALIDATION_STRINGENCY=STRICT COMPRESSION_LEVEL=5 MAX_RECORDS_IN_RAM=500000 CREATE_INDEX=false CREATE_MD5_FILE=false GA4GH_CLIENT_SECRETS=client_secrets.json\n",
      "[Sat May 30 06:19:19 UTC 2020] Executing as jovyan@jupyter on Linux 5.3.0-53-generic amd64; OpenJDK 64-Bit Server VM 11.0.7+10-post-Ubuntu-2ubuntu218.04; Picard version: 2.8.1\n",
      "INFO\t2020-05-30 06:19:19\tFilterSamReads\tFiltering [presorted=true] SRR5377828-pseudomonas_aeruginosa_pao1_MU.bam -> OUTPUT=RR5377828-pseudomonas_aeruginosa_pao1_donor_MU_UM_host.bam [sortorder=coordinate]\n",
      "INFO\t2020-05-30 06:19:19\tFilterSamReads\t94 SAMRecords written to RR5377828-pseudomonas_aeruginosa_pao1_donor_MU_UM_host.bam\n",
      "[Sat May 30 06:19:19 UTC 2020] picard.sam.FilterSamReads done. Elapsed time: 0.00 minutes.\n",
      "Runtime.totalMemory()=530579456\n"
     ]
    }
   ],
   "source": [
    "%%bash\n",
    "/usr/bin/PicardCommandLine FilterSamReads \\\n",
    "    I=../data/buckets/SRR5377828-pseudomonas_aeruginosa_pao1_MU.bam \\\n",
    "    O=../data/bucket_pairs/RR5377828-pseudomonas_aeruginosa_pao1_donor_MU_UM_host.bam \\\n",
    "    READ_LIST_FILE=../data/bucket_pairs/donor_MU_UM_host.txt FILTER=\"includeReadList\""
   ]
  },
  {
   "cell_type": "code",
   "execution_count": 115,
   "metadata": {},
   "outputs": [
    {
     "name": "stdout",
     "output_type": "stream",
     "text": [
      "94\n"
     ]
    }
   ],
   "source": [
    "!samtools view -@ 24 ../data/bucket_pairs/RR5377828-pseudomonas_aeruginosa_pao1_donor_MU_UM_host.bam | wc -l"
   ]
  },
  {
   "cell_type": "code",
   "execution_count": 116,
   "metadata": {},
   "outputs": [
    {
     "name": "stderr",
     "output_type": "stream",
     "text": [
      "[Sat May 30 06:31:54 UTC 2020] picard.sam.FilterSamReads INPUT=../data/buckets/SRR5377828-GRCh38_p13_UM.bam FILTER=includeReadList [OUTPUT SAM/BAM will contain reads that are supplied in the READ_LIST_FILE file] READ_LIST_FILE=../data/bucket_pairs/donor_MU_UM_host.txt OUTPUT=../data/bucket_pairs/RR5377828-GRCh38_p13_donor_MU_UM_host.bam    WRITE_READS_FILES=true VERBOSITY=INFO QUIET=false VALIDATION_STRINGENCY=STRICT COMPRESSION_LEVEL=5 MAX_RECORDS_IN_RAM=500000 CREATE_INDEX=false CREATE_MD5_FILE=false GA4GH_CLIENT_SECRETS=client_secrets.json\n",
      "[Sat May 30 06:31:54 UTC 2020] Executing as jovyan@jupyter on Linux 5.3.0-53-generic amd64; OpenJDK 64-Bit Server VM 11.0.7+10-post-Ubuntu-2ubuntu218.04; Picard version: 2.8.1\n",
      "INFO\t2020-05-30 06:31:55\tFilterSamReads\tFiltering [presorted=true] SRR5377828-GRCh38_p13_UM.bam -> OUTPUT=RR5377828-GRCh38_p13_donor_MU_UM_host.bam [sortorder=coordinate]\n",
      "INFO\t2020-05-30 06:31:55\tFilterSamReads\t94 SAMRecords written to RR5377828-GRCh38_p13_donor_MU_UM_host.bam\n",
      "[Sat May 30 06:31:55 UTC 2020] picard.sam.FilterSamReads done. Elapsed time: 0.00 minutes.\n",
      "Runtime.totalMemory()=530579456\n"
     ]
    }
   ],
   "source": [
    "%%bash\n",
    "/usr/bin/PicardCommandLine FilterSamReads \\\n",
    "    I=../data/buckets/SRR5377828-GRCh38_p13_UM.bam \\\n",
    "    O=../data/bucket_pairs/RR5377828-GRCh38_p13_donor_MU_UM_host.bam \\\n",
    "    READ_LIST_FILE=../data/bucket_pairs/donor_MU_UM_host.txt FILTER=\"includeReadList\""
   ]
  },
  {
   "cell_type": "code",
   "execution_count": 117,
   "metadata": {},
   "outputs": [
    {
     "name": "stdout",
     "output_type": "stream",
     "text": [
      "94\n"
     ]
    }
   ],
   "source": [
    "!samtools view -@ 24 ../data/bucket_pairs/RR5377828-GRCh38_p13_donor_MU_UM_host.bam | wc -l"
   ]
  },
  {
   "cell_type": "code",
   "execution_count": 122,
   "metadata": {},
   "outputs": [
    {
     "name": "stderr",
     "output_type": "stream",
     "text": [
      "[Sat May 30 06:36:56 UTC 2020] picard.sam.FilterSamReads INPUT=../data/buckets/SRR5377828-pseudomonas_aeruginosa_pao1_UM.bam FILTER=includeReadList [OUTPUT SAM/BAM will contain reads that are supplied in the READ_LIST_FILE file] READ_LIST_FILE=../data/bucket_pairs/donor_UM_MU_host.txt OUTPUT=../data/bucket_pairs/RR5377828-pseudomonas_aeruginosa_pao1_donor_UM_MU_host.bam    WRITE_READS_FILES=true VERBOSITY=INFO QUIET=false VALIDATION_STRINGENCY=STRICT COMPRESSION_LEVEL=5 MAX_RECORDS_IN_RAM=500000 CREATE_INDEX=false CREATE_MD5_FILE=false GA4GH_CLIENT_SECRETS=client_secrets.json\n",
      "[Sat May 30 06:36:56 UTC 2020] Executing as jovyan@jupyter on Linux 5.3.0-53-generic amd64; OpenJDK 64-Bit Server VM 11.0.7+10-post-Ubuntu-2ubuntu218.04; Picard version: 2.8.1\n",
      "INFO\t2020-05-30 06:36:56\tFilterSamReads\tFiltering [presorted=true] SRR5377828-pseudomonas_aeruginosa_pao1_UM.bam -> OUTPUT=RR5377828-pseudomonas_aeruginosa_pao1_donor_UM_MU_host.bam [sortorder=coordinate]\n",
      "INFO\t2020-05-30 06:36:56\tFilterSamReads\t38 SAMRecords written to RR5377828-pseudomonas_aeruginosa_pao1_donor_UM_MU_host.bam\n",
      "[Sat May 30 06:36:56 UTC 2020] picard.sam.FilterSamReads done. Elapsed time: 0.00 minutes.\n",
      "Runtime.totalMemory()=530579456\n"
     ]
    }
   ],
   "source": [
    "%%bash\n",
    "/usr/bin/PicardCommandLine FilterSamReads \\\n",
    "    I=../data/buckets/SRR5377828-pseudomonas_aeruginosa_pao1_UM.bam \\\n",
    "    O=../data/bucket_pairs/RR5377828-pseudomonas_aeruginosa_pao1_donor_UM_MU_host.bam \\\n",
    "    READ_LIST_FILE=../data/bucket_pairs/donor_UM_MU_host.txt FILTER=\"includeReadList\""
   ]
  },
  {
   "cell_type": "code",
   "execution_count": 123,
   "metadata": {},
   "outputs": [
    {
     "name": "stdout",
     "output_type": "stream",
     "text": [
      "38\n"
     ]
    }
   ],
   "source": [
    "!samtools view -@ 24 ../data/bucket_pairs/RR5377828-pseudomonas_aeruginosa_pao1_donor_UM_MU_host.bam | wc -l"
   ]
  },
  {
   "cell_type": "code",
   "execution_count": 124,
   "metadata": {},
   "outputs": [
    {
     "name": "stderr",
     "output_type": "stream",
     "text": [
      "[Sat May 30 06:36:59 UTC 2020] picard.sam.FilterSamReads INPUT=../data/buckets/SRR5377828-GRCh38_p13_MU.bam FILTER=includeReadList [OUTPUT SAM/BAM will contain reads that are supplied in the READ_LIST_FILE file] READ_LIST_FILE=../data/bucket_pairs/donor_UM_MU_host.txt OUTPUT=../data/bucket_pairs/RR5377828-GRCh38_p13_donor_UM_MU_host.bam    WRITE_READS_FILES=true VERBOSITY=INFO QUIET=false VALIDATION_STRINGENCY=STRICT COMPRESSION_LEVEL=5 MAX_RECORDS_IN_RAM=500000 CREATE_INDEX=false CREATE_MD5_FILE=false GA4GH_CLIENT_SECRETS=client_secrets.json\n",
      "[Sat May 30 06:36:59 UTC 2020] Executing as jovyan@jupyter on Linux 5.3.0-53-generic amd64; OpenJDK 64-Bit Server VM 11.0.7+10-post-Ubuntu-2ubuntu218.04; Picard version: 2.8.1\n",
      "INFO\t2020-05-30 06:36:59\tFilterSamReads\tFiltering [presorted=true] SRR5377828-GRCh38_p13_MU.bam -> OUTPUT=RR5377828-GRCh38_p13_donor_UM_MU_host.bam [sortorder=coordinate]\n",
      "INFO\t2020-05-30 06:36:59\tFilterSamReads\t38 SAMRecords written to RR5377828-GRCh38_p13_donor_UM_MU_host.bam\n",
      "[Sat May 30 06:36:59 UTC 2020] picard.sam.FilterSamReads done. Elapsed time: 0.01 minutes.\n",
      "Runtime.totalMemory()=530579456\n"
     ]
    }
   ],
   "source": [
    "%%bash\n",
    "/usr/bin/PicardCommandLine FilterSamReads \\\n",
    "    I=../data/buckets/SRR5377828-GRCh38_p13_MU.bam \\\n",
    "    O=../data/bucket_pairs/RR5377828-GRCh38_p13_donor_UM_MU_host.bam \\\n",
    "    READ_LIST_FILE=../data/bucket_pairs/donor_UM_MU_host.txt FILTER=\"includeReadList\""
   ]
  },
  {
   "cell_type": "code",
   "execution_count": 125,
   "metadata": {},
   "outputs": [
    {
     "name": "stdout",
     "output_type": "stream",
     "text": [
      "38\n"
     ]
    }
   ],
   "source": [
    "!samtools view -@ 24 ../data/bucket_pairs/RR5377828-GRCh38_p13_donor_UM_MU_host.bam | wc -l"
   ]
  },
  {
   "cell_type": "code",
   "execution_count": 126,
   "metadata": {},
   "outputs": [
    {
     "name": "stderr",
     "output_type": "stream",
     "text": [
      "[Sat May 30 06:41:58 UTC 2020] picard.sam.FilterSamReads INPUT=../data/buckets/SRR5377828-pseudomonas_aeruginosa_pao1_MU.bam FILTER=includeReadList [OUTPUT SAM/BAM will contain reads that are supplied in the READ_LIST_FILE file] READ_LIST_FILE=../data/bucket_pairs/donor_MU_MM_host.txt OUTPUT=../data/bucket_pairs/RR5377828-pseudomonas_aeruginosa_pao1_donor_MU_MM_host.bam    WRITE_READS_FILES=true VERBOSITY=INFO QUIET=false VALIDATION_STRINGENCY=STRICT COMPRESSION_LEVEL=5 MAX_RECORDS_IN_RAM=500000 CREATE_INDEX=false CREATE_MD5_FILE=false GA4GH_CLIENT_SECRETS=client_secrets.json\n",
      "[Sat May 30 06:41:58 UTC 2020] Executing as jovyan@jupyter on Linux 5.3.0-53-generic amd64; OpenJDK 64-Bit Server VM 11.0.7+10-post-Ubuntu-2ubuntu218.04; Picard version: 2.8.1\n",
      "INFO\t2020-05-30 06:41:59\tFilterSamReads\tFiltering [presorted=true] SRR5377828-pseudomonas_aeruginosa_pao1_MU.bam -> OUTPUT=RR5377828-pseudomonas_aeruginosa_pao1_donor_MU_MM_host.bam [sortorder=coordinate]\n",
      "INFO\t2020-05-30 06:41:59\tFilterSamReads\t764 SAMRecords written to RR5377828-pseudomonas_aeruginosa_pao1_donor_MU_MM_host.bam\n",
      "[Sat May 30 06:41:59 UTC 2020] picard.sam.FilterSamReads done. Elapsed time: 0.00 minutes.\n",
      "Runtime.totalMemory()=530579456\n"
     ]
    }
   ],
   "source": [
    "%%bash\n",
    "/usr/bin/PicardCommandLine FilterSamReads \\\n",
    "    I=../data/buckets/SRR5377828-pseudomonas_aeruginosa_pao1_MU.bam \\\n",
    "    O=../data/bucket_pairs/RR5377828-pseudomonas_aeruginosa_pao1_donor_MU_MM_host.bam \\\n",
    "    READ_LIST_FILE=../data/bucket_pairs/donor_MU_MM_host.txt FILTER=\"includeReadList\""
   ]
  },
  {
   "cell_type": "code",
   "execution_count": 127,
   "metadata": {},
   "outputs": [
    {
     "name": "stdout",
     "output_type": "stream",
     "text": [
      "764\n"
     ]
    }
   ],
   "source": [
    "!samtools view -@ 24 ../data/bucket_pairs/RR5377828-pseudomonas_aeruginosa_pao1_donor_MU_MM_host.bam | wc -l"
   ]
  },
  {
   "cell_type": "code",
   "execution_count": 129,
   "metadata": {},
   "outputs": [
    {
     "name": "stderr",
     "output_type": "stream",
     "text": [
      "[Sat May 30 06:42:56 UTC 2020] picard.sam.FilterSamReads INPUT=../data/buckets/SRR5377828-GRCh38_p13_MM.bam FILTER=includeReadList [OUTPUT SAM/BAM will contain reads that are supplied in the READ_LIST_FILE file] READ_LIST_FILE=../data/bucket_pairs/donor_MU_MM_host.txt OUTPUT=../data/bucket_pairs/RR5377828-GRCh38_p13_donor_MU_MM_host.bam    WRITE_READS_FILES=true VERBOSITY=INFO QUIET=false VALIDATION_STRINGENCY=STRICT COMPRESSION_LEVEL=5 MAX_RECORDS_IN_RAM=500000 CREATE_INDEX=false CREATE_MD5_FILE=false GA4GH_CLIENT_SECRETS=client_secrets.json\n",
      "[Sat May 30 06:42:56 UTC 2020] Executing as jovyan@jupyter on Linux 5.3.0-53-generic amd64; OpenJDK 64-Bit Server VM 11.0.7+10-post-Ubuntu-2ubuntu218.04; Picard version: 2.8.1\n",
      "INFO\t2020-05-30 06:43:28\tFilterSamReads\tFiltering [presorted=true] SRR5377828-GRCh38_p13_MM.bam -> OUTPUT=RR5377828-GRCh38_p13_donor_MU_MM_host.bam [sortorder=coordinate]\n",
      "INFO\t2020-05-30 06:43:54\tFilterSamReads\t764 SAMRecords written to RR5377828-GRCh38_p13_donor_MU_MM_host.bam\n",
      "[Sat May 30 06:43:54 UTC 2020] picard.sam.FilterSamReads done. Elapsed time: 0.96 minutes.\n",
      "Runtime.totalMemory()=637534208\n"
     ]
    }
   ],
   "source": [
    "%%bash\n",
    "/usr/bin/PicardCommandLine FilterSamReads \\\n",
    "    I=../data/buckets/SRR5377828-GRCh38_p13_MM.bam \\\n",
    "    O=../data/bucket_pairs/RR5377828-GRCh38_p13_donor_MU_MM_host.bam \\\n",
    "    READ_LIST_FILE=../data/bucket_pairs/donor_MU_MM_host.txt FILTER=\"includeReadList\""
   ]
  },
  {
   "cell_type": "code",
   "execution_count": 130,
   "metadata": {},
   "outputs": [
    {
     "name": "stdout",
     "output_type": "stream",
     "text": [
      "764\n"
     ]
    }
   ],
   "source": [
    "!samtools view -@ 24 ../data/bucket_pairs/RR5377828-GRCh38_p13_donor_MU_MM_host.bam | wc -l"
   ]
  },
  {
   "cell_type": "code",
   "execution_count": 131,
   "metadata": {},
   "outputs": [
    {
     "name": "stderr",
     "output_type": "stream",
     "text": [
      "[Sat May 30 06:43:54 UTC 2020] picard.sam.FilterSamReads INPUT=../data/buckets/SRR5377828-pseudomonas_aeruginosa_pao1_UM.bam FILTER=includeReadList [OUTPUT SAM/BAM will contain reads that are supplied in the READ_LIST_FILE file] READ_LIST_FILE=../data/bucket_pairs/donor_UM_MM_host.txt OUTPUT=../data/bucket_pairs/RR5377828-pseudomonas_aeruginosa_pao1_donor_UM_MM_host.bam    WRITE_READS_FILES=true VERBOSITY=INFO QUIET=false VALIDATION_STRINGENCY=STRICT COMPRESSION_LEVEL=5 MAX_RECORDS_IN_RAM=500000 CREATE_INDEX=false CREATE_MD5_FILE=false GA4GH_CLIENT_SECRETS=client_secrets.json\n",
      "[Sat May 30 06:43:54 UTC 2020] Executing as jovyan@jupyter on Linux 5.3.0-53-generic amd64; OpenJDK 64-Bit Server VM 11.0.7+10-post-Ubuntu-2ubuntu218.04; Picard version: 2.8.1\n",
      "INFO\t2020-05-30 06:43:54\tFilterSamReads\tFiltering [presorted=true] SRR5377828-pseudomonas_aeruginosa_pao1_UM.bam -> OUTPUT=RR5377828-pseudomonas_aeruginosa_pao1_donor_UM_MM_host.bam [sortorder=coordinate]\n",
      "INFO\t2020-05-30 06:43:54\tFilterSamReads\t42 SAMRecords written to RR5377828-pseudomonas_aeruginosa_pao1_donor_UM_MM_host.bam\n",
      "[Sat May 30 06:43:54 UTC 2020] picard.sam.FilterSamReads done. Elapsed time: 0.00 minutes.\n",
      "Runtime.totalMemory()=530579456\n"
     ]
    }
   ],
   "source": [
    "%%bash\n",
    "/usr/bin/PicardCommandLine FilterSamReads \\\n",
    "    I=../data/buckets/SRR5377828-pseudomonas_aeruginosa_pao1_UM.bam \\\n",
    "    O=../data/bucket_pairs/RR5377828-pseudomonas_aeruginosa_pao1_donor_UM_MM_host.bam \\\n",
    "    READ_LIST_FILE=../data/bucket_pairs/donor_UM_MM_host.txt FILTER=\"includeReadList\""
   ]
  },
  {
   "cell_type": "code",
   "execution_count": 132,
   "metadata": {},
   "outputs": [
    {
     "name": "stdout",
     "output_type": "stream",
     "text": [
      "42\n"
     ]
    }
   ],
   "source": [
    "!samtools view -@ 24 ../data/bucket_pairs/RR5377828-pseudomonas_aeruginosa_pao1_donor_UM_MM_host.bam | wc -l"
   ]
  },
  {
   "cell_type": "code",
   "execution_count": 133,
   "metadata": {},
   "outputs": [
    {
     "name": "stderr",
     "output_type": "stream",
     "text": [
      "[Sat May 30 06:43:55 UTC 2020] picard.sam.FilterSamReads INPUT=../data/buckets/SRR5377828-GRCh38_p13_MM.bam FILTER=includeReadList [OUTPUT SAM/BAM will contain reads that are supplied in the READ_LIST_FILE file] READ_LIST_FILE=../data/bucket_pairs/donor_UM_MM_host.txt OUTPUT=../data/bucket_pairs/RR5377828-GRCh38_p13_donor_UM_MM_host.bam    WRITE_READS_FILES=true VERBOSITY=INFO QUIET=false VALIDATION_STRINGENCY=STRICT COMPRESSION_LEVEL=5 MAX_RECORDS_IN_RAM=500000 CREATE_INDEX=false CREATE_MD5_FILE=false GA4GH_CLIENT_SECRETS=client_secrets.json\n",
      "[Sat May 30 06:43:55 UTC 2020] Executing as jovyan@jupyter on Linux 5.3.0-53-generic amd64; OpenJDK 64-Bit Server VM 11.0.7+10-post-Ubuntu-2ubuntu218.04; Picard version: 2.8.1\n",
      "INFO\t2020-05-30 06:44:27\tFilterSamReads\tFiltering [presorted=true] SRR5377828-GRCh38_p13_MM.bam -> OUTPUT=RR5377828-GRCh38_p13_donor_UM_MM_host.bam [sortorder=coordinate]\n",
      "INFO\t2020-05-30 06:44:52\tFilterSamReads\t42 SAMRecords written to RR5377828-GRCh38_p13_donor_UM_MM_host.bam\n",
      "[Sat May 30 06:44:52 UTC 2020] picard.sam.FilterSamReads done. Elapsed time: 0.95 minutes.\n",
      "Runtime.totalMemory()=530579456\n"
     ]
    }
   ],
   "source": [
    "%%bash\n",
    "/usr/bin/PicardCommandLine FilterSamReads \\\n",
    "    I=../data/buckets/SRR5377828-GRCh38_p13_MM.bam \\\n",
    "    O=../data/bucket_pairs/RR5377828-GRCh38_p13_donor_UM_MM_host.bam \\\n",
    "    READ_LIST_FILE=../data/bucket_pairs/donor_UM_MM_host.txt FILTER=\"includeReadList\""
   ]
  },
  {
   "cell_type": "code",
   "execution_count": 134,
   "metadata": {},
   "outputs": [
    {
     "name": "stdout",
     "output_type": "stream",
     "text": [
      "42\n"
     ]
    }
   ],
   "source": [
    "!samtools view -@ 24 ../data/bucket_pairs/RR5377828-GRCh38_p13_donor_MU_MM_host.bam | wc -l"
   ]
  },
  {
   "cell_type": "code",
   "execution_count": 135,
   "metadata": {},
   "outputs": [
    {
     "name": "stderr",
     "output_type": "stream",
     "text": [
      "[Sat May 30 06:45:18 UTC 2020] picard.sam.FilterSamReads INPUT=../data/buckets/SRR5377828-pseudomonas_aeruginosa_pao1_MM.bam FILTER=includeReadList [OUTPUT SAM/BAM will contain reads that are supplied in the READ_LIST_FILE file] READ_LIST_FILE=../data/bucket_pairs/donor_MM_UU_host.txt OUTPUT=../data/bucket_pairs/RR5377828-pseudomonas_aeruginosa_pao1_donor_MM_UU_host.bam    WRITE_READS_FILES=true VERBOSITY=INFO QUIET=false VALIDATION_STRINGENCY=STRICT COMPRESSION_LEVEL=5 MAX_RECORDS_IN_RAM=500000 CREATE_INDEX=false CREATE_MD5_FILE=false GA4GH_CLIENT_SECRETS=client_secrets.json\n",
      "[Sat May 30 06:45:18 UTC 2020] Executing as jovyan@jupyter on Linux 5.3.0-53-generic amd64; OpenJDK 64-Bit Server VM 11.0.7+10-post-Ubuntu-2ubuntu218.04; Picard version: 2.8.1\n",
      "INFO\t2020-05-30 06:45:18\tFilterSamReads\tFiltering [presorted=true] SRR5377828-pseudomonas_aeruginosa_pao1_MM.bam -> OUTPUT=RR5377828-pseudomonas_aeruginosa_pao1_donor_MM_UU_host.bam [sortorder=coordinate]\n",
      "INFO\t2020-05-30 06:45:18\tFilterSamReads\t28,608 SAMRecords written to RR5377828-pseudomonas_aeruginosa_pao1_donor_MM_UU_host.bam\n",
      "[Sat May 30 06:45:18 UTC 2020] picard.sam.FilterSamReads done. Elapsed time: 0.01 minutes.\n",
      "Runtime.totalMemory()=530579456\n"
     ]
    }
   ],
   "source": [
    "%%bash\n",
    "/usr/bin/PicardCommandLine FilterSamReads \\\n",
    "    I=../data/buckets/SRR5377828-pseudomonas_aeruginosa_pao1_MM.bam \\\n",
    "    O=../data/bucket_pairs/RR5377828-pseudomonas_aeruginosa_pao1_donor_MM_UU_host.bam \\\n",
    "    READ_LIST_FILE=../data/bucket_pairs/donor_MM_UU_host.txt FILTER=\"includeReadList\""
   ]
  },
  {
   "cell_type": "code",
   "execution_count": 136,
   "metadata": {},
   "outputs": [
    {
     "name": "stdout",
     "output_type": "stream",
     "text": [
      "28608\n"
     ]
    }
   ],
   "source": [
    "!samtools view -@ 24 ../data/bucket_pairs/RR5377828-pseudomonas_aeruginosa_pao1_donor_MM_UU_host.bam | wc -l"
   ]
  },
  {
   "cell_type": "code",
   "execution_count": 137,
   "metadata": {},
   "outputs": [
    {
     "name": "stderr",
     "output_type": "stream",
     "text": [
      "[Sat May 30 06:45:19 UTC 2020] picard.sam.FilterSamReads INPUT=../data/buckets/SRR5377828-GRCh38_p13_UU.bam FILTER=includeReadList [OUTPUT SAM/BAM will contain reads that are supplied in the READ_LIST_FILE file] READ_LIST_FILE=../data/bucket_pairs/donor_MM_UU_host.txt OUTPUT=../data/bucket_pairs/RR5377828-GRCh38_p13_donor_MM_UU_host.bam    WRITE_READS_FILES=true VERBOSITY=INFO QUIET=false VALIDATION_STRINGENCY=STRICT COMPRESSION_LEVEL=5 MAX_RECORDS_IN_RAM=500000 CREATE_INDEX=false CREATE_MD5_FILE=false GA4GH_CLIENT_SECRETS=client_secrets.json\n",
      "[Sat May 30 06:45:19 UTC 2020] Executing as jovyan@jupyter on Linux 5.3.0-53-generic amd64; OpenJDK 64-Bit Server VM 11.0.7+10-post-Ubuntu-2ubuntu218.04; Picard version: 2.8.1\n",
      "INFO\t2020-05-30 06:45:19\tFilterSamReads\tFiltering [presorted=true] SRR5377828-GRCh38_p13_UU.bam -> OUTPUT=RR5377828-GRCh38_p13_donor_MM_UU_host.bam [sortorder=coordinate]\n",
      "INFO\t2020-05-30 06:45:19\tFilterSamReads\t28,608 SAMRecords written to RR5377828-GRCh38_p13_donor_MM_UU_host.bam\n",
      "[Sat May 30 06:45:20 UTC 2020] picard.sam.FilterSamReads done. Elapsed time: 0.01 minutes.\n",
      "Runtime.totalMemory()=530579456\n"
     ]
    }
   ],
   "source": [
    "%%bash\n",
    "/usr/bin/PicardCommandLine FilterSamReads \\\n",
    "    I=../data/buckets/SRR5377828-GRCh38_p13_UU.bam \\\n",
    "    O=../data/bucket_pairs/RR5377828-GRCh38_p13_donor_MM_UU_host.bam \\\n",
    "    READ_LIST_FILE=../data/bucket_pairs/donor_MM_UU_host.txt FILTER=\"includeReadList\""
   ]
  },
  {
   "cell_type": "code",
   "execution_count": 138,
   "metadata": {},
   "outputs": [
    {
     "name": "stdout",
     "output_type": "stream",
     "text": [
      "28608\n"
     ]
    }
   ],
   "source": [
    "!samtools view -@ 24 ../data/bucket_pairs/RR5377828-GRCh38_p13_donor_MM_UU_host.bam | wc -l"
   ]
  },
  {
   "cell_type": "code",
   "execution_count": 139,
   "metadata": {},
   "outputs": [
    {
     "name": "stderr",
     "output_type": "stream",
     "text": [
      "[Sat May 30 06:46:11 UTC 2020] picard.sam.FilterSamReads INPUT=../data/buckets/SRR5377828-pseudomonas_aeruginosa_pao1_UU.bam FILTER=includeReadList [OUTPUT SAM/BAM will contain reads that are supplied in the READ_LIST_FILE file] READ_LIST_FILE=../data/bucket_pairs/donor_UU_MM_host.txt OUTPUT=../data/bucket_pairs/RR5377828-pseudomonas_aeruginosa_pao1_donor_UU_MM_host.bam    WRITE_READS_FILES=true VERBOSITY=INFO QUIET=false VALIDATION_STRINGENCY=STRICT COMPRESSION_LEVEL=5 MAX_RECORDS_IN_RAM=500000 CREATE_INDEX=false CREATE_MD5_FILE=false GA4GH_CLIENT_SECRETS=client_secrets.json\n",
      "[Sat May 30 06:46:11 UTC 2020] Executing as jovyan@jupyter on Linux 5.3.0-53-generic amd64; OpenJDK 64-Bit Server VM 11.0.7+10-post-Ubuntu-2ubuntu218.04; Picard version: 2.8.1\n",
      "INFO\t2020-05-30 06:46:41\tFilterSamReads\tFiltering [presorted=true] SRR5377828-pseudomonas_aeruginosa_pao1_UU.bam -> OUTPUT=RR5377828-pseudomonas_aeruginosa_pao1_donor_UU_MM_host.bam [sortorder=coordinate]\n",
      "INFO\t2020-05-30 06:46:48\tFilterSamReads\tWritten     1,000,000 records.  Elapsed time: 00:00:06s.  Time for last 1,000,000:    6s.  Last read position: */*\n",
      "INFO\t2020-05-30 06:46:55\tFilterSamReads\tWritten     2,000,000 records.  Elapsed time: 00:00:13s.  Time for last 1,000,000:    6s.  Last read position: */*\n",
      "INFO\t2020-05-30 06:47:01\tFilterSamReads\tWritten     3,000,000 records.  Elapsed time: 00:00:20s.  Time for last 1,000,000:    6s.  Last read position: */*\n",
      "INFO\t2020-05-30 06:47:08\tFilterSamReads\tWritten     4,000,000 records.  Elapsed time: 00:00:26s.  Time for last 1,000,000:    6s.  Last read position: */*\n",
      "INFO\t2020-05-30 06:47:15\tFilterSamReads\tWritten     5,000,000 records.  Elapsed time: 00:00:33s.  Time for last 1,000,000:    6s.  Last read position: */*\n",
      "INFO\t2020-05-30 06:47:21\tFilterSamReads\tWritten     6,000,000 records.  Elapsed time: 00:00:40s.  Time for last 1,000,000:    6s.  Last read position: */*\n",
      "INFO\t2020-05-30 06:47:28\tFilterSamReads\tWritten     7,000,000 records.  Elapsed time: 00:00:46s.  Time for last 1,000,000:    6s.  Last read position: */*\n",
      "INFO\t2020-05-30 06:47:35\tFilterSamReads\tWritten     8,000,000 records.  Elapsed time: 00:00:53s.  Time for last 1,000,000:    6s.  Last read position: */*\n",
      "INFO\t2020-05-30 06:47:41\tFilterSamReads\tWritten     9,000,000 records.  Elapsed time: 00:01:00s.  Time for last 1,000,000:    6s.  Last read position: */*\n",
      "INFO\t2020-05-30 06:47:48\tFilterSamReads\tWritten    10,000,000 records.  Elapsed time: 00:01:06s.  Time for last 1,000,000:    6s.  Last read position: */*\n",
      "INFO\t2020-05-30 06:47:55\tFilterSamReads\tWritten    11,000,000 records.  Elapsed time: 00:01:13s.  Time for last 1,000,000:    6s.  Last read position: */*\n",
      "INFO\t2020-05-30 06:48:01\tFilterSamReads\tWritten    12,000,000 records.  Elapsed time: 00:01:20s.  Time for last 1,000,000:    6s.  Last read position: */*\n",
      "INFO\t2020-05-30 06:48:08\tFilterSamReads\tWritten    13,000,000 records.  Elapsed time: 00:01:27s.  Time for last 1,000,000:    6s.  Last read position: */*\n",
      "INFO\t2020-05-30 06:48:15\tFilterSamReads\tWritten    14,000,000 records.  Elapsed time: 00:01:33s.  Time for last 1,000,000:    6s.  Last read position: */*\n",
      "INFO\t2020-05-30 06:48:21\tFilterSamReads\tWritten    15,000,000 records.  Elapsed time: 00:01:40s.  Time for last 1,000,000:    6s.  Last read position: */*\n",
      "INFO\t2020-05-30 06:48:28\tFilterSamReads\tWritten    16,000,000 records.  Elapsed time: 00:01:46s.  Time for last 1,000,000:    6s.  Last read position: */*\n",
      "INFO\t2020-05-30 06:48:35\tFilterSamReads\tWritten    17,000,000 records.  Elapsed time: 00:01:53s.  Time for last 1,000,000:    6s.  Last read position: */*\n",
      "INFO\t2020-05-30 06:48:42\tFilterSamReads\tWritten    18,000,000 records.  Elapsed time: 00:02:00s.  Time for last 1,000,000:    6s.  Last read position: */*\n",
      "INFO\t2020-05-30 06:48:48\tFilterSamReads\tWritten    19,000,000 records.  Elapsed time: 00:02:07s.  Time for last 1,000,000:    6s.  Last read position: */*\n",
      "INFO\t2020-05-30 06:48:55\tFilterSamReads\tWritten    20,000,000 records.  Elapsed time: 00:02:13s.  Time for last 1,000,000:    6s.  Last read position: */*\n",
      "INFO\t2020-05-30 06:49:01\tFilterSamReads\t20,893,346 SAMRecords written to RR5377828-pseudomonas_aeruginosa_pao1_donor_UU_MM_host.bam\n",
      "[Sat May 30 06:49:24 UTC 2020] picard.sam.FilterSamReads done. Elapsed time: 3.23 minutes.\n",
      "Runtime.totalMemory()=3657433088\n"
     ]
    }
   ],
   "source": [
    "%%bash\n",
    "/usr/bin/PicardCommandLine FilterSamReads \\\n",
    "    I=../data/buckets/SRR5377828-pseudomonas_aeruginosa_pao1_UU.bam \\\n",
    "    O=../data/bucket_pairs/RR5377828-pseudomonas_aeruginosa_pao1_donor_UU_MM_host.bam \\\n",
    "    READ_LIST_FILE=../data/bucket_pairs/donor_UU_MM_host.txt FILTER=\"includeReadList\""
   ]
  },
  {
   "cell_type": "code",
   "execution_count": 140,
   "metadata": {},
   "outputs": [
    {
     "name": "stdout",
     "output_type": "stream",
     "text": [
      "20893346\n"
     ]
    }
   ],
   "source": [
    "!samtools view -@ 24 ../data/bucket_pairs/RR5377828-pseudomonas_aeruginosa_pao1_donor_UU_MM_host.bam | wc -l"
   ]
  },
  {
   "cell_type": "code",
   "execution_count": 141,
   "metadata": {},
   "outputs": [
    {
     "name": "stderr",
     "output_type": "stream",
     "text": [
      "[Sat May 30 06:49:50 UTC 2020] picard.sam.FilterSamReads INPUT=../data/buckets/SRR5377828-GRCh38_p13_MM.bam FILTER=includeReadList [OUTPUT SAM/BAM will contain reads that are supplied in the READ_LIST_FILE file] READ_LIST_FILE=../data/bucket_pairs/donor_UU_MM_host.txt OUTPUT=../data/bucket_pairs/RR5377828-GRCh38_p13_donor_UU_MM_host.bam    WRITE_READS_FILES=true VERBOSITY=INFO QUIET=false VALIDATION_STRINGENCY=STRICT COMPRESSION_LEVEL=5 MAX_RECORDS_IN_RAM=500000 CREATE_INDEX=false CREATE_MD5_FILE=false GA4GH_CLIENT_SECRETS=client_secrets.json\n",
      "[Sat May 30 06:49:50 UTC 2020] Executing as jovyan@jupyter on Linux 5.3.0-53-generic amd64; OpenJDK 64-Bit Server VM 11.0.7+10-post-Ubuntu-2ubuntu218.04; Picard version: 2.8.1\n",
      "INFO\t2020-05-30 06:50:27\tFilterSamReads\tFiltering [presorted=true] SRR5377828-GRCh38_p13_MM.bam -> OUTPUT=RR5377828-GRCh38_p13_donor_UU_MM_host.bam [sortorder=coordinate]\n",
      "INFO\t2020-05-30 06:50:33\tFilterSamReads\tWritten     1,000,000 records.  Elapsed time: 00:00:06s.  Time for last 1,000,000:    6s.  Last read position: NC_000001.11:94,533,090\n",
      "INFO\t2020-05-30 06:50:39\tFilterSamReads\tWritten     2,000,000 records.  Elapsed time: 00:00:12s.  Time for last 1,000,000:    6s.  Last read position: NC_000001.11:214,336,940\n",
      "INFO\t2020-05-30 06:50:46\tFilterSamReads\tWritten     3,000,000 records.  Elapsed time: 00:00:19s.  Time for last 1,000,000:    6s.  Last read position: NC_000002.12:180,873,078\n",
      "INFO\t2020-05-30 06:50:52\tFilterSamReads\tWritten     4,000,000 records.  Elapsed time: 00:00:25s.  Time for last 1,000,000:    6s.  Last read position: NC_000003.12:128,813,764\n",
      "INFO\t2020-05-30 06:50:59\tFilterSamReads\tWritten     5,000,000 records.  Elapsed time: 00:00:32s.  Time for last 1,000,000:    6s.  Last read position: NC_000004.12:165,333,337\n",
      "INFO\t2020-05-30 06:51:05\tFilterSamReads\tWritten     6,000,000 records.  Elapsed time: 00:00:38s.  Time for last 1,000,000:    6s.  Last read position: NC_000006.12:18,224,653\n",
      "INFO\t2020-05-30 06:51:11\tFilterSamReads\tWritten     7,000,000 records.  Elapsed time: 00:00:44s.  Time for last 1,000,000:    6s.  Last read position: NC_000007.14:26,191,937\n",
      "INFO\t2020-05-30 06:51:18\tFilterSamReads\tWritten     8,000,000 records.  Elapsed time: 00:00:51s.  Time for last 1,000,000:    6s.  Last read position: NC_000008.11:67,198,620\n",
      "INFO\t2020-05-30 06:51:24\tFilterSamReads\tWritten     9,000,000 records.  Elapsed time: 00:00:57s.  Time for last 1,000,000:    6s.  Last read position: NC_000009.12:130,448,655\n",
      "INFO\t2020-05-30 06:51:30\tFilterSamReads\tWritten    10,000,000 records.  Elapsed time: 00:01:03s.  Time for last 1,000,000:    6s.  Last read position: NC_000011.10:720,088\n",
      "INFO\t2020-05-30 06:51:37\tFilterSamReads\tWritten    11,000,000 records.  Elapsed time: 00:01:10s.  Time for last 1,000,000:    6s.  Last read position: NC_000011.10:118,118,140\n",
      "INFO\t2020-05-30 06:51:43\tFilterSamReads\tWritten    12,000,000 records.  Elapsed time: 00:01:16s.  Time for last 1,000,000:    6s.  Last read position: NC_000012.12:110,347,705\n",
      "INFO\t2020-05-30 06:51:50\tFilterSamReads\tWritten    13,000,000 records.  Elapsed time: 00:01:23s.  Time for last 1,000,000:    6s.  Last read position: NC_000014.9:94,213,586\n",
      "INFO\t2020-05-30 06:51:56\tFilterSamReads\tWritten    14,000,000 records.  Elapsed time: 00:01:29s.  Time for last 1,000,000:    6s.  Last read position: NC_000016.10:14,151,944\n",
      "INFO\t2020-05-30 06:52:03\tFilterSamReads\tWritten    15,000,000 records.  Elapsed time: 00:01:36s.  Time for last 1,000,000:    6s.  Last read position: NC_000017.11:41,620,966\n",
      "INFO\t2020-05-30 06:52:09\tFilterSamReads\tWritten    16,000,000 records.  Elapsed time: 00:01:42s.  Time for last 1,000,000:    6s.  Last read position: NC_000019.10:3,121,219\n",
      "INFO\t2020-05-30 06:52:16\tFilterSamReads\tWritten    17,000,000 records.  Elapsed time: 00:01:48s.  Time for last 1,000,000:    6s.  Last read position: NC_000020.11:20,513,104\n",
      "INFO\t2020-05-30 06:52:22\tFilterSamReads\tWritten    18,000,000 records.  Elapsed time: 00:01:55s.  Time for last 1,000,000:    6s.  Last read position: NC_000022.11:35,393,801\n",
      "INFO\t2020-05-30 06:52:28\tFilterSamReads\tWritten    19,000,000 records.  Elapsed time: 00:02:01s.  Time for last 1,000,000:    6s.  Last read position: NW_018654715.1:208,304\n",
      "INFO\t2020-05-30 06:52:35\tFilterSamReads\tWritten    20,000,000 records.  Elapsed time: 00:02:08s.  Time for last 1,000,000:    6s.  Last read position: NC_012920.1:6,789\n",
      "INFO\t2020-05-30 06:52:40\tFilterSamReads\t20,893,346 SAMRecords written to RR5377828-GRCh38_p13_donor_UU_MM_host.bam\n",
      "[Sat May 30 06:53:10 UTC 2020] picard.sam.FilterSamReads done. Elapsed time: 3.33 minutes.\n",
      "Runtime.totalMemory()=3932160000\n"
     ]
    }
   ],
   "source": [
    "%%bash\n",
    "/usr/bin/PicardCommandLine FilterSamReads \\\n",
    "    I=../data/buckets/SRR5377828-GRCh38_p13_MM.bam \\\n",
    "    O=../data/bucket_pairs/RR5377828-GRCh38_p13_donor_UU_MM_host.bam \\\n",
    "    READ_LIST_FILE=../data/bucket_pairs/donor_UU_MM_host.txt FILTER=\"includeReadList\""
   ]
  },
  {
   "cell_type": "code",
   "execution_count": 142,
   "metadata": {},
   "outputs": [
    {
     "name": "stdout",
     "output_type": "stream",
     "text": [
      "20893346\n"
     ]
    }
   ],
   "source": [
    "!samtools view -@ 24 ../data/bucket_pairs/RR5377828-GRCh38_p13_donor_UU_MM_host.bam | wc -l"
   ]
  },
  {
   "cell_type": "markdown",
   "metadata": {},
   "source": [
    "### Dedup"
   ]
  },
  {
   "cell_type": "code",
   "execution_count": null,
   "metadata": {},
   "outputs": [],
   "source": [
    "samtools sort -n -o out_name.bam in_name.bam"
   ]
  },
  {
   "cell_type": "code",
   "execution_count": 8,
   "metadata": {},
   "outputs": [
    {
     "name": "stderr",
     "output_type": "stream",
     "text": [
      "[Sun May 31 06:13:34 UTC 2020] picard.sam.FixMateInformation INPUT=[../data/buckets/SRR5377828-GRCh38_p13_UM.bam] OUTPUT=../data/dedup_and_low_complexity_filtering/SRR5377828-GRCh38_p13_UM.bam SORT_ORDER=coordinate ASSUME_SORTED=false VALIDATION_STRINGENCY=SILENT    ADD_MATE_CIGAR=true IGNORE_MISSING_MATES=true VERBOSITY=INFO QUIET=false COMPRESSION_LEVEL=5 MAX_RECORDS_IN_RAM=500000 CREATE_INDEX=false CREATE_MD5_FILE=false GA4GH_CLIENT_SECRETS=client_secrets.json\n",
      "[Sun May 31 06:13:34 UTC 2020] Executing as jovyan@jupyter on Linux 5.3.0-53-generic amd64; OpenJDK 64-Bit Server VM 11.0.7+10-post-Ubuntu-2ubuntu218.04; Picard version: 2.8.1\n",
      "INFO\t2020-05-31 06:13:34\tFixMateInformation\tSorting input into queryname order.\n",
      "INFO\t2020-05-31 06:13:34\tFixMateInformation\tSorting by queryname complete.\n",
      "INFO\t2020-05-31 06:13:34\tFixMateInformation\tOutput will be sorted by coordinate\n",
      "INFO\t2020-05-31 06:13:34\tFixMateInformation\tTraversing query name sorted records and fixing up mate pair information.\n",
      "INFO\t2020-05-31 06:13:34\tFixMateInformation\tFinished processing reads; re-sorting output file.\n",
      "[Sun May 31 06:13:34 UTC 2020] picard.sam.FixMateInformation done. Elapsed time: 0.00 minutes.\n",
      "Runtime.totalMemory()=530579456\n"
     ]
    }
   ],
   "source": [
    "%%bash\n",
    "# Reads marked with the secondary alignment flag are written to the output file unchanged. \n",
    "# However, supplementary reads are corrected so that they point to the primary, non-supplemental mate record.\n",
    "/usr/bin/PicardCommandLine FixMateInformation \\\n",
    "    I=../data/buckets/SRR5377828-GRCh38_p13_UM.bam \\\n",
    "    O=../data/dedup_and_low_complexity_filtering/SRR5377828-GRCh38_p13_UM.bam \\\n",
    "    SO=coordinate \\\n",
    "    ASSUME_SORTED=0 \\\n",
    "    VALIDATION_STRINGENCY=SILENT"
   ]
  },
  {
   "cell_type": "code",
   "execution_count": 9,
   "metadata": {},
   "outputs": [
    {
     "name": "stdout",
     "output_type": "stream",
     "text": [
      "544\n"
     ]
    }
   ],
   "source": [
    "!samtools view -@ 24 ../data/buckets/SRR5377828-GRCh38_p13_UM.bam | wc -l"
   ]
  },
  {
   "cell_type": "code",
   "execution_count": 10,
   "metadata": {},
   "outputs": [
    {
     "name": "stdout",
     "output_type": "stream",
     "text": [
      "544\n"
     ]
    }
   ],
   "source": [
    "!samtools view -@ 24 ../data/dedup_and_low_complexity_filtering/SRR5377828-GRCh38_p13_UM.bam | wc -l"
   ]
  },
  {
   "cell_type": "code",
   "execution_count": null,
   "metadata": {},
   "outputs": [],
   "source": [
    "%%bash\n",
    "# This tool locates and tags duplicate reads in a BAM or SAM file, \n",
    "# where duplicate reads are defined as originating from a single fragment of DNA. \n",
    "# Duplicates can arise during sample preparation e.g. library construction using PCR. \n",
    "# See also EstimateLibraryComplexity for additional notes on PCR duplication artifacts. \n",
    "# Duplicate reads can also result from a single amplification cluster, \n",
    "# incorrectly detected as multiple clusters by the optical sensor of the sequencing instrument. \n",
    "# These duplication artifacts are referred to as optical duplicates.\n",
    "/usr/bin/PicardCommandLine FixMateInformation \\\n",
    "    I=../data/buckets/SRR5377828-GRCh38_p13_UM.bam \\\n",
    "    O=../data/dedup_and_low_complexity_filtering/SRR5377828-GRCh38_p13_UM.bam \\\n",
    "    METRICS_FILE=../data/dedup_and_low_complexity_filtering/SRR5377828-GRCh38_p13_UM_dedup-metrics.txt \\\n",
    "    REMOVE_DUPLICATES=false \\\n",
    "    VALIDATION_STRINGENCY=SILENT \\\n",
    "    MAX_FILE_HANDLES_FOR_READ_ENDS_MAP=1000\""
   ]
  },
  {
   "cell_type": "code",
   "execution_count": null,
   "metadata": {},
   "outputs": [],
   "source": [
    "{samtools_bin} view $tmp_dir/$name\\_dedup.bam"
   ]
  },
  {
   "cell_type": "markdown",
   "metadata": {},
   "source": [
    "### Low complexity filtering"
   ]
  },
  {
   "cell_type": "code",
   "execution_count": null,
   "metadata": {},
   "outputs": [],
   "source": [
    "# Generate single-read fastq for low complexity filtering\n",
    "$Picard SamToFastq INPUT=$bam_file FASTQ=$tmp_dir/$name\\_1.fastq SECOND_END_FASTQ=$tmp_dir/$name\\_2.fastq VALIDATION_STRINGENCY=SILENT\""
   ]
  },
  {
   "cell_type": "code",
   "execution_count": null,
   "metadata": {},
   "outputs": [],
   "source": [
    "/usr/bin/perl $prinseq_bin --fastq=$tmp_dir/$name\\_1.fastq --out_good null --out_bad=$tmp_dir/$name\\_lc_1_bad -lc_method $lc_method -lc_threshold $lc_threshold"
   ]
  },
  {
   "cell_type": "code",
   "execution_count": null,
   "metadata": {},
   "outputs": [],
   "source": [
    "#pull out bad IDs\n",
    "/usr/bin/perl -e 'while(<>){s/\\\\@//;s/\\\\/\\\\d//;print;<>;<>;<>;}' $tmp_dir/$name\\_lc_1_bad.fastq > $tmp_dir/$name\\_lc_1_bad_ids.out"
   ]
  },
  {
   "cell_type": "code",
   "execution_count": null,
   "metadata": {},
   "outputs": [],
   "source": [
    "/usr/bin/perl $prinseq_bin --fastq=$tmp_dir/$name\\_2.fastq --out_good null --out_bad=$tmp_dir/$name\\_lc_2_bad -lc_method dust -lc_threshold 7"
   ]
  },
  {
   "cell_type": "code",
   "execution_count": null,
   "metadata": {},
   "outputs": [],
   "source": [
    "#pull out bad IDs\n",
    "/usr/bin/perl -e 'while(<>){s/\\\\@//;s/\\\\/\\\\d//;print;<>;<>;<>;}' $tmp_dir/$name\\_lc_2_bad.fastq > $tmp_dir/$name\\_lc_2_bad_ids.out"
   ]
  },
  {
   "cell_type": "code",
   "execution_count": null,
   "metadata": {},
   "outputs": [],
   "source": [
    "# Merge bad ids from derep and lc filtering\n",
    "#if dedup\n",
    "cat $tmp_dir/$name\\_derep_bad_ids.out\n",
    "#if remove low complex\n",
    "$tmp_dir/$name\\_lc_1_bad_ids.out $tmp_dir/$name\\_lc_2_bad_ids.out\n",
    "#concatenate\n",
    "$cmd . \" | sort -T $tmp_dir -u -o $tmp_dir/$name\\_prinseq-bad-ids.out\""
   ]
  },
  {
   "cell_type": "code",
   "execution_count": null,
   "metadata": {},
   "outputs": [],
   "source": []
  },
  {
   "cell_type": "code",
   "execution_count": null,
   "metadata": {},
   "outputs": [],
   "source": []
  }
 ],
 "metadata": {
  "kernelspec": {
   "display_name": "Python 3",
   "language": "python",
   "name": "python3"
  },
  "language_info": {
   "codemirror_mode": {
    "name": "ipython",
    "version": 3
   },
   "file_extension": ".py",
   "mimetype": "text/x-python",
   "name": "python",
   "nbconvert_exporter": "python",
   "pygments_lexer": "ipython3",
   "version": "3.7.6"
  }
 },
 "nbformat": 4,
 "nbformat_minor": 4
}
