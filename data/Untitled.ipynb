{
 "cells": [
  {
   "cell_type": "code",
   "execution_count": null,
   "metadata": {},
   "outputs": [],
   "source": [
    "https://www.biostars.org/p/187510/"
   ]
  },
  {
   "cell_type": "code",
   "execution_count": null,
   "metadata": {},
   "outputs": [],
   "source": [
    "gtf2bed\n",
    "sort-bed my-regions.unsorted.bed > my-regions.bed\n",
    "sort-bed ucsc-regions.unsorted.bed > ucsc-regions.bed\n",
    "# Then map the UCSC regions to your regions of interest with bedmap. \n",
    "# If you only need gene IDs from the UCSC regions, use the --echo-map-id-uniq option:\n",
    "bedmap --echo --echo-map-id-uniq --delim '\\t' my-regions ucsc-regions.bed > answer.bed"
   ]
  },
  {
   "cell_type": "code",
   "execution_count": null,
   "metadata": {},
   "outputs": [],
   "source": []
  }
 ],
 "metadata": {
  "kernelspec": {
   "display_name": "Python 3",
   "language": "python",
   "name": "python3"
  },
  "language_info": {
   "codemirror_mode": {
    "name": "ipython",
    "version": 3
   },
   "file_extension": ".py",
   "mimetype": "text/x-python",
   "name": "python",
   "nbconvert_exporter": "python",
   "pygments_lexer": "ipython3",
   "version": "3.8.6"
  }
 },
 "nbformat": 4,
 "nbformat_minor": 4
}
