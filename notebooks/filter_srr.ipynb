{
 "cells": [
  {
   "cell_type": "code",
   "execution_count": null,
   "id": "9eb2dfc9-d060-4dd9-9086-664c7402e591",
   "metadata": {},
   "outputs": [],
   "source": [
    "!python filter_srr.py \"SRR5090597_putative_insertion_table.csv\" \"SRR5090597\" \"hpv16\" \"UCSChg38\" "
   ]
  },
  {
   "cell_type": "code",
   "execution_count": null,
   "id": "b1eafccc-0cf9-4627-a6bb-d5db227cf768",
   "metadata": {},
   "outputs": [],
   "source": [
    "!pip install pandas"
   ]
  },
  {
   "cell_type": "code",
   "execution_count": null,
   "id": "0bd5271d-2f50-4d54-b091-72c2d51e2e44",
   "metadata": {},
   "outputs": [],
   "source": [
    "!sudo apt-get -y update\n",
    "!sudo apt-get -y install autoconf automake make gcc perl zlib1g-dev libbz2-dev liblzma-dev libcurl4-gnutls-dev libssl-dev libncurses5-dev\n",
    "!wget https://github.com/samtools/samtools/releases/download/1.14/samtools-1.14.tar.bz2\n",
    "!tar xvjf samtools-1.14.tar.bz2\n",
    "!cd samtools-1.14\n",
    "!make\n",
    "!export PATH=$PATH:`pwd`"
   ]
  },
  {
   "cell_type": "code",
   "execution_count": 59,
   "id": "5989978b-a3fd-40e9-ac23-844adb161617",
   "metadata": {},
   "outputs": [],
   "source": [
    "import igv\n",
    "import time\n",
    "import pandas\n",
    "import subprocess"
   ]
  },
  {
   "cell_type": "code",
   "execution_count": 48,
   "id": "68573914-44b2-42dc-99e8-b5cf7b26dd19",
   "metadata": {},
   "outputs": [],
   "source": [
    "insertion_table_name = 'test_table.csv'\n",
    "srr = \"SRR5090597\"\n",
    "srr_id = 1\n",
    "donor_name = \"hpv16\"\n",
    "recipient_name = \"UCSChg38\"\n",
    "path = \"../../wallaby/workflows/outputs/hpv16_rnaseq/\""
   ]
  },
  {
   "cell_type": "code",
   "execution_count": 49,
   "id": "ba58bc3c-c7f0-483d-a0ce-10d3ff61a309",
   "metadata": {},
   "outputs": [
    {
     "data": {
      "text/html": [
       "<div>\n",
       "<style scoped>\n",
       "    .dataframe tbody tr th:only-of-type {\n",
       "        vertical-align: middle;\n",
       "    }\n",
       "\n",
       "    .dataframe tbody tr th {\n",
       "        vertical-align: top;\n",
       "    }\n",
       "\n",
       "    .dataframe thead th {\n",
       "        text-align: right;\n",
       "    }\n",
       "</style>\n",
       "<table border=\"1\" class=\"dataframe\">\n",
       "  <thead>\n",
       "    <tr style=\"text-align: right;\">\n",
       "      <th></th>\n",
       "      <th>srr</th>\n",
       "      <th>id</th>\n",
       "      <th>chr</th>\n",
       "      <th>start</th>\n",
       "      <th>stop</th>\n",
       "      <th>num_crossings</th>\n",
       "      <th>unique_crossings</th>\n",
       "      <th>num_reads</th>\n",
       "      <th>gene_name</th>\n",
       "    </tr>\n",
       "  </thead>\n",
       "  <tbody>\n",
       "    <tr>\n",
       "      <th>0</th>\n",
       "      <td>SRR5090597</td>\n",
       "      <td>1</td>\n",
       "      <td>chr1</td>\n",
       "      <td>150576896</td>\n",
       "      <td>150577494</td>\n",
       "      <td>3</td>\n",
       "      <td>1Md_2Mr|1Md_1Mr|2Md_1Mr</td>\n",
       "      <td>386</td>\n",
       "      <td>MCL1</td>\n",
       "    </tr>\n",
       "    <tr>\n",
       "      <th>1</th>\n",
       "      <td>SRR5090597</td>\n",
       "      <td>2</td>\n",
       "      <td>chr1</td>\n",
       "      <td>150578243</td>\n",
       "      <td>150578495</td>\n",
       "      <td>3</td>\n",
       "      <td>1Md_2Mr|1Md_1Mr|2Md_1Mr</td>\n",
       "      <td>528</td>\n",
       "      <td>MCL1</td>\n",
       "    </tr>\n",
       "  </tbody>\n",
       "</table>\n",
       "</div>"
      ],
      "text/plain": [
       "          srr  id   chr      start       stop  num_crossings  \\\n",
       "0  SRR5090597   1  chr1  150576896  150577494              3   \n",
       "1  SRR5090597   2  chr1  150578243  150578495              3   \n",
       "\n",
       "          unique_crossings  num_reads gene_name  \n",
       "0  1Md_2Mr|1Md_1Mr|2Md_1Mr        386      MCL1  \n",
       "1  1Md_2Mr|1Md_1Mr|2Md_1Mr        528      MCL1  "
      ]
     },
     "execution_count": 49,
     "metadata": {},
     "output_type": "execute_result"
    }
   ],
   "source": [
    "insertion_table = pandas.read_csv(insertion_table_name)\n",
    "insertion_table"
   ]
  },
  {
   "cell_type": "code",
   "execution_count": 50,
   "id": "71ed745a-9894-420a-987d-9940222092cc",
   "metadata": {},
   "outputs": [],
   "source": [
    "crossings = [\"1Md_2Mr\", \"1Md_1Mr\", \"2Md_1Mr\"]\n",
    "padding_left = 0\n",
    "padding_right = 0\n",
    "\n",
    "recipient_1Md_2Mr = path + srr + \"-to-UCSChg38_\" + \"1Md_2Mr\" + \"_filtered.bam\"\n",
    "recipient_1Md_1Mr = path + srr + \"-to-UCSChg38_\" + \"1Md_1Mr\" + \"_filtered.bam\"\n",
    "recipient_2Md_1Mr = path + srr + \"-to-UCSChg38_\" + \"2Md_1Mr\" + \"_filtered.bam\"\n",
    "\n",
    "donor_1Md_2Mr = path + srr + \"-to-hpv16_\" + \"1Md_2Mr\" + \"_filtered.bam\"\n",
    "donor_1Md_1Mr = path + srr + \"-to-hpv16_\" + \"1Md_1Mr\" + \"_filtered.bam\"\n",
    "donor_2Md_1Mr = path + srr + \"-to-hpv16_\" + \"2Md_1Mr\" + \"_filtered.bam\""
   ]
  },
  {
   "cell_type": "code",
   "execution_count": 60,
   "id": "f284ae49-c782-4a69-a2ae-e30060c450e1",
   "metadata": {},
   "outputs": [],
   "source": [
    "for srr_id in insertion_table[\"id\"]:\n",
    "    insertion_table_srr = insertion_table[insertion_table[\"srr\"] == srr]\n",
    "    insertion_table_srr_id = insertion_table_srr[insertion_table_srr[\"id\"] == srr_id]\n",
    "    chromosome = str(insertion_table_srr_id['chr'].values[0])\n",
    "    start = str(insertion_table_srr_id['start'].values[0] - padding_left)\n",
    "    stop = str(insertion_table_srr_id['stop'].values[0] + padding_right)\n",
    "    locus = str(chromosome + \":\" + start + \"-\" + stop)\n",
    "    \n",
    "    subprocess.getoutput(\"/tmp/samtools-1.14/samtools view \" + recipient_1Md_2Mr + \" \" + locus + \" | cut -f1 | sort | uniq > reads1.txt\")\n",
    "    subprocess.getoutput(\"/tmp/samtools-1.14/samtools view \" + recipient_1Md_1Mr + \" \" + locus + \" | cut -f1 | sort | uniq > reads2.txt\")\n",
    "    subprocess.getoutput(\"/tmp/samtools-1.14/samtools view \" + recipient_2Md_1Mr + \" \" + locus + \" | cut -f1 | sort | uniq > reads3.txt\")\n",
    "    subprocess.getoutput(\"cat reads1.txt reads2.txt reads3.txt > reads.txt\")\n",
    "    subprocess.getoutput(\"rm reads1.txt reads2.txt reads3.txt\")\n",
    "\n",
    "    subprocess.getoutput(\"/tmp/samtools-1.14/samtools view -N reads.txt -o \" + srr + \"-to-\" + donor_name + \"_1Md_2Mr_filtered_\" + str(srr_id) + \".bam \" + donor_1Md_2Mr)\n",
    "    subprocess.getoutput(\"/tmp/samtools-1.14/samtools view -N reads.txt -o \" + srr + \"-to-\" + donor_name + \"_1Md_1Mr_filtered_\" + str(srr_id) + \".bam \" + donor_1Md_1Mr)\n",
    "    subprocess.getoutput(\"/tmp/samtools-1.14/samtools view -N reads.txt -o \" + srr + \"-to-\" + donor_name + \"_2Md_1Mr_filtered_\" + str(srr_id) + \".bam \" + donor_2Md_1Mr)\n",
    "    subprocess.getoutput(\"/tmp/samtools-1.14/samtools view -N reads.txt -o \" + srr + \"-to-\" + recipient_name + \"_1Md_2Mr_filtered_\" + str(srr_id) + \".bam \" + recipient_1Md_2Mr)\n",
    "    subprocess.getoutput(\"/tmp/samtools-1.14/samtools view -N reads.txt -o \" + srr + \"-to-\" + recipient_name + \"_1Md_1Mr_filtered_\" + str(srr_id) + \".bam \" + recipient_1Md_1Mr)\n",
    "    subprocess.getoutput(\"/tmp/samtools-1.14/samtools view -N reads.txt -o \" + srr + \"-to-\" + recipient_name + \"_2Md_1Mr_filtered_\" + str(srr_id) + \".bam \" + recipient_2Md_1Mr)"
   ]
  }
 ],
 "metadata": {
  "kernelspec": {
   "display_name": "Python 3 (ipykernel)",
   "language": "python",
   "name": "python3"
  },
  "language_info": {
   "codemirror_mode": {
    "name": "ipython",
    "version": 3
   },
   "file_extension": ".py",
   "mimetype": "text/x-python",
   "name": "python",
   "nbconvert_exporter": "python",
   "pygments_lexer": "ipython3",
   "version": "3.9.7"
  }
 },
 "nbformat": 4,
 "nbformat_minor": 5
}
