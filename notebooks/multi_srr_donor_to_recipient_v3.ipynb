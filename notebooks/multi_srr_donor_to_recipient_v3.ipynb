{
 "cells": [
  {
   "cell_type": "markdown",
   "metadata": {},
   "source": [
    "# Output File Analysis - Multiple SRRs - Donor to Recipient Workflows"
   ]
  },
  {
   "cell_type": "markdown",
   "metadata": {},
   "source": [
    "## Variables"
   ]
  },
  {
   "cell_type": "code",
   "execution_count": 10,
   "metadata": {
    "tags": [
     "parameters"
    ]
   },
   "outputs": [],
   "source": [
    "## Variables\n",
    "srr_names <- c(\"SRR5090597\", \"SRR5090599\")\n",
    "donor_name <- \"hpv16\"\n",
    "recipient_name <- \"UCSChg38\"\n",
    "inputs_folder <- \"../../wallaby/workflows/cromwell-final-outputs/\"\n",
    "donor_ref_genome <- \"../../wallaby/data/ref_genomes/hpv/HPV16.fa\"\n",
    "recipient_ref_genome <- \"../../wallaby/data/ref_genomes/human/hg38.fa\""
   ]
  },
  {
   "cell_type": "code",
   "execution_count": 10,
   "metadata": {
    "tags": [
     "parameters"
    ]
   },
   "outputs": [],
   "source": [
    "## Variables\n",
    "srr_names <- c(\"SRR1609136\", \"SRR1609137\", \"SRR1609138\", \"SRR1609139\", \"SRR1609140\", \"SRR1609141\", \"SRR1609142\", \"SRR1609143\", \"SRR1609144\", \"SRR1609145\", \"SRR1609146\", \"SRR1609147\", \"SRR1609148\", \"SRR1609149\", \"SRR1609150\", \"SRR1609151\")\n",
    "donor_name <- \"hpv16\"\n",
    "recipient_name <- \"UCSChg38\"\n",
    "inputs_folder <- \"../../wallaby/workflows/cromwell-final-outputs/\"\n",
    "donor_ref_genome <- \"../../wallaby/data/ref_genomes/hpv/HPV16.fa\"\n",
    "recipient_ref_genome <- \"../../wallaby/data/ref_genomes/human/hg38.fa\""
   ]
  },
  {
   "cell_type": "markdown",
   "metadata": {},
   "source": [
    "## Import Libraries"
   ]
  },
  {
   "cell_type": "code",
   "execution_count": 11,
   "metadata": {},
   "outputs": [],
   "source": [
    "## Setup Environment\n",
    "# Enable multithreading when possible (library dependent)\n",
    "options(Ncpus = parallel::detectCores())\n",
    "Sys.setenv(OMP_NUM_THREADS=toString(parallel::detectCores()))\n",
    "Sys.setenv(OMP_THREAD_LIMIT=toString(parallel::detectCores()))\n",
    "Sys.setenv(OMP_NUM_THREADS=parallel::detectCores())\n",
    "Sys.setenv(OMP_THREAD_LIMIT=parallel::detectCores())\n",
    "\n",
    "## Load or install and load all libraries\n",
    "suppressPackageStartupMessages(library(\"pacman\", character.only = TRUE))\n",
    "\n",
    "# List of CRAN packages to either Load, or Install and Load\n",
    "pacman::p_load(dplyr, ggplot2, shiny, shinyLP, DT,  ggrepel,  tidyr, \n",
    "               data.table, kableExtra, knitr, IRdisplay, stringr, install = FALSE)\n",
    "\n",
    "# List of Bioconductor packages to either Load, or Install and Load\n",
    "pacman::p_load(BSgenome, BSgenome.Hsapiens.UCSC.hg38, GenomicFeatures, \n",
    "               GenomicAlignments,  Rsubread,  Rsamtools, bamsignals,  \n",
    "               rtracklayer, GenomicRanges, org.Hs.eg.db, Organism.dplyr,\n",
    "               TxDb.Hsapiens.UCSC.hg38.knownGene, regioneR, karyoploteR,\n",
    "               seqinr, Repitools, Gviz, Biostrings, install = FALSE)"
   ]
  },
  {
   "cell_type": "markdown",
   "metadata": {},
   "source": [
    "## Load Files for Analysis"
   ]
  },
  {
   "cell_type": "code",
   "execution_count": 12,
   "metadata": {},
   "outputs": [],
   "source": [
    "# Select crossings to import and order of visualization\n",
    "crossings <- c(\"UMd_MMr\", \"MUd_MMr\", \"UMd_MUr\", \"MUd_UMr\", \"MMd_UMr\", \"MMd_MUr\")"
   ]
  },
  {
   "cell_type": "code",
   "execution_count": 13,
   "metadata": {},
   "outputs": [],
   "source": [
    "# Load all .bed files for all srrs created by the cromwell workflow\n",
    "\n",
    "# Define variables to hold all srrs\n",
    "recip_granges_all_srrs <- list()\n",
    "\n",
    "# Loop over each srr\n",
    "for (srr in srr_names) {\n",
    "    \n",
    "    # For each single srr\n",
    "    recip_granges <- list()\n",
    "    recip_granges_crossings <- list()\n",
    "\n",
    "    # Load all .bed files created by the cromwell workflow\n",
    "    for (cross in crossings){\n",
    "        # list all recipient files\n",
    "        recip_file <- list.files(inputs_folder,\n",
    "                                  pattern=paste(srr, \n",
    "                                                '-to-',\n",
    "                                                recipient_name,\n",
    "                                                \"_\", cross, \n",
    "                                                \".bed\", \n",
    "                                                sep = \"\"), \n",
    "                                  recursive = TRUE, \n",
    "                                  full.names = TRUE)\n",
    "\n",
    "        # check whether the file exists and add if it does\n",
    "        if (!identical(recip_file, character(0))) {\n",
    "            recip_granges[[cross]] <- import(recip_file)\n",
    "            recip_granges_crossings[[cross]] <- cross\n",
    "        }\n",
    "        \n",
    "        # add recip_granges for this srr to the _all object\n",
    "        recip_granges_all_srrs[[srr]] <- recip_granges\n",
    "    }\n",
    "}"
   ]
  },
  {
   "cell_type": "markdown",
   "metadata": {},
   "source": [
    "## Helper Functions"
   ]
  },
  {
   "cell_type": "code",
   "execution_count": 14,
   "metadata": {},
   "outputs": [],
   "source": [
    "# Create a sqlite database from TxDb and corresponding Org packages\n",
    "# The database provides a convenient way to map between gene, transcript, and protein identifiers.\n",
    "src <- suppressMessages(suppressWarnings(src_organism(\"TxDb.Hsapiens.UCSC.hg38.knownGene\")))\n",
    "# Create a full genome sequences for Homo sapiens (Human) as provided by UCSC (hg38, based on GRCh38.p12)\n",
    "Hsapiens <- BSgenome.Hsapiens.UCSC.hg38"
   ]
  },
  {
   "cell_type": "code",
   "execution_count": 15,
   "metadata": {
    "tags": [
     "parameters"
    ]
   },
   "outputs": [],
   "source": [
    "# Function to Create a Table mapping ranges of overlapping paired-end crossings \n",
    "summary_table_recipient <- function(granges, \n",
    "                                    granges_labels, \n",
    "                                    min_num_crossings = 3,\n",
    "                                    min_num_reads = 3, \n",
    "                                    src,\n",
    "                                    Hsapiens) {\n",
    "    \n",
    "    # convert all granges to dataframes\n",
    "    granges_df <- lapply(granges, annoGR2DF)\n",
    "    # assign all granges labels (crossing names) as each dataframe's name\n",
    "    names(granges_df) <- granges_labels\n",
    "    # flatten all dataframes into a single dataframe, \n",
    "    # and use their's respective name as an identifier in a new column named 'crossing'\n",
    "    merged_df <- bind_rows(granges_df, .id = \"crossing\")\n",
    "    # convert the data.frame to a data.table\n",
    "    merged_dt <- as.data.table(merged_df)\n",
    "\n",
    "    # assign each row to a group, based on whether their ranges overlap\n",
    "    merged_dt[,group := { ir <- IRanges(start, end); subjectHits(findOverlaps(ir, reduce(ir))) }, by = chr]\n",
    "    # aggregate results by group, and add additional aggregated columns\n",
    "    merged_final <- merged_dt[, list(start = min(start), \n",
    "                                     stop = max(end), \n",
    "                                     num_crossings = length(unique(list(crossing)[[1]])),\n",
    "                                     unique_crossings = list(unique(crossing)),\n",
    "                                     num_reads = length(list(name)[[1]])\n",
    "                                     ), by = list(group,chr)]\n",
    "    \n",
    "    # filter results using a minimum number of reads and/or crossings\n",
    "    merged_final <- merged_final[merged_final[, num_reads > (min_num_reads - 1)]]\n",
    "    merged_final <- merged_final[merged_final[, num_crossings > (min_num_crossings - 1)]]\n",
    "    \n",
    "    # there might be no matches, so check for that before looking for a gene name\n",
    "    if (nrow(merged_final) != 0) {\n",
    "        # use the src database to look for the gene names or each crossing overlap region\n",
    "        # then, add it as a new column\n",
    "        merged_final$gene_name <- apply(merged_final, 1, FUN = function(x) toString(\n",
    "            unique(unlist(suppressWarnings(annoGR2DF(\n",
    "                                    transcripts(src, \n",
    "                                                 filter=~(GRangesFilter(\n",
    "                                                     GenomicRanges::GRanges(\n",
    "                                                         paste(toString(x[\"chr\"]), \":\", \n",
    "                                                               as.integer(x[\"start\"]), \"-\", \n",
    "                                                               as.integer(x[\"stop\"]), sep = \"\")))), \n",
    "                                                 columns=c(\"symbol\")))$symbol)))))\n",
    "                                        \n",
    "        # use the Hsapiens databse to look up the DNA sequence for each crossing overlap region\n",
    "        # then, add it as a new column\n",
    "        merged_final$sequence <- apply(merged_final, 1, FUN = function(x) toString(getSeq(Hsapiens, \n",
    "                                                                           toString(x[\"chr\"]), \n",
    "                                                                           start = as.integer(x[\"start\"]), \n",
    "                                                                           end = as.integer(x[\"stop\"]))))\n",
    "        # delete the 'group' column\n",
    "        merged_final <- merged_final[, !\"group\"]\n",
    "        # add an ID to each row\n",
    "        merged_final <- merged_final[, id := .I]\n",
    "        setcolorder(merged_final, c(\"id\", \"chr\", \"start\", \"stop\", \n",
    "                                    \"num_crossings\", \"unique_crossings\", \n",
    "                                    \"num_reads\", \"gene_name\", \"sequence\"))\n",
    "                                       \n",
    "    # if there are no matches, write an NA row\n",
    "    } else {\n",
    "            return(data.table(id = \"<NA>\",\n",
    "                              chr = \"<NA>\", \n",
    "                              start = 0, \n",
    "                              stop = 0, \n",
    "                              num_crossings = 0, \n",
    "                              unique_crossings = \"<NA>\", \n",
    "                              num_reads = 0, \n",
    "                              gene_name = \"<NA>\", \n",
    "                              sequence = \"<NA>\")\n",
    "                  )\n",
    "        }\n",
    "\n",
    "    return(merged_final)\n",
    "}"
   ]
  },
  {
   "cell_type": "code",
   "execution_count": 16,
   "metadata": {},
   "outputs": [],
   "source": [
    "# Function to Create a Summary Table for many SRRs\n",
    "srrs_summary_table_recipient <- function(granges_list, \n",
    "                                         min_num_crossings = 3,\n",
    "                                         min_num_reads = 3, \n",
    "                                         src,\n",
    "                                         Hsapiens) {\n",
    "\n",
    "    # store all tables in a single list\n",
    "    srrs_list <- list()\n",
    "    \n",
    "    # iterate over all granges\n",
    "    for (srr in names(granges_list)) {\n",
    "\n",
    "        # create a summary table for each granges object\n",
    "        granges <- unname(granges_list[srr][[1]])\n",
    "        granges_labels <- str_split(names(granges_list[srr][[1]]), \" \")\n",
    "        summary_table <- summary_table_recipient (granges = granges,\n",
    "                                                  granges_labels = granges_labels,\n",
    "                                                  min_num_crossings = 1, \n",
    "                                                  min_num_reads = 3, \n",
    "                                                  src = src, \n",
    "                                                  Hsapiens = Hsapiens)\n",
    "        \n",
    "        # add a column for the srr\n",
    "        summary_table$srr <- srr\n",
    "        # add the table to the list\n",
    "        srrs_list[[srr]] <- summary_table\n",
    "    }\n",
    "    \n",
    "    # bind all the tables by row\n",
    "    srrs_summary_table <- do.call(rbind, c(srrs_list, fill=TRUE))\n",
    "    # reorder the table\n",
    "    setcolorder(srrs_summary_table, c(\"srr\", \"id\", \"chr\", \"start\", \"stop\", \n",
    "                                      \"num_crossings\", \"unique_crossings\", \n",
    "                                      \"num_reads\", \"gene_name\", \"sequence\"))\n",
    "\n",
    "    # stylize the output\n",
    "    srrs_summary_table %>%\n",
    "        kable(\"html\") %>%\n",
    "        kable_styling(bootstrap_options = \"striped\", full_width = F, position = \"left\") %>%\n",
    "        column_spec(10, width = \"30em\", width_max = \"30em\") %>%\n",
    "        as.character() %>%\n",
    "        display_html()     \n",
    "}"
   ]
  },
  {
   "cell_type": "markdown",
   "metadata": {},
   "source": [
    "## Recipient Analysis"
   ]
  },
  {
   "cell_type": "code",
   "execution_count": 17,
   "metadata": {},
   "outputs": [
    {
     "data": {
      "text/html": [
       "<table class=\"table table-striped\" style=\"width: auto !important; \">\n",
       " <thead>\n",
       "  <tr>\n",
       "   <th style=\"text-align:left;\"> srr </th>\n",
       "   <th style=\"text-align:right;\"> id </th>\n",
       "   <th style=\"text-align:left;\"> chr </th>\n",
       "   <th style=\"text-align:right;\"> start </th>\n",
       "   <th style=\"text-align:right;\"> stop </th>\n",
       "   <th style=\"text-align:right;\"> num_crossings </th>\n",
       "   <th style=\"text-align:left;\"> unique_crossings </th>\n",
       "   <th style=\"text-align:right;\"> num_reads </th>\n",
       "   <th style=\"text-align:left;\"> gene_name </th>\n",
       "   <th style=\"text-align:left;\"> sequence </th>\n",
       "  </tr>\n",
       " </thead>\n",
       "<tbody>\n",
       "  <tr>\n",
       "   <td style=\"text-align:left;\"> SRR5090597 </td>\n",
       "   <td style=\"text-align:right;\"> 1 </td>\n",
       "   <td style=\"text-align:left;\"> chr1 </td>\n",
       "   <td style=\"text-align:right;\"> 150577086 </td>\n",
       "   <td style=\"text-align:right;\"> 150577493 </td>\n",
       "   <td style=\"text-align:right;\"> 6 </td>\n",
       "   <td style=\"text-align:left;\"> UMd_MMr, MUd_MMr, UMd_MUr, MUd_UMr, MMd_UMr, MMd_MUr </td>\n",
       "   <td style=\"text-align:right;\"> 68 </td>\n",
       "   <td style=\"text-align:left;\"> MCL1 </td>\n",
       "   <td style=\"text-align:left;width: 30em; max-width: 30em; \"> CCCTACCATCTTCACTAAATCTAAAAGTCCTCCTCCATAGCTTCCCAAACAAAGTTTGTTTGTTGCTGAAACTGAACTTTGCTTCTTTCAGACAGTGACTCTTCAATCAATGGGGAGCACTCTTCCCATGTATTTATTCTTGTTAGCCATAATCCTCTTGCCACTTGCTTTTCTGGCTAGGTTGCTAGGGTGCAACTCTAGGAAGTTACAGCTTGGAGTCCAACTGCATAAACTGGTTTTGGTGGTGGTGGTGGTTGGTTAAAAGTCAACTATTGCACTTACAGTAAGGCTATCTTATTAGATATGCCAAACCAGCTCCTACTCCAGCAACACCTGCAAAAGCCAGCAGCACATTCCTGATGCCACCTTCTAGGTCCTCTACATGGAAGAACTCCACAAACCCATCCT </td>\n",
       "  </tr>\n",
       "  <tr>\n",
       "   <td style=\"text-align:left;\"> SRR5090597 </td>\n",
       "   <td style=\"text-align:right;\"> 2 </td>\n",
       "   <td style=\"text-align:left;\"> chr1 </td>\n",
       "   <td style=\"text-align:right;\"> 150578243 </td>\n",
       "   <td style=\"text-align:right;\"> 150578495 </td>\n",
       "   <td style=\"text-align:right;\"> 5 </td>\n",
       "   <td style=\"text-align:left;\"> UMd_MMr, MUd_MMr, UMd_MUr, MUd_UMr, MMd_MUr </td>\n",
       "   <td style=\"text-align:right;\"> 129 </td>\n",
       "   <td style=\"text-align:left;\"> MCL1 </td>\n",
       "   <td style=\"text-align:left;width: 30em; max-width: 30em; \"> CCCAGCCTCTTTGTTTAACTAGCCAGTCCCGTTTTGTCCTTACGAGAACGTCTGTGATACTTTCTGCTAATGGTTCGATGCAGCTTTCTTGGTTTATGGTCTTCAAGTGTTTAGCCACAAAGGCACCAAAAGAAATGAGAGTCACAATCCTGCCCCAGTTTGTTACGCCGTCGCTGAAAACATGGATCATCACTCGAGACAACGATTTCACATCGTCTTCGTTTTTGATGTCCAGTTTCCGAAGCATGCCTGA </td>\n",
       "  </tr>\n",
       "  <tr>\n",
       "   <td style=\"text-align:left;\"> SRR5090597 </td>\n",
       "   <td style=\"text-align:right;\"> 3 </td>\n",
       "   <td style=\"text-align:left;\"> chr8 </td>\n",
       "   <td style=\"text-align:right;\"> 127828233 </td>\n",
       "   <td style=\"text-align:right;\"> 127828354 </td>\n",
       "   <td style=\"text-align:right;\"> 2 </td>\n",
       "   <td style=\"text-align:left;\"> MUd_MMr, MMd_MUr </td>\n",
       "   <td style=\"text-align:right;\"> 3 </td>\n",
       "   <td style=\"text-align:left;\"> PVT1 </td>\n",
       "   <td style=\"text-align:left;width: 30em; max-width: 30em; \"> CTTCTTACTGAGTGTCTAGTTCCTTGTTGTACAGGTGAGGGAAACTGAGGCCCAGAGTGGATGTGACGTTTCCGAAGGAGAGGCTCTGTAAAGTTCTGAGTAGGTGAGACTTATTATTAGCT </td>\n",
       "  </tr>\n",
       "  <tr>\n",
       "   <td style=\"text-align:left;\"> SRR5090599 </td>\n",
       "   <td style=\"text-align:right;\"> 1 </td>\n",
       "   <td style=\"text-align:left;\"> chr1 </td>\n",
       "   <td style=\"text-align:right;\"> 206940489 </td>\n",
       "   <td style=\"text-align:right;\"> 206940589 </td>\n",
       "   <td style=\"text-align:right;\"> 4 </td>\n",
       "   <td style=\"text-align:left;\"> UMd_MMr, MUd_MMr, UMd_MUr, MUd_UMr </td>\n",
       "   <td style=\"text-align:right;\"> 5 </td>\n",
       "   <td style=\"text-align:left;\"> PIGR </td>\n",
       "   <td style=\"text-align:left;width: 30em; max-width: 30em; \"> CTGGGAAGACCGCCAGCAGGCAGGTGAGCACGAAGAGCAGCATTGCTGGTGGGTCCCGAGCGCCGCACCACTCAGGCCGACTTCTCCTGTGCAATGCTGAA </td>\n",
       "  </tr>\n",
       "  <tr>\n",
       "   <td style=\"text-align:left;\"> SRR5090599 </td>\n",
       "   <td style=\"text-align:right;\"> 2 </td>\n",
       "   <td style=\"text-align:left;\"> chr1 </td>\n",
       "   <td style=\"text-align:right;\"> 206949934 </td>\n",
       "   <td style=\"text-align:right;\"> 206950244 </td>\n",
       "   <td style=\"text-align:right;\"> 4 </td>\n",
       "   <td style=\"text-align:left;\"> UMd_MMr, MUd_MMr, UMd_MUr, MUd_UMr </td>\n",
       "   <td style=\"text-align:right;\"> 13 </td>\n",
       "   <td style=\"text-align:left;\">  </td>\n",
       "   <td style=\"text-align:left;width: 30em; max-width: 30em; \"> GCCACCCTCCAGGCTCTAGACGATAATCCGTTGCTTGCCTCTTCTAGCTTCTGGTTGCTGCTGACATTCTTTGGTGTTCTTTGGCACGTAGCTGTGTCACTCCAACCTCTGCCTTCATAGTCACATTGGCTTCTGTGTATGTCTCAAATAACTCTCTGTTTCTCTGTTATATGGATGGTATTTAGGGCCCACCCAGCTAATCCAAGATGATGTCCTCATCTCAAGATCCTGAACTTCATCACATCTACAAAGACTCTTTTCCAAATAAGGTCACACTTCTGGGCTCCAGAGATTGAGACATAGACAAACCT </td>\n",
       "  </tr>\n",
       "  <tr>\n",
       "   <td style=\"text-align:left;\"> SRR5090599 </td>\n",
       "   <td style=\"text-align:right;\"> 3 </td>\n",
       "   <td style=\"text-align:left;\"> chr1 </td>\n",
       "   <td style=\"text-align:right;\"> 206939240 </td>\n",
       "   <td style=\"text-align:right;\"> 206939381 </td>\n",
       "   <td style=\"text-align:right;\"> 3 </td>\n",
       "   <td style=\"text-align:left;\"> MUd_MMr, UMd_MUr, MUd_UMr </td>\n",
       "   <td style=\"text-align:right;\"> 4 </td>\n",
       "   <td style=\"text-align:left;\"> PIGR </td>\n",
       "   <td style=\"text-align:left;width: 30em; max-width: 30em; \"> CTCCGGGAAGTTGGTGAGGTTAGCCCTGCCTGCATATTTGCTGGAGACGTAGCCCTCCGAGGAGATGAGGGTTATGCAGCCACCTCTAGCTCCCTGCCGGCACCAGTACTTCCGGGTGTGCCGGTTGACAGAGGTGGGTGGG </td>\n",
       "  </tr>\n",
       "</tbody>\n",
       "</table>"
      ]
     },
     "metadata": {},
     "output_type": "display_data"
    }
   ],
   "source": [
    "# Aggregated view of all overlapping crossings for the potential recipient for all srrs\n",
    "srrs_summary_table <- srrs_summary_table_recipient (granges_list = recip_granges_all_srrs, \n",
    "                                                    min_num_crossings = 1,\n",
    "                                                    min_num_reads = 2, \n",
    "                                                    src = src,\n",
    "                                                    Hsapiens = Hsapiens)"
   ]
  }
 ],
 "metadata": {
  "kernelspec": {
   "display_name": "R",
   "language": "R",
   "name": "ir"
  },
  "language_info": {
   "codemirror_mode": "r",
   "file_extension": ".r",
   "mimetype": "text/x-r-source",
   "name": "R",
   "pygments_lexer": "r",
   "version": "4.0.3"
  }
 },
 "nbformat": 4,
 "nbformat_minor": 4
}
