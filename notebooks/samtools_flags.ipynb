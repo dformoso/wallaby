{
 "cells": [
  {
   "cell_type": "code",
   "execution_count": null,
   "metadata": {},
   "outputs": [],
   "source": [
    "!sudo apt-get update -y --quiet"
   ]
  },
  {
   "cell_type": "code",
   "execution_count": null,
   "metadata": {},
   "outputs": [],
   "source": [
    "!sudo apt-get install -y --quiet tree libcurl4-openssl-dev zlib1g-dev samtools"
   ]
  },
  {
   "cell_type": "code",
   "execution_count": 3,
   "metadata": {},
   "outputs": [
    {
     "name": "stdout",
     "output_type": "stream",
     "text": [
      "Collecting biopython\n",
      "  Downloading biopython-1.78-cp38-cp38-manylinux1_x86_64.whl (2.3 MB)\n",
      "\u001b[K     |████████████████████████████████| 2.3 MB 3.3 MB/s eta 0:00:01\n",
      "\u001b[?25hCollecting numpy\n",
      "  Downloading numpy-1.19.4-cp38-cp38-manylinux2010_x86_64.whl (14.5 MB)\n",
      "\u001b[K     |████████████████████████████████| 14.5 MB 10.3 MB/s eta 0:00:01   |██████████▊                     | 4.9 MB 7.7 MB/s eta 0:00:02\n",
      "\u001b[?25hInstalling collected packages: numpy, biopython\n",
      "Successfully installed biopython-1.78 numpy-1.19.4\n",
      "Collecting pyBigWig\n",
      "  Downloading pyBigWig-0.3.17.tar.gz (64 kB)\n",
      "\u001b[K     |████████████████████████████████| 64 kB 2.2 MB/s eta 0:00:011\n",
      "\u001b[?25hBuilding wheels for collected packages: pyBigWig\n",
      "  Building wheel for pyBigWig (setup.py) ... \u001b[?25ldone\n",
      "\u001b[?25h  Created wheel for pyBigWig: filename=pyBigWig-0.3.17-cp38-cp38-linux_x86_64.whl size=223615 sha256=4c1366435ecdb96b8f095b219bb382368d9a912e27291106834628ebeb81a902\n",
      "  Stored in directory: /home/jovyan/.cache/pip/wheels/6c/0f/66/71631d173ebddcb890b2b36cbab9325ed4913fd1d583c273ed\n",
      "Successfully built pyBigWig\n",
      "Installing collected packages: pyBigWig\n",
      "Successfully installed pyBigWig-0.3.17\n",
      "Collecting pysam\n",
      "  Downloading pysam-0.16.0.1-cp38-cp38-manylinux1_x86_64.whl (10.2 MB)\n",
      "\u001b[K     |████████████████████████████████| 10.2 MB 4.6 MB/s eta 0:00:01    |████████████████▍               | 5.2 MB 2.8 MB/s eta 0:00:02\n",
      "\u001b[?25hInstalling collected packages: pysam\n",
      "Successfully installed pysam-0.16.0.1\n"
     ]
    }
   ],
   "source": [
    "!pip install biopython\n",
    "!pip install pyBigWig\n",
    "!pip install pysam"
   ]
  },
  {
   "cell_type": "code",
   "execution_count": 3,
   "metadata": {},
   "outputs": [],
   "source": [
    "import os\n",
    "import math\n",
    "import numpy as np\n",
    "import pysam\n",
    "\n",
    "from Bio import SeqIO\n",
    "from Bio.SeqIO.FastaIO import SimpleFastaParser\n",
    "from Bio.SeqIO.QualityIO import FastqGeneralIterator"
   ]
  },
  {
   "cell_type": "code",
   "execution_count": 6,
   "metadata": {},
   "outputs": [],
   "source": [
    "def bold_char(string, pos):\n",
    "    string_list = list(string)\n",
    "    BOLD = '\\033[1m'\n",
    "    END = '\\033[0m'\n",
    "    string_list.insert(pos, BOLD)\n",
    "    string_list.insert(pos+2, END)\n",
    "    return(\"\".join(string_list))\n",
    "\n",
    "def sam_flag_decoder(flag, logging=True):\n",
    "    description = []\n",
    "    for bit in range(12):\n",
    "        bit_description = \"\"\n",
    "        flag_component = flag & (1<<bit) # check if a particular bit is set on the binary flag\n",
    "        binary_string = '{0:012b}'.format(flag) # convert to binary and set length to 12 bits\n",
    "        if(flag_component): binary_string = bold_char(binary_string, 11-bit) # bold the bit if is set\n",
    "        if(flag_component and bit == 0):  \n",
    "            bit_description = \"read paired - template having multiple segments in sequencing\"\n",
    "            description.append(\"read paired - template having multiple segments in sequencing\")\n",
    "        if(flag_component and bit == 1):  \n",
    "            bit_description = \"read mapped in proper pair - each segment properly aligned according to the aligner\"\n",
    "            description.append(\"read mapped in proper pair - each segment properly aligned according to the aligner\")\n",
    "        if(flag_component and bit == 2):  \n",
    "            bit_description = \"read unmapped - segment unmapped\"\n",
    "            description.append(\"read unmapped - segment unmapped\")\n",
    "        if(flag_component and bit == 3):  \n",
    "            bit_description = \"mate unmapped - next segment in the template unmapped\"\n",
    "            description.append(\"mate unmapped - next segment in the template unmapped\")\n",
    "        if(flag_component and bit == 4):  \n",
    "            bit_description = \"read reverse strand - SEQ being reverse complemented\"\n",
    "            description.append(\"read reverse strand - SEQ being reverse complemented\")\n",
    "        if(flag_component and bit == 5):  \n",
    "            bit_description = \"mate reverse strand - SEQ of the next segment in the template being reversed\"\n",
    "            description.append(\"mate reverse strand - SEQ of the next segment in the template being reversed\")\n",
    "        if(flag_component and bit == 6):  \n",
    "            bit_description = \"first in pair - the first segment in the template\"\n",
    "            description.append(\"first in pair - the first segment in the template\")\n",
    "        if(flag_component and bit == 7):  \n",
    "            bit_description = \"second in pair - the last segment in the template\"\n",
    "            description.append(\"second in pair - the last segment in the template\")\n",
    "        if(flag_component and bit == 8):  \n",
    "            bit_description = \"not primary alignment - secondary alignment\"\n",
    "            description.append(\"not primary alignment - secondary alignment\")  \n",
    "        if(flag_component and bit == 9):  \n",
    "            bit_description = \"read fails platform/vendor quality checks - not passing quality controls\"\n",
    "            description.append(\"read fails platform/vendor quality checks - not passing quality controls\")\n",
    "        if(flag_component and bit == 10): \n",
    "            bit_description = \"read is PCR or optical duplicate\"\n",
    "            description.append(\"read is PCR or optical duplicate\")\n",
    "        if(flag_component and bit == 11): \n",
    "            bit_description = \"supplementary alignment\"\n",
    "            description.append(\"supplementary alignment\")\n",
    "        if(logging):\n",
    "            if(bit_description): print(binary_string + \"  \" + \"{:<4}\".format(str(flag_component)) + \"  \" + description[-1])\n",
    "            else: print(binary_string + \"  \" + \"{:<4}\".format(str(flag_component)))\n",
    "    return(\" + \".join(description))"
   ]
  },
  {
   "cell_type": "code",
   "execution_count": 7,
   "metadata": {},
   "outputs": [],
   "source": [
    "def sam_flag_to_bin(flag):\n",
    "    print(\"{:<4}\".format(str(flag)) + \": \" + '{0:012b}'.format(flag))\n",
    "    print(\"{:<4}\".format(str(4095-flag)) + \": \" + '{0:012b}'.format(4095-flag))"
   ]
  },
  {
   "cell_type": "markdown",
   "metadata": {},
   "source": [
    "## PairedReads\n",
    "For paired reads, 0'th bit HAS to be set. Hence all flags for paired reads HAVE to be odd. In other words, all even-numbered flags other than the above three (0, 4 and 16) are meaningless. \n",
    "\n",
    "For paired reads all flags in the intervals [65-127] and [193-255] relate to the first read of a pair. All other (odd) flags refer to the second read in a pair."
   ]
  },
  {
   "cell_type": "markdown",
   "metadata": {},
   "source": [
    "### Both reads have aligned\n",
    "- 65 - 0001000001 - this is first read in pair and both reads aligned the forward strand.\n",
    "- 129 - 0010000001 - this is second read of pair and both reads aligned the forward strand.\n",
    "- 67 (0001000011) and 131 (0010000011) also mean the same as 65 and 129 with the added assurance that \"the pair is properly aligned\" meaning that they mapped within a proper distance from each other.\n",
    "- 113 - 0001110001 - \"this is the first read of a pair, both reads in pair were flipped and both mapped\".\n",
    "- 177 - 0001110001 - \"this is the second read of a pair, both reads in pair were flipped and both mapped\".\n",
    "- 81 - 0001010001 - \"this is the first read of pair, both reads mapped, we had to flip this read, but mate is in forward orientation\".\n",
    "- 161 - 0010100001 - \"this is second read, this one is forward but we flipped its mate and both reads mapped\".\n",
    "- 163 (0010100011) and 83 (0001010011) are the same as 161 and 81 except \"it is in a proper pair\".\n",
    "- 97 - 0001100001 - \"this is first read, its mate is flipped but this is forward. Both mapped\".\n",
    "- 145 - 0010010001 - \"this is second read. it is flipped but its mate is not. Both mapped\".\n",
    "- 99 (0001100011) and 147 (0010010011) are the same as 97 and 145 except with \"proper mapping in pair\"."
   ]
  },
  {
   "cell_type": "markdown",
   "metadata": {},
   "source": [
    "### No reads have aligned\n",
    "- 77 - 0001001101 - First in pair, both reads in pair unmapped. \"All bad\"\n",
    "- 141 - 0010001101 - Second in pair and \"all bad\"."
   ]
  },
  {
   "cell_type": "markdown",
   "metadata": {},
   "source": [
    "### Only one read has aligned\n",
    "- 69 - 0001000101 - 1st read in pair. This read is unmapped but its mate is mapped.\n",
    "- 137 - 0010001001 - 2nd in pair. Read is mapped but mate is unmapped.\n",
    "- 73 - 0001001001 - 1st read in pair. This read is mapped but its mate is not.\n",
    "- 133 - 0010000101 - 2nd in pair. Read unmapped but mate is mapped."
   ]
  },
  {
   "cell_type": "code",
   "execution_count": 50,
   "metadata": {},
   "outputs": [
    {
     "name": "stdout",
     "output_type": "stream",
     "text": [
      "reads-to-donor.bam\t  reads-to-recipient.bam\n",
      "reads-to-donor_MM.bam\t  reads-to-recipient_MM.bam\n",
      "reads-to-donor_MU.bam\t  reads-to-recipient_MU.bam\n",
      "reads-to-donor_MU_R1.bam  reads-to-recipient_MU_R1.bam\n",
      "reads-to-donor_MU_R2.bam  reads-to-recipient_MU_R2.bam\n",
      "reads-to-donor_UM.bam\t  reads-to-recipient_UM.bam\n",
      "reads-to-donor_UM_R1.bam  reads-to-recipient_UM_R1.bam\n",
      "reads-to-donor_UM_R2.bam  reads-to-recipient_UM_R2.bam\n",
      "reads-to-donor_UU.bam\t  reads-to-recipient_UU.bam\n",
      "reads-to-donor_UU_R1.bam  reads-to-recipient_UU_R1.bam\n",
      "reads-to-donor_UU_R2.bam  reads-to-recipient_UU_R2.bam\n"
     ]
    }
   ],
   "source": [
    "!ls notebook_test_data/include_and_exclude"
   ]
  },
  {
   "cell_type": "code",
   "execution_count": 53,
   "metadata": {},
   "outputs": [
    {
     "name": "stdout",
     "output_type": "stream",
     "text": [
      "73\n",
      "77\n",
      "121\n",
      "329\n",
      "377\n",
      "2121\n",
      "2169\n"
     ]
    }
   ],
   "source": [
    "!samtools view -@ 24 -f 73 notebook_test_data/include_and_exclude/reads-to-recipient.bam | cut -f2 | sort -n | uniq"
   ]
  },
  {
   "cell_type": "code",
   "execution_count": 54,
   "metadata": {},
   "outputs": [
    {
     "name": "stdout",
     "output_type": "stream",
     "text": [
      "133\n",
      "141\n",
      "181\n"
     ]
    }
   ],
   "source": [
    "!samtools view -@ 24 -f 133 notebook_test_data/include_and_exclude/reads-to-recipient.bam | cut -f2 | sort -n | uniq"
   ]
  },
  {
   "cell_type": "code",
   "execution_count": 55,
   "metadata": {},
   "outputs": [
    {
     "name": "stdout",
     "output_type": "stream",
     "text": [
      "SRR12091997.6\t77\t*\t0\t0\t*\t*\t0\t0\tCTCTTNTCTGATGAACAGTTTAGGTGAAACTGATCTGGCACGTAACTGATAGACGTGTTTTACGCCGTCAGGACAA\tAAAAA#EEEEEEEEEEEEEEEEEEEEEEEEEEEEEEEEEEEEEEEEEEEEEEAEEEEEEEEEEEEEEAAEEEEAEE\tAS:i:0\tXS:i:0\n",
      "SRR12091997.33\t77\t*\t0\t0\t*\t*\t0\t0\tCGGTGNGAATGTTTTGTATGCGTCAATATGCTTATTCAGCAAAATGACTTGATCTTTGAAATTTGGATCTTTGTCA\t66AAA#EEEEAE6EEEEEEEEEEEEEE6EE/EEEEEEEEEEEEEEEE6EEEEEEEEEEEEEEEEEEEEEEEEEEE<\tAS:i:0\tXS:i:0\n",
      "SRR12091997.34\t77\t*\t0\t0\t*\t*\t0\t0\tCTCCANTGGTTGCTCTTCATCTAATTGAGAATATTTATTCTCAGTTAGTGACTTAGATAAATTTTTAATTATGAGG\tAAAAA#EEEEEEEEEEEEEEEEEEEEEEEEEEEEEEEEEEEEEEEEEEEEEEEEEEEEEEEEEEEEEEEEEEEEEE\tAS:i:0\tXS:i:0\n",
      "SRR12091997.46\t77\t*\t0\t0\t*\t*\t0\t0\tCTGTTGGTGGGAATGTTTTGTATGCGTCAATATGCTTATTCAGCAAAATGACTTGATCTTTGAAATTTGGATCTTT\tAAAAAEEEEEEEEEEEEEEEEEEEEEEEEEEEEEEEEEEEEEEEEEEEEEEEEEEEEEEEEEEEEEEEEEEEEEEE\tAS:i:0\tXS:i:0\n",
      "SRR12091997.48\t77\t*\t0\t0\t*\t*\t0\t0\tGTCTGCCGAAAGCTTGTGTTACATTGTATGCTTTAGTGGCAGTACGTTTTTGCCGAGGCTTCTTAGAAGCCTCAG\tAAAAAEEEEEEEEEEAEEAEEEEEEEAEEEEEEEEEEEEE/EEEEEAEEEEE<EEEEEEEEEAAEEEEAAEEEEE\tAS:i:0\tXS:i:0\n",
      "samtools view: writing to standard output failed: No such file or directory\n",
      "samtools view: error closing standard output: -1\n"
     ]
    }
   ],
   "source": [
    "!samtools view -@ 24 -f 73 notebook_test_data/include_and_exclude/reads-to-recipient.bam | head -n 5"
   ]
  },
  {
   "cell_type": "code",
   "execution_count": 56,
   "metadata": {},
   "outputs": [
    {
     "name": "stdout",
     "output_type": "stream",
     "text": [
      "SRR12091997.6\t141\t*\t0\t0\t*\t*\t0\t0\tGCTTTATCACTACCAAGAGTGTGTTAGAGGTACAACAGTACTTTTAAAAGAACCTTGCTCTTCTGGAACATACGAG\tAAAAAEEEEEEEEEEEEEEEEEEEEEEEEEEEEEEEEEEEEEEEEEEEEEEEEEEEEEEEEEEEEEEEEEEEEEEE\tAS:i:0\tXS:i:0\n",
      "SRR12091997.33\t141\t*\t0\t0\t*\t*\t0\t0\tGGAAATTTTGGGGACCAGGAACTAATCAGACAAGGAACTGATTACAAACATTGGCCGCAAATTGCACAATTTGCC\tAAA/AEEEEEEEEEEEEEEEEEE/EEEEEEEEEEEEEE/EAEEEEEE/EEEAEEEEEAEAEEEAA/EEAA6AE/E\tAS:i:0\tXS:i:0\n",
      "SRR12091997.34\t141\t*\t0\t0\t*\t*\t0\t0\tACACAGACCATTCCAGTAGCAGTGACAATATTGCTTTGCTTGTACAGTAAGTGACAACAGATGTTTCATCTCGTTG\tAAAA6E6EEAEEAEAEEAEEAEEEEEEEEAE/EAEEEEEEEEEEEAEE6EEEEEEEEEEEAEEEEEAAEAA<AEEE\tAS:i:0\tXS:i:0\n",
      "SRR12091997.46\t141\t*\t0\t0\t*\t*\t0\t0\tGGAAATTTTGGGGACCAGGAACTAATCAGACAAGGAACTGATTACAAACATTGGCCGCAAATTGCACAATTTGCC\tAAAAAEEEEEEEEEEAEEEEEEEEEEEEEAEEEEEEEEEEEEEEEEEEEEEEEEEEEEEEEEEEEEEEEEEAEE<\tAS:i:0\tXS:i:0\n",
      "SRR12091997.48\t141\t*\t0\t0\t*\t*\t0\t0\tAAGAAATTCAACTCCAGGCAGCAGTAGGGGAACTTCTCCTGCTAGAATGGCTGGCAATGGCGGTGATGCTGCTCTT\tA/AAAAEEAE/EEEEEEEEE6/EEAEAAAEA/EEEEEAEEEE/AEAEEEEEEEEE/E<<AEEE/EEEEA6EEEEEE\tAS:i:0\tXS:i:0\n",
      "samtools view: writing to standard output failed: No such file or directory\n",
      "samtools view: error closing standard output: -1\n"
     ]
    }
   ],
   "source": [
    "!samtools view -@ 24 -f 133 notebook_test_data/include_and_exclude/reads-to-recipient.bam | head -n 5"
   ]
  },
  {
   "cell_type": "code",
   "execution_count": 57,
   "metadata": {},
   "outputs": [
    {
     "name": "stdout",
     "output_type": "stream",
     "text": [
      "73  : 000001001001\n",
      "4022: 111110110110\n"
     ]
    }
   ],
   "source": [
    "sam_flag_to_bin(73)"
   ]
  },
  {
   "cell_type": "code",
   "execution_count": 58,
   "metadata": {},
   "outputs": [
    {
     "name": "stdout",
     "output_type": "stream",
     "text": [
      "77  : 000001001101\n",
      "4018: 111110110010\n"
     ]
    }
   ],
   "source": [
    "sam_flag_to_bin(77)"
   ]
  },
  {
   "cell_type": "code",
   "execution_count": 59,
   "metadata": {},
   "outputs": [
    {
     "name": "stdout",
     "output_type": "stream",
     "text": [
      "00000100110\u001b[1m1\u001b[0m  1     read paired - template having multiple segments in sequencing\n",
      "000001001101  0   \n",
      "000001001\u001b[1m1\u001b[0m01  4     read unmapped - segment unmapped\n",
      "00000100\u001b[1m1\u001b[0m101  8     mate unmapped - next segment in the template unmapped\n",
      "000001001101  0   \n",
      "000001001101  0   \n",
      "00000\u001b[1m1\u001b[0m001101  64    first in pair - the first segment in the template\n",
      "000001001101  0   \n",
      "000001001101  0   \n",
      "000001001101  0   \n",
      "000001001101  0   \n",
      "000001001101  0   \n"
     ]
    },
    {
     "data": {
      "text/plain": [
       "'read paired - template having multiple segments in sequencing + read unmapped - segment unmapped + mate unmapped - next segment in the template unmapped + first in pair - the first segment in the template'"
      ]
     },
     "execution_count": 59,
     "metadata": {},
     "output_type": "execute_result"
    }
   ],
   "source": [
    "sam_flag_decoder(77)"
   ]
  },
  {
   "cell_type": "code",
   "execution_count": 60,
   "metadata": {},
   "outputs": [
    {
     "name": "stdout",
     "output_type": "stream",
     "text": [
      "00001000110\u001b[1m1\u001b[0m  1     read paired - template having multiple segments in sequencing\n",
      "000010001101  0   \n",
      "000010001\u001b[1m1\u001b[0m01  4     read unmapped - segment unmapped\n",
      "00001000\u001b[1m1\u001b[0m101  8     mate unmapped - next segment in the template unmapped\n",
      "000010001101  0   \n",
      "000010001101  0   \n",
      "000010001101  0   \n",
      "0000\u001b[1m1\u001b[0m0001101  128   second in pair - the last segment in the template\n",
      "000010001101  0   \n",
      "000010001101  0   \n",
      "000010001101  0   \n",
      "000010001101  0   \n"
     ]
    },
    {
     "data": {
      "text/plain": [
       "'read paired - template having multiple segments in sequencing + read unmapped - segment unmapped + mate unmapped - next segment in the template unmapped + second in pair - the last segment in the template'"
      ]
     },
     "execution_count": 60,
     "metadata": {},
     "output_type": "execute_result"
    }
   ],
   "source": [
    "sam_flag_decoder(141)"
   ]
  },
  {
   "cell_type": "code",
   "execution_count": null,
   "metadata": {},
   "outputs": [],
   "source": []
  },
  {
   "cell_type": "code",
   "execution_count": null,
   "metadata": {},
   "outputs": [],
   "source": []
  },
  {
   "cell_type": "code",
   "execution_count": 63,
   "metadata": {},
   "outputs": [
    {
     "name": "stdout",
     "output_type": "stream",
     "text": [
      "SRR12091997.2260\t73\tchr2\t32916258\t6\t76M\t=\t32916258\t0\tAGGGGGGGGGGGGGGGGGGGGGGGGGGGGGGGGGGGGGGGGGGGGGGGGGGGGGGGGGGGGGGGGGGGGGGGGGGG\tAAA/AEEEEEEEEEEEEEEEEEEEEEEEEEEEEEEEEEEEEEEEEEEEEEEEEEEEEEEEAE<EEEEEEE/EEEEE\tNM:i:1\tMD:Z:0G75\tAS:i:75\tXS:i:71\n",
      "SRR12091997.20261\t73\tchr16\t8892814\t60\t76M\t=\t8892814\t0\tCCAGCAAAAAGGCAATATACAGGAAGAGTTGGTGTACACTGCTCCCACAGAAACAACCCAAAAAATACCGGAAAAG\tAA/AAEEEEEEEEEEEEEEEEEEEEEEEEEEEEEEAEAEEEEEEEE/EEEE6EEE6EEEEEEEE6EEEEEEAEEEE\tNM:i:0\tMD:Z:76\tAS:i:76\tXS:i:0\n",
      "SRR12091997.27348\t73\tchr5\t172771120\t60\t46M30S\t=\t172771120\t0\tGGCTCCTCGGCTTCTTCGCGGTTCCCCCGACTGCCCCTCCGACCCGGTGATTTCTTTAGGCAGGTCCTTGATGTCA\tAAAAAEEEEEEEEEEEEEEEEEEEEEEEE/EEEEEEEEEEE/EEEEE/E/EEEEEEE6EEEEEEEAAAEEEEAE/A\tNM:i:0\tMD:Z:46\tAS:i:46\tXS:i:0\n",
      "SRR12091997.79038\t73\tchr20\t17621737\t60\t40M35S\t=\t17621737\t0\tCTTTCTCTTTGAGATCCTGCAGCCACTCGGTGTAATTCTGTTGTGCCAAGACAGAGAGTTCTGGGAGCAGAGCCA\tA/AAAE/EEEA//EE/EEAEAEEEE/E/A/EAE6EEAAEEEEEEEAAEEEE/EEE/AEEEA//EEEEEEEEAA<E\tNM:i:0\tMD:Z:40\tAS:i:40\tXS:i:0\tSA:Z:chr20,17621855,+,37S38M,60,0;\n",
      "SRR12091997.89182\t73\tchr10\t100229427\t60\t4S71M\t=\t100229427\t0\tGGTTCCCGATGCTGGTACAGACAGACGTTCCCGAAGCCGCCGGTGCCCAGCCGCTCCCGCATCTCCCAGGGCCCG\tAAAAAEEEEEEEEEEEEEEEEEEEAEEEEEEAEEEEEAEEEEEEEEAEEEEEEEEEEEEEEEEEEAAEEEEAE/E\tNM:i:0\tMD:Z:71\tAS:i:71\tXS:i:0\n",
      "samtools view: writing to standard output failed: No such file or directory\n",
      "samtools view: error closing standard output: -1\n"
     ]
    }
   ],
   "source": [
    "!samtools view -@ 24 -f 73 -F 4022 notebook_test_data/include_and_exclude/reads-to-recipient.bam | head -n 5"
   ]
  },
  {
   "cell_type": "code",
   "execution_count": 64,
   "metadata": {},
   "outputs": [
    {
     "name": "stdout",
     "output_type": "stream",
     "text": [
      "SRR12091997.2260\t133\tchr2\t32916258\t0\t*\t=\t32916258\t0\tGCTCTTGCTTTGCTGCTGCTTGACAGATTGAACCAGCTTGAGAGCAAAATGTCTGGTAAAGGCCAACAACAACAAG\tAAAAAEEEEEEEEEEEEEEEEEEEEEEEEEEEEEEEEEEEAEEEEEEEEEEEEEEEEEEEEEEEEEEEEEEEEEAE\tMC:Z:76M\tAS:i:0\tXS:i:0\n",
      "SRR12091997.20261\t133\tchr16\t8892814\t0\t*\t=\t8892814\t0\tTGGTGACGGTAAAATGAAAGATCTCAGTCCAAGATGGTATTTCTACTACCTAGGAACTGGGCCAGAAGCTGGACTT\tAAAAA6EEEEEEEEEEEEEEAAEEAEEEEEEEEEEEEEEEEEEEEEAEEEEEEEEEEEEEEEEEEEEEEEEEAEEE\tMC:Z:76M\tAS:i:0\tXS:i:0\n",
      "SRR12091997.27348\t133\tchr5\t172771120\t0\t*\t=\t172771120\t0\tAGTAACTTTAGCTTGTTTTGTGCTTGCTGCTGTTTACAGAATAAATTGGATCACCGGTGGAATTGCTATCGCAATG\tAAAAAEEEEEEEEEEEEEEEEEEEEEEEEAEEEEEEEEEEEEEEEEEEEEEEEEEEEEEEEEEEEEEEEEEAAEEE\tMC:Z:46M30S\tAS:i:0\tXS:i:0\n",
      "SRR12091997.79038\t133\tchr20\t17621737\t0\t*\t=\t17621737\t0\tGGAGAAGCTGCACTCCCTGACCCAGGCCAAGGAGGAATCGGAGAAGCAGCTCT\t//A6AEEA/AEEE/A/A</EEAEE/EEAAEE/E6/EA/A</EEEE6EEA6//A\tMC:Z:40M35S\tAS:i:0\tXS:i:0\n",
      "SRR12091997.89182\t133\tchr10\t100229427\t0\t*\t=\t100229427\t0\tCTGCTGTTAATAGTGTCCCTTGGGATACTATAGCTAATTATGCTAAGCCTTTTCTTAACAAAGTTGTTAGTACAA\tAAAAAEEEAEEEEEEEEEEEEEEEEEEEEEEEEEEAEEEEEEEEEEEEEEEEEEEEEEEAEEEAAEEE/EEEEEA\tMC:Z:4S71M\tAS:i:0\tXS:i:0\n",
      "samtools view: writing to standard output failed: No such file or directory\n",
      "samtools view: error closing standard output: -1\n"
     ]
    }
   ],
   "source": [
    "!samtools view -@ 24 -f 133 -F 3962 notebook_test_data/include_and_exclude/reads-to-recipient.bam | head -n 5"
   ]
  },
  {
   "cell_type": "code",
   "execution_count": 65,
   "metadata": {},
   "outputs": [
    {
     "name": "stdout",
     "output_type": "stream",
     "text": [
      "SRR12091997.2260\t73\tchr2\t32916258\t6\t76M\t=\t32916258\t0\tAGGGGGGGGGGGGGGGGGGGGGGGGGGGGGGGGGGGGGGGGGGGGGGGGGGGGGGGGGGGGGGGGGGGGGGGGGGG\tAAA/AEEEEEEEEEEEEEEEEEEEEEEEEEEEEEEEEEEEEEEEEEEEEEEEEEEEEEEEAE<EEEEEEE/EEEEE\tNM:i:1\tMD:Z:0G75\tAS:i:75\tXS:i:71\n",
      "SRR12091997.2260\t329\tchr2\t32916486\t0\t76M\t=\t32916486\t0\t*\t*\tNM:i:1\tMD:Z:71A4\tAS:i:71\n",
      "SRR12091997.2260\t329\tchr2\t32916351\t0\t76M\t=\t32916351\t0\t*\t*\tNM:i:1\tMD:Z:50A25\tAS:i:71\n",
      "SRR12091997.2260\t329\tchr2\t32916441\t0\t76M\t=\t32916441\t0\t*\t*\tNM:i:2\tMD:Z:32A12A30\tAS:i:66\n",
      "SRR12091997.2260\t133\tchr2\t32916258\t0\t*\t=\t32916258\t0\tGCTCTTGCTTTGCTGCTGCTTGACAGATTGAACCAGCTTGAGAGCAAAATGTCTGGTAAAGGCCAACAACAACAAG\tAAAAAEEEEEEEEEEEEEEEEEEEEEEEEEEEEEEEEEEEAEEEEEEEEEEEEEEEEEEEEEEEEEEEEEEEEEAE\tMC:Z:76M\tAS:i:0\tXS:i:0\n"
     ]
    }
   ],
   "source": [
    "!samtools view -@ 24 notebook_test_data/include_and_exclude/reads-to-recipient.bam | grep 'SRR12091997.2260\\s' | head -n 5"
   ]
  },
  {
   "cell_type": "code",
   "execution_count": 71,
   "metadata": {},
   "outputs": [
    {
     "name": "stdout",
     "output_type": "stream",
     "text": [
      "SRR12091997.2260\t73\tchr2\t32916258\t6\t76M\t=\t32916258\t0\tAGGGGGGGGGGGGGGGGGGGGGGGGGGGGGGGGGGGGGGGGGGGGGGGGGGGGGGGGGGGGGGGGGGGGGGGGGGG\tAAA/AEEEEEEEEEEEEEEEEEEEEEEEEEEEEEEEEEEEEEEEEEEEEEEEEEEEEEEEAE<EEEEEEE/EEEEE\tNM:i:1\tMD:Z:0G75\tAS:i:75\tXS:i:71\n"
     ]
    }
   ],
   "source": [
    "!samtools view -@ 24 notebook_test_data/include_and_exclude/reads-to-recipient_MU_R1.bam | grep 'SRR12091997.2260\\s' | head -n 5"
   ]
  },
  {
   "cell_type": "code",
   "execution_count": 75,
   "metadata": {},
   "outputs": [
    {
     "name": "stdout",
     "output_type": "stream",
     "text": [
      "SRR12091997.2260\t133\tchr2\t32916258\t0\t*\t=\t32916258\t0\tGCTCTTGCTTTGCTGCTGCTTGACAGATTGAACCAGCTTGAGAGCAAAATGTCTGGTAAAGGCCAACAACAACAAG\tAAAAAEEEEEEEEEEEEEEEEEEEEEEEEEEEEEEEEEEEAEEEEEEEEEEEEEEEEEEEEEEEEEEEEEEEEEAE\tMC:Z:76M\tAS:i:0\tXS:i:0\n"
     ]
    }
   ],
   "source": [
    "!samtools view -@ 24 notebook_test_data/include_and_exclude/reads-to-recipient_MU_R2.bam | grep 'SRR12091997.2260\\s' | head -n 5"
   ]
  },
  {
   "cell_type": "code",
   "execution_count": 76,
   "metadata": {},
   "outputs": [
    {
     "name": "stdout",
     "output_type": "stream",
     "text": [
      "SRR12091997.2260\t73\tchr2\t32916258\t6\t76M\t=\t32916258\t0\tAGGGGGGGGGGGGGGGGGGGGGGGGGGGGGGGGGGGGGGGGGGGGGGGGGGGGGGGGGGGGGGGGGGGGGGGGGGG\tAAA/AEEEEEEEEEEEEEEEEEEEEEEEEEEEEEEEEEEEEEEEEEEEEEEEEEEEEEEEAE<EEEEEEE/EEEEE\tNM:i:1\tMD:Z:0G75\tAS:i:75\tXS:i:71\n",
      "SRR12091997.2260\t133\tchr2\t32916258\t0\t*\t=\t32916258\t0\tGCTCTTGCTTTGCTGCTGCTTGACAGATTGAACCAGCTTGAGAGCAAAATGTCTGGTAAAGGCCAACAACAACAAG\tAAAAAEEEEEEEEEEEEEEEEEEEEEEEEEEEEEEEEEEEAEEEEEEEEEEEEEEEEEEEEEEEEEEEEEEEEEAE\tMC:Z:76M\tAS:i:0\tXS:i:0\n"
     ]
    }
   ],
   "source": [
    "!samtools view -@ 24 notebook_test_data/include_and_exclude/reads-to-recipient_MU.bam | grep 'SRR12091997.2260\\s' | head -n 5"
   ]
  },
  {
   "cell_type": "code",
   "execution_count": null,
   "metadata": {},
   "outputs": [],
   "source": []
  },
  {
   "cell_type": "code",
   "execution_count": null,
   "metadata": {},
   "outputs": [],
   "source": []
  },
  {
   "cell_type": "code",
   "execution_count": 81,
   "metadata": {},
   "outputs": [
    {
     "name": "stdout",
     "output_type": "stream",
     "text": [
      "SRR12091997.16771731\t81\tchr12\t57527847\t60\t18S57M\tchr2\t32916484\t0\tCTGGGTGCCAGCCTGCTGGGTGACCTGTCTTCACTGACCAGCAGCCCTGGAGCCCTCCCCAGCCTGTTGCAGCCG\tAEEAEAEEEAEEEEEEEEEEEEEEEEEEEEEEEEEEEEEEEEEEAEEEEAEEEEEEEEEEEEEEEEAEEEAAAAA\tNM:i:1\tMD:Z:56T0\tMC:Z:30S46M\tAS:i:56\tXS:i:19\n",
      "SRR12091997.16771731\t161\tchr2\t32916484\t1\t30S46M\tchr12\t57527847\t0\tTTTAAATTCTGCGCTGCTGGCTGCCACCCTGGAGGGGGGGGGGGGGGGGGGGGGGGGGGGGGGGGGGGGGGGGGGG\tAAAAAEEEEEEEEEAEEEEEAEEEEAEAEEAE/EEAE6/EA/EAEEAEEEEE/E/EEEEEAE/E/AEEEEEEEEEE\tNM:i:0\tMD:Z:46\tMC:Z:18S57M\tAS:i:46\tXS:i:45\tSA:Z:chr12,57527170,+,33M43S,1,0;\n",
      "SRR12091997.16771731\t417\tchr2\t32916350\t0\t31H45M\tchr12\t57527847\t0\t*\t*\tNM:i:0\tMD:Z:45\tMC:Z:18H57M\tAS:i:45\n",
      "SRR12091997.16771731\t417\tchr2\t32916399\t0\t30H46M\tchr12\t57527847\t0\t*\t*\tNM:i:1\tMD:Z:42A3\tMC:Z:18H57M\tAS:i:42\n",
      "SRR12091997.16771731\t2209\tchr12\t57527170\t1\t33M43H\t=\t57527847\t734\tTTTAAATTCTGCGCTGCTGGCTGCCACCCTGGA\tAAAAAEEEEEEEEEAEEEEEAEEEEAEAEEAE/\tNM:i:0\tMD:Z:33\tMC:Z:18H57M\tAS:i:33\tXS:i:19\tSA:Z:chr2,32916484,+,30S46M,1,0;\n"
     ]
    }
   ],
   "source": [
    "!samtools view -@ 24 notebook_test_data/include_and_exclude/reads-to-recipient.bam | grep SRR12091997.16771731"
   ]
  },
  {
   "cell_type": "code",
   "execution_count": null,
   "metadata": {},
   "outputs": [],
   "source": []
  },
  {
   "cell_type": "code",
   "execution_count": null,
   "metadata": {},
   "outputs": [],
   "source": []
  },
  {
   "cell_type": "code",
   "execution_count": null,
   "metadata": {},
   "outputs": [],
   "source": []
  }
 ],
 "metadata": {
  "kernelspec": {
   "display_name": "Python 3",
   "language": "python",
   "name": "python3"
  },
  "language_info": {
   "codemirror_mode": {
    "name": "ipython",
    "version": 3
   },
   "file_extension": ".py",
   "mimetype": "text/x-python",
   "name": "python",
   "nbconvert_exporter": "python",
   "pygments_lexer": "ipython3",
   "version": "3.8.6"
  }
 },
 "nbformat": 4,
 "nbformat_minor": 4
}
