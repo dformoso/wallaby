{
 "cells": [
  {
   "cell_type": "code",
   "execution_count": null,
   "metadata": {},
   "outputs": [],
   "source": [
    "!sudo apt-get update -y --quiet"
   ]
  },
  {
   "cell_type": "code",
   "execution_count": null,
   "metadata": {},
   "outputs": [],
   "source": [
    "!sudo apt-get install -y --quiet tree libcurl4-openssl-dev zlib1g-dev samtools"
   ]
  },
  {
   "cell_type": "code",
   "execution_count": 3,
   "metadata": {},
   "outputs": [
    {
     "name": "stdout",
     "output_type": "stream",
     "text": [
      "Collecting biopython\n",
      "  Downloading biopython-1.78-cp38-cp38-manylinux1_x86_64.whl (2.3 MB)\n",
      "\u001b[K     |████████████████████████████████| 2.3 MB 2.1 MB/s eta 0:00:01\n",
      "\u001b[?25hCollecting numpy\n",
      "  Downloading numpy-1.19.4-cp38-cp38-manylinux2010_x86_64.whl (14.5 MB)\n",
      "\u001b[K     |████████████████████████████████| 14.5 MB 19.1 MB/s eta 0:00:01\n",
      "\u001b[?25hInstalling collected packages: numpy, biopython\n",
      "Successfully installed biopython-1.78 numpy-1.19.4\n",
      "Collecting pyBigWig\n",
      "  Downloading pyBigWig-0.3.17.tar.gz (64 kB)\n",
      "\u001b[K     |████████████████████████████████| 64 kB 1.8 MB/s eta 0:00:01\n",
      "\u001b[?25hBuilding wheels for collected packages: pyBigWig\n",
      "  Building wheel for pyBigWig (setup.py) ... \u001b[?25ldone\n",
      "\u001b[?25h  Created wheel for pyBigWig: filename=pyBigWig-0.3.17-cp38-cp38-linux_x86_64.whl size=223778 sha256=925ec2afd74b53164c0f7f682f597dc2ead978d690168549b32b5215dae8fa17\n",
      "  Stored in directory: /home/jovyan/.cache/pip/wheels/6c/0f/66/71631d173ebddcb890b2b36cbab9325ed4913fd1d583c273ed\n",
      "Successfully built pyBigWig\n",
      "Installing collected packages: pyBigWig\n",
      "Successfully installed pyBigWig-0.3.17\n",
      "Collecting pysam\n",
      "  Downloading pysam-0.16.0.1-cp38-cp38-manylinux1_x86_64.whl (10.2 MB)\n",
      "\u001b[K     |████████████████████████████████| 10.2 MB 1.8 MB/s eta 0:00:01\n",
      "\u001b[?25hInstalling collected packages: pysam\n",
      "Successfully installed pysam-0.16.0.1\n"
     ]
    }
   ],
   "source": [
    "!pip install biopython\n",
    "!pip install pyBigWig\n",
    "!pip install pysam"
   ]
  },
  {
   "cell_type": "code",
   "execution_count": 4,
   "metadata": {},
   "outputs": [],
   "source": [
    "import os\n",
    "import math\n",
    "import numpy as np\n",
    "import pysam\n",
    "\n",
    "from Bio import SeqIO\n",
    "from Bio.SeqIO.FastaIO import SimpleFastaParser\n",
    "from Bio.SeqIO.QualityIO import FastqGeneralIterator"
   ]
  },
  {
   "cell_type": "code",
   "execution_count": 5,
   "metadata": {},
   "outputs": [],
   "source": [
    "def bold_char(string, pos):\n",
    "    string_list = list(string)\n",
    "    BOLD = '\\033[1m'\n",
    "    END = '\\033[0m'\n",
    "    string_list.insert(pos, BOLD)\n",
    "    string_list.insert(pos+2, END)\n",
    "    return(\"\".join(string_list))\n",
    "\n",
    "def sam_flag_decoder(flag, logging=True):\n",
    "    description = []\n",
    "    for bit in range(12):\n",
    "        bit_description = \"\"\n",
    "        flag_component = flag & (1<<bit) # check if a particular bit is set on the binary flag\n",
    "        binary_string = '{0:012b}'.format(flag) # convert to binary and set length to 12 bits\n",
    "        if(flag_component): binary_string = bold_char(binary_string, 11-bit) # bold the bit if is set\n",
    "        if(flag_component and bit == 0):  \n",
    "            bit_description = \"read paired - template having multiple segments in sequencing\"\n",
    "            description.append(\"read paired - template having multiple segments in sequencing\")\n",
    "        if(flag_component and bit == 1):  \n",
    "            bit_description = \"read mapped in proper pair - each segment properly aligned according to the aligner\"\n",
    "            description.append(\"read mapped in proper pair - each segment properly aligned according to the aligner\")\n",
    "        if(flag_component and bit == 2):  \n",
    "            bit_description = \"read unmapped - segment unmapped\"\n",
    "            description.append(\"read unmapped - segment unmapped\")\n",
    "        if(flag_component and bit == 3):  \n",
    "            bit_description = \"mate unmapped - next segment in the template unmapped\"\n",
    "            description.append(\"mate unmapped - next segment in the template unmapped\")\n",
    "        if(flag_component and bit == 4):  \n",
    "            bit_description = \"read reverse strand - SEQ being reverse complemented\"\n",
    "            description.append(\"read reverse strand - SEQ being reverse complemented\")\n",
    "        if(flag_component and bit == 5):  \n",
    "            bit_description = \"mate reverse strand - SEQ of the next segment in the template being reversed\"\n",
    "            description.append(\"mate reverse strand - SEQ of the next segment in the template being reversed\")\n",
    "        if(flag_component and bit == 6):  \n",
    "            bit_description = \"first in pair - the first segment in the template\"\n",
    "            description.append(\"first in pair - the first segment in the template\")\n",
    "        if(flag_component and bit == 7):  \n",
    "            bit_description = \"second in pair - the last segment in the template\"\n",
    "            description.append(\"second in pair - the last segment in the template\")\n",
    "        if(flag_component and bit == 8):  \n",
    "            bit_description = \"not primary alignment - secondary alignment\"\n",
    "            description.append(\"not primary alignment - secondary alignment\")  \n",
    "        if(flag_component and bit == 9):  \n",
    "            bit_description = \"read fails platform/vendor quality checks - not passing quality controls\"\n",
    "            description.append(\"read fails platform/vendor quality checks - not passing quality controls\")\n",
    "        if(flag_component and bit == 10): \n",
    "            bit_description = \"read is PCR or optical duplicate\"\n",
    "            description.append(\"read is PCR or optical duplicate\")\n",
    "        if(flag_component and bit == 11): \n",
    "            bit_description = \"supplementary alignment\"\n",
    "            description.append(\"supplementary alignment\")\n",
    "        if(logging):\n",
    "            if(bit_description): print(binary_string + \"  \" + \"{:<4}\".format(str(flag_component)) + \"  \" + description[-1])\n",
    "            else: print(binary_string + \"  \" + \"{:<4}\".format(str(flag_component)))\n",
    "    return(\" + \".join(description))"
   ]
  },
  {
   "cell_type": "code",
   "execution_count": 6,
   "metadata": {},
   "outputs": [],
   "source": [
    "def sam_flag_to_bin(flag):\n",
    "    print(\"{:<4}\".format(str(flag)) + \": \" + '{0:012b}'.format(flag))\n",
    "    print(\"{:<4}\".format(str(4095-flag)) + \": \" + '{0:012b}'.format(4095-flag))"
   ]
  },
  {
   "cell_type": "markdown",
   "metadata": {},
   "source": [
    "## PairedReads\n",
    "For paired reads, 0'th bit HAS to be set. Hence all flags for paired reads HAVE to be odd. In other words, all even-numbered flags other than the above three (0, 4 and 16) are meaningless. \n",
    "\n",
    "For paired reads all flags in the intervals [65-127] and [193-255] relate to the first read of a pair. All other (odd) flags refer to the second read in a pair."
   ]
  },
  {
   "cell_type": "markdown",
   "metadata": {},
   "source": [
    "### Both reads have aligned\n",
    "- 65 - 0001000001 - this is first read in pair and both reads aligned the forward strand.\n",
    "- 129 - 0010000001 - this is second read of pair and both reads aligned the forward strand.\n",
    "- 67 (0001000011) and 131 (0010000011) also mean the same as 65 and 129 with the added assurance that \"the pair is properly aligned\" meaning that they mapped within a proper distance from each other.\n",
    "- 113 - 0001110001 - \"this is the first read of a pair, both reads in pair were flipped and both mapped\".\n",
    "- 177 - 0001110001 - \"this is the second read of a pair, both reads in pair were flipped and both mapped\".\n",
    "- 81 - 0001010001 - \"this is the first read of pair, both reads mapped, we had to flip this read, but mate is in forward orientation\".\n",
    "- 161 - 0010100001 - \"this is second read, this one is forward but we flipped its mate and both reads mapped\".\n",
    "- 163 (0010100011) and 83 (0001010011) are the same as 161 and 81 except \"it is in a proper pair\".\n",
    "- 97 - 0001100001 - \"this is first read, its mate is flipped but this is forward. Both mapped\".\n",
    "- 145 - 0010010001 - \"this is second read. it is flipped but its mate is not. Both mapped\".\n",
    "- 99 (0001100011) and 147 (0010010011) are the same as 97 and 145 except with \"proper mapping in pair\"."
   ]
  },
  {
   "cell_type": "markdown",
   "metadata": {},
   "source": [
    "### No reads have aligned\n",
    "- 77 - 0001001101 - First in pair, both reads in pair unmapped. \"All bad\"\n",
    "- 141 - 0010001101 - Second in pair and \"all bad\"."
   ]
  },
  {
   "cell_type": "markdown",
   "metadata": {},
   "source": [
    "### Only one read has aligned\n",
    "- 69 - 0001000101 - 1st read in pair. This read is unmapped but its mate is mapped.\n",
    "- 137 - 0010001001 - 2nd in pair. Read is mapped but mate is unmapped.\n",
    "- 73 - 0001001001 - 1st read in pair. This read is mapped but its mate is not.\n",
    "- 133 - 0010000101 - 2nd in pair. Read unmapped but mate is mapped."
   ]
  },
  {
   "cell_type": "markdown",
   "metadata": {},
   "source": [
    "## Checking BWA Alignment and BAM files"
   ]
  },
  {
   "cell_type": "code",
   "execution_count": 1,
   "metadata": {},
   "outputs": [],
   "source": [
    "srr_name=\"SRR5090597\"\n",
    "donor_name=\"hpv16\"\n",
    "recipient_name=\"USCShg38\"\n",
    "inputs_folder=\"../workflows/cromwell-final-outputs-bwa-hpv16/\""
   ]
  },
  {
   "cell_type": "code",
   "execution_count": 2,
   "metadata": {},
   "outputs": [
    {
     "name": "stdout",
     "output_type": "stream",
     "text": [
      "SRR5090597-to-hpv16\n",
      "SRR5090597-to-USCShg38\n"
     ]
    }
   ],
   "source": [
    "!echo $srr_name-to-$donor_name\n",
    "!echo $srr_name-to-$recipient_name"
   ]
  },
  {
   "cell_type": "code",
   "execution_count": 3,
   "metadata": {},
   "outputs": [],
   "source": [
    "# 3              MM\n",
    "# 73 and 133     MU\n",
    "# 69 nd 137      UM\n",
    "# 77 and 141     UU"
   ]
  },
  {
   "cell_type": "code",
   "execution_count": 4,
   "metadata": {},
   "outputs": [
    {
     "name": "stdout",
     "output_type": "stream",
     "text": [
      "83\n",
      "99\n",
      "147\n",
      "163\n",
      "2115\n",
      "2131\n",
      "2147\n",
      "2179\n",
      "2195\n",
      "2211\n",
      "2227\n"
     ]
    }
   ],
   "source": [
    "!samtools view -@ 24 -f 3 $inputs_folder$srr_name-to-$donor_name\".bam\" | cut -f2 | sort -n | uniq"
   ]
  },
  {
   "cell_type": "code",
   "execution_count": 5,
   "metadata": {},
   "outputs": [
    {
     "name": "stdout",
     "output_type": "stream",
     "text": [
      "83\n",
      "99\n",
      "147\n",
      "163\n"
     ]
    }
   ],
   "source": [
    "!samtools view -@ 24 -f 3 -F 2048 $inputs_folder$srr_name-to-$donor_name\".bam\" | cut -f2 | sort -n | uniq"
   ]
  },
  {
   "cell_type": "code",
   "execution_count": 56,
   "metadata": {},
   "outputs": [
    {
     "name": "stdout",
     "output_type": "stream",
     "text": [
      "73\n",
      "77\n",
      "121\n",
      "2121\n",
      "2169\n"
     ]
    }
   ],
   "source": [
    "!samtools view -@ 24 -f 73 $inputs_folder$srr_name-to-$donor_name\".bam\" | cut -f2 | sort -n | uniq"
   ]
  },
  {
   "cell_type": "code",
   "execution_count": 114,
   "metadata": {},
   "outputs": [
    {
     "name": "stdout",
     "output_type": "stream",
     "text": [
      "73\n"
     ]
    }
   ],
   "source": [
    "!samtools view -@ 24 -f 73 -F 4022 $inputs_folder$srr_name-to-$donor_name\".bam\" | cut -f2 | sort -n | uniq"
   ]
  },
  {
   "cell_type": "code",
   "execution_count": 57,
   "metadata": {},
   "outputs": [
    {
     "name": "stdout",
     "output_type": "stream",
     "text": [
      "133\n",
      "141\n",
      "181\n"
     ]
    }
   ],
   "source": [
    "!samtools view -@ 24 -f 133 $inputs_folder$srr_name-to-$donor_name\".bam\" | cut -f2 | sort -n | uniq"
   ]
  },
  {
   "cell_type": "code",
   "execution_count": 113,
   "metadata": {},
   "outputs": [
    {
     "name": "stdout",
     "output_type": "stream",
     "text": [
      "133\n"
     ]
    }
   ],
   "source": [
    "!samtools view -@ 24 -f 133 -F 3962 $inputs_folder$srr_name-to-$donor_name\".bam\" | cut -f2 | sort -n | uniq"
   ]
  },
  {
   "cell_type": "code",
   "execution_count": 58,
   "metadata": {},
   "outputs": [
    {
     "name": "stdout",
     "output_type": "stream",
     "text": [
      "SRR5090597.3928639\t73\tNC_001526.4\t5\t60\t72M1I28M\t=\t5\t0\tCTGATCCTGCAGGTACCAATGGGGAAGAGGGTACGGGATGTAATGGATGGTTTTATGTAGAGGCTGTAGTGGAAAAAAAAAACAGGGGATGCTATATCAGA\tBBBFFFFFFFFFFFFIIIIIIIIIIFIFIIIBFIIIIBFFFFIIIIIIIIBFFFIIIFFIFIIFFFFFFBFFFBFBFBFFFF0<BBBF<BBFFFFFFFFFB\tNM:i:1\tMD:Z:100\tAS:i:93\tXS:i:0\n",
      "SRR5090597.4449673\t121\tNC_001526.4\t57\t60\t30M\t=\t57\t0\tTTATGTAGAGGCTGTAGTGGAAAAAAAAAC\tBBFBFBIIFIFFBFBIIFFFFFFFFFFBBB\tNM:i:0\tMD:Z:30\tAS:i:30\tXS:i:0\n",
      "SRR5090597.1096535\t73\tNC_001526.4\t181\t60\t101M\t=\t181\t0\tCAGGCAGAAACAGAGACAGCACATGCGTTGTTTACTGCACAGGAAGCAAAACAACATAGAGATGCAGTACAGGTTCTAAAACGAAAGTATTTGGGTAGTCC\tBBBFFFFFFFFFFIIIIIIIFBFFFFIFIIIIIFIIIIIIIIIFIIIIIIIIIIIFIIIIIIFFFFFFFFFFFBFBBFFFFFFFFFFBBFFFFFFBBBBFF\tNM:i:0\tMD:Z:101\tAS:i:101\tXS:i:0\n",
      "SRR5090597.1309398\t73\tNC_001526.4\t224\t60\t101M\t=\t224\t0\tAAGCAAAACAACATAGAGATGCAGTACAGGTTCTAAAACGAAAGTATTTGGGTAGTCCACTTAGTGATATTAGTGGATGTGTAGACAATAATATTAGTCCT\tBBBFFFFFFFFFFFFFIIIIIIIIFFIIIIFIIIIIIIIIIIIIBFFFIFII0BBB<FFIIIIIFFFIIIFFF<BFFFFFFFBFFFFFFBBBFFFFFBBB<\tNM:i:0\tMD:Z:101\tAS:i:101\tXS:i:0\n",
      "SRR5090597.3466234\t73\tNC_001526.4\t1396\t60\t101M\t=\t1396\t0\tGGCATACCTAAAAAAAATTGCATATTACTATATGGTGCAGCTAACACAGGTAAATCATTATTTGGTATGAGTTTAATGAAATTTCTGCAAGGGTCTGTAAT\tBBBFFFFFFFFFFIIIIIIIIIIIIIFIIFIIIIIFFIIIIIIIIIIIIIFFIIIIIIIFIIIIFFFFFFFBBFFFBFFFFFFFFFFFFFFFFBBBBFFFF\tNM:i:0\tMD:Z:101\tAS:i:101\tXS:i:0\n",
      "samtools view: writing to standard output failed: No such file or directory\n",
      "samtools view: error closing standard output: -1\n"
     ]
    }
   ],
   "source": [
    "!samtools view -@ 24 -f 73 $inputs_folder$srr_name-to-$donor_name\".bam\" | head -n 5"
   ]
  },
  {
   "cell_type": "code",
   "execution_count": 59,
   "metadata": {},
   "outputs": [
    {
     "name": "stdout",
     "output_type": "stream",
     "text": [
      "SRR5090597.3928639\t133\tNC_001526.4\t5\t0\t*\t=\t5\t0\tCTGTGTTAAAT\tBBBFFFFFFFF\tMC:Z:72M1I28M\tAS:i:0\tXS:i:0\n",
      "SRR5090597.4449673\t181\tNC_001526.4\t57\t0\t*\t=\t57\t0\tAGCAAAACAGAAG\t<FFF<BFB<FBBB\tMC:Z:30M\tAS:i:0\tXS:i:0\n",
      "SRR5090597.1096535\t133\tNC_001526.4\t181\t0\t*\t=\t181\t0\tGCTTCCCTTGTACAGTACTGAGGCTTACAGTCATAGTTCTATTACTTGTAACTTTTACACAGGTCACTGGCATTCTTAGTGCTTCTCTTAACACTACAGTA\tBBBFFFFFFFFFFIIFIIIIIIIIIIIIIIFFFIIFFFFIIIIIIIIIFIFFIIIIIIFIIIIFFFFIIIIIIIIIIFIFFFFFFFFFFFFFFFFFFFBFF\tMC:Z:101M\tAS:i:0\tXS:i:0\n",
      "SRR5090597.1309398\t133\tNC_001526.4\t224\t0\t*\t=\t224\t0\tCTCGACGCCAGGGCGCCGGGCCTTGTGGGCTGTGCTGCACCTCGGACGGCTTCGCACCAGCCAGCGCCCTCTCTCTCCTGCAGCACTCTGATCTGCACCCC\t<BBFFFFFFFFFFFIIIIIIFIIIIIIIIIIFFFFFFFFFFFFFFBFBFB<<BFFFBFFB7BFFBFBFBBBFBFFFFFFFBFFBBB<BBBBB<B<BFB<0<\tMC:Z:101M\tAS:i:0\tXS:i:0\n",
      "SRR5090597.3466234\t133\tNC_001526.4\t1396\t0\t*\t=\t1396\t0\tTTTTTTTTTTTTTT\t<<<BBBBBBBBBBB\tMC:Z:101M\tAS:i:0\tXS:i:0\n",
      "samtools view: writing to standard output failed: No such file or directory\n",
      "samtools view: error closing standard output: -1\n"
     ]
    }
   ],
   "source": [
    "!samtools view -@ 24 -f 133 $inputs_folder$srr_name-to-$donor_name\".bam\" | head -n 5"
   ]
  },
  {
   "cell_type": "code",
   "execution_count": 60,
   "metadata": {},
   "outputs": [
    {
     "name": "stdout",
     "output_type": "stream",
     "text": [
      "73  : 000001001001\n",
      "4022: 111110110110\n"
     ]
    }
   ],
   "source": [
    "sam_flag_to_bin(73)"
   ]
  },
  {
   "cell_type": "code",
   "execution_count": 61,
   "metadata": {},
   "outputs": [
    {
     "name": "stdout",
     "output_type": "stream",
     "text": [
      "77  : 000001001101\n",
      "4018: 111110110010\n"
     ]
    }
   ],
   "source": [
    "sam_flag_to_bin(77)"
   ]
  },
  {
   "cell_type": "code",
   "execution_count": 62,
   "metadata": {},
   "outputs": [
    {
     "name": "stdout",
     "output_type": "stream",
     "text": [
      "00000100110\u001b[1m1\u001b[0m  1     read paired - template having multiple segments in sequencing\n",
      "000001001101  0   \n",
      "000001001\u001b[1m1\u001b[0m01  4     read unmapped - segment unmapped\n",
      "00000100\u001b[1m1\u001b[0m101  8     mate unmapped - next segment in the template unmapped\n",
      "000001001101  0   \n",
      "000001001101  0   \n",
      "00000\u001b[1m1\u001b[0m001101  64    first in pair - the first segment in the template\n",
      "000001001101  0   \n",
      "000001001101  0   \n",
      "000001001101  0   \n",
      "000001001101  0   \n",
      "000001001101  0   \n"
     ]
    },
    {
     "data": {
      "text/plain": [
       "'read paired - template having multiple segments in sequencing + read unmapped - segment unmapped + mate unmapped - next segment in the template unmapped + first in pair - the first segment in the template'"
      ]
     },
     "execution_count": 62,
     "metadata": {},
     "output_type": "execute_result"
    }
   ],
   "source": [
    "sam_flag_decoder(77)"
   ]
  },
  {
   "cell_type": "code",
   "execution_count": 60,
   "metadata": {},
   "outputs": [
    {
     "name": "stdout",
     "output_type": "stream",
     "text": [
      "00001000110\u001b[1m1\u001b[0m  1     read paired - template having multiple segments in sequencing\n",
      "000010001101  0   \n",
      "000010001\u001b[1m1\u001b[0m01  4     read unmapped - segment unmapped\n",
      "00001000\u001b[1m1\u001b[0m101  8     mate unmapped - next segment in the template unmapped\n",
      "000010001101  0   \n",
      "000010001101  0   \n",
      "000010001101  0   \n",
      "0000\u001b[1m1\u001b[0m0001101  128   second in pair - the last segment in the template\n",
      "000010001101  0   \n",
      "000010001101  0   \n",
      "000010001101  0   \n",
      "000010001101  0   \n"
     ]
    },
    {
     "data": {
      "text/plain": [
       "'read paired - template having multiple segments in sequencing + read unmapped - segment unmapped + mate unmapped - next segment in the template unmapped + second in pair - the last segment in the template'"
      ]
     },
     "execution_count": 60,
     "metadata": {},
     "output_type": "execute_result"
    }
   ],
   "source": [
    "sam_flag_decoder(141)"
   ]
  },
  {
   "cell_type": "code",
   "execution_count": 63,
   "metadata": {},
   "outputs": [
    {
     "name": "stdout",
     "output_type": "stream",
     "text": [
      "SRR5090597.3928639\t73\tNC_001526.4\t5\t60\t72M1I28M\t=\t5\t0\tCTGATCCTGCAGGTACCAATGGGGAAGAGGGTACGGGATGTAATGGATGGTTTTATGTAGAGGCTGTAGTGGAAAAAAAAAACAGGGGATGCTATATCAGA\tBBBFFFFFFFFFFFFIIIIIIIIIIFIFIIIBFIIIIBFFFFIIIIIIIIBFFFIIIFFIFIIFFFFFFBFFFBFBFBFFFF0<BBBF<BBFFFFFFFFFB\tNM:i:1\tMD:Z:100\tAS:i:93\tXS:i:0\n",
      "SRR5090597.1096535\t73\tNC_001526.4\t181\t60\t101M\t=\t181\t0\tCAGGCAGAAACAGAGACAGCACATGCGTTGTTTACTGCACAGGAAGCAAAACAACATAGAGATGCAGTACAGGTTCTAAAACGAAAGTATTTGGGTAGTCC\tBBBFFFFFFFFFFIIIIIIIFBFFFFIFIIIIIFIIIIIIIIIFIIIIIIIIIIIFIIIIIIFFFFFFFFFFFBFBBFFFFFFFFFFBBFFFFFFBBBBFF\tNM:i:0\tMD:Z:101\tAS:i:101\tXS:i:0\n",
      "SRR5090597.1309398\t73\tNC_001526.4\t224\t60\t101M\t=\t224\t0\tAAGCAAAACAACATAGAGATGCAGTACAGGTTCTAAAACGAAAGTATTTGGGTAGTCCACTTAGTGATATTAGTGGATGTGTAGACAATAATATTAGTCCT\tBBBFFFFFFFFFFFFFIIIIIIIIFFIIIIFIIIIIIIIIIIIIBFFFIFII0BBB<FFIIIIIFFFIIIFFF<BFFFFFFFBFFFFFFBBBFFFFFBBB<\tNM:i:0\tMD:Z:101\tAS:i:101\tXS:i:0\n",
      "SRR5090597.3466234\t73\tNC_001526.4\t1396\t60\t101M\t=\t1396\t0\tGGCATACCTAAAAAAAATTGCATATTACTATATGGTGCAGCTAACACAGGTAAATCATTATTTGGTATGAGTTTAATGAAATTTCTGCAAGGGTCTGTAAT\tBBBFFFFFFFFFFIIIIIIIIIIIIIFIIFIIIIIFFIIIIIIIIIIIIIFFIIIIIIIFIIIIFFFFFFFBBFFFBFFFFFFFFFFFFFFFFBBBBFFFF\tNM:i:0\tMD:Z:101\tAS:i:101\tXS:i:0\n",
      "SRR5090597.1000565\t73\tNC_001526.4\t1862\t60\t73M10S\t=\t1862\t0\tGTTTGCACGAGGACGAGGACAAGGAAAACGATGGAGACTCTTTGCCAACGTTTAAATGTGTGTCAGGACAAAAAAAAAAAAAA\tBBBFFFFFFFFFFIIFIIFFIIIIIIIFFIFFFIIIIIIIIIIIIIIIIIIFFFFFFFBFBFBFFFFFFFFFFFFBBFFFFFB\tNM:i:0\tMD:Z:73\tAS:i:73\tXS:i:0\n",
      "samtools view: error closing standard output: -1\n"
     ]
    }
   ],
   "source": [
    "!samtools view -@ 24 -f 73 -F 4022 $inputs_folder$srr_name-to-$donor_name\".bam\" | head -n 5"
   ]
  },
  {
   "cell_type": "code",
   "execution_count": 64,
   "metadata": {},
   "outputs": [
    {
     "name": "stdout",
     "output_type": "stream",
     "text": [
      "SRR5090597.3928639\t133\tNC_001526.4\t5\t0\t*\t=\t5\t0\tCTGTGTTAAAT\tBBBFFFFFFFF\tMC:Z:72M1I28M\tAS:i:0\tXS:i:0\n",
      "SRR5090597.1096535\t133\tNC_001526.4\t181\t0\t*\t=\t181\t0\tGCTTCCCTTGTACAGTACTGAGGCTTACAGTCATAGTTCTATTACTTGTAACTTTTACACAGGTCACTGGCATTCTTAGTGCTTCTCTTAACACTACAGTA\tBBBFFFFFFFFFFIIFIIIIIIIIIIIIIIFFFIIFFFFIIIIIIIIIFIFFIIIIIIFIIIIFFFFIIIIIIIIIIFIFFFFFFFFFFFFFFFFFFFBFF\tMC:Z:101M\tAS:i:0\tXS:i:0\n",
      "SRR5090597.1309398\t133\tNC_001526.4\t224\t0\t*\t=\t224\t0\tCTCGACGCCAGGGCGCCGGGCCTTGTGGGCTGTGCTGCACCTCGGACGGCTTCGCACCAGCCAGCGCCCTCTCTCTCCTGCAGCACTCTGATCTGCACCCC\t<BBFFFFFFFFFFFIIIIIIFIIIIIIIIIIFFFFFFFFFFFFFFBFBFB<<BFFFBFFB7BFFBFBFBBBFBFFFFFFFBFFBBB<BBBBB<B<BFB<0<\tMC:Z:101M\tAS:i:0\tXS:i:0\n",
      "SRR5090597.3466234\t133\tNC_001526.4\t1396\t0\t*\t=\t1396\t0\tTTTTTTTTTTTTTT\t<<<BBBBBBBBBBB\tMC:Z:101M\tAS:i:0\tXS:i:0\n",
      "SRR5090597.1000565\t133\tNC_001526.4\t1862\t0\t*\t=\t1862\t0\tCGGCCAGACTGGCCTCAAACTCCTGACCTCATGATCCCTCCACCTTGGCCTCCCAAAGTGCTGGGATTACAGGTGTGAGTCACCGTGCCTTTTTTTTTTTT\tBBBFFFFFFFFFFIIIIIIIIIIIIIIIIIIIIIIIIIIIIIIIIIIIIIFFIIIIIIIIIIIIIIFFFFFFFBBFFFBBFFFFFBBFFFFFFFFFFFFFF\tMC:Z:73M10S\tAS:i:0\tXS:i:0\n",
      "samtools view: error closing standard output: -1\n"
     ]
    }
   ],
   "source": [
    "!samtools view -@ 24 -f 133 -F 3962 $inputs_folder$srr_name-to-$donor_name\".bam\" | head -n 5"
   ]
  },
  {
   "cell_type": "code",
   "execution_count": 89,
   "metadata": {},
   "outputs": [
    {
     "name": "stdout",
     "output_type": "stream",
     "text": [
      "SRR5090597.1011981\t73\tNC_001526.4\t7571\t60\t101M\t=\t7571\t0\tATCAAGAACACGTAGAGAAACCCAGCTGTAATCATGCATGGAGATACACCTACATTGCATGAATATATGTTAGATTTGCAACCAGAGACAACTGATCTCTA\tBBBFFFFFFFFFFFIIIIIFIIIIIIIIIIIIIIIIIIIIIIIIIIIIIIIIIIIIIBFFFFFFIIIIFFIFIFFBFFFFFFBFFFFBBB<BFFBFFBBBB\tNM:i:0\tMD:Z:101\tAS:i:101\tXS:i:0\n",
      "SRR5090597.1011981\t133\tNC_001526.4\t7571\t0\t*\t=\t7571\t0\tTCGCCGTCGCTGAAAACATGGATCATCACTCGAGACAACGATTTCACATCGTCTTCGTTTTTGATGTCCAGTTTCCGAAGCATGCCTGCAGGATCAGCCAT\tBBBFFFFFFFFFFIIIIIIIFFFIIIIFIIFIBFFIIIFIIIIFIFIFFIBFFFFFFFFFFFFFFFFFBFBFBFFFFFBBBFBBBBBBBBBFB<'7<BBB<\tMC:Z:101M\tAS:i:0\tXS:i:0\n"
     ]
    }
   ],
   "source": [
    "!samtools view -@ 24 $inputs_folder$srr_name-to-$donor_name\".bam\" | grep 'SRR5090597.1011981\\s' | head -n 5"
   ]
  },
  {
   "cell_type": "code",
   "execution_count": 90,
   "metadata": {},
   "outputs": [
    {
     "name": "stdout",
     "output_type": "stream",
     "text": [
      "SRR5090597.1011981\t73\tNC_001526.4\t7571\t60\t101M\t=\t7571\t0\tATCAAGAACACGTAGAGAAACCCAGCTGTAATCATGCATGGAGATACACCTACATTGCATGAATATATGTTAGATTTGCAACCAGAGACAACTGATCTCTA\tBBBFFFFFFFFFFFIIIIIFIIIIIIIIIIIIIIIIIIIIIIIIIIIIIIIIIIIIIBFFFFFFIIIIFFIFIFFBFFFFFFBFFFFBBB<BFFBFFBBBB\tNM:i:0\tMD:Z:101\tAS:i:101\tXS:i:0\n",
      "SRR5090597.1011981\t133\tNC_001526.4\t7571\t0\t*\t=\t7571\t0\tTCGCCGTCGCTGAAAACATGGATCATCACTCGAGACAACGATTTCACATCGTCTTCGTTTTTGATGTCCAGTTTCCGAAGCATGCCTGCAGGATCAGCCAT\tBBBFFFFFFFFFFIIIIIIIFFFIIIIFIIFIBFFIIIFIIIIFIFIFFIBFFFFFFFFFFFFFFFFFBFBFBFFFFFBBBFBBBBBBBBBFB<'7<BBB<\tMC:Z:101M\tAS:i:0\tXS:i:0\n"
     ]
    }
   ],
   "source": [
    "!samtools view -@ 24 $inputs_folder$srr_name-to-$donor_name\"_MU.bam\" | grep 'SRR5090597.1011981\\s' | head -n 5"
   ]
  },
  {
   "cell_type": "code",
   "execution_count": 91,
   "metadata": {},
   "outputs": [
    {
     "name": "stdout",
     "output_type": "stream",
     "text": [
      "SRR5090597.1011981\t73\tNC_001526.4\t7571\t60\t101M\t=\t7571\t0\tATCAAGAACACGTAGAGAAACCCAGCTGTAATCATGCATGGAGATACACCTACATTGCATGAATATATGTTAGATTTGCAACCAGAGACAACTGATCTCTA\tBBBFFFFFFFFFFFIIIIIFIIIIIIIIIIIIIIIIIIIIIIIIIIIIIIIIIIIIIBFFFFFFIIIIFFIFIFFBFFFFFFBFFFFBBB<BFFBFFBBBB\tNM:i:0\tMD:Z:101\tAS:i:101\tXS:i:0\n",
      "SRR5090597.1011981\t133\tNC_001526.4\t7571\t0\t*\t=\t7571\t0\tTCGCCGTCGCTGAAAACATGGATCATCACTCGAGACAACGATTTCACATCGTCTTCGTTTTTGATGTCCAGTTTCCGAAGCATGCCTGCAGGATCAGCCAT\tBBBFFFFFFFFFFIIIIIIIFFFIIIIFIIFIBFFIIIFIIIIFIFIFFIBFFFFFFFFFFFFFFFFFBFBFBFFFFFBBBFBBBBBBBBBFB<'7<BBB<\tMC:Z:101M\tAS:i:0\tXS:i:0\n"
     ]
    }
   ],
   "source": [
    "!samtools view -@ 24 $inputs_folder$srr_name-to-$donor_name\".bam\" | grep SRR5090597.1011981"
   ]
  },
  {
   "cell_type": "markdown",
   "metadata": {},
   "source": [
    "## Checking STAR Alignment and BAM files"
   ]
  },
  {
   "cell_type": "code",
   "execution_count": 92,
   "metadata": {},
   "outputs": [],
   "source": [
    "srr_name=\"SRR5090597\"\n",
    "donor_name=\"hpv16\"\n",
    "recipient_name=\"USCShg38\"\n",
    "inputs_folder=\"../workflows/cromwell-final-outputs-star-hpv16/\""
   ]
  },
  {
   "cell_type": "code",
   "execution_count": 69,
   "metadata": {},
   "outputs": [
    {
     "name": "stdout",
     "output_type": "stream",
     "text": [
      "SRR5090597-to-hpv16\n",
      "SRR5090597-to-USCShg38\n"
     ]
    }
   ],
   "source": [
    "!echo $srr_name-to-$donor_name\n",
    "!echo $srr_name-to-$recipient_name"
   ]
  },
  {
   "cell_type": "code",
   "execution_count": 70,
   "metadata": {},
   "outputs": [],
   "source": [
    "# 3              MM\n",
    "# 73 and 133     MU\n",
    "# 69 nd 137      UM\n",
    "# 77 and 141     UU"
   ]
  },
  {
   "cell_type": "code",
   "execution_count": 71,
   "metadata": {},
   "outputs": [
    {
     "name": "stdout",
     "output_type": "stream",
     "text": [
      "83\n",
      "99\n",
      "147\n",
      "163\n",
      "339\n",
      "355\n",
      "403\n",
      "419\n"
     ]
    }
   ],
   "source": [
    "!samtools view -@ 24 -f 3 $inputs_folder$srr_name-to-$donor_name\".bam\" | cut -f2 | sort -n | uniq"
   ]
  },
  {
   "cell_type": "code",
   "execution_count": 72,
   "metadata": {},
   "outputs": [
    {
     "name": "stdout",
     "output_type": "stream",
     "text": [
      "83\n",
      "99\n",
      "147\n",
      "163\n",
      "339\n",
      "355\n",
      "403\n",
      "419\n"
     ]
    }
   ],
   "source": [
    "!samtools view -@ 24 -f 3 -F 2048 $inputs_folder$srr_name-to-$donor_name\".bam\" | cut -f2 | sort -n | uniq"
   ]
  },
  {
   "cell_type": "code",
   "execution_count": 112,
   "metadata": {},
   "outputs": [
    {
     "name": "stdout",
     "output_type": "stream",
     "text": [
      "73\n",
      "77\n",
      "89\n"
     ]
    }
   ],
   "source": [
    "!samtools view -@ 24 -f 73 $inputs_folder$srr_name-to-$donor_name\".bam\" | cut -f2 | sort -n | uniq"
   ]
  },
  {
   "cell_type": "code",
   "execution_count": 74,
   "metadata": {},
   "outputs": [
    {
     "name": "stdout",
     "output_type": "stream",
     "text": [
      "133\n",
      "141\n",
      "165\n"
     ]
    }
   ],
   "source": [
    "!samtools view -@ 24 -f 133 $inputs_folder$srr_name-to-$donor_name\".bam\" | cut -f2 | sort -n | uniq"
   ]
  },
  {
   "cell_type": "code",
   "execution_count": 75,
   "metadata": {},
   "outputs": [
    {
     "name": "stdout",
     "output_type": "stream",
     "text": [
      "SRR5090597.3928639\t73\tNC_001526.4\t5\t255\t81M1I19M\t*\t0\t0\tCTGATCCTGCAGGTACCAATGGGGAAGAGGGTACGGGATGTAATGGATGGTTTTATGTAGAGGCTGTAGTGGAAAAAAAAAACAGGGGATGCTATATCAGA\tBBBFFFFFFFFFFFFIIIIIIIIIIFIFIIIBFIIIIBFFFFIIIIIIIIBFFFIIIFFIFIIFFFFFFBFFFBFBFBFFFF0<BBBF<BBFFFFFFFFFB\tNH:i:1\tHI:i:1\tAS:i:94\tnM:i:0\tNM:i:1\tMD:Z:100\tjM:B:c,-1\tjI:B:i,-1\n",
      "SRR5090597.4449673\t89\tNC_001526.4\t57\t255\t30M\t*\t0\t0\tTTATGTAGAGGCTGTAGTGGAAAAAAAAAC\tBBFBFBIIFIFFBFBIIFFFFFFFFFFBBB\tNH:i:1\tHI:i:1\tAS:i:29\tnM:i:0\tNM:i:0\tMD:Z:30\tjM:B:c,-1\tjI:B:i,-1\n",
      "SRR5090597.3466234\t73\tNC_001526.4\t1396\t255\t101M\t*\t0\t0\tGGCATACCTAAAAAAAATTGCATATTACTATATGGTGCAGCTAACACAGGTAAATCATTATTTGGTATGAGTTTAATGAAATTTCTGCAAGGGTCTGTAAT\tBBBFFFFFFFFFFIIIIIIIIIIIIIFIIFIIIIIFFIIIIIIIIIIIIIFFIIIIIIIFIIIIFFFFFFFBBFFFBFFFFFFFFFFFFFFFFBBBBFFFF\tNH:i:1\tHI:i:1\tAS:i:99\tnM:i:0\tNM:i:0\tMD:Z:101\tjM:B:c,-1\tjI:B:i,-1\n",
      "SRR5090597.1879149\t89\tNC_001526.4\t2550\t255\t94M\t*\t0\t0\tCCGCGACCCATACCAAAGCCGTCGCCTTGGGCACCGAAGAAACACAGACGACTATCCAGCGACCAAGATCAGAGCCAGACACCGGAAACCCCTG\tBBB7BBBBBBBBBBBBB<7<B<<BBBBBB<0<0FFFFFFB77<7FFBFFFFFB0B<B<BFB<FFFB<F<IIIFFBFBB'7FFFBFBFF<BFB<B\tNH:i:1\tHI:i:1\tAS:i:92\tnM:i:0\tNM:i:0\tMD:Z:94\tjM:B:c,-1\tjI:B:i,-1\n",
      "SRR5090597.5471618\t73\tNC_001526.4\t5254\t255\t41M\t*\t0\t0\tTTGCAAACCACCTATAGGGGAACACTGGGGCAAAGGATCCC\t<<<BFBBF7BBBFB<FFBB'BB<B7BBBFBFF<F<07B<'7\tNH:i:1\tHI:i:1\tAS:i:40\tnM:i:0\tNM:i:0\tMD:Z:41\tjM:B:c,-1\tjI:B:i,-1\n",
      "samtools view: writing to standard output failed: No such file or directory\n",
      "samtools view: error closing standard output: -1\n"
     ]
    }
   ],
   "source": [
    "!samtools view -@ 24 -f 73 $inputs_folder$srr_name-to-$donor_name\".bam\" | head -n 5"
   ]
  },
  {
   "cell_type": "code",
   "execution_count": 76,
   "metadata": {},
   "outputs": [
    {
     "name": "stdout",
     "output_type": "stream",
     "text": [
      "SRR5090597.1\t141\t*\t0\t0\t*\t*\t0\t0\tAGAAGATCAAAGACGCCAGGAAAGGTCCCCTGGTACCTTTTCCAAACCAAAAATCTGAAGCAGCAGAACCTCCAAAAACTCCACCCTCATCTTGTGATTCC\t7<<BFFFFFFFFFIIIIIIIIIIIIFFIIIIIIFFIIIIIIIIIIIIIIIFFIIIIIIIIIIFFFFFFFFFFFFFFFFFFFFFFFFFFFFFFFFFFFFFFB\tNH:i:0\tHI:i:0\tAS:i:0\tnM:i:0\tuT:A:0\n",
      "SRR5090597.2\t141\t*\t0\t0\t*\t*\t0\t0\tTCTCTCTTCTTCCTGGCATCTCTCTTCATGTTGCTAGGCTCTTGGTGAATTTGTCCTGCCTCTGTTCCTCCACAGCTCCGGCTCCTGTATGAATGCAATCC\tBBBFFFFFFFFFFIIIIIIIIIIIFIIIIFFFFIIIIIIFFIFFFBFFFFFFIFFIIFFIIFBFFFBFFFIIIFFFI<<FFFFBBBBBBFF<<<0B<7<B7\tNH:i:0\tHI:i:0\tAS:i:0\tnM:i:0\tuT:A:0\n",
      "SRR5090597.3\t141\t*\t0\t0\t*\t*\t0\t0\tCCACAGCCAAGGAGTTTGCAGACTCTCTGGGCATCCCCTTCTTGGAGACGAGCGCCAAGAATGCCACCAATGTCGAGCAGGCGTTCATGACCATGGCTGC\t<BBFFFFFFFFFFFFIIIIIIIIIIIIIIIIIIIIIIIIIFIIIIIIFIIIFFFIFFFFFFFFBBBFFFFFFFFFBFFFBBFFBBBBFFF<<<BBBBBB7\tNH:i:0\tHI:i:0\tAS:i:0\tnM:i:0\tuT:A:0\n",
      "SRR5090597.4\t141\t*\t0\t0\t*\t*\t0\t0\tGAGATTTGCAGGGAATTTTTGTGTTTTTGTCAATAGTCATTGACTCTTCAGTGTGACCTGGTGCTGAGAAGAGCTCTTTGAAGTCAACCAGGTCTTCTAGA\tBBBFFFFFFFFFFIIIIIIIIFFIIIIIIIIIIIIIIIIIIIIIIIIIIIFIIIIIIIIIIIIIIIIFIIIIFFFFFFFFFBFFFFFFFFFFBBFFFFFBB\tNH:i:0\tHI:i:0\tAS:i:0\tnM:i:0\tuT:A:0\n",
      "SRR5090597.5\t141\t*\t0\t0\t*\t*\t0\t0\tTCTTGGCCCATCGTGTGGCTGCCCATTTTGTATTGATGTCTGCCTTCTGCCAGGCTTGTCGGACATACTTCTGGTGGGCACTGTGCGGAAACTTGAGGATG\tBBBFFFFFFFFFFFIFFIIIIIII<FFIIFFFFFBBIIIFIFIIIIIFFIFBFFFFFFFFII7<7BBFFFFFBB<<BBBBBBBBBBB<07BBBB00<B07B\tNH:i:0\tHI:i:0\tAS:i:0\tnM:i:0\tuT:A:0\n",
      "samtools view: writing to standard output failed: No such file or directory\n",
      "samtools view: error closing standard output: -1\n"
     ]
    }
   ],
   "source": [
    "!samtools view -@ 24 -f 133 $inputs_folder$srr_name-to-$donor_name\".bam\" | head -n 5"
   ]
  },
  {
   "cell_type": "code",
   "execution_count": null,
   "metadata": {},
   "outputs": [],
   "source": [
    "sam_flag_to_bin(73)"
   ]
  },
  {
   "cell_type": "code",
   "execution_count": null,
   "metadata": {},
   "outputs": [],
   "source": [
    "sam_flag_to_bin(77)"
   ]
  },
  {
   "cell_type": "code",
   "execution_count": null,
   "metadata": {},
   "outputs": [],
   "source": [
    "sam_flag_decoder(77)"
   ]
  },
  {
   "cell_type": "code",
   "execution_count": null,
   "metadata": {},
   "outputs": [],
   "source": [
    "sam_flag_decoder(141)"
   ]
  },
  {
   "cell_type": "code",
   "execution_count": 77,
   "metadata": {},
   "outputs": [
    {
     "name": "stdout",
     "output_type": "stream",
     "text": [
      "SRR5090597.3928639\t73\tNC_001526.4\t5\t255\t81M1I19M\t*\t0\t0\tCTGATCCTGCAGGTACCAATGGGGAAGAGGGTACGGGATGTAATGGATGGTTTTATGTAGAGGCTGTAGTGGAAAAAAAAAACAGGGGATGCTATATCAGA\tBBBFFFFFFFFFFFFIIIIIIIIIIFIFIIIBFIIIIBFFFFIIIIIIIIBFFFIIIFFIFIIFFFFFFBFFFBFBFBFFFF0<BBBF<BBFFFFFFFFFB\tNH:i:1\tHI:i:1\tAS:i:94\tnM:i:0\tNM:i:1\tMD:Z:100\tjM:B:c,-1\tjI:B:i,-1\n",
      "SRR5090597.3466234\t73\tNC_001526.4\t1396\t255\t101M\t*\t0\t0\tGGCATACCTAAAAAAAATTGCATATTACTATATGGTGCAGCTAACACAGGTAAATCATTATTTGGTATGAGTTTAATGAAATTTCTGCAAGGGTCTGTAAT\tBBBFFFFFFFFFFIIIIIIIIIIIIIFIIFIIIIIFFIIIIIIIIIIIIIFFIIIIIIIFIIIIFFFFFFFBBFFFBFFFFFFFFFFFFFFFFBBBBFFFF\tNH:i:1\tHI:i:1\tAS:i:99\tnM:i:0\tNM:i:0\tMD:Z:101\tjM:B:c,-1\tjI:B:i,-1\n",
      "SRR5090597.5471618\t73\tNC_001526.4\t5254\t255\t41M\t*\t0\t0\tTTGCAAACCACCTATAGGGGAACACTGGGGCAAAGGATCCC\t<<<BFBBF7BBBFB<FFBB'BB<B7BBBFBFF<F<07B<'7\tNH:i:1\tHI:i:1\tAS:i:40\tnM:i:0\tNM:i:0\tMD:Z:41\tjM:B:c,-1\tjI:B:i,-1\n",
      "SRR5090597.2529254\t73\tNC_001526.4\t7151\t255\t101M\t*\t0\t0\tTCAGGACCCACAGGAGCGACCCAGAAAGTTACCACAGTTATGCACAGAGCTGCAAACAACTATACATGATATAATATTAGAATGTGTGTACTGCAAGCAAC\tBBBFFFFFFFFFFB<BFFFFIBFFIFF<BBFFFBFFFBFFFBFFFFFFFFIFFIFF<BFF0B<BFFBB<<BFBFB<<<'<BBBB0<B77BBFBBB0<BBBB\tNH:i:1\tHI:i:1\tAS:i:99\tnM:i:0\tNM:i:0\tMD:Z:101\tjM:B:c,-1\tjI:B:i,-1\n",
      "SRR5090597.4377254\t73\tNC_001526.4\t7157\t255\t81M\t*\t0\t0\tCCCACAGGAGCGACCCAGAAAGTTACCACAGTTATGCACAGAGCTGCAAACAACTATACATGATATAATATTAGAATGTGT\tBBBFFFBFF<FFFFIFFFFFFFFFFFBFFFFFFF077BFF0BFF<BFFFFBFFF<BFF<B<<<BBFFFBFBFBBBBF<<B7\tNH:i:1\tHI:i:1\tAS:i:79\tnM:i:0\tNM:i:0\tMD:Z:81\tjM:B:c,-1\tjI:B:i,-1\n"
     ]
    }
   ],
   "source": [
    "!samtools view -@ 24 -f 73 -F 4022 $inputs_folder$srr_name-to-$donor_name\".bam\" | head -n 5"
   ]
  },
  {
   "cell_type": "code",
   "execution_count": 78,
   "metadata": {},
   "outputs": [
    {
     "name": "stdout",
     "output_type": "stream",
     "text": [
      "SRR5090597.28099\t133\t*\t0\t0\t*\tNC_001526.4\t7712\t0\tGTGTTTCTTCGGTGCCCAAGGCGACGGCTTTGGTATGGGTCGCGGCGGGG\tBBBFFFFFFFFFFFFIIIIII<FFIIIIIIIFIBBFIIIFFFFFFFFFFF\tNH:i:0\tHI:i:0\tAS:i:99\tnM:i:0\tuT:A:4\n",
      "SRR5090597.34386\t133\t*\t0\t0\t*\tNC_001526.4\t7164\t0\tCTGTGTTTCTTCGGTGCCCAAGGCGACGGCTTTGGTATGGGTCGC\tBBBFFFFFFFFFFIFFIIIIFIIIIFFIIIIIIIIIIIIIIFIFF\tNH:i:0\tHI:i:0\tAS:i:99\tnM:i:0\tuT:A:4\n",
      "SRR5090597.2841958\t133\t*\t0\t0\t*\tNC_001526.4\t7784\t0\tTGGTGGTGGCGGTG\t'<<<<BB<B00B<7\tNH:i:0\tHI:i:0\tAS:i:99\tnM:i:0\tuT:A:4\n",
      "SRR5090597.239499\t133\t*\t0\t0\t*\tNC_001526.4\t7615\t0\tCTTCGGTGCCCAAGGCGACGGCTTTGGTATGGGTCGCGGCGGGGGG\tBBBFFFFFFFFFFII<FFIIIIIIIIIFFFIIIBBFIFFBFFB<'7\tNH:i:0\tHI:i:0\tAS:i:99\tnM:i:0\tuT:A:4\n",
      "SRR5090597.263144\t133\t*\t0\t0\t*\tNC_001526.4\t7591\t0\tCCCGTTTTGTCCTTACGAGAACGTCTGTGATACTTTCTGCTAATG\tBBBFFFFFF<F0B<FFFFFFFBFBFFIFF<BBBB<FFFIFFIF0B\tNH:i:0\tHI:i:0\tAS:i:99\tnM:i:0\tuT:A:4\n"
     ]
    }
   ],
   "source": [
    "!samtools view -@ 24 -f 133 -F 3962 $inputs_folder$srr_name-to-$donor_name\".bam\" | head -n 5"
   ]
  },
  {
   "cell_type": "code",
   "execution_count": null,
   "metadata": {},
   "outputs": [],
   "source": []
  },
  {
   "cell_type": "code",
   "execution_count": 93,
   "metadata": {},
   "outputs": [
    {
     "name": "stdout",
     "output_type": "stream",
     "text": [
      "SRR5090597.1011981\t77\t*\t0\t0\t*\t*\t0\t0\tATCAAGAACACGTAGAGAAACCCAGCTGTAATCATGCATGGAGATACACCTACATTGCATGAATATATGTTAGATTTGCAACCAGAGACAACTGATCTCTA\tBBBFFFFFFFFFFFIIIIIFIIIIIIIIIIIIIIIIIIIIIIIIIIIIIIIIIIIIIBFFFFFFIIIIFFIFIFFBFFFFFFBFFFFBBB<BFFBFFBBBB\tNH:i:0\tHI:i:0\tAS:i:106\tnM:i:0\tuT:A:1\n",
      "SRR5090597.1011981\t141\t*\t0\t0\t*\t*\t0\t0\tTCGCCGTCGCTGAAAACATGGATCATCACTCGAGACAACGATTTCACATCGTCTTCGTTTTTGATGTCCAGTTTCCGAAGCATGCCTGCAGGATCAGCCAT\tBBBFFFFFFFFFFIIIIIIIFFFIIIIFIIFIBFFIIIFIIIIFIFIFFIBFFFFFFFFFFFFFFFFFBFBFBFFFFFBBBFBBBBBBBBBFB<'7<BBB<\tNH:i:0\tHI:i:0\tAS:i:106\tnM:i:0\tuT:A:1\n"
     ]
    }
   ],
   "source": [
    "!samtools view -@ 24 $inputs_folder$srr_name-to-$donor_name\".bam\" | grep 'SRR5090597.1011981\\s' | head -n 5"
   ]
  },
  {
   "cell_type": "code",
   "execution_count": 94,
   "metadata": {},
   "outputs": [],
   "source": [
    "!samtools view -@ 24 $inputs_folder$srr_name-to-$donor_name\"_MU.bam\" | grep 'SRR5090597.1011981\\s' | head -n 5"
   ]
  },
  {
   "cell_type": "code",
   "execution_count": null,
   "metadata": {},
   "outputs": [],
   "source": []
  },
  {
   "cell_type": "code",
   "execution_count": 95,
   "metadata": {},
   "outputs": [
    {
     "name": "stdout",
     "output_type": "stream",
     "text": [
      "SRR5090597.1011981\t77\t*\t0\t0\t*\t*\t0\t0\tATCAAGAACACGTAGAGAAACCCAGCTGTAATCATGCATGGAGATACACCTACATTGCATGAATATATGTTAGATTTGCAACCAGAGACAACTGATCTCTA\tBBBFFFFFFFFFFFIIIIIFIIIIIIIIIIIIIIIIIIIIIIIIIIIIIIIIIIIIIBFFFFFFIIIIFFIFIFFBFFFFFFBFFFFBBB<BFFBFFBBBB\tNH:i:0\tHI:i:0\tAS:i:106\tnM:i:0\tuT:A:1\n",
      "SRR5090597.1011981\t141\t*\t0\t0\t*\t*\t0\t0\tTCGCCGTCGCTGAAAACATGGATCATCACTCGAGACAACGATTTCACATCGTCTTCGTTTTTGATGTCCAGTTTCCGAAGCATGCCTGCAGGATCAGCCAT\tBBBFFFFFFFFFFIIIIIIIFFFIIIIFIIFIBFFIIIFIIIIFIFIFFIBFFFFFFFFFFFFFFFFFBFBFBFFFFFBBBFBBBBBBBBBFB<'7<BBB<\tNH:i:0\tHI:i:0\tAS:i:106\tnM:i:0\tuT:A:1\n"
     ]
    }
   ],
   "source": [
    "!samtools view -@ 24 $inputs_folder$srr_name-to-$donor_name\".bam\" | grep SRR5090597.1011981"
   ]
  },
  {
   "cell_type": "code",
   "execution_count": 108,
   "metadata": {},
   "outputs": [
    {
     "name": "stdout",
     "output_type": "stream",
     "text": [
      "SRR5090597.1011981\t77\t*\t0\t0\t*\t*\t0\t0\tATCAAGAACACGTAGAGAAACCCAGCTGTAATCATGCATGGAGATACACCTACATTGCATGAATATATGTTAGATTTGCAACCAGAGACAACTGATCTCTA\tBBBFFFFFFFFFFFIIIIIFIIIIIIIIIIIIIIIIIIIIIIIIIIIIIIIIIIIIIBFFFFFFIIIIFFIFIFFBFFFFFFBFFFFBBB<BFFBFFBBBB\tNH:i:0\tHI:i:0\tAS:i:106\tnM:i:0\tuT:A:1\n"
     ]
    }
   ],
   "source": [
    "!samtools view -@ 24 -f 73 $inputs_folder$srr_name-to-$donor_name\".bam\" | grep 'SRR5090597.1011981\\s' | head -n 5 "
   ]
  },
  {
   "cell_type": "code",
   "execution_count": 109,
   "metadata": {},
   "outputs": [
    {
     "name": "stdout",
     "output_type": "stream",
     "text": [
      "SRR5090597.1011981\t141\t*\t0\t0\t*\t*\t0\t0\tTCGCCGTCGCTGAAAACATGGATCATCACTCGAGACAACGATTTCACATCGTCTTCGTTTTTGATGTCCAGTTTCCGAAGCATGCCTGCAGGATCAGCCAT\tBBBFFFFFFFFFFIIIIIIIFFFIIIIFIIFIBFFIIIFIIIIFIFIFFIBFFFFFFFFFFFFFFFFFBFBFBFFFFFBBBFBBBBBBBBBFB<'7<BBB<\tNH:i:0\tHI:i:0\tAS:i:106\tnM:i:0\tuT:A:1\n"
     ]
    }
   ],
   "source": [
    "!samtools view -@ 24 -f 133 $inputs_folder$srr_name-to-$donor_name\".bam\" | grep 'SRR5090597.1011981\\s' | head -n 5 "
   ]
  },
  {
   "cell_type": "code",
   "execution_count": 110,
   "metadata": {},
   "outputs": [],
   "source": [
    "!samtools view -@ 24 -f 73 -F 4022 $inputs_folder$srr_name-to-$donor_name\".bam\" | grep 'SRR5090597.1011981\\s' | head -n 5 "
   ]
  },
  {
   "cell_type": "code",
   "execution_count": 111,
   "metadata": {},
   "outputs": [],
   "source": [
    "!samtools view -@ 24 -f 133 -F 3962 $inputs_folder$srr_name-to-$donor_name\".bam\" | grep 'SRR5090597.1011981\\s' | head -n 5 "
   ]
  },
  {
   "cell_type": "code",
   "execution_count": null,
   "metadata": {},
   "outputs": [],
   "source": []
  },
  {
   "cell_type": "code",
   "execution_count": null,
   "metadata": {},
   "outputs": [],
   "source": []
  },
  {
   "cell_type": "code",
   "execution_count": null,
   "metadata": {},
   "outputs": [],
   "source": [
    "In BWA\n",
    "SRR5090597.1011981\t73    MU\n",
    "SRR5090597.1011981\t133   MU\n",
    "\n",
    "In STAR\n",
    "SRR5090597.1011981\t77    UU\n",
    "SRR5090597.1011981\t141   UU"
   ]
  },
  {
   "cell_type": "code",
   "execution_count": 116,
   "metadata": {},
   "outputs": [
    {
     "name": "stdout",
     "output_type": "stream",
     "text": [
      "00000100100\u001b[1m1\u001b[0m  1     read paired - template having multiple segments in sequencing\n",
      "000001001001  0   \n",
      "000001001001  0   \n",
      "00000100\u001b[1m1\u001b[0m001  8     mate unmapped - next segment in the template unmapped\n",
      "000001001001  0   \n",
      "000001001001  0   \n",
      "00000\u001b[1m1\u001b[0m001001  64    first in pair - the first segment in the template\n",
      "000001001001  0   \n",
      "000001001001  0   \n",
      "000001001001  0   \n",
      "000001001001  0   \n",
      "000001001001  0   \n"
     ]
    },
    {
     "data": {
      "text/plain": [
       "'read paired - template having multiple segments in sequencing + mate unmapped - next segment in the template unmapped + first in pair - the first segment in the template'"
      ]
     },
     "execution_count": 116,
     "metadata": {},
     "output_type": "execute_result"
    }
   ],
   "source": [
    "sam_flag_decoder(73)"
   ]
  },
  {
   "cell_type": "code",
   "execution_count": 117,
   "metadata": {},
   "outputs": [
    {
     "name": "stdout",
     "output_type": "stream",
     "text": [
      "00000100110\u001b[1m1\u001b[0m  1     read paired - template having multiple segments in sequencing\n",
      "000001001101  0   \n",
      "000001001\u001b[1m1\u001b[0m01  4     read unmapped - segment unmapped\n",
      "00000100\u001b[1m1\u001b[0m101  8     mate unmapped - next segment in the template unmapped\n",
      "000001001101  0   \n",
      "000001001101  0   \n",
      "00000\u001b[1m1\u001b[0m001101  64    first in pair - the first segment in the template\n",
      "000001001101  0   \n",
      "000001001101  0   \n",
      "000001001101  0   \n",
      "000001001101  0   \n",
      "000001001101  0   \n"
     ]
    },
    {
     "data": {
      "text/plain": [
       "'read paired - template having multiple segments in sequencing + read unmapped - segment unmapped + mate unmapped - next segment in the template unmapped + first in pair - the first segment in the template'"
      ]
     },
     "execution_count": 117,
     "metadata": {},
     "output_type": "execute_result"
    }
   ],
   "source": [
    "sam_flag_decoder(77)"
   ]
  },
  {
   "cell_type": "code",
   "execution_count": null,
   "metadata": {},
   "outputs": [],
   "source": []
  },
  {
   "cell_type": "code",
   "execution_count": null,
   "metadata": {},
   "outputs": [],
   "source": []
  },
  {
   "cell_type": "code",
   "execution_count": null,
   "metadata": {},
   "outputs": [],
   "source": []
  },
  {
   "cell_type": "code",
   "execution_count": 136,
   "metadata": {},
   "outputs": [],
   "source": [
    "srr_name=\"SRR5090597\"\n",
    "donor_name=\"hpv16\"\n",
    "recipient_name=\"USCShg38\"\n",
    "inputs_folder=\"../workflows/cromwell-final-outputs-bwa-hpv16/\""
   ]
  },
  {
   "cell_type": "code",
   "execution_count": 137,
   "metadata": {},
   "outputs": [
    {
     "name": "stdout",
     "output_type": "stream",
     "text": [
      "9574\n"
     ]
    }
   ],
   "source": [
    "!samtools view -@ 24 -c -f 3 -F 2048 $inputs_folder$srr_name-to-$donor_name\".bam\" "
   ]
  },
  {
   "cell_type": "code",
   "execution_count": 138,
   "metadata": {},
   "outputs": [
    {
     "name": "stdout",
     "output_type": "stream",
     "text": [
      "[E::hts_open_format] Failed to open file \"../workflows/cromwell-final-outputs-bwa-hpv16/SRR5090597-to-USCShg38.bam\" : No such file or directory\n",
      "samtools view: failed to open \"../workflows/cromwell-final-outputs-bwa-hpv16/SRR5090597-to-USCShg38.bam\" for reading: No such file or directory\n"
     ]
    }
   ],
   "source": [
    "!samtools view -@ 24 -c -f 3 -F 2048 $inputs_folder$srr_name-to-$recipient_name\".bam\" "
   ]
  },
  {
   "cell_type": "code",
   "execution_count": 139,
   "metadata": {},
   "outputs": [],
   "source": [
    "srr_name=\"SRR5090597\"\n",
    "donor_name=\"hpv16\"\n",
    "recipient_name=\"USCShg38\"\n",
    "inputs_folder=\"../workflows/cromwell-final-outputs-star-hpv16/\""
   ]
  },
  {
   "cell_type": "code",
   "execution_count": 140,
   "metadata": {},
   "outputs": [
    {
     "name": "stdout",
     "output_type": "stream",
     "text": [
      "8738\n"
     ]
    }
   ],
   "source": [
    "!samtools view -@ 24 -c -f 3 -F 2048 $inputs_folder$srr_name-to-$donor_name\".bam\" "
   ]
  },
  {
   "cell_type": "code",
   "execution_count": 141,
   "metadata": {},
   "outputs": [
    {
     "ename": "SyntaxError",
     "evalue": "invalid syntax (<ipython-input-141-5a3e7815ed0c>, line 1)",
     "output_type": "error",
     "traceback": [
      "\u001b[0;36m  File \u001b[0;32m\"<ipython-input-141-5a3e7815ed0c>\"\u001b[0;36m, line \u001b[0;32m1\u001b[0m\n\u001b[0;31m    S!samtools view -@ 24 -c -f 3 -F 2048 $inputs_folder$srr_name-to-$recipient_name\".bam\"\u001b[0m\n\u001b[0m     ^\u001b[0m\n\u001b[0;31mSyntaxError\u001b[0m\u001b[0;31m:\u001b[0m invalid syntax\n"
     ]
    }
   ],
   "source": [
    "S!samtools view -@ 24 -c -f 3 -F 2048 $inputs_folder$srr_name-to-$recipient_name\".bam\" "
   ]
  },
  {
   "cell_type": "code",
   "execution_count": null,
   "metadata": {},
   "outputs": [],
   "source": []
  },
  {
   "cell_type": "code",
   "execution_count": null,
   "metadata": {},
   "outputs": [],
   "source": []
  }
 ],
 "metadata": {
  "kernelspec": {
   "display_name": "Python 3",
   "language": "python",
   "name": "python3"
  },
  "language_info": {
   "codemirror_mode": {
    "name": "ipython",
    "version": 3
   },
   "file_extension": ".py",
   "mimetype": "text/x-python",
   "name": "python",
   "nbconvert_exporter": "python",
   "pygments_lexer": "ipython3",
   "version": "3.8.6"
  }
 },
 "nbformat": 4,
 "nbformat_minor": 4
}
