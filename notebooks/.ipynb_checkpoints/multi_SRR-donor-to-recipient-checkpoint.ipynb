{
 "cells": [
  {
   "cell_type": "code",
   "execution_count": 5,
   "metadata": {},
   "outputs": [],
   "source": [
    "## Variables"
   ]
  },
  {
   "cell_type": "code",
   "execution_count": 217,
   "metadata": {
    "tags": [
     "parameters"
    ]
   },
   "outputs": [],
   "source": [
    "srr_names <- c(\"SRR5090597\", \"SRR5090599\")\n",
    "srr_names <- c(\"SRR12091998\", \"SRR12091997\", \"SRR12091996\", \"SRR12091995\", \"SRR12091994\", \"SRR12091993\")\n",
    "donor_name <- \"hpv16\"\n",
    "donor_name <- \"sars-cov-2\"\n",
    "recipient_name <- \"USCShg38\"\n",
    "inputs_folder <- \"../../wallaby/workflows/cromwell-final-outputs/\"\n",
    "inputs_folder <- \"../../wallaby/workflows/datasets/sars-cov-2/\"\n",
    "donor_ref_genome <- \"../../wallaby/data/ref_genomes/hpv/HPV16.fasta\"\n",
    "recipient_ref_genome <- \"../../wallaby/data/ref_genomes/human/USCS.hg38.fasta\""
   ]
  },
  {
   "cell_type": "code",
   "execution_count": null,
   "metadata": {},
   "outputs": [],
   "source": [
    ", \"SRR12091992\", \"SRR12091991\", \n",
    "\"SRR12091990\", \"SRR12507513\", \"SRR12507514\", \"SRR12507515\", \"SRR12507516\", \"SRR12507517\", \"SRR12507518\", \"SRR12507519\", \n",
    "\"SRR12507520\", \"SRR12507521\", \"SRR12507522\", \"SRR12507523\", \"SRR12507524\", \"SRR12507525\", \"SRR12507526\", \"SRR12507527\", \n",
    "\"SRR12507528\", \"SRR12507529\", \"SRR12507530\", \"SRR12507531\", \"SRR12507532\", \"SRR12507533\", \"SRR12507534\", \"SRR12507535\", \n",
    "\"SRR12507536\", \"SRR12507537\", \"SRR12507538\", \"SRR12507539\", \"SRR12507540\", \"SRR12507541\", \"SRR12507542\", \"SRR12507543\", \n",
    "\"SRR12507544\", \"SRR12507545\", \"SRR12507546\", \"SRR12507547\", \"SRR12507548\", \"SRR12507549\", \"SRR12507550\", \"SRR12507551\", \n",
    "\"SRR12507552\", \"SRR12134528\", \"SRR12134529\", \"SRR12134530\", \"SRR12134531\", \"SRR12134532\", \"SRR12134533\", \"SRR12134534\", \n",
    "\"SRR12134535\", \"SRR12134536\", \"SRR12134537\", \"SRR12134538\", \"SRR12134539\", \"SRR12134540\", \"SRR12134541\", \"SRR12134542\", \n",
    "\"SRR12134543\", \"SRR12134544\", \"SRR12134545\""
   ]
  },
  {
   "cell_type": "markdown",
   "metadata": {},
   "source": [
    "# Tertiary analysis of a Donor-to-Recipient pipeline"
   ]
  },
  {
   "cell_type": "code",
   "execution_count": 689,
   "metadata": {},
   "outputs": [],
   "source": [
    "## Setup Environment"
   ]
  },
  {
   "cell_type": "code",
   "execution_count": 8,
   "metadata": {},
   "outputs": [],
   "source": [
    "# Enable multithreading when possible (library dependent)\n",
    "options(Ncpus = parallel::detectCores())\n",
    "Sys.setenv(OMP_NUM_THREADS=toString(parallel::detectCores()))\n",
    "Sys.setenv(OMP_THREAD_LIMIT=toString(parallel::detectCores()))\n",
    "Sys.setenv(OMP_NUM_THREADS=parallel::detectCores())\n",
    "Sys.setenv(OMP_THREAD_LIMIT=parallel::detectCores())\n",
    "\n",
    "# Install tricky packages\n",
    "suppressMessages(install.packages(\"../../BSgenome.Hsapiens.UCSC.hg38_1.4.3.tar.gz\", repos = NULL, type = \"source\"))\n",
    "suppressPackageStartupMessages(library(BSgenome.Hsapiens.UCSC.hg38))\n",
    "\n",
    "## Load or install and load all libraries\n",
    "suppressPackageStartupMessages(library(\"pacman\", character.only = TRUE))\n",
    "\n",
    "# List of CRAN packages to either Load, or Install and Load\n",
    "pacman::p_load(dplyr, \n",
    "               ggplot2, shiny, shinyLP, DT,  ggrepel,  tidyr, data.table, \n",
    "               kableExtra, knitr, IRdisplay)\n",
    "\n",
    "# List of Bioconductor packages to either Load, or Install and Load\n",
    "pacman::p_load(GenomicFeatures, GenomicAlignments,  Rsubread,  Rsamtools, bamsignals,  \n",
    "               rtracklayer, GenomicRanges, org.Hs.eg.db, Organism.dplyr,\n",
    "               TxDb.Hsapiens.UCSC.hg38.knownGene,  regioneR, karyoploteR,  seqinr, Repitools, Gviz, Biostrings)"
   ]
  },
  {
   "cell_type": "code",
   "execution_count": 691,
   "metadata": {},
   "outputs": [],
   "source": [
    "## Helper Functions"
   ]
  },
  {
   "cell_type": "code",
   "execution_count": 692,
   "metadata": {},
   "outputs": [],
   "source": [
    "## Loading pipeline output files\n",
    "# Try to open all files - note that some will not exists as that specific crossing bucket did not return any matches"
   ]
  },
  {
   "cell_type": "code",
   "execution_count": 209,
   "metadata": {},
   "outputs": [],
   "source": [
    "srrs <- list()\n",
    "beds_donor <- list()\n",
    "beds_recipient <- list()\n",
    "\n",
    "for (srr_name in srr_names){\n",
    "    file <- paste(inputs_folder, paste(srr_name, '-to-', recipient_name, sep = \"\"),\"_MMd_MUr.bed\", sep = \"\")\n",
    "    if (file.exists(file)) {recip_MMd_MUr <- import(file)}\n",
    "\n",
    "    file <- paste(inputs_folder, paste(srr_name, '-to-', recipient_name, sep = \"\"),\"_MMd_UMr.bed\", sep = \"\")\n",
    "    if (file.exists(file)) {recip_MMd_UMr <- import(file)}\n",
    "\n",
    "    file <- paste(inputs_folder, paste(srr_name, '-to-', recipient_name, sep = \"\"),\"_MUd_MMr.bed\", sep = \"\")\n",
    "    if (file.exists(file)) {recip_MUd_MMr <- import(file)}\n",
    "\n",
    "    file <- paste(inputs_folder, paste(srr_name, '-to-', recipient_name, sep = \"\"),\"_MUd_UMr.bed\", sep = \"\")\n",
    "    if (file.exists(file)) {recip_MUd_UMr <- import(file)}\n",
    "\n",
    "    file <- paste(inputs_folder, paste(srr_name, '-to-', recipient_name, sep = \"\"),\"_UMd_MMr.bed\", sep = \"\")\n",
    "    if (file.exists(file)) {recip_UMd_MMr <- import(file)}\n",
    "\n",
    "    file <- paste(inputs_folder, paste(srr_name, '-to-', recipient_name, sep = \"\"),\"_UMd_MUr.bed\", sep = \"\")\n",
    "    if (file.exists(file)) {recip_UMd_MUr <- import(file)}\n",
    "\n",
    "    beds <- list(recip_MMd_MUr, recip_MMd_UMr, recip_MUd_MMr, recip_MUd_UMr, recip_UMd_MMr, recip_UMd_MUr)\n",
    "    names(beds) <- c('MMd_MUr', 'MMd_UMr', 'MUd_MMr', 'MUd_UMr', 'UMd_MMr', 'UMd_MUr')\n",
    "    \n",
    "    srrs[srr_name] <- list(beds)\n",
    "}"
   ]
  },
  {
   "cell_type": "code",
   "execution_count": 28,
   "metadata": {},
   "outputs": [
    {
     "name": "stderr",
     "output_type": "stream",
     "text": [
      "Warning message:\n",
      "\"Ignoring remaining part of query: CREATE INDEX IF NOT EXISTS entrez_accession ON id_accession (entrez);\"\n",
      "Warning message:\n",
      "\"Ignoring remaining part of query: CREATE INDEX IF NOT EXISTS entrez_protein ON id_protein (entrez);\"\n"
     ]
    }
   ],
   "source": [
    "src <- suppressMessages(src_organism(\"TxDb.Hsapiens.UCSC.hg38.knownGene\"))"
   ]
  },
  {
   "cell_type": "code",
   "execution_count": 210,
   "metadata": {},
   "outputs": [],
   "source": [
    "summary_table <- function(srr = \"number\", granges, granges_labels, min_num_crossings = 3, min_num_reads = 3){\n",
    "    granges_df <- lapply(granges, annoGR2DF)\n",
    "    names(granges_df) <- granges_labels\n",
    "    merged_df <- bind_rows(granges_df, .id = \"crossing\")\n",
    "    merged_dt <- as.data.table(merged_df)\n",
    "\n",
    "    ## Interval per chromosome\n",
    "    merged_dt[,group := { ir <- IRanges(start, end); subjectHits(findOverlaps(ir, reduce(ir))) }, by = chr]\n",
    "    merged_final <- merged_dt[, list(start=min(start), \n",
    "                                     stop=max(end), \n",
    "                                     num_crossings=length(unique(list(crossing)[[1]])),\n",
    "                                     unique_crossings=list(unique(crossing)),\n",
    "                                     num_reads=length(list(name)[[1]])\n",
    "                                     ), by=list(group,chr)]\n",
    "    merged_final <- merged_final[merged_final[, num_reads > (min_num_reads - 1)]]\n",
    "    merged_final <- merged_final[merged_final[, num_crossings > (min_num_crossings - 1)]]\n",
    "    \n",
    "    txdb <- TxDb.Hsapiens.UCSC.hg38.knownGene\n",
    "    Hsapiens <- BSgenome.Hsapiens.UCSC.hg38\n",
    "    \n",
    "    merged_final$gene_name <- apply(merged_final, 1, FUN = function(x) toString(\n",
    "        unique(unlist(suppressWarnings(annoGR2DF(\n",
    "                                transcripts(src, \n",
    "                                             filter=~(GRangesFilter(\n",
    "                                                 GenomicRanges::GRanges(\n",
    "                                                     paste(toString(x[\"chr\"]), \":\", \n",
    "                                                           as.integer(x[\"start\"]), \"-\", \n",
    "                                                           as.integer(x[\"stop\"]), sep = \"\")))), \n",
    "                                             columns=c(\"symbol\")))$symbol)))))\n",
    "    \n",
    "    merged_final$srr <- srr\n",
    "\n",
    "    merged_final$sequence <- apply(merged_final, 1, FUN = function(x) toString(getSeq(Hsapiens, \n",
    "                                                                       toString(x[\"chr\"]), \n",
    "                                                                       start = as.integer(x[\"start\"]), \n",
    "                                                                       end = as.integer(x[\"stop\"]))))\n",
    "\n",
    "    merged_final <- merged_final[, !\"group\"]\n",
    "    merged_final <- merged_final[with(merged_final, order(num_reads, decreasing = TRUE)), ]\n",
    "                                 \n",
    "    return(merged_final)\n",
    "}"
   ]
  },
  {
   "cell_type": "code",
   "execution_count": null,
   "metadata": {},
   "outputs": [],
   "source": [
    "srrs_list <- list()\n",
    "\n",
    "for (srr_name in srr_names){\n",
    "    srr_table <- summary_table(srr = srr_name, granges = srrs[srr_name][[1]], names(srrs[srr_name][[1]]), min_num_crossings = 3, min_num_reads = 1)\n",
    "    srr_table$srr_name <- srr_name\n",
    "    srrs_list[[srr_name]] <- srr_table\n",
    "}\n",
    "\n",
    "srrs_table = do.call(rbind, srrs_list)\n",
    "srrs_table <- srrs_table[, !\"srr_name\"]"
   ]
  },
  {
   "cell_type": "code",
   "execution_count": null,
   "metadata": {},
   "outputs": [],
   "source": [
    "srrs_table %>%\n",
    "kable(\"html\") %>%\n",
    "    kable_styling(bootstrap_options = \"striped\", full_width = F, position = \"left\") %>%\n",
    "    kable_paper(full_width = F) %>%\n",
    "    column_spec(9, width = \"30em\", width_max = \"30em\", background = \"green\") %>%\n",
    "    as.character() %>%\n",
    "    display_html()     "
   ]
  },
  {
   "cell_type": "code",
   "execution_count": null,
   "metadata": {},
   "outputs": [],
   "source": []
  },
  {
   "cell_type": "code",
   "execution_count": null,
   "metadata": {},
   "outputs": [],
   "source": []
  },
  {
   "cell_type": "code",
   "execution_count": null,
   "metadata": {},
   "outputs": [],
   "source": []
  },
  {
   "cell_type": "code",
   "execution_count": null,
   "metadata": {},
   "outputs": [],
   "source": []
  }
 ],
 "metadata": {
  "kernelspec": {
   "display_name": "R",
   "language": "R",
   "name": "ir"
  },
  "language_info": {
   "codemirror_mode": "r",
   "file_extension": ".r",
   "mimetype": "text/x-r-source",
   "name": "R",
   "pygments_lexer": "r",
   "version": "4.0.3"
  }
 },
 "nbformat": 4,
 "nbformat_minor": 4
}
