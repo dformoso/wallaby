{
 "cells": [
  {
   "cell_type": "markdown",
   "metadata": {},
   "source": [
    "# Good Donor and Recipient Pipeline"
   ]
  },
  {
   "cell_type": "markdown",
   "metadata": {},
   "source": [
    "## Install Utilities"
   ]
  },
  {
   "cell_type": "code",
   "execution_count": 9,
   "metadata": {},
   "outputs": [],
   "source": [
    "!sudo apt-get update -y -qq"
   ]
  },
  {
   "cell_type": "code",
   "execution_count": 10,
   "metadata": {},
   "outputs": [],
   "source": [
    "!sudo apt-get install -y -qq tree libcurl4-openssl-dev zlib1g-dev samtools"
   ]
  },
  {
   "cell_type": "markdown",
   "metadata": {},
   "source": [
    "## Install Libraries"
   ]
  },
  {
   "cell_type": "code",
   "execution_count": 11,
   "metadata": {},
   "outputs": [],
   "source": [
    "!pip install -q biopython pyBigWig pysam"
   ]
  },
  {
   "cell_type": "markdown",
   "metadata": {},
   "source": [
    "## Import Libraries"
   ]
  },
  {
   "cell_type": "code",
   "execution_count": 12,
   "metadata": {},
   "outputs": [],
   "source": [
    "from Bio import SeqIO\n",
    "from Bio.SeqIO.FastaIO import SimpleFastaParser\n",
    "from Bio.SeqIO.QualityIO import FastqGeneralIterator"
   ]
  },
  {
   "cell_type": "markdown",
   "metadata": {},
   "source": [
    "## Download Datasets"
   ]
  },
  {
   "cell_type": "code",
   "execution_count": 8,
   "metadata": {},
   "outputs": [
    {
     "name": "stdout",
     "output_type": "stream",
     "text": [
      "../\n",
      "├── config\n",
      "├── cromwell-executions\n",
      "├── cromwell-workflow-logs\n",
      "├── data\n",
      "├── diagrams\n",
      "├── docker\n",
      "├── inputs\n",
      "├── notebooks\n",
      "├── pipelines\n",
      "├── README.md\n",
      "└── scripts_and_binaries\n",
      "\n",
      "10 directories, 1 file\n"
     ]
    }
   ],
   "source": [
    "!tree -L 1 ../"
   ]
  },
  {
   "cell_type": "code",
   "execution_count": null,
   "metadata": {},
   "outputs": [],
   "source": [
    "# Download data from SRA\n",
    "sudo docker run -it --rm -v \"/home/daniel/genomics/pipelines/lgtsearch/data/:/tmp/\" dformoso/sratoolkit \n",
    "fasterq-dump --split-files SRR5377828"
   ]
  },
  {
   "cell_type": "code",
   "execution_count": null,
   "metadata": {},
   "outputs": [],
   "source": [
    "# Download data from SRA\n",
    "sudo docker run -it --rm -v \"/home/daniel/genomics/pipelines/lgtsearch/data/:/tmp/\" dformoso/sratoolkit \n",
    "fasterq-dump --split-files SRR5377828"
   ]
  },
  {
   "cell_type": "code",
   "execution_count": null,
   "metadata": {},
   "outputs": [],
   "source": [
    "\n",
    "\n",
    "#####################################\n",
    "###### PSEUDOMONAS AERUGINOSA #######\n",
    "#####################################\n",
    "# Use BWA to align reads\n",
    "sudo docker run -it --rm -v \"/home/daniel/genomics/pipelines/lgtsearch/data:/tmp/\" dformoso/bwa \n",
    "bwa index ref_genomes/pseudomonas_aeruginosa_pao1.fasta\n",
    "bwa mem -t 24 \\\n",
    "    ref_genomes/pseudomonas_aeruginosa_pao1.fasta \\\n",
    "    SRR5377828/SRR5377828_1.fastq \\\n",
    "    SRR5377828/SRR5377828_2.fastq > \\\n",
    "    alignments/SRR5377828-pseudomonas_aeruginosa_pao1.sam\n",
    "\n",
    "# SAM to BAM conversion and indexing\n",
    "sudo docker run -it --rm -v \"/home/daniel/genomics/pipelines/lgtsearch/data/:/tmp/\" dformoso/samtools \n",
    "samtools view -@ 24 -b -S alignments/SRR5377828-pseudomonas_aeruginosa_pao1.sam > alignments/SRR5377828-pseudomonas_aeruginosa_pao1.bam\n",
    "samtools sort -@ 24 alignments/SRR5377828-pseudomonas_aeruginosa_pao1.bam -o alignments/SRR5377828-pseudomonas_aeruginosa_pao1-sorted.bam\n",
    "samtools index -@ 24 alignments/SRR5377828-pseudomonas_aeruginosa_pao1-sorted.bam\n",
    "\n",
    "\n",
    "#########################\n",
    "####### GRCh38_p13 ######\n",
    "#########################\n",
    "# Use BWA to align reads\n",
    "sudo docker run -it --rm -v \"/home/daniel/genomics/pipelines/lgtsearch/data:/tmp/\" dformoso/bwa \n",
    "bwa index ref_genomes/GRCh38_p13.fasta\n",
    "\n",
    "bwa mem -t 24 \\\n",
    "    ref_genomes/GRCh38_p13.fasta \\\n",
    "    SRR5377828/SRR5377828_1.fastq \\\n",
    "    SRR5377828/SRR5377828_2.fastq > \\\n",
    "    alignments/SRR5377828-GRCh38_p13.sam\n",
    "\n",
    "# SAM to BAM conversion and indexing\n",
    "sudo docker run -it --rm -v \"/home/daniel/genomics/pipelines/lgtsearch/data/:/tmp/\" dformoso/samtools \n",
    "samtools view -@ 24 -b -S alignments/SRR5377828-GRCh38_p13.sam > alignments/SRR5377828-GRCh38_p13.bam\n",
    "samtools sort -@ 24 alignments/SRR5377828-GRCh38_p13.bam -o alignments/SRR5377828-GRCh38_p13-sorted.bam\n",
    "samtools index -@ 24 alignments/SRR5377828-GRCh38_p13-sorted.bam\n"
   ]
  },
  {
   "cell_type": "code",
   "execution_count": null,
   "metadata": {},
   "outputs": [],
   "source": [
    "#########################\n",
    "####### Bucketise #######\n",
    "#########################\n",
    "\n",
    "# Recipient -> Donor (Pseudomonas)\n",
    "## R1 Mapped - R2 Mapped\n",
    "samtools view -@ 24 -f 3 -F 2048 ../data/alignments/SRR5377828-pseudomonas_aeruginosa_pao1-sorted.bam \\\n",
    "    -o ../data/buckets/SRR5377828-pseudomonas_aeruginosa_pao1_MM.bam\n",
    "\n",
    "## R1 Mapped - R2 Unmapped\n",
    "samtools view -@ 24 -f 73 -F 4022 ../data/alignments/SRR5377828-pseudomonas_aeruginosa_pao1-sorted.bam \\\n",
    "    -o ../data/buckets/SRR5377828-pseudomonas_aeruginosa_pao1_MU_R1.bam\n",
    "samtools view -@ 24 -f 133 -F 3962 ../data/alignments/SRR5377828-pseudomonas_aeruginosa_pao1-sorted.bam \\\n",
    "    -o ../data/buckets/SRR5377828-pseudomonas_aeruginosa_pao1_MU_R2.bam\n",
    "samtools merge  \\\n",
    "    ../data/buckets/SRR5377828-pseudomonas_aeruginosa_pao1_MU.bam \\\n",
    "    -@ 24 -f \\\n",
    "    ../data/buckets/SRR5377828-pseudomonas_aeruginosa_pao1_MU_R1.bam \\\n",
    "    ../data/buckets/SRR5377828-pseudomonas_aeruginosa_pao1_MU_R2.bam\n",
    "\n",
    "## R1 Unmapped - R2 Mapped\n",
    "samtools view -@ 24 -f 69 -F 4026 ../data/alignments/SRR5377828-pseudomonas_aeruginosa_pao1-sorted.bam \\\n",
    "    -o ../data/buckets/SRR5377828-pseudomonas_aeruginosa_pao1_UM_R1.bam\n",
    "samtools view -@ 24 -f 137 -F 3958 ../data/alignments/SRR5377828-pseudomonas_aeruginosa_pao1-sorted.bam \\\n",
    "    -o ../data/buckets/SRR5377828-pseudomonas_aeruginosa_pao1_UM_R2.bam\n",
    "samtools merge  \\\n",
    "    ../data/buckets/SRR5377828-pseudomonas_aeruginosa_pao1_UM.bam \\\n",
    "    -@ 24 -f \\\n",
    "    ../data/buckets/SRR5377828-pseudomonas_aeruginosa_pao1_UM_R1.bam \\\n",
    "    ../data/buckets/SRR5377828-pseudomonas_aeruginosa_pao1_UM_R2.bam\n",
    "\n",
    "## R1 Unmapped - R2 Unmapped\n",
    "samtools view -@ 24 -f 77 ../data/alignments/SRR5377828-pseudomonas_aeruginosa_pao1-sorted.bam \\\n",
    "    -o ../data/buckets/SRR5377828-pseudomonas_aeruginosa_pao1_UU_R1.bam\n",
    "samtools view -@ 24 -f 141 ../data/alignments/SRR5377828-pseudomonas_aeruginosa_pao1-sorted.bam \\\n",
    "    -o ../data/buckets/SRR5377828-pseudomonas_aeruginosa_pao1_UU_R2.bam\n",
    "samtools merge  \\\n",
    "    ../data/buckets/SRR5377828-pseudomonas_aeruginosa_pao1_UU.bam \\\n",
    "    -@ 24 -f \\\n",
    "    ../data/buckets/SRR5377828-pseudomonas_aeruginosa_pao1_UU_R1.bam \\\n",
    "    ../data/buckets/SRR5377828-pseudomonas_aeruginosa_pao1_UU_R2.bam"
   ]
  },
  {
   "cell_type": "code",
   "execution_count": null,
   "metadata": {},
   "outputs": [],
   "source": [
    "# Recipient -> Host (Human)\n",
    "## R1 Mapped - R2 Mapped\n",
    "samtools view -@ 24 -f 3 -F 2048 ../data/alignments/SRR5377828-GRCh38_p13-sorted.bam \\\n",
    "    -o ../data/buckets/SRR5377828-GRCh38_p13_MM.bam\n",
    "\n",
    "## R1 Mapped - R2 Unmapped\n",
    "samtools view -@ 24 -f 73 -F 4022 ../data/alignments/SRR5377828-GRCh38_p13-sorted.bam \\\n",
    "    -o ../data/buckets/SRR5377828-GRCh38_p13_MU_R1.bam\n",
    "samtools view -@ 24 -f 133 -F 3962 ../data/alignments/SRR5377828-GRCh38_p13-sorted.bam \\\n",
    "    -o ../data/buckets/SRR5377828-GRCh38_p13_MU_R2.bam\n",
    "samtools merge  \\\n",
    "    ../data/buckets/SRR5377828-GRCh38_p13_MU.bam \\\n",
    "    -@ 24 -f \\\n",
    "    ../data/buckets/SRR5377828-GRCh38_p13_MU_R1.bam \\\n",
    "    ../data/buckets/SRR5377828-GRCh38_p13_MU_R2.bam\n",
    "\n",
    "## R1 Unmapped - R2 Mapped\n",
    "samtools view -@ 24 -f 69 -F 4026 ../data/alignments/SRR5377828-GRCh38_p13-sorted.bam \\\n",
    "    -o ../data/buckets/SRR5377828-GRCh38_p13_UM_R1.bam\n",
    "samtools view -@ 24 -f 137 -F 3958 ../data/alignments/SRR5377828-GRCh38_p13-sorted.bam \\\n",
    "    -o ../data/buckets/SRR5377828-GRCh38_p13_UM_R2.bam\n",
    "samtools merge  \\\n",
    "    ../data/buckets/SRR5377828-GRCh38_p13_UM.bam \\\n",
    "    -@ 24 -f \\\n",
    "    ../data/buckets/SRR5377828-GRCh38_p13_UM_R1.bam \\\n",
    "    ../data/buckets/SRR5377828-GRCh38_p13_UM_R2.bam\n",
    "\n",
    "## R1 Unmapped - R2 Unmapped\n",
    "samtools view -@ 24 -f 77 ../data/alignments/SRR5377828-GRCh38_p13-sorted.bam \\\n",
    "    -o ../data/buckets/SRR5377828-GRCh38_p13_UU_R1.bam\n",
    "samtools view -@ 24 -f 141 ../data/alignments/SRR5377828-GRCh38_p13-sorted.bam \\\n",
    "    -o ../data/buckets/SRR5377828-GRCh38_p13_UU_R2.bam\n",
    "samtools merge  \\\n",
    "    ../data/buckets/SRR5377828-GRCh38_p13_UU.bam \\\n",
    "    -@ 24 -f \\\n",
    "    ../data/buckets/SRR5377828-GRCh38_p13_UU_R1.bam \\\n",
    "    ../data/buckets/SRR5377828-GRCh38_p13_UU_R2.bam"
   ]
  }
 ],
 "metadata": {
  "kernelspec": {
   "display_name": "Python 3",
   "language": "python",
   "name": "python3"
  },
  "language_info": {
   "codemirror_mode": {
    "name": "ipython",
    "version": 3
   },
   "file_extension": ".py",
   "mimetype": "text/x-python",
   "name": "python",
   "nbconvert_exporter": "python",
   "pygments_lexer": "ipython3",
   "version": "3.7.6"
  }
 },
 "nbformat": 4,
 "nbformat_minor": 4
}
