{
 "cells": [
  {
   "cell_type": "markdown",
   "metadata": {},
   "source": [
    "# Tertiary analysis of a Donor-to-Recipient pipeline"
   ]
  },
  {
   "cell_type": "markdown",
   "metadata": {},
   "source": [
    "## Set multithreading parameters"
   ]
  },
  {
   "cell_type": "code",
   "execution_count": 1,
   "metadata": {},
   "outputs": [
    {
     "data": {
      "text/html": [
       "24"
      ],
      "text/latex": [
       "24"
      ],
      "text/markdown": [
       "24"
      ],
      "text/plain": [
       "[1] 24"
      ]
     },
     "metadata": {},
     "output_type": "display_data"
    }
   ],
   "source": [
    "parallel::detectCores()"
   ]
  },
  {
   "cell_type": "code",
   "execution_count": 2,
   "metadata": {},
   "outputs": [],
   "source": [
    "options(Ncpus = parallel::detectCores())"
   ]
  },
  {
   "cell_type": "code",
   "execution_count": 3,
   "metadata": {},
   "outputs": [],
   "source": [
    "Sys.setenv(OMP_NUM_THREADS=toString(parallel::detectCores()))\n",
    "Sys.setenv(OMP_THREAD_LIMIT=toString(parallel::detectCores()))\n",
    "Sys.setenv(\"OMP_NUM_THREADS\"=parallel::detectCores())\n",
    "Sys.setenv(\"OMP_THREAD_LIMIT\"=parallel::detectCores())"
   ]
  },
  {
   "cell_type": "markdown",
   "metadata": {},
   "source": [
    "## Install and import libraries"
   ]
  },
  {
   "cell_type": "markdown",
   "metadata": {},
   "source": [
    "### Bioconductor libraries"
   ]
  },
  {
   "cell_type": "code",
   "execution_count": null,
   "metadata": {},
   "outputs": [],
   "source": [
    "# MOVE THIS TO THE DOCKERFILE TO BAKE INTO INTO THE DOCKER IMAGE\n",
    "if (!requireNamespace(\"BiocManager\", quietly = TRUE))\n",
    "    install.packages(\"BiocManager\")\n",
    "\n",
    "BiocManager::install(\"GenomicAlignments\")\n",
    "BiocManager::install(\"Rsubread\")\n",
    "BiocManager::install(\"Rsamtools\")\n",
    "BiocManager::install(\"bamsignals\")\n",
    "BiocManager::install(\"rtracklayer\")\n",
    "BiocManager::install(\"GenomicRanges\")\n",
    "BiocManager::install(\"BSgenome.Hsapiens.UCSC.hg38\")\n",
    "BiocManager::install(\"TxDb.Hsapiens.UCSC.hg38.knownGene\")\n",
    "BiocManager::install(\"regioneR\")\n",
    "BiocManager::install(\"karyoploteR\")\n",
    "BiocManager::install(\"seqinr\")"
   ]
  },
  {
   "cell_type": "code",
   "execution_count": 2,
   "metadata": {},
   "outputs": [],
   "source": [
    "suppressMessages(library(GenomicAlignments))\n",
    "suppressMessages(library(Rsubread))\n",
    "suppressMessages(library(Rsamtools))\n",
    "suppressMessages(library(bamsignals))\n",
    "suppressMessages(library(rtracklayer))\n",
    "suppressMessages(library(GenomicRanges))\n",
    "suppressMessages(library(repr))\n",
    "suppressMessages(library(BSgenome.Hsapiens.UCSC.hg38))\n",
    "suppressMessages(library(TxDb.Hsapiens.UCSC.hg38.knownGene))\n",
    "suppressMessages(library(regioneR))\n",
    "suppressMessages(library(karyoploteR))\n",
    "suppressMessages(library(seqinr))"
   ]
  },
  {
   "cell_type": "markdown",
   "metadata": {},
   "source": [
    "### CRAN libraries"
   ]
  },
  {
   "cell_type": "code",
   "execution_count": 3,
   "metadata": {},
   "outputs": [],
   "source": [
    "# MOVE THIS TO THE DOCKERFILE TO BAKE INTO INTO THE DOCKER IMAGE\n",
    "suppressMessages(install.packages(\"shinyLP\"))\n",
    "suppressMessages(install.packages(\"plotly\"))\n",
    "suppressMessages(install.packages(\"tidyverse\"))\n",
    "suppressMessages(install.packages(\"ggplot2\"))"
   ]
  },
  {
   "cell_type": "code",
   "execution_count": 3,
   "metadata": {},
   "outputs": [],
   "source": [
    "suppressMessages(library(shinyLP))\n",
    "suppressMessages(library(plotly))\n",
    "suppressMessages(library(tidyverse))\n",
    "suppressMessages(library(ggplot2))"
   ]
  },
  {
   "cell_type": "markdown",
   "metadata": {},
   "source": [
    "## Variables"
   ]
  },
  {
   "cell_type": "code",
   "execution_count": 4,
   "metadata": {},
   "outputs": [],
   "source": [
    "data_folder <- \"../../wallaby/data/\"\n",
    "outputs_folder <- \"../../wallaby/workflows/cromwell-final-outputs/\" "
   ]
  },
  {
   "cell_type": "code",
   "execution_count": 5,
   "metadata": {},
   "outputs": [],
   "source": [
    "donor_ref_genome <- paste(data_folder, \"ref_genomes/hpv/HPV16.fasta\", sep = \"\")\n",
    "recipient_ref_genome <- paste(data_folder, \"ref_genomes/human/USCS.hg38.fasta\", sep = \"\")"
   ]
  },
  {
   "cell_type": "markdown",
   "metadata": {},
   "source": [
    "## Loading pipeline output files\n",
    "Try to open all files - note that some will not exists as that specific crossing bucket did not return any matches"
   ]
  },
  {
   "cell_type": "code",
   "execution_count": 23,
   "metadata": {},
   "outputs": [
    {
     "name": "stderr",
     "output_type": "stream",
     "text": [
      "Warning message in open.connection(con, open):\n",
      "\"cannot open file '../../wallaby/workflows/cromwell-final-outputs/reads-to-donor_MUd_MUr.bed': No such file or directory\"\n"
     ]
    },
    {
     "name": "stdout",
     "output_type": "stream",
     "text": [
      "Error in open.connection(con, open) : cannot open the connection\n"
     ]
    },
    {
     "name": "stderr",
     "output_type": "stream",
     "text": [
      "Warning message in open.connection(con, open):\n",
      "\"cannot open file '../../wallaby/workflows/cromwell-final-outputs/reads-to-donor_MUd_UUr.bed': No such file or directory\"\n"
     ]
    },
    {
     "name": "stdout",
     "output_type": "stream",
     "text": [
      "Error in open.connection(con, open) : cannot open the connection\n"
     ]
    },
    {
     "name": "stderr",
     "output_type": "stream",
     "text": [
      "Warning message in open.connection(con, open):\n",
      "\"cannot open file '../../wallaby/workflows/cromwell-final-outputs/reads-to-donor_UMd_UMr.bed': No such file or directory\"\n"
     ]
    },
    {
     "name": "stdout",
     "output_type": "stream",
     "text": [
      "Error in open.connection(con, open) : cannot open the connection\n"
     ]
    },
    {
     "name": "stderr",
     "output_type": "stream",
     "text": [
      "Warning message in open.connection(con, open):\n",
      "\"cannot open file '../../wallaby/workflows/cromwell-final-outputs/reads-to-donor_UMd_UUr.bed': No such file or directory\"\n"
     ]
    },
    {
     "name": "stdout",
     "output_type": "stream",
     "text": [
      "Error in open.connection(con, open) : cannot open the connection\n"
     ]
    }
   ],
   "source": [
    "# Variables to hold all file paths  \n",
    "try(reads_to_donor_MMd_MMr.bam <- paste(outputs_folder, \"reads-to-donor_MMd_MMr.bam\", sep = \"\"))\n",
    "try(reads_to_donor_MMd_MUr.bam <- paste(outputs_folder, \"reads-to-donor_MMd_MUr.bam\", sep = \"\"))\n",
    "try(reads_to_donor_MMd_UMr.bam <- paste(outputs_folder, \"reads-to-donor_MMd_UMr.bam\", sep = \"\"))\n",
    "try(reads_to_donor_MMd_UUr.bam <- paste(outputs_folder, \"reads-to-donor_MMd_UUr.bam\", sep = \"\"))\n",
    "try(reads_to_donor_MUd_MMr.bam <- paste(outputs_folder, \"reads-to-donor_MUd_MMr.bam\", sep = \"\"))\n",
    "try(reads_to_donor_MUd_MUr.bam <- paste(outputs_folder, \"reads-to-donor_MUd_MUr.bam\", sep = \"\"))\n",
    "try(reads_to_donor_MUd_UMr.bam <- paste(outputs_folder, \"reads-to-donor_MUd_UMr.bam\", sep = \"\"))\n",
    "try(reads_to_donor_MUd_UUr.bam <- paste(outputs_folder, \"reads-to-donor_MUd_UUr.bam\", sep = \"\"))\n",
    "try(reads_to_donor_UMd_MMr.bam <- paste(outputs_folder, \"reads-to-donor_UMd_MMr.bam\", sep = \"\"))\n",
    "try(reads_to_donor_UMd_MUr.bam <- paste(outputs_folder, \"reads-to-donor_UMd_MUr.bam\", sep = \"\"))\n",
    "try(reads_to_donor_UMd_UMr.bam <- paste(outputs_folder, \"reads-to-donor_UMd_UMr.bam\", sep = \"\"))\n",
    "try(reads_to_donor_UMd_UUr.bam <- paste(outputs_folder, \"reads-to-donor_UMd_UUr.bam\", sep = \"\"))\n",
    "try(reads_to_donor_UUd_MMr.bam <- paste(outputs_folder, \"reads-to-donor_UUd_MMr.bam\", sep = \"\"))\n",
    "try(reads_to_donor_UUd_MUr.bam <- paste(outputs_folder, \"reads-to-donor_UUd_MUr.bam\", sep = \"\"))\n",
    "try(reads_to_donor_UUd_UMr.bam <- paste(outputs_folder, \"reads-to-donor_UUd_UMr.bam\", sep = \"\"))\n",
    "try(reads_to_donor_UUd_UUr.bam <- paste(outputs_folder, \"reads-to-donor_UUd_UUr.bam\", sep = \"\"))\n",
    "\n",
    "# Variables to open BED files into GRanges\n",
    "try(reads_to_donor_MMd_MMr.bed.gr <- import(paste(outputs_folder, \"reads-to-donor_MMd_MMr.bed\", sep = \"\")))\n",
    "try(reads_to_donor_MMd_MUr.bed.gr <- import(paste(outputs_folder, \"reads-to-donor_MMd_MUr.bed\", sep = \"\")))\n",
    "try(reads_to_donor_MMd_UMr.bed.gr <- import(paste(outputs_folder, \"reads-to-donor_MMd_UMr.bed\", sep = \"\")))\n",
    "try(reads_to_donor_MMd_UUr.bed.gr <- import(paste(outputs_folder, \"reads-to-donor_MMd_UUr.bed\", sep = \"\")))\n",
    "try(reads_to_donor_MUd_MMr.bed.gr <- import(paste(outputs_folder, \"reads-to-donor_MUd_MMr.bed\", sep = \"\")))\n",
    "try(reads_to_donor_MUd_MUr.bed.gr <- import(paste(outputs_folder, \"reads-to-donor_MUd_MUr.bed\", sep = \"\")))\n",
    "try(reads_to_donor_MUd_UMr.bed.gr <- import(paste(outputs_folder, \"reads-to-donor_MUd_UMr.bed\", sep = \"\")))\n",
    "try(reads_to_donor_MUd_UUr.bed.gr <- import(paste(outputs_folder, \"reads-to-donor_MUd_UUr.bed\", sep = \"\")))\n",
    "try(reads_to_donor_UMd_MMr.bed.gr <- import(paste(outputs_folder, \"reads-to-donor_UMd_MMr.bed\", sep = \"\")))\n",
    "try(reads_to_donor_UMd_MUr.bed.gr <- import(paste(outputs_folder, \"reads-to-donor_UMd_MUr.bed\", sep = \"\")))\n",
    "try(reads_to_donor_UMd_UMr.bed.gr <- import(paste(outputs_folder, \"reads-to-donor_UMd_UMr.bed\", sep = \"\")))\n",
    "try(reads_to_donor_UMd_UUr.bed.gr <- import(paste(outputs_folder, \"reads-to-donor_UMd_UUr.bed\", sep = \"\")))\n",
    "try(reads_to_donor_UUd_MMr.bed.gr <- import(paste(outputs_folder, \"reads-to-donor_UUd_MMr.bed\", sep = \"\")))\n",
    "try(reads_to_donor_UUd_MUr.bed.gr <- import(paste(outputs_folder, \"reads-to-donor_UUd_MUr.bed\", sep = \"\")))\n",
    "try(reads_to_donor_UUd_UMr.bed.gr <- import(paste(outputs_folder, \"reads-to-donor_UUd_UMr.bed\", sep = \"\")))\n",
    "try(reads_to_donor_UUd_UUr.bed.gr <- import(paste(outputs_folder, \"reads-to-donor_UUd_UUr.bed\", sep = \"\")))"
   ]
  },
  {
   "cell_type": "code",
   "execution_count": 24,
   "metadata": {},
   "outputs": [
    {
     "name": "stderr",
     "output_type": "stream",
     "text": [
      "Warning message in open.connection(con, open):\n",
      "\"cannot open file '../../wallaby/workflows/cromwell-final-outputs/reads-to-recipient_MUd_MUr.bed': No such file or directory\"\n"
     ]
    },
    {
     "name": "stdout",
     "output_type": "stream",
     "text": [
      "Error in open.connection(con, open) : cannot open the connection\n"
     ]
    },
    {
     "name": "stderr",
     "output_type": "stream",
     "text": [
      "Warning message in open.connection(con, open):\n",
      "\"cannot open file '../../wallaby/workflows/cromwell-final-outputs/reads-to-recipient_MUd_UUr.bed': No such file or directory\"\n"
     ]
    },
    {
     "name": "stdout",
     "output_type": "stream",
     "text": [
      "Error in open.connection(con, open) : cannot open the connection\n"
     ]
    },
    {
     "name": "stderr",
     "output_type": "stream",
     "text": [
      "Warning message in open.connection(con, open):\n",
      "\"cannot open file '../../wallaby/workflows/cromwell-final-outputs/reads-to-recipient_UMd_UMr.bed': No such file or directory\"\n"
     ]
    },
    {
     "name": "stdout",
     "output_type": "stream",
     "text": [
      "Error in open.connection(con, open) : cannot open the connection\n"
     ]
    },
    {
     "name": "stderr",
     "output_type": "stream",
     "text": [
      "Warning message in open.connection(con, open):\n",
      "\"cannot open file '../../wallaby/workflows/cromwell-final-outputs/reads-to-recipient_UMd_UUr.bed': No such file or directory\"\n"
     ]
    },
    {
     "name": "stdout",
     "output_type": "stream",
     "text": [
      "Error in open.connection(con, open) : cannot open the connection\n"
     ]
    }
   ],
   "source": [
    "# Variables to hold all file paths  \n",
    "try(reads_to_recipient_MMd_MMr.bam <- paste(outputs_folder, \"reads-to-recipient_MMd_MMr.bam\", sep = \"\"))\n",
    "try(reads_to_recipient_MMd_MUr.bam <- paste(outputs_folder, \"reads-to-recipient_MMd_MUr.bam\", sep = \"\"))\n",
    "try(reads_to_recipient_MMd_UMr.bam <- paste(outputs_folder, \"reads-to-recipient_MMd_UMr.bam\", sep = \"\"))\n",
    "try(reads_to_recipient_MMd_UUr.bam <- paste(outputs_folder, \"reads-to-recipient_MMd_UUr.bam\", sep = \"\"))\n",
    "try(reads_to_recipient_MUd_MMr.bam <- paste(outputs_folder, \"reads-to-recipient_MUd_MMr.bam\", sep = \"\"))\n",
    "try(reads_to_recipient_MUd_MUr.bam <- paste(outputs_folder, \"reads-to-recipient_MUd_MUr.bam\", sep = \"\"))\n",
    "try(reads_to_recipient_MUd_UMr.bam <- paste(outputs_folder, \"reads-to-recipient_MUd_UMr.bam\", sep = \"\"))\n",
    "try(reads_to_recipient_MUd_UUr.bam <- paste(outputs_folder, \"reads-to-recipient_MUd_UUr.bam\", sep = \"\"))\n",
    "try(reads_to_recipient_UMd_MMr.bam <- paste(outputs_folder, \"reads-to-recipient_UMd_MMr.bam\", sep = \"\"))\n",
    "try(reads_to_recipient_UMd_MUr.bam <- paste(outputs_folder, \"reads-to-recipient_UMd_MUr.bam\", sep = \"\"))\n",
    "try(reads_to_recipient_UMd_UMr.bam <- paste(outputs_folder, \"reads-to-recipient_UMd_UMr.bam\", sep = \"\"))\n",
    "try(reads_to_recipient_UMd_UUr.bam <- paste(outputs_folder, \"reads-to-recipient_UMd_UUr.bam\", sep = \"\"))\n",
    "try(reads_to_recipient_UUd_MMr.bam <- paste(outputs_folder, \"reads-to-recipient_UUd_MMr.bam\", sep = \"\"))\n",
    "try(reads_to_recipient_UUd_MUr.bam <- paste(outputs_folder, \"reads-to-recipient_UUd_MUr.bam\", sep = \"\"))\n",
    "try(reads_to_recipient_UUd_UMr.bam <- paste(outputs_folder, \"reads-to-recipient_UUd_UMr.bam\", sep = \"\"))\n",
    "try(reads_to_recipient_UUd_UUr.bam <- paste(outputs_folder, \"reads-to-recipient_UUd_UUr.bam\", sep = \"\"))\n",
    "\n",
    "# Variables to open BED files into GRanges\n",
    "try(reads_to_recipient_MMd_MMr.bed.gr <- import(paste(outputs_folder, \"reads-to-recipient_MMd_MMr.bed\", sep = \"\")))\n",
    "try(reads_to_recipient_MMd_MUr.bed.gr <- import(paste(outputs_folder, \"reads-to-recipient_MMd_MUr.bed\", sep = \"\")))\n",
    "try(reads_to_recipient_MMd_UMr.bed.gr <- import(paste(outputs_folder, \"reads-to-recipient_MMd_UMr.bed\", sep = \"\")))\n",
    "try(reads_to_recipient_MMd_UUr.bed.gr <- import(paste(outputs_folder, \"reads-to-recipient_MMd_UUr.bed\", sep = \"\")))\n",
    "try(reads_to_recipient_MUd_MMr.bed.gr <- import(paste(outputs_folder, \"reads-to-recipient_MUd_MMr.bed\", sep = \"\")))\n",
    "try(reads_to_recipient_MUd_MUr.bed.gr <- import(paste(outputs_folder, \"reads-to-recipient_MUd_MUr.bed\", sep = \"\")))\n",
    "try(reads_to_recipient_MUd_UMr.bed.gr <- import(paste(outputs_folder, \"reads-to-recipient_MUd_UMr.bed\", sep = \"\")))\n",
    "try(reads_to_recipient_MUd_UUr.bed.gr <- import(paste(outputs_folder, \"reads-to-recipient_MUd_UUr.bed\", sep = \"\")))\n",
    "try(reads_to_recipient_UMd_MMr.bed.gr <- import(paste(outputs_folder, \"reads-to-recipient_UMd_MMr.bed\", sep = \"\")))\n",
    "try(reads_to_recipient_UMd_MUr.bed.gr <- import(paste(outputs_folder, \"reads-to-recipient_UMd_MUr.bed\", sep = \"\")))\n",
    "try(reads_to_recipient_UMd_UMr.bed.gr <- import(paste(outputs_folder, \"reads-to-recipient_UMd_UMr.bed\", sep = \"\")))\n",
    "try(reads_to_recipient_UMd_UUr.bed.gr <- import(paste(outputs_folder, \"reads-to-recipient_UMd_UUr.bed\", sep = \"\")))\n",
    "try(reads_to_recipient_UUd_MMr.bed.gr <- import(paste(outputs_folder, \"reads-to-recipient_UUd_MMr.bed\", sep = \"\")))\n",
    "try(reads_to_recipient_UUd_MUr.bed.gr <- import(paste(outputs_folder, \"reads-to-recipient_UUd_MUr.bed\", sep = \"\")))\n",
    "try(reads_to_recipient_UUd_UMr.bed.gr <- import(paste(outputs_folder, \"reads-to-recipient_UUd_UMr.bed\", sep = \"\")))\n",
    "try(reads_to_recipient_UUd_UUr.bed.gr <- import(paste(outputs_folder, \"reads-to-recipient_UUd_UUr.bed\", sep = \"\")))"
   ]
  },
  {
   "cell_type": "code",
   "execution_count": 9,
   "metadata": {},
   "outputs": [],
   "source": [
    "# Variables to hold all file paths for blastn results\n",
    "try(reads_to_donor_MMd_MMr.blastn <- paste(outputs_folder, \"reads-to-donor_MMd_MMr.fasta.blastn\", sep = \"\"))\n",
    "try(reads_to_donor_MMd_MUr.blastn <- paste(outputs_folder, \"reads-to-donor_MMd_MUr.fasta.blastn\", sep = \"\"))\n",
    "try(reads_to_donor_MMd_UMr.blastn <- paste(outputs_folder, \"reads-to-donor_MMd_UMr.fasta.blastn\", sep = \"\"))\n",
    "try(reads_to_donor_MMd_UUr.blastn <- paste(outputs_folder, \"reads-to-donor_MMd_UUr.fasta.blastn\", sep = \"\"))\n",
    "try(reads_to_donor_MUd_MMr.blastn <- paste(outputs_folder, \"reads-to-donor_MUd_MMr.fasta.blastn\", sep = \"\"))\n",
    "try(reads_to_donor_MUd_MUr.blastn <- paste(outputs_folder, \"reads-to-donor_MUd_MUr.fasta.blastn\", sep = \"\"))\n",
    "try(reads_to_donor_MUd_UMr.blastn <- paste(outputs_folder, \"reads-to-donor_MUd_UMr.fasta.blastn\", sep = \"\"))\n",
    "try(reads_to_donor_MUd_UUr.blastn <- paste(outputs_folder, \"reads-to-donor_MUd_UUr.fasta.blastn\", sep = \"\"))\n",
    "try(reads_to_donor_UMd_MMr.blastn <- paste(outputs_folder, \"reads-to-donor_UMd_MMr.fasta.blastn\", sep = \"\"))\n",
    "try(reads_to_donor_UMd_MUr.blastn <- paste(outputs_folder, \"reads-to-donor_UMd_MUr.fasta.blastn\", sep = \"\"))\n",
    "try(reads_to_donor_UMd_UMr.blastn <- paste(outputs_folder, \"reads-to-donor_UMd_UMr.fasta.blastn\", sep = \"\"))\n",
    "try(reads_to_donor_UMd_UUr.blastn <- paste(outputs_folder, \"reads-to-donor_UMd_UUr.fasta.blastn\", sep = \"\"))\n",
    "try(reads_to_donor_UUd_MMr.blastn <- paste(outputs_folder, \"reads-to-donor_UUd_MMr.fasta.blastn\", sep = \"\"))\n",
    "try(reads_to_donor_UUd_MUr.blastn <- paste(outputs_folder, \"reads-to-donor_UUd_MUr.fasta.blastn\", sep = \"\"))\n",
    "try(reads_to_donor_UUd_UMr.blastn <- paste(outputs_folder, \"reads-to-donor_UUd_UMr.fasta.blastn\", sep = \"\"))\n",
    "try(reads_to_donor_UUd_UUr.blastn <- paste(outputs_folder, \"reads-to-donor_UUd_UUr.fasta.blastn\", sep = \"\"))\n",
    "\n",
    "try(reads_to_recipient_MMd_MMr.blastn <- paste(outputs_folder, \"reads-to-recipient_MMd_MMr.fasta.blastn\", sep = \"\"))\n",
    "try(reads_to_recipient_MMd_MUr.blastn <- paste(outputs_folder, \"reads-to-recipient_MMd_MUr.fasta.blastn\", sep = \"\"))\n",
    "try(reads_to_recipient_MMd_UMr.blastn <- paste(outputs_folder, \"reads-to-recipient_MMd_UMr.fasta.blastn\", sep = \"\"))\n",
    "try(reads_to_recipient_MMd_UUr.blastn <- paste(outputs_folder, \"reads-to-recipient_MMd_UUr.fasta.blastn\", sep = \"\"))\n",
    "try(reads_to_recipient_MUd_MMr.blastn <- paste(outputs_folder, \"reads-to-recipient_MUd_MMr.fasta.blastn\", sep = \"\"))\n",
    "try(reads_to_recipient_MUd_MUr.blastn <- paste(outputs_folder, \"reads-to-recipient_MUd_MUr.fasta.blastn\", sep = \"\"))\n",
    "try(reads_to_recipient_MUd_UMr.blastn <- paste(outputs_folder, \"reads-to-recipient_MUd_UMr.fasta.blastn\", sep = \"\"))\n",
    "try(reads_to_recipient_MUd_UUr.blastn <- paste(outputs_folder, \"reads-to-recipient_MUd_UUr.fasta.blastn\", sep = \"\"))\n",
    "try(reads_to_recipient_UMd_MMr.blastn <- paste(outputs_folder, \"reads-to-recipient_UMd_MMr.fasta.blastn\", sep = \"\"))\n",
    "try(reads_to_recipient_UMd_MUr.blastn <- paste(outputs_folder, \"reads-to-recipient_UMd_MUr.fasta.blastn\", sep = \"\"))\n",
    "try(reads_to_recipient_UMd_UMr.blastn <- paste(outputs_folder, \"reads-to-recipient_UMd_UMr.fasta.blastn\", sep = \"\"))\n",
    "try(reads_to_recipient_UMd_UUr.blastn <- paste(outputs_folder, \"reads-to-recipient_UMd_UUr.fasta.blastn\", sep = \"\"))\n",
    "try(reads_to_recipient_UUd_MMr.blastn <- paste(outputs_folder, \"reads-to-recipient_UUd_MMr.fasta.blastn\", sep = \"\"))\n",
    "try(reads_to_recipient_UUd_MUr.blastn <- paste(outputs_folder, \"reads-to-recipient_UUd_MUr.fasta.blastn\", sep = \"\"))\n",
    "try(reads_to_recipient_UUd_UMr.blastn <- paste(outputs_folder, \"reads-to-recipient_UUd_UMr.fasta.blastn\", sep = \"\"))\n",
    "try(reads_to_recipient_UUd_UUr.blastn <- paste(outputs_folder, \"reads-to-recipient_UUd_UUr.fasta.blastn\", sep = \"\"))"
   ]
  },
  {
   "cell_type": "markdown",
   "metadata": {},
   "source": [
    "## List BAM files with more than zero reads (not empty)"
   ]
  },
  {
   "cell_type": "code",
   "execution_count": 25,
   "metadata": {},
   "outputs": [
    {
     "data": {
      "text/html": [
       "<ol>\n",
       "\t<li>'reads-to-donor_MMd_MMr.bam'</li>\n",
       "\t<li>'reads-to-donor_MMd_MUr.bam'</li>\n",
       "\t<li>'reads-to-donor_MMd_UMr.bam'</li>\n",
       "\t<li>'reads-to-donor_MMd_UUr.bam'</li>\n",
       "\t<li>'reads-to-donor_MUd_MMr.bam'</li>\n",
       "\t<li>NULL</li>\n",
       "\t<li>'reads-to-donor_MUd_UMr.bam'</li>\n",
       "\t<li>NULL</li>\n",
       "\t<li>'reads-to-donor_UMd_MMr.bam'</li>\n",
       "\t<li>'reads-to-donor_UMd_MUr.bam'</li>\n",
       "\t<li>NULL</li>\n",
       "\t<li>NULL</li>\n",
       "\t<li>'reads-to-donor_UUd_MMr.bam'</li>\n",
       "\t<li>'reads-to-donor_UUd_MUr.bam'</li>\n",
       "\t<li>'reads-to-donor_UUd_UMr.bam'</li>\n",
       "\t<li>'reads-to-donor_UUd_UUr.bam'</li>\n",
       "</ol>\n"
      ],
      "text/latex": [
       "\\begin{enumerate}\n",
       "\\item 'reads-to-donor\\_MMd\\_MMr.bam'\n",
       "\\item 'reads-to-donor\\_MMd\\_MUr.bam'\n",
       "\\item 'reads-to-donor\\_MMd\\_UMr.bam'\n",
       "\\item 'reads-to-donor\\_MMd\\_UUr.bam'\n",
       "\\item 'reads-to-donor\\_MUd\\_MMr.bam'\n",
       "\\item NULL\n",
       "\\item 'reads-to-donor\\_MUd\\_UMr.bam'\n",
       "\\item NULL\n",
       "\\item 'reads-to-donor\\_UMd\\_MMr.bam'\n",
       "\\item 'reads-to-donor\\_UMd\\_MUr.bam'\n",
       "\\item NULL\n",
       "\\item NULL\n",
       "\\item 'reads-to-donor\\_UUd\\_MMr.bam'\n",
       "\\item 'reads-to-donor\\_UUd\\_MUr.bam'\n",
       "\\item 'reads-to-donor\\_UUd\\_UMr.bam'\n",
       "\\item 'reads-to-donor\\_UUd\\_UUr.bam'\n",
       "\\end{enumerate}\n"
      ],
      "text/markdown": [
       "1. 'reads-to-donor_MMd_MMr.bam'\n",
       "2. 'reads-to-donor_MMd_MUr.bam'\n",
       "3. 'reads-to-donor_MMd_UMr.bam'\n",
       "4. 'reads-to-donor_MMd_UUr.bam'\n",
       "5. 'reads-to-donor_MUd_MMr.bam'\n",
       "6. NULL\n",
       "7. 'reads-to-donor_MUd_UMr.bam'\n",
       "8. NULL\n",
       "9. 'reads-to-donor_UMd_MMr.bam'\n",
       "10. 'reads-to-donor_UMd_MUr.bam'\n",
       "11. NULL\n",
       "12. NULL\n",
       "13. 'reads-to-donor_UUd_MMr.bam'\n",
       "14. 'reads-to-donor_UUd_MUr.bam'\n",
       "15. 'reads-to-donor_UUd_UMr.bam'\n",
       "16. 'reads-to-donor_UUd_UUr.bam'\n",
       "\n",
       "\n"
      ],
      "text/plain": [
       "[[1]]\n",
       "[1] \"reads-to-donor_MMd_MMr.bam\"\n",
       "\n",
       "[[2]]\n",
       "[1] \"reads-to-donor_MMd_MUr.bam\"\n",
       "\n",
       "[[3]]\n",
       "[1] \"reads-to-donor_MMd_UMr.bam\"\n",
       "\n",
       "[[4]]\n",
       "[1] \"reads-to-donor_MMd_UUr.bam\"\n",
       "\n",
       "[[5]]\n",
       "[1] \"reads-to-donor_MUd_MMr.bam\"\n",
       "\n",
       "[[6]]\n",
       "NULL\n",
       "\n",
       "[[7]]\n",
       "[1] \"reads-to-donor_MUd_UMr.bam\"\n",
       "\n",
       "[[8]]\n",
       "NULL\n",
       "\n",
       "[[9]]\n",
       "[1] \"reads-to-donor_UMd_MMr.bam\"\n",
       "\n",
       "[[10]]\n",
       "[1] \"reads-to-donor_UMd_MUr.bam\"\n",
       "\n",
       "[[11]]\n",
       "NULL\n",
       "\n",
       "[[12]]\n",
       "NULL\n",
       "\n",
       "[[13]]\n",
       "[1] \"reads-to-donor_UUd_MMr.bam\"\n",
       "\n",
       "[[14]]\n",
       "[1] \"reads-to-donor_UUd_MUr.bam\"\n",
       "\n",
       "[[15]]\n",
       "[1] \"reads-to-donor_UUd_UMr.bam\"\n",
       "\n",
       "[[16]]\n",
       "[1] \"reads-to-donor_UUd_UUr.bam\"\n"
      ]
     },
     "metadata": {},
     "output_type": "display_data"
    }
   ],
   "source": [
    "print_file_state <- function(file_name) {\n",
    "    if (file.exists(file_name)) {\n",
    "        return(paste(basename(file_name)))\n",
    "    }\n",
    "}\n",
    "\n",
    "lapply(c(reads_to_donor_MMd_MMr.bam, reads_to_donor_MMd_MUr.bam, reads_to_donor_MMd_UMr.bam, reads_to_donor_MMd_UUr.bam, \n",
    "         reads_to_donor_MUd_MMr.bam, reads_to_donor_MUd_MUr.bam, reads_to_donor_MUd_UMr.bam, reads_to_donor_MUd_UUr.bam, \n",
    "         reads_to_donor_UMd_MMr.bam, reads_to_donor_UMd_MUr.bam, reads_to_donor_UMd_UMr.bam, reads_to_donor_UMd_UUr.bam, \n",
    "         reads_to_donor_UUd_MMr.bam, reads_to_donor_UUd_MUr.bam, reads_to_donor_UUd_UMr.bam, reads_to_donor_UUd_UUr.bam), print_file_state)"
   ]
  },
  {
   "cell_type": "markdown",
   "metadata": {},
   "source": [
    "## Pipeline metrics visualization"
   ]
  },
  {
   "cell_type": "markdown",
   "metadata": {},
   "source": [
    "### FASTQ metrics comparison before and after trimming"
   ]
  },
  {
   "cell_type": "code",
   "execution_count": 26,
   "metadata": {},
   "outputs": [
    {
     "data": {
      "text/html": [
       "<!doctype html>\n",
       "<html>\n",
       "\t<head>\n",
       "\t\t<meta charset=\"utf-8\">\n",
       "\t\t\n",
       "\t</head>\n",
       "\t<body>\n",
       "\t\t<iframe width=\"100%\" height=\"500\" src=\"../../wallaby/workflows/cromwell-final-outputs/multiqc_before_and_after_trimmomatic_report.html\"></iframe>\n",
       "\t</body>\n",
       "</html>\n"
      ],
      "text/plain": [
       "Shiny tags cannot be represented in plain text (need html)"
      ]
     },
     "metadata": {
      "text/html": {
       "isolated": true
      }
     },
     "output_type": "display_data"
    }
   ],
   "source": [
    "iframe(width = \"100%\", height = \"500\", url_link = paste(outputs_folder, \"multiqc_before_and_after_trimmomatic_report.html\", sep = \"\"))"
   ]
  },
  {
   "cell_type": "markdown",
   "metadata": {},
   "source": [
    "### BAM metrics for all crossed BAMs"
   ]
  },
  {
   "cell_type": "code",
   "execution_count": 27,
   "metadata": {},
   "outputs": [
    {
     "data": {
      "text/html": [
       "<!doctype html>\n",
       "<html>\n",
       "\t<head>\n",
       "\t\t<meta charset=\"utf-8\">\n",
       "\t\t\n",
       "\t</head>\n",
       "\t<body>\n",
       "\t\t<iframe width=\"100%\" height=\"500\" src=\"../../wallaby/workflows/cromwell-final-outputs/multiqc_all_donor_metrics.html\"></iframe>\n",
       "\t</body>\n",
       "</html>\n"
      ],
      "text/plain": [
       "Shiny tags cannot be represented in plain text (need html)"
      ]
     },
     "metadata": {
      "text/html": {
       "isolated": true
      }
     },
     "output_type": "display_data"
    }
   ],
   "source": [
    "iframe(width = \"100%\", height = \"500\", url_link = paste(outputs_folder, \"multiqc_all_donor_metrics.html\", sep = \"\"))"
   ]
  },
  {
   "cell_type": "code",
   "execution_count": 28,
   "metadata": {},
   "outputs": [
    {
     "data": {
      "text/html": [
       "<!doctype html>\n",
       "<html>\n",
       "\t<head>\n",
       "\t\t<meta charset=\"utf-8\">\n",
       "\t\t\n",
       "\t</head>\n",
       "\t<body>\n",
       "\t\t<iframe width=\"100%\" height=\"500\" src=\"../../wallaby/workflows/cromwell-final-outputs/multiqc_all_recipient_metrics.html\"></iframe>\n",
       "\t</body>\n",
       "</html>\n"
      ],
      "text/plain": [
       "Shiny tags cannot be represented in plain text (need html)"
      ]
     },
     "metadata": {
      "text/html": {
       "isolated": true
      }
     },
     "output_type": "display_data"
    }
   ],
   "source": [
    "iframe(width = \"100%\", height = \"500\", url_link = paste(outputs_folder, \"multiqc_all_recipient_metrics.html\", sep = \"\"))"
   ]
  },
  {
   "cell_type": "markdown",
   "metadata": {},
   "source": [
    "## Visualize all reads in donor genome"
   ]
  },
  {
   "cell_type": "code",
   "execution_count": 29,
   "metadata": {},
   "outputs": [],
   "source": [
    "summary_fasta <- summary(read.fasta(donor_ref_genome) )"
   ]
  },
  {
   "cell_type": "code",
   "execution_count": 30,
   "metadata": {},
   "outputs": [],
   "source": [
    "summary_fasta_lengths <- summary_fasta[, \"Length\"]"
   ]
  },
  {
   "cell_type": "code",
   "execution_count": 31,
   "metadata": {},
   "outputs": [],
   "source": [
    "# Calculate total organism length, adding up all possible separate segments in genome\n",
    "sequence_sum <- c()\n",
    "for (item in c(1,length(summary_fasta_lengths))) { sequence_sum <- c(sequence_sum, strtoi(summary_fasta_lengths[[item]])) }\n",
    "total_genome_length <- sum(sequence_sum)"
   ]
  },
  {
   "cell_type": "code",
   "execution_count": 32,
   "metadata": {},
   "outputs": [
    {
     "data": {
      "text/plain": [
       "GRanges object with 2780 ranges and 2 metadata columns:\n",
       "            seqnames    ranges strand |                 name     score\n",
       "               <Rle> <IRanges>  <Rle> |          <character> <numeric>\n",
       "     [1] NC_001526.4      1-80      + | SRR5090597.3171447/1        60\n",
       "     [2] NC_001526.4      1-67      + | SRR5090597.4105083/2        60\n",
       "     [3] NC_001526.4      1-69      + | SRR5090597.1172881/1        60\n",
       "     [4] NC_001526.4      1-67      + | SRR5090597.1482598/1        60\n",
       "     [5] NC_001526.4      1-86      - | SRR5090597.4105083/1        60\n",
       "     ...         ...       ...    ... .                  ...       ...\n",
       "  [2776] NC_001526.4 7860-7906      - | SRR5090597.5701802/1        60\n",
       "  [2777] NC_001526.4 7865-7906      + | SRR5090597.4619628/2        60\n",
       "  [2778] NC_001526.4 7868-7906      - | SRR5090597.2019907/1        60\n",
       "  [2779] NC_001526.4 7874-7906      - |  SRR5090597.607353/1        60\n",
       "  [2780] NC_001526.4 7882-7906      - | SRR5090597.5083922/1        60\n",
       "  -------\n",
       "  seqinfo: 1 sequence from an unspecified genome; no seqlengths"
      ]
     },
     "metadata": {},
     "output_type": "display_data"
    }
   ],
   "source": [
    "# Check and change the organism ID below\n",
    "reads_to_donor_MMd_MMr.bed.gr"
   ]
  },
  {
   "cell_type": "code",
   "execution_count": 33,
   "metadata": {},
   "outputs": [],
   "source": [
    "# Building a custom GRanges for a bacterial genome\n",
    "custom.genome <- toGRanges(data.frame(chr=c(\"NC_001526.4\"), start=c(1), end=c(total_genome_length)))"
   ]
  },
  {
   "cell_type": "markdown",
   "metadata": {},
   "source": [
    "#### FOR THE NEXT STEP TO WORK, THE ORGANISM NAME IN custom.genome NEEDS TO MATCH THE ONE IN reads_to_donor_MMd_MUr.bed.gr"
   ]
  },
  {
   "cell_type": "code",
   "execution_count": 35,
   "metadata": {},
   "outputs": [
    {
     "name": "stdout",
     "output_type": "stream",
     "text": [
      "[1] \"Window size for density calculation, in (kb):  159\"\n"
     ]
    },
    {
     "data": {
      "image/png": "[encoded data removed]",
      "text/plain": [
       "plot without title"
      ]
     },
     "metadata": {
      "image/png": {
       "height": 480,
       "width": 1200
      }
     },
     "output_type": "display_data"
    }
   ],
   "source": [
    "options(repr.plot.width=20, repr.plot.height=8)\n",
    "\n",
    "plot.type <- 4\n",
    "tracks <- 2\n",
    "track_sep <- 0.05\n",
    "track_width <- 1/(tracks+tracks*0.05)\n",
    "window.size <- ceiling(total_genome_length/100) # averaged every # reads in window\n",
    "print(paste(\"Window size for density calculation, in (kb): \", window.size))\n",
    "genome = custom.genome\n",
    "\n",
    "pp <- getDefaultPlotParams(plot.type=plot.type)\n",
    "pp$leftmargin <- 0.13\n",
    "kp <- plotKaryotype(genome=genome, plot.type = plot.type, plot.params = pp)\n",
    "kpAddBaseNumbers(kp, tick.dist = window.size*50, add.units = TRUE)\n",
    "\n",
    "track_no=1\n",
    "r0 <- (track_no-1)*track_width+(track_no-1)*track_sep\n",
    "r1 <- track_no*track_width+(track_no-1)*track_sep\n",
    "kp <- suppressWarnings(kpPlotDensity(kp, data=reads_to_donor_MUd_UMr.bed.gr, window.size = window.size, col=\"blue\", r0=r0, r1=r1))\n",
    "kpAxis(kp, ymax=kp$latest.plot$computed.values$max.density, cex=0.8, r0=r0, r1=r1)\n",
    "kpAddLabels(kp, labels = \"donor_MUd_UMr\", r0=r0, r1=r1, label.margin = 0.04)\n",
    "\n",
    "track_no=2\n",
    "r0 <- (track_no-1)*track_width+(track_no-1)*track_sep\n",
    "r1 <- track_no*track_width+(track_no-1)*track_sep\n",
    "kp <- suppressWarnings(kpPlotDensity(kp, data=reads_to_donor_UMd_MUr.bed.gr, window.size = window.size, col=\"red\", r0=r0, r1=r1))\n",
    "kpAxis(kp, ymax=kp$latest.plot$computed.values$max.density, cex=0.8, r0=r0, r1=r1)\n",
    "kpAddLabels(kp, labels = \"donor_UMd_MUr\", r0=r0, r1=r1, label.margin = 0.04)"
   ]
  },
  {
   "cell_type": "markdown",
   "metadata": {},
   "source": [
    "## Visualize reads in recipient genome"
   ]
  },
  {
   "cell_type": "code",
   "execution_count": 36,
   "metadata": {},
   "outputs": [
    {
     "name": "stdout",
     "output_type": "stream",
     "text": [
      "[1] \"Window size for density calculation, in (kb):  1e+06\"\n"
     ]
    },
    {
     "data": {
      "image/png": "[encoded data removed]",
      "text/plain": [
       "plot without title"
      ]
     },
     "metadata": {
      "image/png": {
       "height": 480,
       "width": 1200
      }
     },
     "output_type": "display_data"
    }
   ],
   "source": [
    "options(repr.plot.width=20, repr.plot.height=8)\n",
    "\n",
    "plot.type <- 4\n",
    "tracks <- 2\n",
    "track_sep <- 0.05\n",
    "track_width <- 1/(tracks+tracks*0.05)\n",
    "window.size <- 1e6 # averaged every # reads in window\n",
    "print(paste(\"Window size for density calculation, in (kb): \", window.size))\n",
    "genome = \"hg38\"\n",
    "\n",
    "pp <- getDefaultPlotParams(plot.type=plot.type)\n",
    "pp$leftmargin <- 0.13\n",
    "kp <- plotKaryotype(genome=genome, plot.type = plot.type, plot.params = pp, labels.plotter = NULL)\n",
    "kpAddChromosomeNames(kp, srt=45)\n",
    "\n",
    "track_no=1\n",
    "r0 <- (track_no-1)*track_width+(track_no-1)*track_sep\n",
    "r1 <- track_no*track_width+(track_no-1)*track_sep\n",
    "kp <- suppressWarnings(kpPlotDensity(kp, data=reads_to_recipient_MUd_UMr.bed.gr, window.size = window.size, col=\"blue\", r0=r0, r1=r1))\n",
    "kpAxis(kp, ymax=kp$latest.plot$computed.values$max.density, cex=0.8, r0=r0, r1=r1)\n",
    "kpAddLabels(kp, labels = \"recipient_MUd_UMr\", r0=r0, r1=r1, label.margin = 0.04)\n",
    "\n",
    "track_no=2\n",
    "r0 <- (track_no-1)*track_width+(track_no-1)*track_sep\n",
    "r1 <- track_no*track_width+(track_no-1)*track_sep\n",
    "kp <- suppressWarnings(kpPlotDensity(kp, data=reads_to_recipient_UMd_MUr.bed.gr, window.size = window.size, col=\"red\", r0=r0, r1=r1))\n",
    "kpAxis(kp, ymax=kp$latest.plot$computed.values$max.density, cex=0.8, r0=r0, r1=r1)\n",
    "kpAddLabels(kp, labels = \"recipient_UMd_MUr\", r0=r0, r1=r1, label.margin = 0.04)"
   ]
  },
  {
   "cell_type": "markdown",
   "metadata": {},
   "source": [
    "## Visualize reads in donor and recipient genomes"
   ]
  },
  {
   "cell_type": "code",
   "execution_count": 37,
   "metadata": {},
   "outputs": [
    {
     "name": "stdout",
     "output_type": "stream",
     "text": [
      "[1] \"Window size for density calculation, in (kb):  1e+05\"\n"
     ]
    },
    {
     "data": {
      "image/png": "[encoded data removed]",
      "text/plain": [
       "plot without title"
      ]
     },
     "metadata": {
      "image/png": {
       "height": 480,
       "width": 1200
      }
     },
     "output_type": "display_data"
    }
   ],
   "source": [
    "options(repr.plot.width=20, repr.plot.height=8)\n",
    "\n",
    "plot.type <- 4\n",
    "tracks <- 2\n",
    "track_sep <- 0.05\n",
    "track_width <- 1/(tracks+tracks*0.05)\n",
    "window.size <- 1e5 # averaged every # reads in window\n",
    "print(paste(\"Window size for density calculation, in (kb): \", window.size))\n",
    "genome = \"hg38\"\n",
    "chromosomes = c('chr1')\n",
    "\n",
    "pp <- getDefaultPlotParams(plot.type=plot.type)\n",
    "pp$leftmargin <- 0.13\n",
    "kp <- plotKaryotype(genome=genome, plot.type = plot.type, plot.params = pp, chromosomes = chromosomes)\n",
    "kpAddBaseNumbers(kp, tick.dist = window.size*50, add.units = TRUE)\n",
    "\n",
    "track_no=1\n",
    "r0 <- (track_no-1)*track_width+(track_no-1)*track_sep\n",
    "r1 <- track_no*track_width+(track_no-1)*track_sep\n",
    "kp <- suppressWarnings(kpPlotDensity(kp, data=reads_to_recipient_MUd_UMr.bed.gr, window.size = window.size, col=\"yellow\", r0=r0, r1=r1))\n",
    "kpAxis(kp, ymax=kp$latest.plot$computed.values$max.density, cex=0.8, r0=r0, r1=r1)\n",
    "kpAddLabels(kp, labels = \"recipient_MUd_UMr\", r0=r0, r1=r1, label.margin = 0.04)\n",
    "\n",
    "track_no=2\n",
    "r0 <- (track_no-1)*track_width+(track_no-1)*track_sep\n",
    "r1 <- track_no*track_width+(track_no-1)*track_sep\n",
    "kp <- suppressWarnings(kpPlotDensity(kp, data=reads_to_recipient_UMd_MUr.bed.gr, window.size = window.size, col=\"red\", r0=r0, r1=r1))\n",
    "kpAxis(kp, ymax=kp$latest.plot$computed.values$max.density, cex=0.8, r0=r0, r1=r1)\n",
    "kpAddLabels(kp, labels = \"recipient_UMd_MUr\", r0=r0, r1=r1, label.margin = 0.04)"
   ]
  },
  {
   "cell_type": "code",
   "execution_count": 24,
   "metadata": {},
   "outputs": [
    {
     "name": "stdout",
     "output_type": "stream",
     "text": [
      "[1] \"Window size for density calculation, in (kb):  100\"\n"
     ]
    },
    {
     "data": {
      "image/png": "[encoded data removed]",
      "text/plain": [
       "plot without title"
      ]
     },
     "metadata": {
      "image/png": {
       "height": 480,
       "width": 1200
      }
     },
     "output_type": "display_data"
    }
   ],
   "source": [
    "options(repr.plot.width=20, repr.plot.height=8)\n",
    "\n",
    "plot.type <- 4\n",
    "tracks <- 2\n",
    "track_sep <- 0.05\n",
    "track_width <- 1/(tracks+tracks*0.05)\n",
    "window.size <- 1e2 # averaged every # reads in window\n",
    "print(paste(\"Window size for density calculation, in (kb): \", window.size))\n",
    "genome = \"hg38\"\n",
    "chromosomes = c('chr2')\n",
    "\n",
    "zoom.region <- toGRanges(data.frame(\"chr2\", 32915000, 32920500))\n",
    "\n",
    "pp <- getDefaultPlotParams(plot.type=plot.type)\n",
    "pp$leftmargin <- 0.13\n",
    "kp <- plotKaryotype(genome=genome, plot.type = plot.type, plot.params = pp, chromosomes = chromosomes, zoom=zoom.region)\n",
    "kpAddBaseNumbers(kp, tick.dist = window.size*50, add.units = TRUE)\n",
    "\n",
    "track_no=1\n",
    "r0 <- (track_no-1)*track_width+(track_no-1)*track_sep\n",
    "r1 <- track_no*track_width+(track_no-1)*track_sep\n",
    "kp <- suppressWarnings(kpPlotDensity(kp, data=reads_to_recipient_MUd_UMr.bed.gr, window.size = window.size, col=\"yellow\", r0=r0, r1=r1))\n",
    "kpAxis(kp, ymax=kp$latest.plot$computed.values$max.density, cex=0.8, r0=r0, r1=r1)\n",
    "kpAddLabels(kp, labels = \"recipient_MUd_UMr\", r0=r0, r1=r1, label.margin = 0.04)\n",
    "\n",
    "track_no=2\n",
    "r0 <- (track_no-1)*track_width+(track_no-1)*track_sep\n",
    "r1 <- track_no*track_width+(track_no-1)*track_sep\n",
    "kp <- suppressWarnings(kpPlotDensity(kp, data=reads_to_recipient_UMd_MUr.bed.gr, window.size = window.size, col=\"red\", r0=r0, r1=r1))\n",
    "kpAxis(kp, ymax=kp$latest.plot$computed.values$max.density, cex=0.8, r0=r0, r1=r1)\n",
    "kpAddLabels(kp, labels = \"recipient_UMd_MUr\", r0=r0, r1=r1, label.margin = 0.04)"
   ]
  },
  {
   "cell_type": "code",
   "execution_count": 25,
   "metadata": {},
   "outputs": [
    {
     "name": "stdout",
     "output_type": "stream",
     "text": [
      "[1] \"Window size for density calculation, in (kb):  10\"\n"
     ]
    },
    {
     "data": {
      "image/png": "[encoded data removed]",
      "text/plain": [
       "plot without title"
      ]
     },
     "metadata": {
      "image/png": {
       "height": 600,
       "width": 1200
      }
     },
     "output_type": "display_data"
    }
   ],
   "source": [
    "options(repr.plot.width=20, repr.plot.height=10)\n",
    "\n",
    "plot.type <- 2\n",
    "window.size <- 10 # averaged every # reads in window\n",
    "print(paste(\"Window size for density calculation, in (kb): \", window.size))\n",
    "genome = \"hg38\"\n",
    "\n",
    "zoom.region <- toGRanges(data.frame(\"chr2\", 32915000, 32920500))\n",
    "\n",
    "pp <- getDefaultPlotParams(plot.type=plot.type)\n",
    "pp$leftmargin <- 0.13\n",
    "kp <- plotKaryotype(genome=genome, plot.type = plot.type, plot.params = pp, chromosomes = 'chr2', zoom=zoom.region)\n",
    "\n",
    "kpPlotDensity(kp, data=reads_to_recipient_UMd_MUr.bed.gr, window.size = window.size)\n",
    "kpPlotRegions(kp, data=reads_to_recipient_UMd_MUr.bed.gr, data.panel=2)"
   ]
  },
  {
   "cell_type": "markdown",
   "metadata": {},
   "source": [
    "## Breakdown of species in BLAST files"
   ]
  },
  {
   "cell_type": "code",
   "execution_count": 28,
   "metadata": {},
   "outputs": [],
   "source": [
    "# qseqid means Query Seq-id\n",
    "#               qgi means Query GI\n",
    "#              qacc means Query accesion\n",
    "#           qaccver means Query accesion.version\n",
    "#              qlen means Query sequence length\n",
    "#            sseqid means Subject Seq-id\n",
    "#         sallseqid means All subject Seq-id(s), separated by a ';'\n",
    "#               sgi means Subject GI\n",
    "#            sallgi means All subject GIs\n",
    "#              sacc means Subject accession\n",
    "#           saccver means Subject accession.version\n",
    "#           sallacc means All subject accessions\n",
    "#              slen means Subject sequence length\n",
    "#            qstart means Start of alignment in query\n",
    "#              qend means End of alignment in query\n",
    "#            sstart means Start of alignment in subject\n",
    "#              send means End of alignment in subject\n",
    "#              qseq means Aligned part of query sequence\n",
    "#              sseq means Aligned part of subject sequence\n",
    "#            evalue means Expect value\n",
    "#          bitscore means Bit score\n",
    "#             score means Raw score\n",
    "#            length means Alignment length\n",
    "#            pident means Percentage of identical matches\n",
    "#            nident means Number of identical matches\n",
    "#          mismatch means Number of mismatches\n",
    "#          positive means Number of positive-scoring matches\n",
    "#           gapopen means Number of gap openings\n",
    "#              gaps means Total number of gaps\n",
    "#              ppos means Percentage of positive-scoring matches\n",
    "#            frames means Query and subject frames separated by a '/'\n",
    "#            qframe means Query frame\n",
    "#            sframe means Subject frame\n",
    "#              btop means Blast traceback operations (BTOP)\n",
    "#           staxids means Subject Taxonomy ID(s), separated by a ';'\n",
    "#         sscinames means Subject Scientific Name(s), separated by a ';'\n",
    "#         scomnames means Subject Common Name(s), separated by a ';'\n",
    "#        sblastnames means Subject Blast Name(s), separated by a ';'\n",
    "#                 (in alphabetical order)\n",
    "#        sskingdoms means Subject Super Kingdom(s), separated by a ';'\n",
    "#                 (in alphabetical order) \n",
    "#            stitle means Subject Title\n",
    "#        salltitles means All Subject Title(s), separated by a '&lt;&gt;'\n",
    "#           sstrand means Subject Strand\n",
    "#             qcovs means Query Coverage Per Subject\n",
    "#           qcovhsp means Query Coverage Per HSP"
   ]
  },
  {
   "cell_type": "code",
   "execution_count": 92,
   "metadata": {},
   "outputs": [],
   "source": [
    "headers <- c(\"org\", \"seqid\", \"qacc\", \"qlen\", \"sseqid\", \"sallseqid\", \"sgi\",\n",
    "             \"sallgi\", \"sacc\", \"saccver\", \"sallacc\", \"slen\", \"qstart\", \"qend\", \"sstart\",\n",
    "             'send', \"qseq\", \"sseq\", \"evalue\", \"bitscore\", \"score\", \"length\", \"pident\",\n",
    "             'nident', \"mismatch\", \"positive\", \"gapopen\", \"gaps\", \"ppos\", \"frames\",\n",
    "             \"qframe\", \"sframe\", \"btop\", \"staxid\", \"ssciname\", \"scomname\", \"sblastname\",\n",
    "             \"sskingdom\", \"staxids\", \"sscinames\", \"scomnames\", \"sblastnames\",\n",
    "             \"sskingdoms\", \"stitle\", \"salltitles\", \"sstrand\", \"qcovs\", \"qcovhsp\", \"qcovus\")\n",
    "blast <- read.table(reads_to_recipient_MUd_UMr.blastn, sep=\"\\t\", header=FALSE, fill = TRUE, stringsAsFactors=T)\n",
    "colnames(blast) <- headers"
   ]
  },
  {
   "cell_type": "code",
   "execution_count": 93,
   "metadata": {},
   "outputs": [],
   "source": [
    "# Select blast dataset columns\n",
    "donor_blast <- blast[c(\"seqid\", \"qlen\", \"sgi\",\n",
    "             \"saccver\", \"sallacc\", \"slen\", \"qstart\", \"qend\", \"sstart\",\n",
    "             'send', \"evalue\", \"bitscore\", \"score\", \"length\", \"pident\",\n",
    "             'nident', \"mismatch\", \"positive\", \"gapopen\", \"gaps\", \"ppos\", \"frames\",\n",
    "             \"qframe\", \"sframe\", \"btop\", \"staxid\", \"ssciname\", \"scomname\", \"sblastname\",\n",
    "             \"sskingdom\", \"stitle\", \"sstrand\", \"qcovs\", \"qcovhsp\", \"qcovus\")]\n",
    "# Subset by donor name\n",
    "donor_blast <- droplevels(subset(donor_blast, ssciname == \"Pseudomonas aeruginosa PAO1\"))\n",
    "# Subset by evalue < 1e-20 (very good blast match)\n",
    "donor_blast <- subset(donor_blast, evalue < 1e-20)"
   ]
  },
  {
   "cell_type": "code",
   "execution_count": 94,
   "metadata": {},
   "outputs": [
    {
     "data": {
      "text/html": [
       "<style>\n",
       ".list-inline {list-style: none; margin:0; padding: 0}\n",
       ".list-inline>li {display: inline-block}\n",
       ".list-inline>li:not(:last-child)::after {content: \"\\00b7\"; padding: 0 .5ex}\n",
       "</style>\n",
       "<ol class=list-inline><li>0</li><li>35</li></ol>\n"
      ],
      "text/latex": [
       "\\begin{enumerate*}\n",
       "\\item 0\n",
       "\\item 35\n",
       "\\end{enumerate*}\n"
      ],
      "text/markdown": [
       "1. 0\n",
       "2. 35\n",
       "\n",
       "\n"
      ],
      "text/plain": [
       "[1]  0 35"
      ]
     },
     "metadata": {},
     "output_type": "display_data"
    },
    {
     "data": {
      "text/html": [
       "<table>\n",
       "<caption>A data.frame: 0 × 35</caption>\n",
       "<thead>\n",
       "\t<tr><th scope=col>seqid</th><th scope=col>qlen</th><th scope=col>sgi</th><th scope=col>saccver</th><th scope=col>sallacc</th><th scope=col>slen</th><th scope=col>qstart</th><th scope=col>qend</th><th scope=col>sstart</th><th scope=col>send</th><th scope=col>evalue</th><th scope=col>bitscore</th><th scope=col>score</th><th scope=col>length</th><th scope=col>pident</th><th scope=col>nident</th><th scope=col>mismatch</th><th scope=col>positive</th><th scope=col>gapopen</th><th scope=col>gaps</th><th scope=col>ppos</th><th scope=col>frames</th><th scope=col>qframe</th><th scope=col>sframe</th><th scope=col>btop</th><th scope=col>staxid</th><th scope=col>ssciname</th><th scope=col>scomname</th><th scope=col>sblastname</th><th scope=col>sskingdom</th><th scope=col>stitle</th><th scope=col>sstrand</th><th scope=col>qcovs</th><th scope=col>qcovhsp</th><th scope=col>qcovus</th></tr>\n",
       "\t<tr><th scope=col>&lt;fct&gt;</th><th scope=col>&lt;int&gt;</th><th scope=col>&lt;int&gt;</th><th scope=col>&lt;fct&gt;</th><th scope=col>&lt;fct&gt;</th><th scope=col>&lt;int&gt;</th><th scope=col>&lt;int&gt;</th><th scope=col>&lt;int&gt;</th><th scope=col>&lt;int&gt;</th><th scope=col>&lt;int&gt;</th><th scope=col>&lt;dbl&gt;</th><th scope=col>&lt;dbl&gt;</th><th scope=col>&lt;int&gt;</th><th scope=col>&lt;int&gt;</th><th scope=col>&lt;dbl&gt;</th><th scope=col>&lt;int&gt;</th><th scope=col>&lt;int&gt;</th><th scope=col>&lt;int&gt;</th><th scope=col>&lt;int&gt;</th><th scope=col>&lt;int&gt;</th><th scope=col>&lt;dbl&gt;</th><th scope=col>&lt;fct&gt;</th><th scope=col>&lt;int&gt;</th><th scope=col>&lt;int&gt;</th><th scope=col>&lt;fct&gt;</th><th scope=col>&lt;int&gt;</th><th scope=col>&lt;fct&gt;</th><th scope=col>&lt;fct&gt;</th><th scope=col>&lt;fct&gt;</th><th scope=col>&lt;fct&gt;</th><th scope=col>&lt;fct&gt;</th><th scope=col>&lt;fct&gt;</th><th scope=col>&lt;int&gt;</th><th scope=col>&lt;int&gt;</th><th scope=col>&lt;int&gt;</th></tr>\n",
       "</thead>\n",
       "<tbody>\n",
       "</tbody>\n",
       "</table>\n"
      ],
      "text/latex": [
       "A data.frame: 0 × 35\n",
       "\\begin{tabular}{lllllllllllllllllllllllllllllllllll}\n",
       " seqid & qlen & sgi & saccver & sallacc & slen & qstart & qend & sstart & send & evalue & bitscore & score & length & pident & nident & mismatch & positive & gapopen & gaps & ppos & frames & qframe & sframe & btop & staxid & ssciname & scomname & sblastname & sskingdom & stitle & sstrand & qcovs & qcovhsp & qcovus\\\\\n",
       " <fct> & <int> & <int> & <fct> & <fct> & <int> & <int> & <int> & <int> & <int> & <dbl> & <dbl> & <int> & <int> & <dbl> & <int> & <int> & <int> & <int> & <int> & <dbl> & <fct> & <int> & <int> & <fct> & <int> & <fct> & <fct> & <fct> & <fct> & <fct> & <fct> & <int> & <int> & <int>\\\\\n",
       "\\hline\n",
       "\\end{tabular}\n"
      ],
      "text/markdown": [
       "\n",
       "A data.frame: 0 × 35\n",
       "\n",
       "| seqid &lt;fct&gt; | qlen &lt;int&gt; | sgi &lt;int&gt; | saccver &lt;fct&gt; | sallacc &lt;fct&gt; | slen &lt;int&gt; | qstart &lt;int&gt; | qend &lt;int&gt; | sstart &lt;int&gt; | send &lt;int&gt; | evalue &lt;dbl&gt; | bitscore &lt;dbl&gt; | score &lt;int&gt; | length &lt;int&gt; | pident &lt;dbl&gt; | nident &lt;int&gt; | mismatch &lt;int&gt; | positive &lt;int&gt; | gapopen &lt;int&gt; | gaps &lt;int&gt; | ppos &lt;dbl&gt; | frames &lt;fct&gt; | qframe &lt;int&gt; | sframe &lt;int&gt; | btop &lt;fct&gt; | staxid &lt;int&gt; | ssciname &lt;fct&gt; | scomname &lt;fct&gt; | sblastname &lt;fct&gt; | sskingdom &lt;fct&gt; | stitle &lt;fct&gt; | sstrand &lt;fct&gt; | qcovs &lt;int&gt; | qcovhsp &lt;int&gt; | qcovus &lt;int&gt; |\n",
       "|---|---|---|---|---|---|---|---|---|---|---|---|---|---|---|---|---|---|---|---|---|---|---|---|---|---|---|---|---|---|---|---|---|---|---|\n",
       "\n"
      ],
      "text/plain": [
       "     seqid qlen sgi saccver sallacc slen qstart qend sstart send evalue\n",
       "     bitscore score length pident nident mismatch positive gapopen gaps ppos\n",
       "     frames qframe sframe btop staxid ssciname scomname sblastname sskingdom\n",
       "     stitle sstrand qcovs qcovhsp qcovus"
      ]
     },
     "metadata": {},
     "output_type": "display_data"
    }
   ],
   "source": [
    "options(repr.matrix.max.cols=150, repr.matrix.max.rows=200)\n",
    "dim(donor_blast)\n",
    "head(donor_blast)"
   ]
  },
  {
   "cell_type": "code",
   "execution_count": 95,
   "metadata": {},
   "outputs": [],
   "source": [
    "donor_blast <- donor_blast %>% group_by(seqid) %>% slice_min(n = 2, order_by = evalue) %>% unique()"
   ]
  },
  {
   "cell_type": "code",
   "execution_count": 96,
   "metadata": {},
   "outputs": [
    {
     "data": {
      "text/html": [
       "<table>\n",
       "<caption>A grouped_df: 0 × 35</caption>\n",
       "<thead>\n",
       "\t<tr><th scope=col>seqid</th><th scope=col>qlen</th><th scope=col>sgi</th><th scope=col>saccver</th><th scope=col>sallacc</th><th scope=col>slen</th><th scope=col>qstart</th><th scope=col>qend</th><th scope=col>sstart</th><th scope=col>send</th><th scope=col>evalue</th><th scope=col>bitscore</th><th scope=col>score</th><th scope=col>length</th><th scope=col>pident</th><th scope=col>nident</th><th scope=col>mismatch</th><th scope=col>positive</th><th scope=col>gapopen</th><th scope=col>gaps</th><th scope=col>ppos</th><th scope=col>frames</th><th scope=col>qframe</th><th scope=col>sframe</th><th scope=col>btop</th><th scope=col>staxid</th><th scope=col>ssciname</th><th scope=col>scomname</th><th scope=col>sblastname</th><th scope=col>sskingdom</th><th scope=col>stitle</th><th scope=col>sstrand</th><th scope=col>qcovs</th><th scope=col>qcovhsp</th><th scope=col>qcovus</th></tr>\n",
       "\t<tr><th scope=col>&lt;fct&gt;</th><th scope=col>&lt;int&gt;</th><th scope=col>&lt;int&gt;</th><th scope=col>&lt;fct&gt;</th><th scope=col>&lt;fct&gt;</th><th scope=col>&lt;int&gt;</th><th scope=col>&lt;int&gt;</th><th scope=col>&lt;int&gt;</th><th scope=col>&lt;int&gt;</th><th scope=col>&lt;int&gt;</th><th scope=col>&lt;dbl&gt;</th><th scope=col>&lt;dbl&gt;</th><th scope=col>&lt;int&gt;</th><th scope=col>&lt;int&gt;</th><th scope=col>&lt;dbl&gt;</th><th scope=col>&lt;int&gt;</th><th scope=col>&lt;int&gt;</th><th scope=col>&lt;int&gt;</th><th scope=col>&lt;int&gt;</th><th scope=col>&lt;int&gt;</th><th scope=col>&lt;dbl&gt;</th><th scope=col>&lt;fct&gt;</th><th scope=col>&lt;int&gt;</th><th scope=col>&lt;int&gt;</th><th scope=col>&lt;fct&gt;</th><th scope=col>&lt;int&gt;</th><th scope=col>&lt;fct&gt;</th><th scope=col>&lt;fct&gt;</th><th scope=col>&lt;fct&gt;</th><th scope=col>&lt;fct&gt;</th><th scope=col>&lt;fct&gt;</th><th scope=col>&lt;fct&gt;</th><th scope=col>&lt;int&gt;</th><th scope=col>&lt;int&gt;</th><th scope=col>&lt;int&gt;</th></tr>\n",
       "</thead>\n",
       "<tbody>\n",
       "</tbody>\n",
       "</table>\n"
      ],
      "text/latex": [
       "A grouped\\_df: 0 × 35\n",
       "\\begin{tabular}{lllllllllllllllllllllllllllllllllll}\n",
       " seqid & qlen & sgi & saccver & sallacc & slen & qstart & qend & sstart & send & evalue & bitscore & score & length & pident & nident & mismatch & positive & gapopen & gaps & ppos & frames & qframe & sframe & btop & staxid & ssciname & scomname & sblastname & sskingdom & stitle & sstrand & qcovs & qcovhsp & qcovus\\\\\n",
       " <fct> & <int> & <int> & <fct> & <fct> & <int> & <int> & <int> & <int> & <int> & <dbl> & <dbl> & <int> & <int> & <dbl> & <int> & <int> & <int> & <int> & <int> & <dbl> & <fct> & <int> & <int> & <fct> & <int> & <fct> & <fct> & <fct> & <fct> & <fct> & <fct> & <int> & <int> & <int>\\\\\n",
       "\\hline\n",
       "\\end{tabular}\n"
      ],
      "text/markdown": [
       "\n",
       "A grouped_df: 0 × 35\n",
       "\n",
       "| seqid &lt;fct&gt; | qlen &lt;int&gt; | sgi &lt;int&gt; | saccver &lt;fct&gt; | sallacc &lt;fct&gt; | slen &lt;int&gt; | qstart &lt;int&gt; | qend &lt;int&gt; | sstart &lt;int&gt; | send &lt;int&gt; | evalue &lt;dbl&gt; | bitscore &lt;dbl&gt; | score &lt;int&gt; | length &lt;int&gt; | pident &lt;dbl&gt; | nident &lt;int&gt; | mismatch &lt;int&gt; | positive &lt;int&gt; | gapopen &lt;int&gt; | gaps &lt;int&gt; | ppos &lt;dbl&gt; | frames &lt;fct&gt; | qframe &lt;int&gt; | sframe &lt;int&gt; | btop &lt;fct&gt; | staxid &lt;int&gt; | ssciname &lt;fct&gt; | scomname &lt;fct&gt; | sblastname &lt;fct&gt; | sskingdom &lt;fct&gt; | stitle &lt;fct&gt; | sstrand &lt;fct&gt; | qcovs &lt;int&gt; | qcovhsp &lt;int&gt; | qcovus &lt;int&gt; |\n",
       "|---|---|---|---|---|---|---|---|---|---|---|---|---|---|---|---|---|---|---|---|---|---|---|---|---|---|---|---|---|---|---|---|---|---|---|\n",
       "\n"
      ],
      "text/plain": [
       "     seqid qlen sgi saccver sallacc slen qstart qend sstart send evalue\n",
       "     bitscore score length pident nident mismatch positive gapopen gaps ppos\n",
       "     frames qframe sframe btop staxid ssciname scomname sblastname sskingdom\n",
       "     stitle sstrand qcovs qcovhsp qcovus"
      ]
     },
     "metadata": {},
     "output_type": "display_data"
    }
   ],
   "source": [
    "subset(donor_blast, seqid == \"SRR5377828.1437390\")"
   ]
  },
  {
   "cell_type": "code",
   "execution_count": 106,
   "metadata": {},
   "outputs": [],
   "source": [
    "## NEED TO SUBSET RESULTS TO THE TOP 5 EVALUES FOUND FOR EACH READ"
   ]
  },
  {
   "cell_type": "code",
   "execution_count": 107,
   "metadata": {},
   "outputs": [],
   "source": [
    "# Create a count of events grouped by the following\n",
    "donor_blast <- count(donor_blast, seqid, sscinames, sort = TRUE, name = 'count')\n",
    "# Rearrange the factors so that we can order them by seqid\n",
    "donor_blast <- within(donor_blast, seqid <- factor(seqid, levels=names(sort(table(seqid), decreasing=FALSE))))"
   ]
  },
  {
   "cell_type": "code",
   "execution_count": 108,
   "metadata": {},
   "outputs": [
    {
     "data": {
      "text/html": [
       "<table>\n",
       "<caption>A grouped_df: 4 × 3</caption>\n",
       "<thead>\n",
       "\t<tr><th scope=col>seqid</th><th scope=col>sscinames</th><th scope=col>count</th></tr>\n",
       "\t<tr><th scope=col>&lt;fct&gt;</th><th scope=col>&lt;fct&gt;</th><th scope=col>&lt;int&gt;</th></tr>\n",
       "</thead>\n",
       "<tbody>\n",
       "\t<tr><td>SRR5377828.1437390</td><td>Pseudomonas aeruginosa PAO1</td><td>2</td></tr>\n",
       "\t<tr><td>SRR5377828.1575507</td><td>Pseudomonas aeruginosa PAO1</td><td>2</td></tr>\n",
       "\t<tr><td>SRR5377828.201270 </td><td>Pseudomonas aeruginosa PAO1</td><td>2</td></tr>\n",
       "\t<tr><td>SRR5377828.7094691</td><td>Pseudomonas aeruginosa PAO1</td><td>2</td></tr>\n",
       "</tbody>\n",
       "</table>\n"
      ],
      "text/latex": [
       "A grouped\\_df: 4 × 3\n",
       "\\begin{tabular}{lll}\n",
       " seqid & sscinames & count\\\\\n",
       " <fct> & <fct> & <int>\\\\\n",
       "\\hline\n",
       "\t SRR5377828.1437390 & Pseudomonas aeruginosa PAO1 & 2\\\\\n",
       "\t SRR5377828.1575507 & Pseudomonas aeruginosa PAO1 & 2\\\\\n",
       "\t SRR5377828.201270  & Pseudomonas aeruginosa PAO1 & 2\\\\\n",
       "\t SRR5377828.7094691 & Pseudomonas aeruginosa PAO1 & 2\\\\\n",
       "\\end{tabular}\n"
      ],
      "text/markdown": [
       "\n",
       "A grouped_df: 4 × 3\n",
       "\n",
       "| seqid &lt;fct&gt; | sscinames &lt;fct&gt; | count &lt;int&gt; |\n",
       "|---|---|---|\n",
       "| SRR5377828.1437390 | Pseudomonas aeruginosa PAO1 | 2 |\n",
       "| SRR5377828.1575507 | Pseudomonas aeruginosa PAO1 | 2 |\n",
       "| SRR5377828.201270  | Pseudomonas aeruginosa PAO1 | 2 |\n",
       "| SRR5377828.7094691 | Pseudomonas aeruginosa PAO1 | 2 |\n",
       "\n"
      ],
      "text/plain": [
       "  seqid              sscinames                   count\n",
       "1 SRR5377828.1437390 Pseudomonas aeruginosa PAO1 2    \n",
       "2 SRR5377828.1575507 Pseudomonas aeruginosa PAO1 2    \n",
       "3 SRR5377828.201270  Pseudomonas aeruginosa PAO1 2    \n",
       "4 SRR5377828.7094691 Pseudomonas aeruginosa PAO1 2    "
      ]
     },
     "metadata": {},
     "output_type": "display_data"
    }
   ],
   "source": [
    "head(donor_blast)"
   ]
  },
  {
   "cell_type": "code",
   "execution_count": 109,
   "metadata": {},
   "outputs": [
    {
     "data": {
      "image/png": "[encoded data removed]",
      "text/plain": [
       "plot without title"
      ]
     },
     "metadata": {
      "image/png": {
       "height": 360,
       "width": 1200
      }
     },
     "output_type": "display_data"
    }
   ],
   "source": [
    "options(repr.plot.width=20, repr.plot.height=6)\n",
    "ggplot(donor_blast, aes(fill=sscinames, y=seqid, x=count)) + \n",
    "    geom_bar(position=\"stack\", stat=\"identity\")"
   ]
  },
  {
   "cell_type": "markdown",
   "metadata": {},
   "source": [
    "## Visualize reads between donor and recipient genomes"
   ]
  },
  {
   "cell_type": "code",
   "execution_count": null,
   "metadata": {},
   "outputs": [],
   "source": []
  },
  {
   "cell_type": "code",
   "execution_count": null,
   "metadata": {},
   "outputs": [],
   "source": []
  },
  {
   "cell_type": "markdown",
   "metadata": {},
   "source": [
    "## Finding areas of interest"
   ]
  },
  {
   "cell_type": "code",
   "execution_count": null,
   "metadata": {},
   "outputs": [],
   "source": []
  },
  {
   "cell_type": "code",
   "execution_count": null,
   "metadata": {},
   "outputs": [],
   "source": []
  },
  {
   "cell_type": "markdown",
   "metadata": {},
   "source": [
    "## Visualize areas of interest"
   ]
  },
  {
   "cell_type": "code",
   "execution_count": null,
   "metadata": {},
   "outputs": [],
   "source": []
  },
  {
   "cell_type": "code",
   "execution_count": 31,
   "metadata": {},
   "outputs": [],
   "source": []
  },
  {
   "cell_type": "code",
   "execution_count": null,
   "metadata": {},
   "outputs": [],
   "source": []
  }
 ],
 "metadata": {
  "kernelspec": {
   "display_name": "R",
   "language": "R",
   "name": "ir"
  },
  "language_info": {
   "codemirror_mode": "r",
   "file_extension": ".r",
   "mimetype": "text/x-r-source",
   "name": "R",
   "pygments_lexer": "r",
   "version": "4.0.2"
  }
 },
 "nbformat": 4,
 "nbformat_minor": 4
}
