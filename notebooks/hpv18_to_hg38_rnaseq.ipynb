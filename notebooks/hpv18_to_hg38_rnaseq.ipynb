{
 "cells": [
  {
   "cell_type": "markdown",
   "metadata": {},
   "source": [
    "# Output File Analysis - Multiple SRRs - Donor to Recipient Workflows"
   ]
  },
  {
   "cell_type": "markdown",
   "metadata": {},
   "source": [
    "This notebooks analyses the crossing of reads between a Human and a Donor, looking for putative insertions. When mapping thousands of reads, one would expect to find the reads to fall on a rolling window over the putative read that should look like what we see below."
   ]
  },
  {
   "cell_type": "markdown",
   "metadata": {},
   "source": [
    "<img src=\"reading_window.png\">"
   ]
  },
  {
   "cell_type": "markdown",
   "metadata": {},
   "source": [
    "## Variables"
   ]
  },
  {
   "cell_type": "markdown",
   "metadata": {},
   "source": [
    "For convenience, there might be more than one set of samples in the cells below. If so, note that the order matters, and only the last cell will be relevant, as the previous ones will be overwritten"
   ]
  },
  {
   "cell_type": "code",
   "execution_count": null,
   "metadata": {},
   "outputs": [],
   "source": [
    "## Variables\n",
    "srr_names <- c(\"SRR5090623\", \"SRR5090625\", \"SRR5090627\", \"SRR5090629\", \n",
    "               \"SRR5090631\", \"SRR5090633\", \"SRR5090635\", \"SRR5090637\", \n",
    "               \"SRR5090639\", \"SRR5090641\")\n",
    "donor_name <- \"hpv18\"\n",
    "recipient_name <- \"UCSChg38\"\n",
    "inputs_folder <- \"../../wallaby/workflows/final-outputs-hpv18-rnaseq\"\n",
    "donor_ref_genome <- \"../../wallaby/data/ref_genomes/hpv/HPV18.fa\"\n",
    "recipient_ref_genome <- \"../../wallaby/data/ref_genomes/human/hg38.fa\""
   ]
  },
  {
   "cell_type": "markdown",
   "metadata": {},
   "source": [
    "## Setup Environment"
   ]
  },
  {
   "cell_type": "code",
   "execution_count": null,
   "metadata": {},
   "outputs": [],
   "source": [
    "# Select crossings to import and order of visualization\n",
    "crossings <- c(\"UMd_MMr\", \"MUd_MMr\", \"UMd_MUr\", \"MUd_UMr\", \"MMd_UMr\", \"MMd_MUr\")"
   ]
  },
  {
   "cell_type": "code",
   "execution_count": null,
   "metadata": {},
   "outputs": [],
   "source": [
    "# Source external functions\n",
    "source(\"srrs_util.R\")"
   ]
  },
  {
   "cell_type": "code",
   "execution_count": null,
   "metadata": {},
   "outputs": [],
   "source": [
    "# Load libraries and setup multithreading\n",
    "setup_enviroment()"
   ]
  },
  {
   "cell_type": "code",
   "execution_count": null,
   "metadata": {},
   "outputs": [],
   "source": [
    "# Load all .bed files for all srrs created by the cromwell workflow\n",
    "donor_granges_all_srrs <- load_beds(srr_names, crossings, donor_name)\n",
    "recip_granges_all_srrs <- load_beds(srr_names, crossings, recipient_name)"
   ]
  },
  {
   "cell_type": "code",
   "execution_count": null,
   "metadata": {},
   "outputs": [],
   "source": [
    "# Load recipient .bam files created by the cromwell workflow\n",
    "recip_bams_all_srrs <- load_bams(srr_names, crossings, recipient_name)"
   ]
  },
  {
   "cell_type": "code",
   "execution_count": null,
   "metadata": {},
   "outputs": [],
   "source": [
    "# Create a sqlite database from TxDb and corresponding Org packages\n",
    "# The database provides a convenient way to map between gene, transcript, and protein identifiers.\n",
    "src <- suppressMessages(suppressWarnings(src_organism(\"TxDb.Hsapiens.UCSC.hg38.knownGene\")))\n",
    "# Create a full genome sequences for Homo sapiens as provided by UCSC (hg38, based on GRCh38.p12)\n",
    "Hsapiens <- BSgenome.Hsapiens.UCSC.hg38"
   ]
  },
  {
   "cell_type": "markdown",
   "metadata": {},
   "source": [
    "## Donor Analysis"
   ]
  },
  {
   "cell_type": "code",
   "execution_count": null,
   "metadata": {},
   "outputs": [],
   "source": [
    "# Aggregated view of all overlapping crossings for the potential donor for all srrs\n",
    "srrs_summary_table <- srrs_summary_table_donor (granges_list = donor_granges_all_srrs, \n",
    "                                                min_num_crossings = 2,\n",
    "                                                min_num_reads = 20)"
   ]
  },
  {
   "cell_type": "markdown",
   "metadata": {},
   "source": [
    "## Recipient Analysis"
   ]
  },
  {
   "cell_type": "code",
   "execution_count": null,
   "metadata": {},
   "outputs": [],
   "source": [
    "# Aggregated view of all overlapping crossings for the potential recipient for all srrs\n",
    "srrs_summary_table <- srrs_summary_table_recipient (granges_list = recip_granges_all_srrs, \n",
    "                                                    min_num_crossings = 2,\n",
    "                                                    min_num_reads = 20, \n",
    "                                                    src = src,\n",
    "                                                    Hsapiens = Hsapiens)"
   ]
  },
  {
   "cell_type": "markdown",
   "metadata": {},
   "source": [
    "## Donor and Recipient Graphs"
   ]
  },
  {
   "cell_type": "code",
   "execution_count": null,
   "metadata": {},
   "outputs": [],
   "source": [
    "# Source external functions\n",
    "source(\"srrs_util.R\")"
   ]
  },
  {
   "cell_type": "code",
   "execution_count": null,
   "metadata": {},
   "outputs": [],
   "source": [
    "# Plot all the overlapping reads for all 'ids' for all 'srr's\n",
    "plot_all_srrs(srr_names, srrs_summary_table, crossings, donor_granges_all_srrs, recip_granges_all_srrs, \n",
    "              recip_bams_all_srrs, donor_ref_genome, recipient_ref_genome, donor_name, recipient_name)"
   ]
  },
  {
   "cell_type": "code",
   "execution_count": null,
   "metadata": {},
   "outputs": [],
   "source": []
  },
  {
   "cell_type": "code",
   "execution_count": null,
   "metadata": {},
   "outputs": [],
   "source": []
  }
 ],
 "metadata": {
  "kernelspec": {
   "display_name": "R",
   "language": "R",
   "name": "ir"
  },
  "language_info": {
   "codemirror_mode": "r",
   "file_extension": ".r",
   "mimetype": "text/x-r-source",
   "name": "R",
   "pygments_lexer": "r",
   "version": "4.0.3"
  }
 },
 "nbformat": 4,
 "nbformat_minor": 4
}
