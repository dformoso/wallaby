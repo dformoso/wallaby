{
 "cells": [
  {
   "cell_type": "code",
   "execution_count": null,
   "id": "caf3a89f-4d70-4a49-b4e5-ccaad16fe773",
   "metadata": {},
   "outputs": [],
   "source": [
    "!pip install pandas"
   ]
  },
  {
   "cell_type": "code",
   "execution_count": 438,
   "id": "68c3858b-b8a4-43a4-8765-d7fd0791255b",
   "metadata": {},
   "outputs": [],
   "source": [
    "import igv\n",
    "import time\n",
    "import pandas"
   ]
  },
  {
   "cell_type": "code",
   "execution_count": 491,
   "id": "5fd8e9b1-f14e-4a9f-935b-38943ea718f9",
   "metadata": {},
   "outputs": [
    {
     "data": {
      "text/html": [
       "<div>\n",
       "<style scoped>\n",
       "    .dataframe tbody tr th:only-of-type {\n",
       "        vertical-align: middle;\n",
       "    }\n",
       "\n",
       "    .dataframe tbody tr th {\n",
       "        vertical-align: top;\n",
       "    }\n",
       "\n",
       "    .dataframe thead th {\n",
       "        text-align: right;\n",
       "    }\n",
       "</style>\n",
       "<table border=\"1\" class=\"dataframe\">\n",
       "  <thead>\n",
       "    <tr style=\"text-align: right;\">\n",
       "      <th></th>\n",
       "      <th>srr</th>\n",
       "      <th>id</th>\n",
       "      <th>chr</th>\n",
       "      <th>start</th>\n",
       "      <th>stop</th>\n",
       "      <th>num_crossings</th>\n",
       "      <th>unique_crossings</th>\n",
       "      <th>num_reads</th>\n",
       "      <th>gene_name</th>\n",
       "      <th>sequence</th>\n",
       "    </tr>\n",
       "  </thead>\n",
       "  <tbody>\n",
       "    <tr>\n",
       "      <th>0</th>\n",
       "      <td>SRR5090597</td>\n",
       "      <td>1.0</td>\n",
       "      <td>chr1</td>\n",
       "      <td>150576896</td>\n",
       "      <td>150577494</td>\n",
       "      <td>3</td>\n",
       "      <td>1Md_2Mr|1Md_1Mr|2Md_1Mr</td>\n",
       "      <td>386</td>\n",
       "      <td>MCL1</td>\n",
       "      <td>GCTTCCCTTGTACAGTACTGAGGCTTACAGTCATAGTTCTATTACT...</td>\n",
       "    </tr>\n",
       "    <tr>\n",
       "      <th>1</th>\n",
       "      <td>SRR5090597</td>\n",
       "      <td>2.0</td>\n",
       "      <td>chr1</td>\n",
       "      <td>150578243</td>\n",
       "      <td>150578495</td>\n",
       "      <td>3</td>\n",
       "      <td>1Md_2Mr|1Md_1Mr|2Md_1Mr</td>\n",
       "      <td>528</td>\n",
       "      <td>MCL1</td>\n",
       "      <td>CCCAGCCTCTTTGTTTAACTAGCCAGTCCCGTTTTGTCCTTACGAG...</td>\n",
       "    </tr>\n",
       "    <tr>\n",
       "      <th>2</th>\n",
       "      <td>SRR5090599</td>\n",
       "      <td>1.0</td>\n",
       "      <td>chr1</td>\n",
       "      <td>206939232</td>\n",
       "      <td>206939466</td>\n",
       "      <td>2</td>\n",
       "      <td>1Md_2Mr|1Md_1Mr</td>\n",
       "      <td>22</td>\n",
       "      <td>PIGR</td>\n",
       "      <td>GTGCCGTTCTCCGGGAAGTTGGTGAGGTTAGCCCTGCCTGCATATT...</td>\n",
       "    </tr>\n",
       "    <tr>\n",
       "      <th>3</th>\n",
       "      <td>SRR5090599</td>\n",
       "      <td>2.0</td>\n",
       "      <td>chr1</td>\n",
       "      <td>206940489</td>\n",
       "      <td>206940589</td>\n",
       "      <td>3</td>\n",
       "      <td>1Md_2Mr|1Md_1Mr|2Md_1Mr</td>\n",
       "      <td>36</td>\n",
       "      <td>PIGR</td>\n",
       "      <td>CTGGGAAGACCGCCAGCAGGCAGGTGAGCACGAAGAGCAGCATTGC...</td>\n",
       "    </tr>\n",
       "    <tr>\n",
       "      <th>4</th>\n",
       "      <td>SRR5090599</td>\n",
       "      <td>3.0</td>\n",
       "      <td>chr1</td>\n",
       "      <td>206949933</td>\n",
       "      <td>206950244</td>\n",
       "      <td>3</td>\n",
       "      <td>1Md_2Mr|1Md_1Mr|2Md_1Mr</td>\n",
       "      <td>54</td>\n",
       "      <td>NaN</td>\n",
       "      <td>GGCCACCCTCCAGGCTCTAGACGATAATCCGTTGCTTGCCTCTTCT...</td>\n",
       "    </tr>\n",
       "    <tr>\n",
       "      <th>5</th>\n",
       "      <td>SRR5090601</td>\n",
       "      <td>1.0</td>\n",
       "      <td>chr4</td>\n",
       "      <td>138685416</td>\n",
       "      <td>138685761</td>\n",
       "      <td>1</td>\n",
       "      <td>1Md_2Mr</td>\n",
       "      <td>122</td>\n",
       "      <td>NaN</td>\n",
       "      <td>AGATTAACTGTATCTTGAGAGTTGGCCAGGAGTAAGAAGAGTGTTT...</td>\n",
       "    </tr>\n",
       "    <tr>\n",
       "      <th>6</th>\n",
       "      <td>SRR5090603</td>\n",
       "      <td>1.0</td>\n",
       "      <td>chr20</td>\n",
       "      <td>33707709</td>\n",
       "      <td>33707974</td>\n",
       "      <td>2</td>\n",
       "      <td>1Md_2Mr|1Md_1Mr</td>\n",
       "      <td>29</td>\n",
       "      <td>PXMP4</td>\n",
       "      <td>ATTGGAGGGACGGCTCTTGTTATAGACGAGGAAGTCTGAGATGTCG...</td>\n",
       "    </tr>\n",
       "    <tr>\n",
       "      <th>7</th>\n",
       "      <td>SRR5090603</td>\n",
       "      <td>2.0</td>\n",
       "      <td>chr20</td>\n",
       "      <td>33710553</td>\n",
       "      <td>33710757</td>\n",
       "      <td>2</td>\n",
       "      <td>1Md_2Mr|1Md_1Mr</td>\n",
       "      <td>51</td>\n",
       "      <td>PXMP4</td>\n",
       "      <td>ACCTGGCTGTTGATGTTATTGTTTTCTCCAAACACCAGGATACCCC...</td>\n",
       "    </tr>\n",
       "    <tr>\n",
       "      <th>8</th>\n",
       "      <td>SRR5090603</td>\n",
       "      <td>3.0</td>\n",
       "      <td>chr20</td>\n",
       "      <td>33714672</td>\n",
       "      <td>33714742</td>\n",
       "      <td>3</td>\n",
       "      <td>1Md_2Mr|1Md_1Mr|2Md_1Mr</td>\n",
       "      <td>116</td>\n",
       "      <td>PXMP4</td>\n",
       "      <td>ACCTGCCATTCCGGAAGAGAAAGGTCATGACCAGCGCGTGAGGGGC...</td>\n",
       "    </tr>\n",
       "    <tr>\n",
       "      <th>9</th>\n",
       "      <td>SRR5090603</td>\n",
       "      <td>4.0</td>\n",
       "      <td>chr20</td>\n",
       "      <td>33728689</td>\n",
       "      <td>33729163</td>\n",
       "      <td>3</td>\n",
       "      <td>1Md_2Mr|1Md_1Mr|2Md_1Mr</td>\n",
       "      <td>205</td>\n",
       "      <td>NaN</td>\n",
       "      <td>GTCACTTTTGTCTCCACAGAGACAACTTGTCAGGAACAGTGGCTAG...</td>\n",
       "    </tr>\n",
       "    <tr>\n",
       "      <th>10</th>\n",
       "      <td>SRR5090603</td>\n",
       "      <td>5.0</td>\n",
       "      <td>chr20</td>\n",
       "      <td>33738723</td>\n",
       "      <td>33738907</td>\n",
       "      <td>3</td>\n",
       "      <td>1Md_2Mr|1Md_1Mr|2Md_1Mr</td>\n",
       "      <td>20</td>\n",
       "      <td>ZNF341</td>\n",
       "      <td>CATTGAAGGGAGGAGAGATGGAAACATGAATTTGCAGGAGGGCACT...</td>\n",
       "    </tr>\n",
       "    <tr>\n",
       "      <th>11</th>\n",
       "      <td>SRR5090605</td>\n",
       "      <td>1.0</td>\n",
       "      <td>chr13</td>\n",
       "      <td>73145553</td>\n",
       "      <td>73145939</td>\n",
       "      <td>1</td>\n",
       "      <td>1Md_2Mr</td>\n",
       "      <td>54</td>\n",
       "      <td>NaN</td>\n",
       "      <td>CAGGATCATATTTTCTTCTGTATTCGTCACTACCCACTGAGGAATT...</td>\n",
       "    </tr>\n",
       "    <tr>\n",
       "      <th>12</th>\n",
       "      <td>SRR5090605</td>\n",
       "      <td>2.0</td>\n",
       "      <td>chr13</td>\n",
       "      <td>73146118</td>\n",
       "      <td>73146353</td>\n",
       "      <td>1</td>\n",
       "      <td>1Md_2Mr</td>\n",
       "      <td>22</td>\n",
       "      <td>NaN</td>\n",
       "      <td>CAGCAGACCTGCACTGCAAGTTCTGGGAGGACAGGGACTAACCATC...</td>\n",
       "    </tr>\n",
       "    <tr>\n",
       "      <th>13</th>\n",
       "      <td>SRR5090605</td>\n",
       "      <td>3.0</td>\n",
       "      <td>chr9</td>\n",
       "      <td>5499915</td>\n",
       "      <td>5500174</td>\n",
       "      <td>3</td>\n",
       "      <td>1Md_2Mr|1Md_1Mr|2Md_1Mr</td>\n",
       "      <td>182</td>\n",
       "      <td>NaN</td>\n",
       "      <td>GGGAAGTTCAACAACAAATGCAGACTTTATATCCAGCATAAAACCT...</td>\n",
       "    </tr>\n",
       "    <tr>\n",
       "      <th>14</th>\n",
       "      <td>SRR5090607</td>\n",
       "      <td>NaN</td>\n",
       "      <td>NaN</td>\n",
       "      <td>0</td>\n",
       "      <td>0</td>\n",
       "      <td>0</td>\n",
       "      <td>NaN</td>\n",
       "      <td>0</td>\n",
       "      <td>NaN</td>\n",
       "      <td>NaN</td>\n",
       "    </tr>\n",
       "    <tr>\n",
       "      <th>15</th>\n",
       "      <td>SRR5090609</td>\n",
       "      <td>NaN</td>\n",
       "      <td>NaN</td>\n",
       "      <td>0</td>\n",
       "      <td>0</td>\n",
       "      <td>0</td>\n",
       "      <td>NaN</td>\n",
       "      <td>0</td>\n",
       "      <td>NaN</td>\n",
       "      <td>NaN</td>\n",
       "    </tr>\n",
       "    <tr>\n",
       "      <th>16</th>\n",
       "      <td>SRR5090611</td>\n",
       "      <td>NaN</td>\n",
       "      <td>NaN</td>\n",
       "      <td>0</td>\n",
       "      <td>0</td>\n",
       "      <td>0</td>\n",
       "      <td>NaN</td>\n",
       "      <td>0</td>\n",
       "      <td>NaN</td>\n",
       "      <td>NaN</td>\n",
       "    </tr>\n",
       "    <tr>\n",
       "      <th>17</th>\n",
       "      <td>SRR5090613</td>\n",
       "      <td>1.0</td>\n",
       "      <td>chr11</td>\n",
       "      <td>102768316</td>\n",
       "      <td>102768622</td>\n",
       "      <td>1</td>\n",
       "      <td>1Md_2Mr</td>\n",
       "      <td>176</td>\n",
       "      <td>WTAPP1</td>\n",
       "      <td>GCAGTGAAGGCTGGCGTTCAACGTGGTGCCCGTTCCATCAGCCCGG...</td>\n",
       "    </tr>\n",
       "    <tr>\n",
       "      <th>18</th>\n",
       "      <td>SRR5090615</td>\n",
       "      <td>NaN</td>\n",
       "      <td>NaN</td>\n",
       "      <td>0</td>\n",
       "      <td>0</td>\n",
       "      <td>0</td>\n",
       "      <td>NaN</td>\n",
       "      <td>0</td>\n",
       "      <td>NaN</td>\n",
       "      <td>NaN</td>\n",
       "    </tr>\n",
       "    <tr>\n",
       "      <th>19</th>\n",
       "      <td>SRR5090617</td>\n",
       "      <td>NaN</td>\n",
       "      <td>NaN</td>\n",
       "      <td>0</td>\n",
       "      <td>0</td>\n",
       "      <td>0</td>\n",
       "      <td>NaN</td>\n",
       "      <td>0</td>\n",
       "      <td>NaN</td>\n",
       "      <td>NaN</td>\n",
       "    </tr>\n",
       "    <tr>\n",
       "      <th>20</th>\n",
       "      <td>SRR5090619</td>\n",
       "      <td>NaN</td>\n",
       "      <td>NaN</td>\n",
       "      <td>0</td>\n",
       "      <td>0</td>\n",
       "      <td>0</td>\n",
       "      <td>NaN</td>\n",
       "      <td>0</td>\n",
       "      <td>NaN</td>\n",
       "      <td>NaN</td>\n",
       "    </tr>\n",
       "  </tbody>\n",
       "</table>\n",
       "</div>"
      ],
      "text/plain": [
       "           srr   id    chr      start       stop  num_crossings  \\\n",
       "0   SRR5090597  1.0   chr1  150576896  150577494              3   \n",
       "1   SRR5090597  2.0   chr1  150578243  150578495              3   \n",
       "2   SRR5090599  1.0   chr1  206939232  206939466              2   \n",
       "3   SRR5090599  2.0   chr1  206940489  206940589              3   \n",
       "4   SRR5090599  3.0   chr1  206949933  206950244              3   \n",
       "5   SRR5090601  1.0   chr4  138685416  138685761              1   \n",
       "6   SRR5090603  1.0  chr20   33707709   33707974              2   \n",
       "7   SRR5090603  2.0  chr20   33710553   33710757              2   \n",
       "8   SRR5090603  3.0  chr20   33714672   33714742              3   \n",
       "9   SRR5090603  4.0  chr20   33728689   33729163              3   \n",
       "10  SRR5090603  5.0  chr20   33738723   33738907              3   \n",
       "11  SRR5090605  1.0  chr13   73145553   73145939              1   \n",
       "12  SRR5090605  2.0  chr13   73146118   73146353              1   \n",
       "13  SRR5090605  3.0   chr9    5499915    5500174              3   \n",
       "14  SRR5090607  NaN    NaN          0          0              0   \n",
       "15  SRR5090609  NaN    NaN          0          0              0   \n",
       "16  SRR5090611  NaN    NaN          0          0              0   \n",
       "17  SRR5090613  1.0  chr11  102768316  102768622              1   \n",
       "18  SRR5090615  NaN    NaN          0          0              0   \n",
       "19  SRR5090617  NaN    NaN          0          0              0   \n",
       "20  SRR5090619  NaN    NaN          0          0              0   \n",
       "\n",
       "           unique_crossings  num_reads gene_name  \\\n",
       "0   1Md_2Mr|1Md_1Mr|2Md_1Mr        386      MCL1   \n",
       "1   1Md_2Mr|1Md_1Mr|2Md_1Mr        528      MCL1   \n",
       "2           1Md_2Mr|1Md_1Mr         22      PIGR   \n",
       "3   1Md_2Mr|1Md_1Mr|2Md_1Mr         36      PIGR   \n",
       "4   1Md_2Mr|1Md_1Mr|2Md_1Mr         54       NaN   \n",
       "5                   1Md_2Mr        122       NaN   \n",
       "6           1Md_2Mr|1Md_1Mr         29     PXMP4   \n",
       "7           1Md_2Mr|1Md_1Mr         51     PXMP4   \n",
       "8   1Md_2Mr|1Md_1Mr|2Md_1Mr        116     PXMP4   \n",
       "9   1Md_2Mr|1Md_1Mr|2Md_1Mr        205       NaN   \n",
       "10  1Md_2Mr|1Md_1Mr|2Md_1Mr         20    ZNF341   \n",
       "11                  1Md_2Mr         54       NaN   \n",
       "12                  1Md_2Mr         22       NaN   \n",
       "13  1Md_2Mr|1Md_1Mr|2Md_1Mr        182       NaN   \n",
       "14                      NaN          0       NaN   \n",
       "15                      NaN          0       NaN   \n",
       "16                      NaN          0       NaN   \n",
       "17                  1Md_2Mr        176    WTAPP1   \n",
       "18                      NaN          0       NaN   \n",
       "19                      NaN          0       NaN   \n",
       "20                      NaN          0       NaN   \n",
       "\n",
       "                                             sequence  \n",
       "0   GCTTCCCTTGTACAGTACTGAGGCTTACAGTCATAGTTCTATTACT...  \n",
       "1   CCCAGCCTCTTTGTTTAACTAGCCAGTCCCGTTTTGTCCTTACGAG...  \n",
       "2   GTGCCGTTCTCCGGGAAGTTGGTGAGGTTAGCCCTGCCTGCATATT...  \n",
       "3   CTGGGAAGACCGCCAGCAGGCAGGTGAGCACGAAGAGCAGCATTGC...  \n",
       "4   GGCCACCCTCCAGGCTCTAGACGATAATCCGTTGCTTGCCTCTTCT...  \n",
       "5   AGATTAACTGTATCTTGAGAGTTGGCCAGGAGTAAGAAGAGTGTTT...  \n",
       "6   ATTGGAGGGACGGCTCTTGTTATAGACGAGGAAGTCTGAGATGTCG...  \n",
       "7   ACCTGGCTGTTGATGTTATTGTTTTCTCCAAACACCAGGATACCCC...  \n",
       "8   ACCTGCCATTCCGGAAGAGAAAGGTCATGACCAGCGCGTGAGGGGC...  \n",
       "9   GTCACTTTTGTCTCCACAGAGACAACTTGTCAGGAACAGTGGCTAG...  \n",
       "10  CATTGAAGGGAGGAGAGATGGAAACATGAATTTGCAGGAGGGCACT...  \n",
       "11  CAGGATCATATTTTCTTCTGTATTCGTCACTACCCACTGAGGAATT...  \n",
       "12  CAGCAGACCTGCACTGCAAGTTCTGGGAGGACAGGGACTAACCATC...  \n",
       "13  GGGAAGTTCAACAACAAATGCAGACTTTATATCCAGCATAAAACCT...  \n",
       "14                                                NaN  \n",
       "15                                                NaN  \n",
       "16                                                NaN  \n",
       "17  GCAGTGAAGGCTGGCGTTCAACGTGGTGCCCGTTCCATCAGCCCGG...  \n",
       "18                                                NaN  \n",
       "19                                                NaN  \n",
       "20                                                NaN  "
      ]
     },
     "execution_count": 491,
     "metadata": {},
     "output_type": "execute_result"
    }
   ],
   "source": [
    "insertion_table = pandas.read_csv('hpv16_to_hg38_table.csv')\n",
    "insertion_table"
   ]
  },
  {
   "cell_type": "code",
   "execution_count": 568,
   "id": "724ed059-91a0-4007-a125-e58276228ae5",
   "metadata": {},
   "outputs": [],
   "source": [
    "srr = \"SRR5090597\"\n",
    "srr_id = 1\n",
    "outputs_path = \"../../wallaby/workflows/outputs/hpv16_rnaseq/\""
   ]
  },
  {
   "cell_type": "code",
   "execution_count": 569,
   "id": "170f7f83-ae25-4e92-9bfe-3ac39c1ee773",
   "metadata": {},
   "outputs": [],
   "source": [
    "crossings = [\"1Md_2Mr\", \"1Md_1Mr\", \"2Md_1Mr\"]\n",
    "padding_left = 100\n",
    "padding_right = 100"
   ]
  },
  {
   "cell_type": "code",
   "execution_count": 570,
   "id": "2f84d519-ca4b-43eb-bede-8067fda344d0",
   "metadata": {},
   "outputs": [],
   "source": [
    "insertion_table_srr = insertion_table[insertion_table[\"srr\"] == srr]\n",
    "insertion_table_srr_id = insertion_table_srr[insertion_table_srr[\"id\"] == srr_id]\n",
    "chromosome = str(insertion_table_srr_id['chr'].values[0])\n",
    "start = str(insertion_table_srr_id['start'].values[0] - padding_left)\n",
    "stop = str(insertion_table_srr_id['stop'].values[0] + padding_right)\n",
    "locus = str(chromosome + \":\" + start + \"-\" + stop)"
   ]
  },
  {
   "cell_type": "code",
   "execution_count": 571,
   "id": "6184d957-14ed-47be-8711-c96232c8478f",
   "metadata": {},
   "outputs": [
    {
     "data": {
      "text/plain": [
       "'chr1:150576796-150577594'"
      ]
     },
     "execution_count": 571,
     "metadata": {},
     "output_type": "execute_result"
    }
   ],
   "source": [
    "locus"
   ]
  },
  {
   "cell_type": "code",
   "execution_count": 552,
   "id": "b2f9b1e8-8c0e-4d7f-8502-137212cde7cd",
   "metadata": {},
   "outputs": [],
   "source": [
    "b = igv.Browser({\"genome\": \"hg38\", \"locus\": locus})"
   ]
  },
  {
   "cell_type": "code",
   "execution_count": 553,
   "id": "d97ba3c2-e335-4052-9aa2-c525b5220a1b",
   "metadata": {},
   "outputs": [
    {
     "data": {
      "text/html": [
       "<div class=\"igv-navbar\"></div><div id=\"igv_1102038\"></div>"
      ],
      "text/plain": [
       "<IPython.core.display.HTML object>"
      ]
     },
     "metadata": {},
     "output_type": "display_data"
    }
   ],
   "source": [
    "b.show()"
   ]
  },
  {
   "cell_type": "code",
   "execution_count": 554,
   "id": "fab45519-4f75-49f5-a3ad-8841b27829bf",
   "metadata": {},
   "outputs": [],
   "source": [
    "for crossing in crossings:\n",
    "    alignment_track = {\n",
    "        #parameters https://github.com/igvteam/igv.js/blob/c6773940de86cf2938f40feec86d1905a866deba/js/bam/bamTrack.js\n",
    "        \"name\": crossing,\n",
    "        \"url\": outputs_path + srr + \"-to-UCSChg38_\" + crossing + \"_filtered.bam\",\n",
    "        \"indexURL\": outputs_path + srr + \"-to-UCSChg38_\" + crossing + \"_filtered.bam.bai\", \n",
    "        \"format\": \"bam\", \"type\": \"alignment\", \"showSoftClips\": \"true\",\n",
    "        \"viewAsPairs\": \"true\", \"showMismatches\" : \"true\", \"colorBy\" : \"strand\", \n",
    "        \"displayMode\" : \"SQUISHED\", \"autoHeight\" : \"true\",\n",
    "        \"coverageColor\" : \"rgb(210, 100, 102)\"\n",
    "    }\n",
    "    b.load_track(alignment_track)"
   ]
  },
  {
   "cell_type": "code",
   "execution_count": 555,
   "id": "5c9559c0-3bb9-4934-9586-7009877ca17e",
   "metadata": {},
   "outputs": [],
   "source": [
    "recipient_1Md_2Mr = outputs_path + srr + \"-to-UCSChg38_\" + \"1Md_2Mr\" + \"_filtered.bam\"\n",
    "recipient_1Md_1Mr = outputs_path + srr + \"-to-UCSChg38_\" + \"1Md_1Mr\" + \"_filtered.bam\"\n",
    "recipient_2Md_1Mr = outputs_path + srr + \"-to-UCSChg38_\" + \"2Md_1Mr\" + \"_filtered.bam\"\n",
    "\n",
    "donor_1Md_2Mr = outputs_path + srr + \"-to-hpv16_\" + \"1Md_2Mr\" + \"_filtered.bam\"\n",
    "donor_1Md_1Mr = outputs_path + srr + \"-to-hpv16_\" + \"1Md_1Mr\" + \"_filtered.bam\"\n",
    "donor_2Md_1Mr = outputs_path + srr + \"-to-hpv16_\" + \"2Md_1Mr\" + \"_filtered.bam\""
   ]
  },
  {
   "cell_type": "code",
   "execution_count": 556,
   "id": "2cdc5503-debc-4e7d-b682-4a0e8e79bccd",
   "metadata": {},
   "outputs": [
    {
     "data": {
      "text/plain": [
       "'samtools view ../../wallaby/workflows/outputs/test_sample/SRR5090597-to-UCSChg38_1Md_2Mr_filtered.bam chr1:150578143-150578595 | cut -f1 | sort | uniq > reads1.txt'"
      ]
     },
     "execution_count": 556,
     "metadata": {},
     "output_type": "execute_result"
    }
   ],
   "source": [
    "bashCommand"
   ]
  },
  {
   "cell_type": "code",
   "execution_count": 557,
   "id": "f9ff59f0-ea31-4fd7-9442-683a7895383a",
   "metadata": {},
   "outputs": [
    {
     "name": "stdout",
     "output_type": "stream",
     "text": [
      "[E::hts_open_format] Failed to open file \"../../wallaby/workflows/outputs/hpv16_rnaseq/SRR5090613-to-UCSChg38_2Md_1Mr_filtered.bam\" : No such file or directory\n",
      "samtools view: failed to open \"../../wallaby/workflows/outputs/hpv16_rnaseq/SRR5090613-to-UCSChg38_2Md_1Mr_filtered.bam\" for reading: No such file or directory\n"
     ]
    }
   ],
   "source": [
    "!samtools view $recipient_1Md_2Mr $locus | cut -f1 | sort | uniq > reads1.txt\n",
    "!samtools view $recipient_1Md_1Mr $locus | cut -f1 | sort | uniq > reads2.txt\n",
    "!samtools view $recipient_2Md_1Mr $locus | cut -f1 | sort | uniq > reads3.txt\n",
    "!cat reads1.txt reads2.txt reads3.txt > reads.txt\n",
    "!rm reads1.txt reads2.txt reads3.txt"
   ]
  },
  {
   "cell_type": "code",
   "execution_count": 558,
   "id": "a924d869-b220-487c-b7c1-b30b272e396c",
   "metadata": {},
   "outputs": [
    {
     "name": "stdout",
     "output_type": "stream",
     "text": [
      "00:52:42.502 INFO  NativeLibraryLoader - Loading libgkl_compression.so from jar:file:/home/jovyan/wallaby/notebooks/tools/picard.jar!/com/intel/gkl/native/libgkl_compression.so\n",
      "WARNING: BAM index file /home/jovyan/wallaby/notebooks/../../wallaby/workflows/outputs/hpv16_rnaseq/SRR5090613-to-hpv16_1Md_2Mr_filtered.bam.bai is older than BAM /home/jovyan/wallaby/notebooks/../../wallaby/workflows/outputs/hpv16_rnaseq/SRR5090613-to-hpv16_1Md_2Mr_filtered.bam\n",
      "WARNING: BAM index file /home/jovyan/wallaby/notebooks/../../wallaby/workflows/outputs/hpv16_rnaseq/SRR5090613-to-hpv16_1Md_2Mr_filtered.bam.bai is older than BAM /home/jovyan/wallaby/notebooks/../../wallaby/workflows/outputs/hpv16_rnaseq/SRR5090613-to-hpv16_1Md_2Mr_filtered.bam\n",
      "INFO\t2021-10-24 00:52:42\tFilterSamReads\tFiltering [presorted=true] SRR5090613-to-hpv16_1Md_2Mr_filtered.bam -> OUTPUT=donor_1Md_2Mr.bam [sortorder=coordinate]\n",
      "INFO\t2021-10-24 00:52:42\tFilterSamReads\t180 SAMRecords written to donor_1Md_2Mr.bam\n",
      "00:52:43.204 INFO  NativeLibraryLoader - Loading libgkl_compression.so from jar:file:/home/jovyan/wallaby/notebooks/tools/picard.jar!/com/intel/gkl/native/libgkl_compression.so\n",
      "WARNING: BAM index file /home/jovyan/wallaby/notebooks/../../wallaby/workflows/outputs/hpv16_rnaseq/SRR5090613-to-hpv16_1Md_1Mr_filtered.bam.bai is older than BAM /home/jovyan/wallaby/notebooks/../../wallaby/workflows/outputs/hpv16_rnaseq/SRR5090613-to-hpv16_1Md_1Mr_filtered.bam\n",
      "WARNING: BAM index file /home/jovyan/wallaby/notebooks/../../wallaby/workflows/outputs/hpv16_rnaseq/SRR5090613-to-hpv16_1Md_1Mr_filtered.bam.bai is older than BAM /home/jovyan/wallaby/notebooks/../../wallaby/workflows/outputs/hpv16_rnaseq/SRR5090613-to-hpv16_1Md_1Mr_filtered.bam\n",
      "INFO\t2021-10-24 00:52:43\tFilterSamReads\tFiltering [presorted=true] SRR5090613-to-hpv16_1Md_1Mr_filtered.bam -> OUTPUT=donor_1Md_1Mr.bam [sortorder=coordinate]\n",
      "INFO\t2021-10-24 00:52:43\tFilterSamReads\t0 SAMRecords written to donor_1Md_1Mr.bam\n",
      "00:52:43.891 INFO  NativeLibraryLoader - Loading libgkl_compression.so from jar:file:/home/jovyan/wallaby/notebooks/tools/picard.jar!/com/intel/gkl/native/libgkl_compression.so\n",
      "ERROR\t2021-10-24 00:52:43\tFilterSamReads\tFailed to filter SRR5090613-to-hpv16_2Md_1Mr_filtered.bam\n",
      "htsjdk.samtools.SAMException: Cannot read non-existent file: file:///home/jovyan/wallaby/notebooks/../../wallaby/workflows/outputs/hpv16_rnaseq/SRR5090613-to-hpv16_2Md_1Mr_filtered.bam\n",
      "\tat htsjdk.samtools.util.IOUtil.assertFileIsReadable(IOUtil.java:498)\n",
      "\tat htsjdk.samtools.util.IOUtil.assertFileIsReadable(IOUtil.java:485)\n",
      "\tat picard.sam.FilterSamReads.doWork(FilterSamReads.java:302)\n",
      "\tat picard.cmdline.CommandLineProgram.instanceMain(CommandLineProgram.java:308)\n",
      "\tat picard.cmdline.PicardCommandLine.instanceMain(PicardCommandLine.java:103)\n",
      "\tat picard.cmdline.PicardCommandLine.main(PicardCommandLine.java:113)\n"
     ]
    }
   ],
   "source": [
    "!java -jar tools/picard.jar FilterSamReads -INPUT $donor_1Md_2Mr -OUTPUT donor_1Md_2Mr.bam -READ_LIST_FILE reads.txt -FILTER includeReadList --QUIET true\n",
    "!java -jar tools/picard.jar FilterSamReads -INPUT $donor_1Md_1Mr -OUTPUT donor_1Md_1Mr.bam -READ_LIST_FILE reads.txt -FILTER includeReadList --QUIET true\n",
    "!java -jar tools/picard.jar FilterSamReads -INPUT $donor_2Md_1Mr -OUTPUT donor_2Md_1Mr.bam -READ_LIST_FILE reads.txt -FILTER includeReadList --QUIET true"
   ]
  },
  {
   "cell_type": "code",
   "execution_count": 559,
   "id": "d75dc579-8f4a-40b3-9995-d75c3167d7e8",
   "metadata": {},
   "outputs": [
    {
     "name": "stdout",
     "output_type": "stream",
     "text": [
      "[E::hts_open_format] Failed to open file \"donor_2Md_1Mr.bam\" : No such file or directory\n",
      "samtools index: failed to open \"donor_2Md_1Mr.bam\": No such file or directory\n"
     ]
    }
   ],
   "source": [
    "!samtools index donor_1Md_2Mr.bam\n",
    "!samtools index donor_1Md_1Mr.bam\n",
    "!samtools index donor_2Md_1Mr.bam"
   ]
  },
  {
   "cell_type": "code",
   "execution_count": 560,
   "id": "e3ee6da1-6368-40fe-95df-2ff87f7ca971",
   "metadata": {},
   "outputs": [],
   "source": [
    "!rm reads.txt"
   ]
  },
  {
   "cell_type": "code",
   "execution_count": 561,
   "id": "83d0a0ad-84cd-4666-a456-a50eee8e7cbf",
   "metadata": {},
   "outputs": [],
   "source": [
    "b = igv.Browser({\n",
    "    \"reference\": {\n",
    "        \"id\": \"hpv16\",\n",
    "        \"fastaURL\": \"../../wallaby/data/ref_genomes/hpv/HPV16.fa\",\n",
    "        \"indexed\": False\n",
    "    }\n",
    "})"
   ]
  },
  {
   "cell_type": "code",
   "execution_count": 562,
   "id": "181878a2-9bd3-4339-9ed9-e4b8959fe624",
   "metadata": {},
   "outputs": [
    {
     "data": {
      "text/html": [
       "<div class=\"igv-navbar\"></div><div id=\"igv_1348484\"></div>"
      ],
      "text/plain": [
       "<IPython.core.display.HTML object>"
      ]
     },
     "metadata": {},
     "output_type": "display_data"
    }
   ],
   "source": [
    "b.show()"
   ]
  },
  {
   "cell_type": "code",
   "execution_count": 563,
   "id": "5e67eba5-68f6-493a-9c59-109bd668b9ad",
   "metadata": {},
   "outputs": [],
   "source": [
    "alignment_track = {\n",
    "    #parameters https://github.com/igvteam/igv.js/blob/c6773940de86cf2938f40feec86d1905a866deba/js/bam/bamTrack.js\n",
    "    \"name\": \"donor_1Md_2Mr\",\n",
    "    \"url\": \"donor_1Md_2Mr.bam\",\n",
    "    \"indexURL\": \"donor_1Md_2Mr.bam.bai\", \n",
    "    \"format\": \"bam\", \"type\": \"alignment\", \"showSoftClips\": \"true\",\n",
    "    \"viewAsPairs\": \"true\", \"showMismatches\" : \"true\", \"colorBy\" : \"strand\", \n",
    "    \"displayMode\" : \"SQUISHED\", \"autoHeight\" : \"true\",\n",
    "    \"coverageColor\" : \"rgb(210, 100, 102)\"\n",
    "}\n",
    "b.load_track(alignment_track)\n",
    "alignment_track = {\n",
    "    #parameters https://github.com/igvteam/igv.js/blob/c6773940de86cf2938f40feec86d1905a866deba/js/bam/bamTrack.js\n",
    "    \"name\": \"donor_1Md_1Mr\",\n",
    "    \"url\": \"donor_1Md_1Mr.bam\",\n",
    "    \"indexURL\": \"donor_1Md_1Mr.bam.bai\", \n",
    "    \"format\": \"bam\", \"type\": \"alignment\", \"showSoftClips\": \"true\",\n",
    "    \"viewAsPairs\": \"true\", \"showMismatches\" : \"true\", \"colorBy\" : \"strand\", \n",
    "    \"displayMode\" : \"SQUISHED\", \"autoHeight\" : \"true\",\n",
    "    \"coverageColor\" : \"rgb(210, 100, 102)\"\n",
    "}\n",
    "b.load_track(alignment_track)\n",
    "alignment_track = {\n",
    "    #parameters https://github.com/igvteam/igv.js/blob/c6773940de86cf2938f40feec86d1905a866deba/js/bam/bamTrack.js\n",
    "    \"name\": \"donor_2Md_1Mr\",\n",
    "    \"url\": \"donor_2Md_1Mr.bam\",\n",
    "    \"indexURL\": \"donor_2Md_1Mr.bam.bai\", \n",
    "    \"format\": \"bam\", \"type\": \"alignment\", \"showSoftClips\": \"true\",\n",
    "    \"viewAsPairs\": \"true\", \"showMismatches\" : \"true\", \"colorBy\" : \"strand\", \n",
    "    \"displayMode\" : \"SQUISHED\", \"autoHeight\" : \"true\",\n",
    "    \"coverageColor\" : \"rgb(210, 100, 102)\"\n",
    "}\n",
    "b.load_track(alignment_track)"
   ]
  },
  {
   "cell_type": "code",
   "execution_count": 566,
   "id": "e4119916-ffde-4a9d-ad4f-f37b55e9b7a6",
   "metadata": {},
   "outputs": [
    {
     "name": "stdout",
     "output_type": "stream",
     "text": [
      "rm: cannot remove 'donor_2Md_1Mr.bam': No such file or directory\n"
     ]
    }
   ],
   "source": [
    "!rm donor_1Md_2Mr.bam\n",
    "!rm donor_1Md_2Mr.bam.bai\n",
    "!rm donor_1Md_1Mr.bam\n",
    "!rm donor_1Md_1Mr.bam.bai\n",
    "!rm donor_2Md_1Mr.bam\n",
    "!rm donor_2Md_1Mr.bam.bai"
   ]
  },
  {
   "cell_type": "code",
   "execution_count": null,
   "id": "8c96ae95-f1b6-42a0-9042-e29d7939559f",
   "metadata": {},
   "outputs": [],
   "source": []
  }
 ],
 "metadata": {
  "kernelspec": {
   "display_name": "Python 3 (ipykernel)",
   "language": "python",
   "name": "python3"
  },
  "language_info": {
   "codemirror_mode": {
    "name": "ipython",
    "version": 3
   },
   "file_extension": ".py",
   "mimetype": "text/x-python",
   "name": "python",
   "nbconvert_exporter": "python",
   "pygments_lexer": "ipython3",
   "version": "3.9.7"
  }
 },
 "nbformat": 4,
 "nbformat_minor": 5
}
