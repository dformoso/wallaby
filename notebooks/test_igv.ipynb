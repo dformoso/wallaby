{
 "cells": [
  {
   "cell_type": "code",
   "execution_count": null,
   "id": "caf3a89f-4d70-4a49-b4e5-ccaad16fe773",
   "metadata": {},
   "outputs": [],
   "source": [
    "!pip install pandas"
   ]
  },
  {
   "cell_type": "code",
   "execution_count": 247,
   "id": "68c3858b-b8a4-43a4-8765-d7fd0791255b",
   "metadata": {},
   "outputs": [],
   "source": [
    "import igv\n",
    "import time\n",
    "import pandas"
   ]
  },
  {
   "cell_type": "code",
   "execution_count": 255,
   "id": "21519611-9448-443c-aa56-598973be3358",
   "metadata": {},
   "outputs": [
    {
     "data": {
      "text/html": [
       "<div>\n",
       "<style scoped>\n",
       "    .dataframe tbody tr th:only-of-type {\n",
       "        vertical-align: middle;\n",
       "    }\n",
       "\n",
       "    .dataframe tbody tr th {\n",
       "        vertical-align: top;\n",
       "    }\n",
       "\n",
       "    .dataframe thead th {\n",
       "        text-align: right;\n",
       "    }\n",
       "</style>\n",
       "<table border=\"1\" class=\"dataframe\">\n",
       "  <thead>\n",
       "    <tr style=\"text-align: right;\">\n",
       "      <th></th>\n",
       "      <th>srr</th>\n",
       "      <th>id</th>\n",
       "      <th>chr</th>\n",
       "      <th>start</th>\n",
       "      <th>stop</th>\n",
       "      <th>num_crossings</th>\n",
       "      <th>unique_crossings</th>\n",
       "      <th>num_reads</th>\n",
       "      <th>gene_name</th>\n",
       "      <th>sequence</th>\n",
       "    </tr>\n",
       "  </thead>\n",
       "  <tbody>\n",
       "    <tr>\n",
       "      <th>0</th>\n",
       "      <td>SRR5090597</td>\n",
       "      <td>1</td>\n",
       "      <td>chr1</td>\n",
       "      <td>150576896</td>\n",
       "      <td>150577494</td>\n",
       "      <td>6</td>\n",
       "      <td>UMd_MMr|MUd_MMr|UMd_MUr|MUd_UMr|MMd_UMr|MMd_MUr</td>\n",
       "      <td>386</td>\n",
       "      <td>MCL1</td>\n",
       "      <td>GCTTCCCTTGTACAGTACTGAGGCTTACAGTCATAGTTCTATTACT...</td>\n",
       "    </tr>\n",
       "    <tr>\n",
       "      <th>1</th>\n",
       "      <td>SRR5090597</td>\n",
       "      <td>2</td>\n",
       "      <td>chr1</td>\n",
       "      <td>150578243</td>\n",
       "      <td>150578495</td>\n",
       "      <td>6</td>\n",
       "      <td>UMd_MMr|MUd_MMr|UMd_MUr|MUd_UMr|MMd_UMr|MMd_MUr</td>\n",
       "      <td>528</td>\n",
       "      <td>MCL1</td>\n",
       "      <td>CCCAGCCTCTTTGTTTAACTAGCCAGTCCCGTTTTGTCCTTACGAG...</td>\n",
       "    </tr>\n",
       "  </tbody>\n",
       "</table>\n",
       "</div>"
      ],
      "text/plain": [
       "          srr  id   chr      start       stop  num_crossings  \\\n",
       "0  SRR5090597   1  chr1  150576896  150577494              6   \n",
       "1  SRR5090597   2  chr1  150578243  150578495              6   \n",
       "\n",
       "                                  unique_crossings  num_reads gene_name  \\\n",
       "0  UMd_MMr|MUd_MMr|UMd_MUr|MUd_UMr|MMd_UMr|MMd_MUr        386      MCL1   \n",
       "1  UMd_MMr|MUd_MMr|UMd_MUr|MUd_UMr|MMd_UMr|MMd_MUr        528      MCL1   \n",
       "\n",
       "                                            sequence  \n",
       "0  GCTTCCCTTGTACAGTACTGAGGCTTACAGTCATAGTTCTATTACT...  \n",
       "1  CCCAGCCTCTTTGTTTAACTAGCCAGTCCCGTTTTGTCCTTACGAG...  "
      ]
     },
     "execution_count": 255,
     "metadata": {},
     "output_type": "execute_result"
    }
   ],
   "source": [
    "pandas.read_csv('test_table.csv')"
   ]
  },
  {
   "cell_type": "code",
   "execution_count": 256,
   "id": "b2f9b1e8-8c0e-4d7f-8502-137212cde7cd",
   "metadata": {},
   "outputs": [],
   "source": [
    "srr = \"SRR5090597\"\n",
    "crossings = [\"UMd_MMr\", \"UMd_MUr\", \"MMd_UMr\"]\n",
    "locus = \"chr1:150576896-150577494\"\n",
    "b = igv.Browser({\"genome\": \"hg38\", \"locus\": locus})"
   ]
  },
  {
   "cell_type": "code",
   "execution_count": 257,
   "id": "d97ba3c2-e335-4052-9aa2-c525b5220a1b",
   "metadata": {},
   "outputs": [
    {
     "data": {
      "text/html": [
       "<div class=\"igv-navbar\"></div><div id=\"igv_4521315\"></div>"
      ],
      "text/plain": [
       "<IPython.core.display.HTML object>"
      ]
     },
     "metadata": {},
     "output_type": "display_data"
    }
   ],
   "source": [
    "b.show()"
   ]
  },
  {
   "cell_type": "code",
   "execution_count": 258,
   "id": "fab45519-4f75-49f5-a3ad-8841b27829bf",
   "metadata": {},
   "outputs": [],
   "source": [
    "for crossing in crossings:\n",
    "    alignment_track = {\n",
    "        #parameters https://github.com/igvteam/igv.js/blob/c6773940de86cf2938f40feec86d1905a866deba/js/bam/bamTrack.js\n",
    "        \"name\": crossing,\n",
    "        \"url\": \"../../wallaby/workflows/outputs/test_sample/\"+ srr + \"-to-GRCh38_\"+ crossing + \"_filtered.bam\",\n",
    "        \"indexURL\": \"../../wallaby/workflows/outputs/test_sample/\"+ srr + \"-to-GRCh38_\"+ crossing + \"_filtered.bam.bai\", \n",
    "        \"format\": \"bam\", \"type\": \"alignment\", \"showSoftClips\": \"true\",\n",
    "        \"viewAsPairs\": \"true\", \"showMismatches\" : \"true\", \"colorBy\" : \"strand\", \n",
    "        \"displayMode\" : \"SQUISHED\", \"autoHeight\" : \"true\"\n",
    "    }\n",
    "    b.load_track(alignment_track)"
   ]
  },
  {
   "cell_type": "code",
   "execution_count": null,
   "id": "f9ff59f0-ea31-4fd7-9442-683a7895383a",
   "metadata": {},
   "outputs": [],
   "source": []
  }
 ],
 "metadata": {
  "kernelspec": {
   "display_name": "Python 3 (ipykernel)",
   "language": "python",
   "name": "python3"
  },
  "language_info": {
   "codemirror_mode": {
    "name": "ipython",
    "version": 3
   },
   "file_extension": ".py",
   "mimetype": "text/x-python",
   "name": "python",
   "nbconvert_exporter": "python",
   "pygments_lexer": "ipython3",
   "version": "3.9.7"
  }
 },
 "nbformat": 4,
 "nbformat_minor": 5
}
