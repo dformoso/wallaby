{
 "cells": [
  {
   "cell_type": "markdown",
   "metadata": {},
   "source": [
    "# Donor and Recipient - Pipeline Analysis"
   ]
  },
  {
   "cell_type": "markdown",
   "metadata": {},
   "source": [
    "## Install Utilities"
   ]
  },
  {
   "cell_type": "code",
   "execution_count": 2,
   "metadata": {},
   "outputs": [],
   "source": [
    "!sudo apt-get update -y --quiet -qq"
   ]
  },
  {
   "cell_type": "code",
   "execution_count": null,
   "metadata": {},
   "outputs": [],
   "source": [
    "!sudo apt-get install -y --quiet -qq tree libcurl4-openssl-dev zlib1g-dev samtools"
   ]
  },
  {
   "cell_type": "markdown",
   "metadata": {},
   "source": [
    "## Install Libraries"
   ]
  },
  {
   "cell_type": "code",
   "execution_count": 4,
   "metadata": {},
   "outputs": [],
   "source": [
    "!pip install --quiet biopython pysam missingno"
   ]
  },
  {
   "cell_type": "markdown",
   "metadata": {},
   "source": [
    "## Import Libraries"
   ]
  },
  {
   "cell_type": "code",
   "execution_count": 57,
   "metadata": {},
   "outputs": [],
   "source": [
    "# Import Standard Python Libraries\n",
    "import io, os, sys, types, time, datetime, math, random, requests, subprocess, tempfile"
   ]
  },
  {
   "cell_type": "code",
   "execution_count": 58,
   "metadata": {},
   "outputs": [],
   "source": [
    "# Data Manipulation \n",
    "import numpy as np\n",
    "import pandas as pd\n",
    "\n",
    "# Visualization \n",
    "import matplotlib.pyplot as plt\n",
    "import missingno\n",
    "import seaborn as sns\n",
    "\n",
    "# Genomics\n",
    "from Bio import SeqIO"
   ]
  },
  {
   "cell_type": "markdown",
   "metadata": {},
   "source": [
    "## Helper Functions"
   ]
  },
  {
   "cell_type": "code",
   "execution_count": null,
   "metadata": {},
   "outputs": [],
   "source": []
  },
  {
   "cell_type": "markdown",
   "metadata": {},
   "source": [
    "## Analyze Datasets"
   ]
  },
  {
   "cell_type": "code",
   "execution_count": 2,
   "metadata": {},
   "outputs": [
    {
     "name": "stdout",
     "output_type": "stream",
     "text": [
      "reads-to-donor_MMd_MMr 74380\n",
      "reads-to-donor_MMd_MUr 2\n",
      "reads-to-donor_MMd_UUr 29144\n",
      "reads-to-donor_MUd_MMr 614\n",
      "reads-to-donor_MUd_UMr 74\n",
      "reads-to-donor_MUd_UUr 2838\n",
      "reads-to-donor_UMd_MMr 14\n",
      "reads-to-donor_UMd_MUr 36\n",
      "reads-to-donor_UMd_UUr 650\n",
      "reads-to-donor_UUd_MMr 19489420\n",
      "reads-to-donor_UUd_MUr 594\n",
      "reads-to-donor_UUd_UMr 222\n",
      "reads-to-donor_UUd_UUr 38962\n"
     ]
    }
   ],
   "source": [
    "%%bash\n",
    "for filename in `ls ../cromwell-final-outputs/*donor*bam.complex.bam_count.txt`\n",
    "do\n",
    "    echo `basename $filename .bam.complex.bam_count.txt` `cat \"$filename\"` \n",
    "done "
   ]
  },
  {
   "cell_type": "code",
   "execution_count": 3,
   "metadata": {},
   "outputs": [
    {
     "name": "stdout",
     "output_type": "stream",
     "text": [
      "reads-to-recipient_MMd_MMr 79443\n",
      "reads-to-recipient_MMd_MUr 2\n",
      "reads-to-recipient_MMd_UUr 29024\n",
      "reads-to-recipient_MUd_MMr 1363\n",
      "reads-to-recipient_MUd_UMr 74\n",
      "reads-to-recipient_MUd_UUr 2838\n",
      "reads-to-recipient_UMd_MMr 14\n",
      "reads-to-recipient_UMd_MUr 36\n",
      "reads-to-recipient_UMd_UUr 650\n",
      "reads-to-recipient_UUd_MMr 20335117\n",
      "reads-to-recipient_UUd_MUr 594\n",
      "reads-to-recipient_UUd_UMr 222\n",
      "reads-to-recipient_UUd_UUr 38962\n"
     ]
    }
   ],
   "source": [
    "%%bash\n",
    "for filename in `ls ../cromwell-final-outputs/*recipient*bam.complex.bam_count.txt`\n",
    "do\n",
    "    echo `basename $filename .bam.complex.bam_count.txt` `cat \"$filename\"` \n",
    "done "
   ]
  },
  {
   "cell_type": "markdown",
   "metadata": {},
   "source": [
    "### Filter files by\n",
    "\n",
    "- donor_MMd_MUr\n",
    "- donor_MMd_UMr\n",
    "- donor_MUd_MUr\n",
    "- donor_MUd_UMr\n",
    "- donor_UMd_MUr\n",
    "- donor_UMd_UMr\n",
    "- recipient_MMd_MUr\n",
    "- recipient_MMd_UMr\n",
    "- recipient_MUd_MUr\n",
    "- recipient_MUd_UMr\n",
    "- recipient_UMd_MUr\n",
    "- recipient_UMd_UMr"
   ]
  },
  {
   "cell_type": "code",
   "execution_count": 105,
   "metadata": {},
   "outputs": [
    {
     "name": "stdout",
     "output_type": "stream",
     "text": [
      "reads-to-donor_MMd_MUr 2\n",
      "reads-to-donor_MUd_UMr 90\n",
      "reads-to-donor_UMd_MUr 24\n",
      "reads-to-recipient_MMd_MUr 2\n",
      "reads-to-recipient_MUd_UMr 90\n",
      "reads-to-recipient_UMd_MUr 24\n"
     ]
    }
   ],
   "source": [
    "%%bash\n",
    "for filename in ../cromwell-final-outputs/*donor_MMd_MUr*bam.complex.bam_count.txt ../cromwell-final-outputs/*donor_MMd_UMr*bam.complex.bam_count.txt ../cromwell-final-outputs/*donor_MUd_MUr*bam.complex.bam_count.txt ../cromwell-final-outputs/*donor_MUd_UMr*bam.complex.bam_count.txt ../cromwell-final-outputs/*donor_UMd_MUr*bam.complex.bam_count.txt ../cromwell-final-outputs/*donor_UMd_UMr*bam.complex.bam_count.txt ../cromwell-final-outputs/*recipient_MMd_MUr*bam.complex.bam_count.txt ../cromwell-final-outputs/*recipient_MMd_UMr*bam.complex.bam_count.txt ../cromwell-final-outputs/*recipient_MUd_MUr*bam.complex.bam_count.txt ../cromwell-final-outputs/*recipient_MUd_UMr*bam.complex.bam_count.txt ../cromwell-final-outputs/*recipient_UMd_MUr*bam.complex.bam_count.txt ../cromwell-final-outputs/*recipient_UMd_UMr*bam.complex.bam_count.txt \n",
    "do\n",
    "    if [ -f \"$filename\" ]\n",
    "    then echo `basename $filename .bam.complex.bam_count.txt` `cat \"$filename\"`\n",
    "    fi\n",
    "done "
   ]
  },
  {
   "cell_type": "code",
   "execution_count": 106,
   "metadata": {},
   "outputs": [
    {
     "name": "stdout",
     "output_type": "stream",
     "text": [
      "45\n"
     ]
    }
   ],
   "source": [
    "!samtools view ../cromwell-final-outputs/*donor_MUd_UMr.bam.complex.bam | cut -f1 | sort | uniq | wc -l"
   ]
  },
  {
   "cell_type": "code",
   "execution_count": 108,
   "metadata": {},
   "outputs": [
    {
     "name": "stdout",
     "output_type": "stream",
     "text": [
      "45\n"
     ]
    }
   ],
   "source": [
    "!grep \"^>\" ../cromwell-final-outputs/*donor_MUd_UMr.bam.complex.fasta | cut -d \">\" -f 2 | sort | uniq | wc -l"
   ]
  },
  {
   "cell_type": "code",
   "execution_count": 111,
   "metadata": {},
   "outputs": [
    {
     "name": "stdout",
     "output_type": "stream",
     "text": [
      "../cromwell-final-outputs/reads-to-donor_MMd_MUr.bam.complex.fasta.blastn\n",
      "../cromwell-final-outputs/reads-to-donor_MUd_UMr.bam.complex.fasta.blastn\n",
      "../cromwell-final-outputs/reads-to-donor_UMd_MUr.bam.complex.fasta.blastn\n",
      "../cromwell-final-outputs/reads-to-recipient_MMd_MUr.bam.complex.fasta.blastn\n",
      "../cromwell-final-outputs/reads-to-recipient_MUd_UMr.bam.complex.fasta.blastn\n",
      "../cromwell-final-outputs/reads-to-recipient_UMd_MUr.bam.complex.fasta.blastn\n"
     ]
    }
   ],
   "source": [
    "!ls ../cromwell-final-outputs/*.blastn"
   ]
  },
  {
   "cell_type": "code",
   "execution_count": 123,
   "metadata": {},
   "outputs": [],
   "source": [
    "headers = [\"seqid\", \"qgi\", \"qacc\", \"qaccver\", \"qlen\", \"sseqid\", \"sallseqid\", \"sgi\",\n",
    "           \"sallgi\", \"sacc\", \"saccver\", \"sallacc\", \"slen\", \"qstart\", \"qend\", \"sstart\",\n",
    "           'send', \"qseq\", \"sseq\", \"evalue\", \"bitscore\", \"score\", \"length\", \"pident\",\n",
    "           'nident', \"mismatch\", \"positive\", \"gapopen\", \"gaps\", \"ppos\", \"frames\",\n",
    "           \"qframe\", \"sframe\", \"btop\", \"staxid\", \"ssciname\", \"scomname\", \"sblastname\",\n",
    "           \"sskingdom\", \"staxids\", \"sscinames\", \"scomnames\", \"sblastnames\",\n",
    "           \"sskingdoms\", \"stitle\", \"salltitles\", \"sstrand\", \"qcovs\", \"qcovhsp\", \"qcovus\" ]\n",
    "blast = pd.read_table('../cromwell-final-outputs/reads-to-donor_MUd_UMr.bam.complex.fasta.blastn', \n",
    "    header=None, \n",
    "    names=headers, \n",
    "    na_values=[\"?\"], \n",
    "    engine='python')"
   ]
  },
  {
   "cell_type": "code",
   "execution_count": 124,
   "metadata": {},
   "outputs": [
    {
     "data": {
      "text/plain": [
       "45"
      ]
     },
     "execution_count": 124,
     "metadata": {},
     "output_type": "execute_result"
    }
   ],
   "source": [
    "blast['qgi'].nunique()"
   ]
  },
  {
   "cell_type": "code",
   "execution_count": 125,
   "metadata": {},
   "outputs": [
    {
     "data": {
      "text/plain": [
       "['SRR5377828.5004777',\n",
       " 'SRR5377828.1016983',\n",
       " 'SRR5377828.4926754',\n",
       " 'SRR5377828.2464365',\n",
       " 'SRR5377828.1575507',\n",
       " 'SRR5377828.882267',\n",
       " 'SRR5377828.3320862',\n",
       " 'SRR5377828.1995274',\n",
       " 'SRR5377828.147051',\n",
       " 'SRR5377828.10587826',\n",
       " 'SRR5377828.8167545',\n",
       " 'SRR5377828.4627422',\n",
       " 'SRR5377828.6216292',\n",
       " 'SRR5377828.844608',\n",
       " 'SRR5377828.201270',\n",
       " 'SRR5377828.12236784',\n",
       " 'SRR5377828.9629548',\n",
       " 'SRR5377828.4862745',\n",
       " 'SRR5377828.259691',\n",
       " 'SRR5377828.923447',\n",
       " 'SRR5377828.7137810',\n",
       " 'SRR5377828.6797526',\n",
       " 'SRR5377828.9216082',\n",
       " 'SRR5377828.5179720',\n",
       " 'SRR5377828.11340537',\n",
       " 'SRR5377828.1437390',\n",
       " 'SRR5377828.9882843',\n",
       " 'SRR5377828.7371773',\n",
       " 'SRR5377828.9153411',\n",
       " 'SRR5377828.194771',\n",
       " 'SRR5377828.2248722',\n",
       " 'SRR5377828.10017624',\n",
       " 'SRR5377828.3967274',\n",
       " 'SRR5377828.12264797',\n",
       " 'SRR5377828.11390762',\n",
       " 'SRR5377828.2277170',\n",
       " 'SRR5377828.4327946',\n",
       " 'SRR5377828.5017926',\n",
       " 'SRR5377828.775618',\n",
       " 'SRR5377828.3864444',\n",
       " 'SRR5377828.8079704',\n",
       " 'SRR5377828.4228838',\n",
       " 'SRR5377828.10268931',\n",
       " 'SRR5377828.1063171',\n",
       " 'SRR5377828.8900588']"
      ]
     },
     "execution_count": 125,
     "metadata": {},
     "output_type": "execute_result"
    }
   ],
   "source": [
    "blast['qgi'].unique().tolist()"
   ]
  },
  {
   "cell_type": "code",
   "execution_count": 126,
   "metadata": {},
   "outputs": [
    {
     "data": {
      "text/html": [
       "<div>\n",
       "<style scoped>\n",
       "    .dataframe tbody tr th:only-of-type {\n",
       "        vertical-align: middle;\n",
       "    }\n",
       "\n",
       "    .dataframe tbody tr th {\n",
       "        vertical-align: top;\n",
       "    }\n",
       "\n",
       "    .dataframe thead th {\n",
       "        text-align: right;\n",
       "    }\n",
       "</style>\n",
       "<table border=\"1\" class=\"dataframe\">\n",
       "  <thead>\n",
       "    <tr style=\"text-align: right;\">\n",
       "      <th></th>\n",
       "      <th>seqid</th>\n",
       "      <th>qgi</th>\n",
       "      <th>qacc</th>\n",
       "      <th>qaccver</th>\n",
       "      <th>qlen</th>\n",
       "      <th>sseqid</th>\n",
       "      <th>sallseqid</th>\n",
       "      <th>sgi</th>\n",
       "      <th>sallgi</th>\n",
       "      <th>sacc</th>\n",
       "      <th>...</th>\n",
       "      <th>sscinames</th>\n",
       "      <th>scomnames</th>\n",
       "      <th>sblastnames</th>\n",
       "      <th>sskingdoms</th>\n",
       "      <th>stitle</th>\n",
       "      <th>salltitles</th>\n",
       "      <th>sstrand</th>\n",
       "      <th>qcovs</th>\n",
       "      <th>qcovhsp</th>\n",
       "      <th>qcovus</th>\n",
       "    </tr>\n",
       "  </thead>\n",
       "  <tbody>\n",
       "    <tr>\n",
       "      <th>0</th>\n",
       "      <td>0</td>\n",
       "      <td>SRR5377828.5004777</td>\n",
       "      <td>SRR5377828.5004777</td>\n",
       "      <td>101</td>\n",
       "      <td>gi|1851368093|gb|CP045552.1|</td>\n",
       "      <td>gi|1851368093|gb|CP045552.1|</td>\n",
       "      <td>1851368093</td>\n",
       "      <td>1851368093</td>\n",
       "      <td>CP045552</td>\n",
       "      <td>CP045552.1</td>\n",
       "      <td>...</td>\n",
       "      <td>Pseudomonas aeruginosa</td>\n",
       "      <td>g-proteobacteria</td>\n",
       "      <td>Bacteria</td>\n",
       "      <td>Pseudomonas aeruginosa strain YT12746 chromoso...</td>\n",
       "      <td>Pseudomonas aeruginosa strain YT12746 chromoso...</td>\n",
       "      <td>minus</td>\n",
       "      <td>100</td>\n",
       "      <td>100</td>\n",
       "      <td>100</td>\n",
       "      <td>NaN</td>\n",
       "    </tr>\n",
       "    <tr>\n",
       "      <th>1</th>\n",
       "      <td>0</td>\n",
       "      <td>SRR5377828.5004777</td>\n",
       "      <td>SRR5377828.5004777</td>\n",
       "      <td>101</td>\n",
       "      <td>gi|1851368093|gb|CP045552.1|</td>\n",
       "      <td>gi|1851368093|gb|CP045552.1|</td>\n",
       "      <td>1851368093</td>\n",
       "      <td>1851368093</td>\n",
       "      <td>CP045552</td>\n",
       "      <td>CP045552.1</td>\n",
       "      <td>...</td>\n",
       "      <td>Pseudomonas aeruginosa</td>\n",
       "      <td>g-proteobacteria</td>\n",
       "      <td>Bacteria</td>\n",
       "      <td>Pseudomonas aeruginosa strain YT12746 chromoso...</td>\n",
       "      <td>Pseudomonas aeruginosa strain YT12746 chromoso...</td>\n",
       "      <td>plus</td>\n",
       "      <td>100</td>\n",
       "      <td>100</td>\n",
       "      <td>100</td>\n",
       "      <td>NaN</td>\n",
       "    </tr>\n",
       "  </tbody>\n",
       "</table>\n",
       "<p>2 rows × 50 columns</p>\n",
       "</div>"
      ],
      "text/plain": [
       "   seqid                 qgi                qacc  qaccver  \\\n",
       "0      0  SRR5377828.5004777  SRR5377828.5004777      101   \n",
       "1      0  SRR5377828.5004777  SRR5377828.5004777      101   \n",
       "\n",
       "                           qlen                        sseqid   sallseqid  \\\n",
       "0  gi|1851368093|gb|CP045552.1|  gi|1851368093|gb|CP045552.1|  1851368093   \n",
       "1  gi|1851368093|gb|CP045552.1|  gi|1851368093|gb|CP045552.1|  1851368093   \n",
       "\n",
       "          sgi    sallgi        sacc  ...               sscinames  \\\n",
       "0  1851368093  CP045552  CP045552.1  ...  Pseudomonas aeruginosa   \n",
       "1  1851368093  CP045552  CP045552.1  ...  Pseudomonas aeruginosa   \n",
       "\n",
       "          scomnames  sblastnames  \\\n",
       "0  g-proteobacteria     Bacteria   \n",
       "1  g-proteobacteria     Bacteria   \n",
       "\n",
       "                                          sskingdoms  \\\n",
       "0  Pseudomonas aeruginosa strain YT12746 chromoso...   \n",
       "1  Pseudomonas aeruginosa strain YT12746 chromoso...   \n",
       "\n",
       "                                              stitle  salltitles sstrand  \\\n",
       "0  Pseudomonas aeruginosa strain YT12746 chromoso...       minus     100   \n",
       "1  Pseudomonas aeruginosa strain YT12746 chromoso...        plus     100   \n",
       "\n",
       "  qcovs  qcovhsp  qcovus  \n",
       "0   100      100     NaN  \n",
       "1   100      100     NaN  \n",
       "\n",
       "[2 rows x 50 columns]"
      ]
     },
     "execution_count": 126,
     "metadata": {},
     "output_type": "execute_result"
    }
   ],
   "source": [
    "blast.head(2)"
   ]
  },
  {
   "cell_type": "code",
   "execution_count": 127,
   "metadata": {},
   "outputs": [
    {
     "data": {
      "text/html": [
       "<div>\n",
       "<style scoped>\n",
       "    .dataframe tbody tr th:only-of-type {\n",
       "        vertical-align: middle;\n",
       "    }\n",
       "\n",
       "    .dataframe tbody tr th {\n",
       "        vertical-align: top;\n",
       "    }\n",
       "\n",
       "    .dataframe thead th {\n",
       "        text-align: right;\n",
       "    }\n",
       "</style>\n",
       "<table border=\"1\" class=\"dataframe\">\n",
       "  <thead>\n",
       "    <tr style=\"text-align: right;\">\n",
       "      <th></th>\n",
       "      <th>seqid</th>\n",
       "      <th>qgi</th>\n",
       "      <th>qacc</th>\n",
       "      <th>qaccver</th>\n",
       "      <th>qlen</th>\n",
       "      <th>sseqid</th>\n",
       "      <th>sallseqid</th>\n",
       "      <th>sgi</th>\n",
       "      <th>sallgi</th>\n",
       "      <th>sacc</th>\n",
       "      <th>...</th>\n",
       "      <th>sscinames</th>\n",
       "      <th>scomnames</th>\n",
       "      <th>sblastnames</th>\n",
       "      <th>sskingdoms</th>\n",
       "      <th>stitle</th>\n",
       "      <th>salltitles</th>\n",
       "      <th>sstrand</th>\n",
       "      <th>qcovs</th>\n",
       "      <th>qcovhsp</th>\n",
       "      <th>qcovus</th>\n",
       "    </tr>\n",
       "  </thead>\n",
       "  <tbody>\n",
       "    <tr>\n",
       "      <th>0</th>\n",
       "      <td>0</td>\n",
       "      <td>SRR5377828.5004777</td>\n",
       "      <td>SRR5377828.5004777</td>\n",
       "      <td>101</td>\n",
       "      <td>gi|1851368093|gb|CP045552.1|</td>\n",
       "      <td>gi|1851368093|gb|CP045552.1|</td>\n",
       "      <td>1851368093</td>\n",
       "      <td>1851368093</td>\n",
       "      <td>CP045552</td>\n",
       "      <td>CP045552.1</td>\n",
       "      <td>...</td>\n",
       "      <td>Pseudomonas aeruginosa</td>\n",
       "      <td>g-proteobacteria</td>\n",
       "      <td>Bacteria</td>\n",
       "      <td>Pseudomonas aeruginosa strain YT12746 chromoso...</td>\n",
       "      <td>Pseudomonas aeruginosa strain YT12746 chromoso...</td>\n",
       "      <td>minus</td>\n",
       "      <td>100</td>\n",
       "      <td>100</td>\n",
       "      <td>100</td>\n",
       "      <td>NaN</td>\n",
       "    </tr>\n",
       "    <tr>\n",
       "      <th>1</th>\n",
       "      <td>0</td>\n",
       "      <td>SRR5377828.5004777</td>\n",
       "      <td>SRR5377828.5004777</td>\n",
       "      <td>101</td>\n",
       "      <td>gi|1851368093|gb|CP045552.1|</td>\n",
       "      <td>gi|1851368093|gb|CP045552.1|</td>\n",
       "      <td>1851368093</td>\n",
       "      <td>1851368093</td>\n",
       "      <td>CP045552</td>\n",
       "      <td>CP045552.1</td>\n",
       "      <td>...</td>\n",
       "      <td>Pseudomonas aeruginosa</td>\n",
       "      <td>g-proteobacteria</td>\n",
       "      <td>Bacteria</td>\n",
       "      <td>Pseudomonas aeruginosa strain YT12746 chromoso...</td>\n",
       "      <td>Pseudomonas aeruginosa strain YT12746 chromoso...</td>\n",
       "      <td>plus</td>\n",
       "      <td>100</td>\n",
       "      <td>100</td>\n",
       "      <td>100</td>\n",
       "      <td>NaN</td>\n",
       "    </tr>\n",
       "  </tbody>\n",
       "</table>\n",
       "<p>2 rows × 50 columns</p>\n",
       "</div>"
      ],
      "text/plain": [
       "   seqid                 qgi                qacc  qaccver  \\\n",
       "0      0  SRR5377828.5004777  SRR5377828.5004777      101   \n",
       "1      0  SRR5377828.5004777  SRR5377828.5004777      101   \n",
       "\n",
       "                           qlen                        sseqid   sallseqid  \\\n",
       "0  gi|1851368093|gb|CP045552.1|  gi|1851368093|gb|CP045552.1|  1851368093   \n",
       "1  gi|1851368093|gb|CP045552.1|  gi|1851368093|gb|CP045552.1|  1851368093   \n",
       "\n",
       "          sgi    sallgi        sacc  ...               sscinames  \\\n",
       "0  1851368093  CP045552  CP045552.1  ...  Pseudomonas aeruginosa   \n",
       "1  1851368093  CP045552  CP045552.1  ...  Pseudomonas aeruginosa   \n",
       "\n",
       "          scomnames  sblastnames  \\\n",
       "0  g-proteobacteria     Bacteria   \n",
       "1  g-proteobacteria     Bacteria   \n",
       "\n",
       "                                          sskingdoms  \\\n",
       "0  Pseudomonas aeruginosa strain YT12746 chromoso...   \n",
       "1  Pseudomonas aeruginosa strain YT12746 chromoso...   \n",
       "\n",
       "                                              stitle  salltitles sstrand  \\\n",
       "0  Pseudomonas aeruginosa strain YT12746 chromoso...       minus     100   \n",
       "1  Pseudomonas aeruginosa strain YT12746 chromoso...        plus     100   \n",
       "\n",
       "  qcovs  qcovhsp  qcovus  \n",
       "0   100      100     NaN  \n",
       "1   100      100     NaN  \n",
       "\n",
       "[2 rows x 50 columns]"
      ]
     },
     "execution_count": 127,
     "metadata": {},
     "output_type": "execute_result"
    }
   ],
   "source": [
    "blast.loc[blast['sscinames'] == 'Pseudomonas aeruginosa'].head(2)"
   ]
  },
  {
   "cell_type": "code",
   "execution_count": 128,
   "metadata": {},
   "outputs": [
    {
     "data": {
      "image/png": "[encoded data removed]",
      "text/plain": [
       "<Figure size 1440x360 with 1 Axes>"
      ]
     },
     "metadata": {},
     "output_type": "display_data"
    }
   ],
   "source": [
    "plt.style.use('seaborn-whitegrid')\n",
    "plt.figure(figsize=(20,5)) \n",
    "blast_pse = data=blast.loc[blast['sscinames'] == 'Pseudomonas aeruginosa']\n",
    "sns.countplot(y=\"qgi\", data=blast_pse, order = blast_pse[\"qgi\"].value_counts().index);"
   ]
  },
  {
   "cell_type": "code",
   "execution_count": 129,
   "metadata": {},
   "outputs": [
    {
     "data": {
      "image/png": "[encoded data removed]",
      "text/plain": [
       "<Figure size 1440x360 with 1 Axes>"
      ]
     },
     "metadata": {},
     "output_type": "display_data"
    }
   ],
   "source": [
    "plt.style.use('seaborn-whitegrid')\n",
    "plt.figure(figsize=(20,5))\n",
    "blast_srr = blast.loc[blast['qgi'] == 'SRR5377828.1437390']\n",
    "sns.countplot(y=\"sscinames\", data=blast_srr, order = blast_srr['sscinames'].value_counts().iloc[:10].index);"
   ]
  },
  {
   "cell_type": "code",
   "execution_count": 130,
   "metadata": {},
   "outputs": [
    {
     "data": {
      "text/html": [
       "<div>\n",
       "<style scoped>\n",
       "    .dataframe tbody tr th:only-of-type {\n",
       "        vertical-align: middle;\n",
       "    }\n",
       "\n",
       "    .dataframe tbody tr th {\n",
       "        vertical-align: top;\n",
       "    }\n",
       "\n",
       "    .dataframe thead th {\n",
       "        text-align: right;\n",
       "    }\n",
       "</style>\n",
       "<table border=\"1\" class=\"dataframe\">\n",
       "  <thead>\n",
       "    <tr style=\"text-align: right;\">\n",
       "      <th></th>\n",
       "      <th>qgi</th>\n",
       "      <th>sscinames</th>\n",
       "      <th>blast hits</th>\n",
       "    </tr>\n",
       "  </thead>\n",
       "  <tbody>\n",
       "    <tr>\n",
       "      <th>0</th>\n",
       "      <td>SRR5377828.11340537</td>\n",
       "      <td>eukaryotic synthetic construct</td>\n",
       "      <td>6906</td>\n",
       "    </tr>\n",
       "    <tr>\n",
       "      <th>1</th>\n",
       "      <td>SRR5377828.9882843</td>\n",
       "      <td>Escherichia coli</td>\n",
       "      <td>2854</td>\n",
       "    </tr>\n",
       "    <tr>\n",
       "      <th>2</th>\n",
       "      <td>SRR5377828.7371773</td>\n",
       "      <td>Escherichia coli</td>\n",
       "      <td>2599</td>\n",
       "    </tr>\n",
       "    <tr>\n",
       "      <th>3</th>\n",
       "      <td>SRR5377828.7137810</td>\n",
       "      <td>Escherichia coli</td>\n",
       "      <td>2545</td>\n",
       "    </tr>\n",
       "    <tr>\n",
       "      <th>4</th>\n",
       "      <td>SRR5377828.3967274</td>\n",
       "      <td>Escherichia coli</td>\n",
       "      <td>2342</td>\n",
       "    </tr>\n",
       "    <tr>\n",
       "      <th>...</th>\n",
       "      <td>...</td>\n",
       "      <td>...</td>\n",
       "      <td>...</td>\n",
       "    </tr>\n",
       "    <tr>\n",
       "      <th>95</th>\n",
       "      <td>SRR5377828.1995274</td>\n",
       "      <td>Salmonella enterica subsp. enterica serovar In...</td>\n",
       "      <td>230</td>\n",
       "    </tr>\n",
       "    <tr>\n",
       "      <th>96</th>\n",
       "      <td>SRR5377828.3320862</td>\n",
       "      <td>Salmonella enterica subsp. enterica serovar In...</td>\n",
       "      <td>230</td>\n",
       "    </tr>\n",
       "    <tr>\n",
       "      <th>97</th>\n",
       "      <td>SRR5377828.4327946</td>\n",
       "      <td>Salmonella enterica subsp. enterica serovar In...</td>\n",
       "      <td>230</td>\n",
       "    </tr>\n",
       "    <tr>\n",
       "      <th>98</th>\n",
       "      <td>SRR5377828.147051</td>\n",
       "      <td>Salmonella enterica subsp. enterica serovar In...</td>\n",
       "      <td>228</td>\n",
       "    </tr>\n",
       "    <tr>\n",
       "      <th>99</th>\n",
       "      <td>SRR5377828.882267</td>\n",
       "      <td>Salmonella enterica subsp. enterica serovar In...</td>\n",
       "      <td>228</td>\n",
       "    </tr>\n",
       "  </tbody>\n",
       "</table>\n",
       "<p>100 rows × 3 columns</p>\n",
       "</div>"
      ],
      "text/plain": [
       "                    qgi                                          sscinames  \\\n",
       "0   SRR5377828.11340537                     eukaryotic synthetic construct   \n",
       "1    SRR5377828.9882843                                   Escherichia coli   \n",
       "2    SRR5377828.7371773                                   Escherichia coli   \n",
       "3    SRR5377828.7137810                                   Escherichia coli   \n",
       "4    SRR5377828.3967274                                   Escherichia coli   \n",
       "..                  ...                                                ...   \n",
       "95   SRR5377828.1995274  Salmonella enterica subsp. enterica serovar In...   \n",
       "96   SRR5377828.3320862  Salmonella enterica subsp. enterica serovar In...   \n",
       "97   SRR5377828.4327946  Salmonella enterica subsp. enterica serovar In...   \n",
       "98    SRR5377828.147051  Salmonella enterica subsp. enterica serovar In...   \n",
       "99    SRR5377828.882267  Salmonella enterica subsp. enterica serovar In...   \n",
       "\n",
       "    blast hits  \n",
       "0         6906  \n",
       "1         2854  \n",
       "2         2599  \n",
       "3         2545  \n",
       "4         2342  \n",
       "..         ...  \n",
       "95         230  \n",
       "96         230  \n",
       "97         230  \n",
       "98         228  \n",
       "99         228  \n",
       "\n",
       "[100 rows x 3 columns]"
      ]
     },
     "execution_count": 130,
     "metadata": {},
     "output_type": "execute_result"
    }
   ],
   "source": [
    "df = blast.groupby(['qgi', 'sscinames']).size().nlargest(100, keep='first').to_frame('blast hits').reset_index().sort_values(['blast hits'], ascending=False)\n",
    "df"
   ]
  },
  {
   "cell_type": "code",
   "execution_count": 131,
   "metadata": {},
   "outputs": [
    {
     "data": {
      "text/html": [
       "<div>\n",
       "<style scoped>\n",
       "    .dataframe tbody tr th:only-of-type {\n",
       "        vertical-align: middle;\n",
       "    }\n",
       "\n",
       "    .dataframe tbody tr th {\n",
       "        vertical-align: top;\n",
       "    }\n",
       "\n",
       "    .dataframe thead th {\n",
       "        text-align: right;\n",
       "    }\n",
       "</style>\n",
       "<table border=\"1\" class=\"dataframe\">\n",
       "  <thead>\n",
       "    <tr style=\"text-align: right;\">\n",
       "      <th></th>\n",
       "      <th>qgi</th>\n",
       "      <th>sscinames</th>\n",
       "      <th>blast hits</th>\n",
       "    </tr>\n",
       "  </thead>\n",
       "  <tbody>\n",
       "    <tr>\n",
       "      <th>30</th>\n",
       "      <td>SRR5377828.1437390</td>\n",
       "      <td>Pseudomonas aeruginosa</td>\n",
       "      <td>1014</td>\n",
       "    </tr>\n",
       "    <tr>\n",
       "      <th>31</th>\n",
       "      <td>SRR5377828.5004777</td>\n",
       "      <td>Pseudomonas aeruginosa</td>\n",
       "      <td>1013</td>\n",
       "    </tr>\n",
       "    <tr>\n",
       "      <th>32</th>\n",
       "      <td>SRR5377828.923447</td>\n",
       "      <td>Pseudomonas aeruginosa</td>\n",
       "      <td>1006</td>\n",
       "    </tr>\n",
       "    <tr>\n",
       "      <th>33</th>\n",
       "      <td>SRR5377828.1575507</td>\n",
       "      <td>Pseudomonas aeruginosa</td>\n",
       "      <td>1005</td>\n",
       "    </tr>\n",
       "    <tr>\n",
       "      <th>34</th>\n",
       "      <td>SRR5377828.201270</td>\n",
       "      <td>Pseudomonas aeruginosa</td>\n",
       "      <td>1005</td>\n",
       "    </tr>\n",
       "    <tr>\n",
       "      <th>47</th>\n",
       "      <td>SRR5377828.6216292</td>\n",
       "      <td>Pseudomonas aeruginosa</td>\n",
       "      <td>609</td>\n",
       "    </tr>\n",
       "    <tr>\n",
       "      <th>86</th>\n",
       "      <td>SRR5377828.5017926</td>\n",
       "      <td>Pseudomonas aeruginosa</td>\n",
       "      <td>262</td>\n",
       "    </tr>\n",
       "  </tbody>\n",
       "</table>\n",
       "</div>"
      ],
      "text/plain": [
       "                   qgi               sscinames  blast hits\n",
       "30  SRR5377828.1437390  Pseudomonas aeruginosa        1014\n",
       "31  SRR5377828.5004777  Pseudomonas aeruginosa        1013\n",
       "32   SRR5377828.923447  Pseudomonas aeruginosa        1006\n",
       "33  SRR5377828.1575507  Pseudomonas aeruginosa        1005\n",
       "34   SRR5377828.201270  Pseudomonas aeruginosa        1005\n",
       "47  SRR5377828.6216292  Pseudomonas aeruginosa         609\n",
       "86  SRR5377828.5017926  Pseudomonas aeruginosa         262"
      ]
     },
     "execution_count": 131,
     "metadata": {},
     "output_type": "execute_result"
    }
   ],
   "source": [
    "df[df['sscinames'].str.contains(\"Pseudomonas\")]"
   ]
  },
  {
   "cell_type": "code",
   "execution_count": null,
   "metadata": {},
   "outputs": [],
   "source": []
  },
  {
   "cell_type": "code",
   "execution_count": null,
   "metadata": {},
   "outputs": [],
   "source": []
  }
 ],
 "metadata": {
  "kernelspec": {
   "display_name": "Python 3",
   "language": "python",
   "name": "python3"
  },
  "language_info": {
   "codemirror_mode": {
    "name": "ipython",
    "version": 3
   },
   "file_extension": ".py",
   "mimetype": "text/x-python",
   "name": "python",
   "nbconvert_exporter": "python",
   "pygments_lexer": "ipython3",
   "version": "3.8.6"
  }
 },
 "nbformat": 4,
 "nbformat_minor": 4
}
